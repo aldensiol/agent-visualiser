{
 "cells": [
  {
   "cell_type": "code",
   "execution_count": 21,
   "metadata": {},
   "outputs": [],
   "source": [
    "import nest_asyncio\n",
    "import os\n",
    "import pickle\n",
    "import re\n",
    "import uuid\n",
    "\n",
    "from dotenv import load_dotenv\n",
    "from fastembed import TextEmbedding\n",
    "from langchain_anthropic import ChatAnthropic\n",
    "from langchain_openai import OpenAIEmbeddings\n",
    "from llama_index.core import Document\n",
    "from llama_index.core.node_parser import MarkdownElementNodeParser\n",
    "from llama_index.llms.anthropic import Anthropic\n",
    "from llama_parse import LlamaParse\n",
    "from pymilvus import (\n",
    "    utility,\n",
    "    CollectionSchema, DataType, FieldSchema, MilvusClient, model,\n",
    "    connections, Collection, AnnSearchRequest, WeightedRanker, RRFRanker,\n",
    ")\n",
    "from typing import List"
   ]
  },
  {
   "cell_type": "markdown",
   "metadata": {},
   "source": [
    "## Loading in of API Keys and Cloud Infrastructure\n",
    "1. OpenAI (potentially for embedding models), Anthropic (for Claude 3.5 Sonnet), LLama (for LlamaParse)\n",
    "2. Zillis' Endpoint and Token"
   ]
  },
  {
   "cell_type": "code",
   "execution_count": 3,
   "metadata": {},
   "outputs": [],
   "source": [
    "load_dotenv()\n",
    "\n",
    "OPENAI_API_KEY = os.getenv('OPENAI_API_KEY')\n",
    "CLAUDE_API_KEY = os.getenv('CLAUDE_API_KEY')\n",
    "LLAMA_API_KEY = os.getenv('LLAMA_API_KEY')\n",
    "\n",
    "os.environ['OPENAI_API_KEY'] = OPENAI_API_KEY\n",
    "os.environ[\"ANTHROPIC_API_KEY\"] = CLAUDE_API_KEY\n",
    "os.environ[\"LLAMA_CLOUD_API_KEY\"] = LLAMA_API_KEY\n",
    "\n",
    "ENDPOINT = os.getenv('ZILLIS_ENDPOINT')\n",
    "TOKEN = os.getenv('ZILLIS_TOKEN')\n",
    "\n",
    "connections.connect(uri=ENDPOINT, token=TOKEN)"
   ]
  },
  {
   "cell_type": "code",
   "execution_count": 17,
   "metadata": {},
   "outputs": [],
   "source": [
    "llm = ChatAnthropic(\n",
    "    model=\"claude-3-5-sonnet-20240620\",\n",
    "    max_tokens=4096,\n",
    "    temperature=0.0,\n",
    "    stop=[\"\\n\\nHuman\"],\n",
    ")\n",
    "\n",
    "llama_llm = Anthropic(\n",
    "    model=\"claude-3-5-sonnet-20240620\",\n",
    "    max_tokens=4096,\n",
    "    temperature=0.0\n",
    ")"
   ]
  },
  {
   "cell_type": "code",
   "execution_count": 22,
   "metadata": {},
   "outputs": [],
   "source": [
    "nest_asyncio.apply()"
   ]
  },
  {
   "cell_type": "markdown",
   "metadata": {},
   "source": [
    "## Collection Creation\n",
    "1. Drop existing collection (if one exists)\n",
    "2. Define Schema -> How your documents will be Ingested\n",
    "3. Create Collection with Schema defined in 2."
   ]
  },
  {
   "cell_type": "code",
   "execution_count": 5,
   "metadata": {},
   "outputs": [],
   "source": [
    "# Specify the collection name\n",
    "collection_name = \"vector_index\"\n",
    "\n",
    "def drop_collection(collection_name):\n",
    "    # Check if the collection exists\n",
    "    if utility.has_collection(collection_name):\n",
    "        collection = Collection(name=collection_name)\n",
    "        # Release the collection\n",
    "        collection.release()\n",
    "        # Drop the collection if it exists\n",
    "        utility.drop_collection(collection_name)\n",
    "        print(f\"Collection '{collection_name}' has been dropped\")\n",
    "    else:\n",
    "        print(f\"Collection '{collection_name}' does not exist\")\n",
    "\n",
    "# drop_collection(collection_name)"
   ]
  },
  {
   "cell_type": "code",
   "execution_count": 6,
   "metadata": {},
   "outputs": [],
   "source": [
    "auto_id = FieldSchema(\n",
    "    name=\"pk\",\n",
    "    dtype=DataType.INT64,\n",
    "    is_primary=True,\n",
    "    auto_id=True)\n",
    "\n",
    "doc_id = FieldSchema(\n",
    "    name=\"doc_id\",\n",
    "    dtype=DataType.VARCHAR,\n",
    "    max_length=500\n",
    ")\n",
    "\n",
    "doc_source = FieldSchema(\n",
    "    name=\"doc_source\",\n",
    "    dtype=DataType.VARCHAR,\n",
    "    max_length=1000,\n",
    "    default_value=\"NA\"\n",
    ")\n",
    "\n",
    "doc_content = FieldSchema(\n",
    "    name=\"text\",\n",
    "    dtype=DataType.VARCHAR,\n",
    "    max_length=50000,\n",
    "    default_value=\"\"\n",
    ")\n",
    "\n",
    "vec_embeddings = FieldSchema(\n",
    "    name=\"dense_embeddings\",\n",
    "    dtype=DataType.FLOAT_VECTOR,\n",
    "    dim=1024\n",
    ")\n",
    "\n",
    "keyword_embeddings = FieldSchema(\n",
    "    name=\"sparse_embeddings\",\n",
    "    dtype=DataType.SPARSE_FLOAT_VECTOR\n",
    ")"
   ]
  },
  {
   "cell_type": "code",
   "execution_count": 7,
   "metadata": {},
   "outputs": [],
   "source": [
    "schema = CollectionSchema(\n",
    "  fields=[auto_id, doc_id, doc_content, doc_source, vec_embeddings, keyword_embeddings],\n",
    "  description=\"milvus_schema\",\n",
    "  enable_dynamic_field=True\n",
    ")"
   ]
  },
  {
   "cell_type": "code",
   "execution_count": 8,
   "metadata": {},
   "outputs": [],
   "source": [
    "def create_collection(collection_name, schema):\n",
    "    # Check if the collection exists\n",
    "    if utility.has_collection(collection_name):\n",
    "        print(f\"Collection '{collection_name}' already exists\")\n",
    "    # Create the collection\n",
    "    return Collection(name=collection_name, schema=schema, using='default', shards_num=2)"
   ]
  },
  {
   "cell_type": "code",
   "execution_count": 9,
   "metadata": {},
   "outputs": [
    {
     "name": "stdout",
     "output_type": "stream",
     "text": [
      "Collection 'vector_index' already exists\n"
     ]
    }
   ],
   "source": [
    "collection = create_collection(collection_name, schema)"
   ]
  },
  {
   "cell_type": "code",
   "execution_count": 10,
   "metadata": {},
   "outputs": [
    {
     "name": "stderr",
     "output_type": "stream",
     "text": [
      "Fetching 5 files: 100%|██████████| 5/5 [00:00<00:00, 43509.38it/s]\n",
      "/Library/Frameworks/Python.framework/Versions/3.11/lib/python3.11/site-packages/langchain_openai/embeddings/base.py:270: UserWarning: WARNING! model_name is not default parameter.\n",
      "                    model_name was transferred to model_kwargs.\n",
      "                    Please confirm that model_name is what you intended.\n",
      "  warnings.warn(\n"
     ]
    }
   ],
   "source": [
    "bge_embed_model = TextEmbedding(model_name=\"BAAI/bge-large-en-v1.5\")\n",
    "openai_embed_model = OpenAIEmbeddings(model_name=\"text-embedding-3-large\")\n",
    "spalde_embed_model = model.sparse.SpladeEmbeddingFunction(\n",
    "    # model_name=\"naver/splade-cocondenser-selfdistil\",\n",
    "    device=\"cpu\",\n",
    "    model_name=\"naver/splade-cocondenser-ensembledistil\",\n",
    "    # device=\"cuda:0\"\n",
    ")"
   ]
  },
  {
   "cell_type": "markdown",
   "metadata": {},
   "source": [
    "## Pre-processing\n",
    "1. Defining Helper functions for cleaning\n",
    "2. Data Parsing using `LLamaParse` -> Node Parsing using MarkdownElementNodeParser. After this stage, Document objects are pickled\n",
    "3. Chunk using appropriate technique."
   ]
  },
  {
   "cell_type": "code",
   "execution_count": 11,
   "metadata": {},
   "outputs": [],
   "source": [
    "def drop_indexes(collection: Collection, index_names: List[str]) -> None:\n",
    "    # Release or drop the existing collection index\n",
    "    collection.release()\n",
    "    for name in index_names:\n",
    "        collection.drop_index(index_name='name')\n",
    "        print(f\"Index '{name}' has been dropped\")"
   ]
  },
  {
   "cell_type": "code",
   "execution_count": 12,
   "metadata": {},
   "outputs": [],
   "source": [
    "# drop_indexes(collection, ['dense_embeddings', 'sparse_embeddings'])"
   ]
  },
  {
   "cell_type": "code",
   "execution_count": 43,
   "metadata": {},
   "outputs": [],
   "source": [
    "def remove_table_of_contents(text):\n",
    "    pattern = r\"TABLE OF CONTENTS.*?(?=#)\"\n",
    "    cleaned_text = re.sub(pattern, \"\", text, flags=re.DOTALL)\n",
    "    return cleaned_text.strip()\n",
    "\n",
    "# Reset the index whenever you want to re-index the documents\n",
    "idx = [0]\n",
    "\n",
    "def convert_nodes_to_documents(text_nodes, object_nodes):\n",
    "    \"\"\"\n",
    "    Converts nodes to Documents\n",
    "\n",
    "    Args:\n",
    "        text_nodes (List[Nodes]): List of text nodes\n",
    "        object_nodes (List[Nodes]): List of object nodes\n",
    "\n",
    "    Returns:\n",
    "        documents (List[Documents]): List of Documents\n",
    "    \"\"\"\n",
    "    documents = []\n",
    "    for node in text_nodes:\n",
    "        text = node.text\n",
    "        doc_id = str(uuid.uuid4())\n",
    "        doc = Document(\n",
    "            text= text,\n",
    "            metadata = {\n",
    "                \"id\": f\"node_{idx[0]}_{doc_id}\",\n",
    "                \"start_char_idx\": node.start_char_idx,\n",
    "                \"end_char_idx\": node.end_char_idx,\n",
    "                \"is_table\": False\n",
    "            }\n",
    "        )\n",
    "        documents.append(doc)\n",
    "        idx[0] += 1\n",
    "        \n",
    "    for node in object_nodes:\n",
    "        text = node.text\n",
    "        doc_id = str(uuid.uuid4())\n",
    "        doc = Document(\n",
    "            text= text,\n",
    "            metadata = {\n",
    "                \"id\": f\"node_{idx[0]}_{doc_id}\",\n",
    "                \"start_char_idx\": node.start_char_idx,\n",
    "                \"end_char_idx\": node.end_char_idx,\n",
    "                \"is_table\": True\n",
    "            }\n",
    "        )\n",
    "        documents.append(doc)\n",
    "        idx[0] += 1\n",
    "        \n",
    "    return documents"
   ]
  },
  {
   "cell_type": "code",
   "execution_count": 44,
   "metadata": {},
   "outputs": [],
   "source": [
    "# instantiate doc parser\n",
    "parser = LlamaParse(\n",
    "    result_type=\"markdown\",\n",
    "    num_workers=8,\n",
    "    verbose = True,\n",
    "    language=\"en\",\n",
    ")\n",
    "\n",
    "# instantiate node parser\n",
    "node_parser = MarkdownElementNodeParser(llm=llama_llm, num_workers=8)"
   ]
  },
  {
   "cell_type": "code",
   "execution_count": 45,
   "metadata": {},
   "outputs": [],
   "source": [
    "# create folder to store parsed data\n",
    "data_folder = \"data\"\n",
    "os.makedirs(data_folder, exist_ok=True)\n",
    "\n",
    "def parse_docs(file_location):\n",
    "    for file_name in os.listdir(file_location):\n",
    "        if not file_name.endswith(\".pdf\"):\n",
    "            continue\n",
    "\n",
    "        print(\"File: \" + str(file_name))\n",
    "        doc_path = os.path.join(file_location, file_name)\n",
    "        modified_file_name = os.path.splitext(file_name)[0].lower().replace(' ', '_')\n",
    "        data_path = os.path.join(data_folder, modified_file_name + '.pkl')\n",
    "\n",
    "        # results in a list of Document Objects\n",
    "        documents = parser.load_data(doc_path)\n",
    "        \n",
    "        for idx, doc in enumerate(documents):\n",
    "            doc.text = remove_table_of_contents(doc.text)\n",
    "            if idx > 4:\n",
    "                break\n",
    "\n",
    "        raw_nodes = node_parser.get_nodes_from_documents(documents)\n",
    "        # list of text_nodes, list of objects\n",
    "        text_nodes, objects = node_parser.get_nodes_and_objects(raw_nodes)\n",
    "        \n",
    "        final_docs = convert_nodes_to_documents(text_nodes, objects)\n",
    "\n",
    "        pickle.dump(final_docs, open(data_path, \"wb\"))"
   ]
  },
  {
   "cell_type": "code",
   "execution_count": 46,
   "metadata": {},
   "outputs": [
    {
     "name": "stdout",
     "output_type": "stream",
     "text": [
      "File: Diabetes Medications.pdf\n",
      "Started parsing the file under job_id 6c083eb1-a0f4-4286-83ff-0f8dc55802ea\n"
     ]
    },
    {
     "name": "stderr",
     "output_type": "stream",
     "text": [
      "0it [00:00, ?it/s]\n",
      "1it [00:00, 23831.27it/s]\n",
      "0it [00:00, ?it/s]\n"
     ]
    },
    {
     "name": "stdout",
     "output_type": "stream",
     "text": [
      "File: managing-pre-diabetes-(updated-on-27-jul-2021)c2bfc77474154c2abf623156a4b93002.pdf\n",
      "Started parsing the file under job_id fa2d023b-c2fc-4cd1-83d7-934bf65d7887\n"
     ]
    },
    {
     "name": "stderr",
     "output_type": "stream",
     "text": [
      "0it [00:00, ?it/s]\n",
      "1it [00:00, 13842.59it/s]\n",
      "0it [00:00, ?it/s]\n",
      "1it [00:00, 9619.96it/s]\n",
      "1it [00:00, 14315.03it/s]\n",
      "0it [00:00, ?it/s]\n"
     ]
    },
    {
     "name": "stdout",
     "output_type": "stream",
     "text": [
      "File: Diabetic Foot Ulcer_ Symptoms and Treatment.pdf\n",
      "Started parsing the file under job_id 116281d5-447e-434d-9ab1-f388c3ab04f4\n"
     ]
    },
    {
     "name": "stderr",
     "output_type": "stream",
     "text": [
      "0it [00:00, ?it/s]\n",
      "0it [00:00, ?it/s]\n"
     ]
    },
    {
     "name": "stdout",
     "output_type": "stream",
     "text": [
      "File: Diabetes Treatment_ Insulin.pdf\n",
      "Started parsing the file under job_id eb69cc52-ed8d-422d-b7a4-cf71c80d1e58\n"
     ]
    },
    {
     "name": "stderr",
     "output_type": "stream",
     "text": [
      "0it [00:00, ?it/s]\n",
      "0it [00:00, ?it/s]\n",
      "0it [00:00, ?it/s]\n",
      "1it [00:00, 18157.16it/s]\n"
     ]
    }
   ],
   "source": [
    "file_location = \"pdfs\"\n",
    "\n",
    "parse_docs(file_location)"
   ]
  },
  {
   "cell_type": "markdown",
   "metadata": {},
   "source": [
    "## Reading of pickles after parsing"
   ]
  },
  {
   "cell_type": "code",
   "execution_count": 47,
   "metadata": {},
   "outputs": [],
   "source": [
    "def read_pickles(data_folder):\n",
    "    doc_list = []\n",
    "    for file_name in os.listdir(data_folder):\n",
    "        doc_path = os.path.join(data_folder, file_name)\n",
    "        if file_name.endswith(\".pkl\"):\n",
    "            with open(doc_path, 'rb') as file:\n",
    "                # data will be a doc_list\n",
    "                data = pickle.load(file)\n",
    "                doc_list.append(data)\n",
    "                \n",
    "    # since doc_list is a list of list of documents, we need to flatten it\n",
    "    doc_list = [item for sublist in doc_list for item in sublist]\n",
    "    return doc_list"
   ]
  },
  {
   "cell_type": "code",
   "execution_count": 48,
   "metadata": {},
   "outputs": [],
   "source": [
    "doc_list = read_pickles(data_folder)"
   ]
  },
  {
   "cell_type": "code",
   "execution_count": 49,
   "metadata": {},
   "outputs": [
    {
     "data": {
      "text/plain": [
       "[Document(id_='c0c4cf30-ad0f-400e-a67b-e7230ff0706c', embedding=None, metadata={'id': 'node_17_1726990e-a90c-4dda-b480-5c0883766e7c', 'start_char_idx': 1, 'end_char_idx': 1832, 'is_table': False}, excluded_embed_metadata_keys=[], excluded_llm_metadata_keys=[], relationships={}, text='Diabetic Foot Ulcer: Symptoms and Treatment\\n\\n What causes diabetic ulcers?\\n\\nHere’s what you need to know in terms of self-care, prevention, and the treatment of diabetic ulcer.\\n\\n What Is a Diabetic Ulcer?\\n\\nA diabetic ulcer is an open sore or wound resulting from poor circulation or lack of sensation due to nerve damage caused by elevated blood glucose levels.\\n\\nThe legs and feet are most at risk for these ulcers. Diabetes makes it hard for the body to heal itself, increasing the risk of wounds becoming chronic and raising the risk of infection.\\n\\nSignificantly, nonhealing diabetic ulcers result in a large number of amputations in Singapore. About two major limb amputations are carried out daily to remove lower limbs affected by diabetes-related ulcers or gangrene.\\n\\n Diabetic Ulcer Prevention\\n\\nTo reduce the risk of wounds, regular foot care is important for those with diabetes. Take these steps to reduce foot injuries and wounds:\\n\\n- Check your feet every day for red spots, cuts, swelling or blisters.\\n- Use a mirror or get help to inspect the bottom of your feet.\\n- Wash your feet every day and dry them carefully, especially between the toes.\\n- Moisturise your feet daily, ideally after washing, to keep the skin soft and smooth.\\n- Massage a thin coat of lotion over the top and bottom of your feet, but not between the toes as the skin is thinner and more prone to splitting.\\n- File away hard skin patches on the sole of the feet or toes at least once a week to prevent foot ulcers from forming underneath.\\n- Keep toenails trimmed to prevent them from cutting into your toes.\\n- Cut toenails straight across and file the edges, never into the sides as this causes ingrown nails.\\n- Always wear shoes and socks, and never walk barefoot to prevent injuries.\\n- Ensure shoes are comfortable and fit well.\\n\\nSource: HealthHub', mimetype='text/plain', start_char_idx=None, end_char_idx=None, text_template='{metadata_str}\\n\\n{content}', metadata_template='{key}: {value}', metadata_seperator='\\n'),\n",
       " Document(id_='0b80cf72-2473-43ab-a3fb-01b1753e3d10', embedding=None, metadata={'id': 'node_18_bdc52d7c-fd48-4984-b861-f5a194dc98e1', 'start_char_idx': 1, 'end_char_idx': 1220, 'is_table': False}, excluded_embed_metadata_keys=[], excluded_llm_metadata_keys=[], relationships={}, text='Diabetic Foot Ulcer: Symptoms and Treatment\\n\\n- Maintain good blood circulation to the feet by putting your feet up when sitting, and by wiggling your toes and moving your ankles for at least five minutes, two to three times a day.\\n- Don\\'t cross your legs for long periods of time.\\n- Don’t smoke. Smoking does great harm to blood circulation and increases the risk of many diseases.\\n\\nIf you are diabetic, regular foot examinations are important to prevent foot and leg ulcers, and to ensure your feet are in good health. Your podiatrist will check for:\\n\\n- Any loss of sensation\\n- The level of blood flow to the feet\\n- Any changes in the shape of your foot to assess the development of pressure points\\n\\nAll these will help detect changes in any foot condition, and will help ensure that early preventive treatment or management can be given to prevent wounds from occurring or getting worse.\\n\\nThis article titled \"Sole Saviours\" was first published in ONEHealth Magazine, Issue 6, 2015.\\n\\n Read these next:\\n\\n- Diabetes Medications\\n- Skin disease in diabetes mellitus\\n- Diabetes foot screening\\n\\nThis article was last reviewed on Friday, November 22, 2019\\n\\nhttps://www.healthhub.sg/a-z/diseases-and-conditions/diabetic-ulcer', mimetype='text/plain', start_char_idx=None, end_char_idx=None, text_template='{metadata_str}\\n\\n{content}', metadata_template='{key}: {value}', metadata_seperator='\\n'),\n",
       " Document(id_='b91ac87b-e888-45a3-b50c-ddee3c50d070', embedding=None, metadata={'id': 'node_5_67bf98b6-08ac-4408-975e-461d0a28dbca', 'start_char_idx': 1, 'end_char_idx': 1743, 'is_table': False}, excluded_embed_metadata_keys=[], excluded_llm_metadata_keys=[], relationships={}, text='Appropriate Care Guide (ACG)\\n\\n Managing pre-diabetes\\n\\nFirst Published: 3 July 2017\\n\\nLast updated: 27 July 2021\\n\\n Key messages\\n\\n1. Pre-diabetes is asymptomatic but puts a person at high risk of developing type 2 diabetes mellitus (T2DM) and cardiovascular disease (CVD).\\n2. Early diagnosis, appropriate management and follow-up help to prevent or delay T2DM in persons with pre-diabetes.\\n3. Recommend lifestyle intervention to all persons with pre-diabetes.\\n4. Tailor lifestyle intervention to individual needs for sustained behavioural changes.\\n5. Consider metformin for persons with pre-diabetes when:\\n- glycaemic status does not improve despite lifestyle intervention OR\\n- they are unable to adopt lifestyle intervention, especially if persons outlined in the two points above have a body mass index (BMI) of ≥ 23 kg/m2, are younger than 60 years of age, or are women with a history of gestational diabetes.\\n\\n Preventing or delaying the progression to T2DM\\n\\nPre-diabetes is defined by glycaemic levels that are higher than normal, but lower than diabetes thresholds. Pre-diabetes is asymptomatic but predisposes individuals to T2DM and CVD. Around 14% of Singaporeans have impaired glucose tolerance and without lifestyle changes, at least 35% of persons with pre-diabetes in Singapore will progress to T2DM within eight years.1,2 There is a pressing need to address pre-diabetes as part of the efforts to reduce the impact of T2DM and CVD.\\n\\nEducation increases awareness of pre-diabetes and enables individuals to adopt lifestyle changes.\\n\\nMINISTRY OF HEALTH\\n\\nAcademy of Medicine, Singapore\\n\\nCollege of Family Physicians Singapore\\n\\nChapter of Endocrinologists, CPS\\n\\nChapter of Family Medicine Physicians\\n\\nChapter of General Physicians, CPS', mimetype='text/plain', start_char_idx=None, end_char_idx=None, text_template='{metadata_str}\\n\\n{content}', metadata_template='{key}: {value}', metadata_seperator='\\n'),\n",
       " Document(id_='80cb5e3d-fa6d-4037-b015-a2cce25825d3', embedding=None, metadata={'id': 'node_6_69006189-ad82-41f4-9267-340674f7e714', 'start_char_idx': 1, 'end_char_idx': 173, 'is_table': False}, excluded_embed_metadata_keys=[], excluded_llm_metadata_keys=[], relationships={}, text='Diagnosis of pre-diabetes\\n\\n 2\\n\\nIn Singapore, glucose thresholds in Table 1 below are used to diagnose pre-diabetes (impaired fasting glucose or impaired glucose tolerance).', mimetype='text/plain', start_char_idx=None, end_char_idx=None, text_template='{metadata_str}\\n\\n{content}', metadata_template='{key}: {value}', metadata_seperator='\\n'),\n",
       " Document(id_='e49249fa-a5ab-4c46-a1ca-9fd5ad7dde90', embedding=None, metadata={'id': 'node_7_8d78d46e-9f63-47e1-af4f-0cf4e8348973', 'start_char_idx': 1, 'end_char_idx': 2737, 'is_table': False}, excluded_embed_metadata_keys=[], excluded_llm_metadata_keys=[], relationships={}, text='IFG, impaired fasting glucose; IGT, impaired glucose tolerance\\n\\n Instructions on lifestyle intervention\\n\\nConvey the following points to persons with pre-diabetes during consultations.\\n\\n Healthy diet\\n\\nPortion a healthy plate\\n\\n- Fill half the plate with vegetables and a small portion of fruits.\\n- Fill a quarter of the plate with lean meat, fish, poultry (skinless), eggs, low-fat dairy or soy products.\\n- Fill a quarter of the plate with whole grains, such as brown rice, rolled oats, whole grain bread or cereals.\\n\\nIn Singapore, glycated haemoglobin (HbA1c) is not currently indicated as a diagnostic test for pre-diabetes.†\\n\\n Lifestyle intervention\\n\\nLifestyle intervention is recommended for all persons with pre-diabetes, as adopting a healthy diet and increased physical activity reduces the risk of them developing T2DM by 31 to 37% over 2 to 6 years, and is cost-effective.3-5\\n\\nFor those who are overweight or obese, aim to gradually achieve and maintain a BMI of &lt; 23 kg/m2 or a 5 to 10% body weight loss.\\n\\nSmokers are advised to stop smoking, as smoking impairs glucose metabolism, insulin sensitivity and secretion.6\\n\\n Healthy diet\\n\\nA healthy and balanced diet plays a key role in preventing or delaying the progression to T2DM in persons with pre-diabetes.7-12\\n\\nAdvise those who are overweight or obese to achieve weight loss by implementing a negative caloric balance.\\n\\n Increased physical activity\\n\\nObesity and a sedentary lifestyle are major risk factors for developing T2DM and can be modified by an increase in physical activity.7-12\\n\\n Eat less fat\\n\\n- Avoid pastries, fried food, and food containing coconut milk or cream.\\n- Use less oil when cooking and use healthier oils (such as sunflower oil, rice bran oil, olive oil) instead of butter, ghee, or palm oil.\\n\\n Limit alcohol intake\\n\\n- No more than one standard drink‡ per day for female.\\n- No more than two standard drinks‡ per day for male.\\n\\n Increased physical activity\\n\\n- Perform at least 150 minutes of moderate-intensity exercise (such as brisk walking, leisure cycling), or 75 minutes of vigorous-intensity exercise (such as jogging, fast-paced cycling, swimming laps) every week.\\n- Avoid more than two consecutive days without exercise.\\n- Engage in exercises that require intensity and that accelerate the heart rate.\\n\\nPedometers or fitness trackers allow progress to be monitored over time and may provide additional motivation.13\\n\\n* 2-hour 75-g oral glucose tolerance test (OGTT).\\n\\n† For more information on HbA1c as a screening test for diabetes mellitus in Singapore, please refer to the Ministry of Health Circular No. 08/2019.\\n\\n‡ A standard drink is one can (330 mL) of beer, half a glass (100 mL) of wine, or one nip (30 mL) of spirits or hard liquor.', mimetype='text/plain', start_char_idx=None, end_char_idx=None, text_template='{metadata_str}\\n\\n{content}', metadata_template='{key}: {value}', metadata_seperator='\\n'),\n",
       " Document(id_='1747c59b-86d1-4736-890f-3ed6a101c471', embedding=None, metadata={'id': 'node_8_c2a910d6-1595-42c2-b081-17d512f27365', 'start_char_idx': 1, 'end_char_idx': 2162, 'is_table': False}, excluded_embed_metadata_keys=[], excluded_llm_metadata_keys=[], relationships={}, text='Sustained behavioural changes\\n\\n Providing information without individualised advice\\n\\nmay not be sufficient to bring about robust and sustained lifestyle changes. Lifestyle intervention should therefore be tailored to each person’s needs and continuously encouraged.14\\n\\n Pharmacotherapy\\n\\nPharmacotherapy for pre-diabetes is less effective than lifestyle changes and may be considered after a trial of intensive lifestyle intervention.9,15 Discuss the benefits, side effects, and cost before commencing treatment.\\n\\n Tailor lifestyle intervention to individual needs\\n\\n- Assess lifestyle (such as diet and physical activity preferences, work nature, physical or budget constraints).\\n- Identify areas for improvement towards a healthier lifestyle.\\n- Provide advice on practical and sustainable lifestyle changes that fit into daily activities.\\n\\n Reinforce behavioural changes continuously\\n\\n- Encourage persons with pre-diabetes to keep a log of their diet, exercise, and weight.\\n- Advise them to visit the HealthHub website (by scanning the QR code below) to find out more about pre-diabetes and associated lifestyle change programmes. They can also download the HealthHub SG and HealthHub Track applications (App Store or Google Play Store).\\n- Supplement verbal advice with written information.\\n\\n Scan the QR code to access pre-diabetes information on the HealthHub website\\n\\n Indication, dosing regimen, and side effects of metformin for pre-diabetes\\n\\nConsider metformin for persons with pre-diabetes when:\\n\\n- glycaemic status does not improve despite lifestyle intervention OR\\n- they are unable to adopt lifestyle intervention, especially if persons outlined in the two points above have a BMI of ≥ 23 kg/m2, are younger than 60 years of age, or are women with a history of gestational diabetes.\\n\\nStart metformin at 250 mg twice daily and gradually increase as tolerated if required (depending on glycaemic status), up to 850 mg twice daily.\\n\\nTake metformin with meals to reduce side effects such as nausea, vomiting, or diarrhoea.\\n\\n§ Off-label for pre-diabetes; locally registered as additional therapy in association with diet in patients with diabetes mellitus.', mimetype='text/plain', start_char_idx=None, end_char_idx=None, text_template='{metadata_str}\\n\\n{content}', metadata_template='{key}: {value}', metadata_seperator='\\n'),\n",
       " Document(id_='cc7fc59e-ccfe-43c4-b864-cf8d88f79dfd', embedding=None, metadata={'id': 'node_9_f7dab97c-d4e2-4549-9894-e8eddecc2659', 'start_char_idx': 1, 'end_char_idx': 227, 'is_table': False}, excluded_embed_metadata_keys=[], excluded_llm_metadata_keys=[], relationships={}, text='Figure 1. Pathway for managing pre-diabetes\\n\\n DIAGNOSIS OF PRE-DIABETES\\n\\nIFG: FPG 6.1–6.9 and 2-hG < 7.8 mmol/L OR Screen for CVD risk factors, including hypertension and dyslipidaemia.\\n\\nIGT: FPG < 7.0 and 2-hG 7.8–11.0 mmol/L', mimetype='text/plain', start_char_idx=None, end_char_idx=None, text_template='{metadata_str}\\n\\n{content}', metadata_template='{key}: {value}', metadata_seperator='\\n'),\n",
       " Document(id_='e183e138-6486-40b5-8d0d-bfb70acd73c0', embedding=None, metadata={'id': 'node_10_cc3dcc72-d7e6-48a8-9d69-c06555e10d45', 'start_char_idx': 1257, 'end_char_idx': 1807, 'is_table': False}, excluded_embed_metadata_keys=[], excluded_llm_metadata_keys=[], relationships={}, text='2-hG, 2-hour post-load glucose; BMI, body mass index; CVD, cardiovascular disease; FPG, fasting plasma glucose; HbA1c, glycated haemoglobin; IFG, impaired fasting glucose; IGT, impaired glucose tolerance; OGTT, oral glucose tolerance test; T2DM, type 2 diabetes mellitus\\n\\n** If FPG ≥ 7.0 mmol/L, 2-hG ≥ 11.1 mmol/L, or HbA1c ≥ 7%, proceed to manage as per T2DM.\\n\\n†† If HbA1c ≥ 7%, proceed to manage as per T2DM. If HbA1c does not improve and < 7%, consider investigating for T2DM with FPG or OGTT after a metformin washout period (such as 1–2 weeks).', mimetype='text/plain', start_char_idx=None, end_char_idx=None, text_template='{metadata_str}\\n\\n{content}', metadata_template='{key}: {value}', metadata_seperator='\\n'),\n",
       " Document(id_='1b2f8938-d680-48fe-92e1-caa2de8ed732', embedding=None, metadata={'id': 'node_11_9aea73d2-0e0f-475e-9419-79ef33f4055d', 'start_char_idx': 1, 'end_char_idx': 350, 'is_table': False}, excluded_embed_metadata_keys=[], excluded_llm_metadata_keys=[], relationships={}, text='Overview of lifestyle intervention in pre-diabetes\\n\\n Role of lifestyle intervention\\n\\nLifestyle intervention reduces the risk of developing T2DM by 31 to 37% over 2 to 6 years for those who are overweight or obese, aim to gradually achieve and maintain a BMI of &lt; 23 kg/m2 or a 5 to 10% body weight loss.\\n\\n Ways to implement lifestyle intervention', mimetype='text/plain', start_char_idx=None, end_char_idx=None, text_template='{metadata_str}\\n\\n{content}', metadata_template='{key}: {value}', metadata_seperator='\\n'),\n",
       " Document(id_='4319ba60-b357-4d51-a40a-a08ad9813e30', embedding=None, metadata={'id': 'node_12_d75be8fc-3410-4103-bb1d-ef7e769230bf', 'start_char_idx': 2, 'end_char_idx': 703, 'is_table': False}, excluded_embed_metadata_keys=[], excluded_llm_metadata_keys=[], relationships={}, text='SAY NO\\n\\n1 standard drink = 330 mL of beer = 100 mL of wine = 30 mL of spirits or hard liquor\\n\\n Eat less fat\\n\\n Limit alcohol intake\\n\\nFemale\\nMale\\n\\n Physical activity\\n\\n&gt;= 150 minutes per week of moderate-intensity exercise, such as brisk walking or leisure cycling (<16 km/hr)\\n\\n&gt;= 75 minutes per week of vigorous-intensity exercise, such as jogging or fast-paced cycling (≥ 16 km/hr)\\n\\nNo more than two consecutive days without exercise\\n\\n Other modifications\\n\\n Smoking cessation\\n\\n How to sustain lifestyle changes\\n\\nTailor lifestyle intervention to individual needs. Reinforce behavioural changes by encouraging a regular log of:\\n\\nPreference\\nBudget\\nPhysical condition\\nWork nature\\nDiet\\nExercise\\nWeight', mimetype='text/plain', start_char_idx=None, end_char_idx=None, text_template='{metadata_str}\\n\\n{content}', metadata_template='{key}: {value}', metadata_seperator='\\n'),\n",
       " Document(id_='22885407-621e-4178-9f77-9a152df9ace4', embedding=None, metadata={'id': 'node_13_052e54a0-76a2-439b-a6b3-7e27c8b18b80', 'start_char_idx': 1, 'end_char_idx': 2138, 'is_table': False}, excluded_embed_metadata_keys=[], excluded_llm_metadata_keys=[], relationships={}, text='References\\n\\nScan the QR code for the reference list to this ACG\\n\\nGOgovsg\\n\\n EXPERT GROUP\\n\\nLead discussant\\n\\nDr. Phua Eng Joo (KTPH)\\n\\nChairperson\\n\\nDr. Darren Seah (NHGP)\\n\\nGroup members\\n\\n- Ms. Debra Chan (TTSH)\\n- A/Prof. Goh Su-Yen (SGH)\\n- Dr. Khoo Chin Meng (NUHS)\\n- Prof. Joyce Lee (UC Irvine)\\n- Ms. Lee Hwee Khim (SHP)\\n- Dr. Lim Hui Ling (International Medical Clinic)\\n- Ms. Ng Soh Mui (NUP)\\n- Dr. Gilbert Tan (SHP)\\n- Dr. Tham Tat Yean (Frontier Healthcare Group)\\n- Ms. Pauline Xie (NHGP)\\n\\n About the Agency\\n\\nThe Agency for Care Effectiveness (ACE) was established by the Ministry of Health (Singapore) to drive better decision-making in healthcare by conducting health technology assessments (HTA), publishing healthcare guidance and providing education. ACE develops ACGs to inform specific areas of clinical practice. ACGs are usually reviewed around five years after publication, or earlier, if new evidence emerges that requires substantive changes to the recommendations. To access this ACG online, along with other ACGs published to date, please visit www.ace-hta.gov.sg/acg\\n\\nFind out more about ACE at www.ace-hta.gov.sg/about-us\\n\\n© Agency for Care Effectiveness, Ministry of Health, Republic of Singapore\\n\\nAll rights reserved. Reproduction of this publication in whole or in part in any material form is prohibited without the prior written permission of the copyright holder. Application to reproduce any part of this publication should be addressed to: ACE_HTA@moh.gov.sg\\n\\nSuggested citation: Agency for Care Effectiveness (ACE). Managing pre-diabetes – a growing health concern. Appropriate Care Guide (ACG), Ministry of Health, Singapore. 2021. Available from: go.gov.sg/acg-managing-pre-diabetes-a-growing-health-concern\\n\\nThe Ministry of Health, Singapore disclaims any and all liability to any party for any direct, indirect, implied, punitive or other consequential damages arising directly or indirectly from any use of this ACG, which is provided as is, without warranties.\\n\\nAgency for Care Effectiveness (ACE)\\n\\nCollege of Medicine Building\\n\\n16 College Road Singapore 169854\\n\\nDriving better decision-making in healthcare', mimetype='text/plain', start_char_idx=None, end_char_idx=None, text_template='{metadata_str}\\n\\n{content}', metadata_template='{key}: {value}', metadata_seperator='\\n'),\n",
       " Document(id_='53b0f774-21f3-430a-a527-782591469839', embedding=None, metadata={'id': 'node_14_0c620161-e28a-4761-9c9d-283f0c4f23de', 'start_char_idx': 177, 'end_char_idx': 317, 'is_table': True}, excluded_embed_metadata_keys=[], excluded_llm_metadata_keys=[], relationships={}, text='This table presents diagnostic criteria for pre-diabetes based on blood glucose levels. It shows the fasting plasma glucose and 2-hour post-load glucose ranges for Impaired Fasting Glucose (IFG) and Impaired Glucose Tolerance (IGT).\\n\\nTable title: Pre-diabetes\\n\\nThe table should be kept as it provides valuable information on pre-diabetes classification.\\n\\nNo table ID is provided in the given context.,\\nwith the following columns:\\n', mimetype='text/plain', start_char_idx=None, end_char_idx=None, text_template='{metadata_str}\\n\\n{content}', metadata_template='{key}: {value}', metadata_seperator='\\n'),\n",
       " Document(id_='87689125-8673-441d-8963-f64316e4e8e1', embedding=None, metadata={'id': 'node_15_0fef0981-3397-4275-8850-169b7dda1c8c', 'start_char_idx': 231, 'end_char_idx': 1255, 'is_table': True}, excluded_embed_metadata_keys=[], excluded_llm_metadata_keys=[], relationships={}, text='This table outlines a management approach for individuals with pre-diabetes. It presents a step-by-step process including lifestyle intervention, regular follow-up, and the potential addition of metformin. The table covers education on diet and physical activity, weight management goals, follow-up schedules, screening for cardiovascular disease risk factors, and metformin administration guidelines.\\n\\nThe table title appears to be \"All persons with pre-diabetes\" based on the first column header.\\n\\nNo specific table ID is provided in the given context.\\n\\nThis table should be kept as it provides valuable information on the management of pre-diabetes, which is crucial for healthcare providers and patients.,\\nwith the following columns:\\n', mimetype='text/plain', start_char_idx=None, end_char_idx=None, text_template='{metadata_str}\\n\\n{content}', metadata_template='{key}: {value}', metadata_seperator='\\n'),\n",
       " Document(id_='eaba36dc-8ff2-441d-8ad1-32475929d905', embedding=None, metadata={'id': 'node_16_6e1669c3-72d5-404d-9d96-2da5fd754686', 'start_char_idx': 355, 'end_char_idx': 572, 'is_table': True}, excluded_embed_metadata_keys=[], excluded_llm_metadata_keys=[], relationships={}, text='This table outlines the components of a healthy diet, focusing on portion sizes and food groups for balanced nutrition. It provides guidance on how to create a well-proportioned meal.\\n\\nTable title: Diet\\n\\nThe table should be kept as it provides valuable nutritional information in a concise format.,\\nwith the following columns:\\n', mimetype='text/plain', start_char_idx=None, end_char_idx=None, text_template='{metadata_str}\\n\\n{content}', metadata_template='{key}: {value}', metadata_seperator='\\n'),\n",
       " Document(id_='b9b4d661-9c79-446c-a73e-9d6783e46b3d', embedding=None, metadata={'id': 'node_19_f34de2d3-f9df-4fb0-82a1-c8fe8ac1bbd2', 'start_char_idx': 1, 'end_char_idx': 1427, 'is_table': False}, excluded_embed_metadata_keys=[], excluded_llm_metadata_keys=[], relationships={}, text='Diabetes Treatment: Insulin\\n\\nWhen you have diabetes, you may need to learn how to inject yourself with insulin.\\n\\n What is Insulin?\\n\\nInsulin is a hormone produced by the pancreas and released into our body cells to allow them to convert blood glucose (sugar) for energy. Food is converted into glucose before it is absorbed into our bloodstream. The function of insulin is to move the glucose from the bloodstream into the body cells for use or storage. People with diabetes are unable to fully use the glucose in their bloodstream either because they lack insulin in the body or insulin is ineffective for them.\\n\\n Insulin Therapy\\n\\nTreatment for type 1 diabetes involves dietary control and insulin injections. Some patients with type 2 diabetes may also require insulin injections. Insulin is not effective if taken by mouth, and has to be injected.\\n\\n You must know how to:\\n\\n- Measure your insulin dose\\n- Inject yourself (and not rely on others)\\n- Adapt your diet and activity to your insulin injections\\n\\n Types of Insulin\\n\\nThere are several types of insulin. They differ in how quickly they start to lower your blood glucose, the time taken to reach their highest activity, and how long they continue to work.\\n\\n How to Inject Insulin\\n\\nKnowing where to inject your insulin will make the injection easier, safer and more comfortable. Insulin is injected into the fatty area under the skin. After insulin is injected, it\\n\\nSource', mimetype='text/plain', start_char_idx=None, end_char_idx=None, text_template='{metadata_str}\\n\\n{content}', metadata_template='{key}: {value}', metadata_seperator='\\n'),\n",
       " Document(id_='f7a8dff0-fcd8-4307-b095-a1658914178a', embedding=None, metadata={'id': 'node_20_5a9ee230-b72a-4fdf-9869-c8a51171b043', 'start_char_idx': 1, 'end_char_idx': 2111, 'is_table': False}, excluded_embed_metadata_keys=[], excluded_llm_metadata_keys=[], relationships={}, text='Diabetes Treatment: Insulin\\n\\nInsulin moves into the blood and is used by your body.\\n\\n Injection Areas\\n\\n- Abdomen — insulin moves fastest into the blood from here\\n- Arm\\n- Thigh and buttocks — insulin moves slowest into the blood from here\\n\\nThe injection area is chosen based on the speed of insulin absorption required, and your convenience.\\n\\nYour doctor or nurse will advise you on the best area to inject. It is not a good idea to change injection areas frequently. This may cause your blood sugar levels to go up and down. This happens because insulin moves into blood at different speeds from different areas.\\n\\nYou should inject your insulin into a different spot each time. Injecting into the same spot often may lead to formation of thick areas under the skin. Insulin injected into these areas may not be absorbed well. Rotating your insulin injection spot will prevent these thick areas from forming. You should try and use each spot only once a month.\\n\\nCheck your injection areas every few days. You can press gently and run your fingertips across each area. If there are any lumps, painful spots or any change of colour in the area, report these to your diabetes care team. Avoid using these areas until the problem stops.\\n\\n Timing of Insulin Injections\\n\\nInject your insulin 30 minutes before meals. The insulin will move into your blood to match the rise in the blood sugar level. You should eat regularly throughout the day. This is to avoid a low blood sugar levels caused by the injected insulin.\\n\\nIf you are using a new insulin called Lispro Insulin (Humalog®) you do not have to wait 30 minutes before eating your meal. Lispro insulin is absorbed and goes to work almost immediately after injection.\\n\\n Insulin Usage\\n\\nDiscard the insulin if:\\n\\n- It has expired\\n- There is any contamination of clear (short-acting) insulin\\n- There are any lumps in cloudy (intermediate-acting) insulin that will not dissolve when the bottle is rotated\\n\\nInsulin should be stored in the lower part of the fridge, away from the freezer. You should always keep at least one extra bottle of each type of insulin.\\n\\nSource', mimetype='text/plain', start_char_idx=None, end_char_idx=None, text_template='{metadata_str}\\n\\n{content}', metadata_template='{key}: {value}', metadata_seperator='\\n'),\n",
       " Document(id_='8084da03-9d6a-4d04-8930-3bea287fd51b', embedding=None, metadata={'id': 'node_21_9a1e5e75-4977-423b-a43b-379c69b4e63b', 'start_char_idx': 1, 'end_char_idx': 2062, 'is_table': False}, excluded_embed_metadata_keys=[], excluded_llm_metadata_keys=[], relationships={}, text='Diabetes Treatment: Insulin\\n\\nWhen travelling, carry your insulin and syringes with you. Do not put the insulin in your check-in luggage or in your car boot.\\n\\n Insulin Devices\\n\\n Syringes\\n\\nSyringes are used to measure the amount of insulin to be injected. Choose a suitable syringe that best matches the number of units required.\\n\\nA 0.3ml syringe should be used for doses up to 30 units. A 0.5ml syringe should be used for doses up to 50 units. A 1ml syringe can be used for doses up to 100 units. Disposable syringes can be used for the same person up to about two to four times. Between uses, replace the cap and put the syringe in the fridge.\\n\\n Insulin Pens\\n\\nInsulin pens combine both the needle and insulin cartridge into one. Thus, insulin injections become more convenient and you do not have to carry syringes and insulin bottles with you.\\n\\n Insulin Pumps\\n\\nThe insulin pump is a small computerised device that pumps insulin continuously through a fine plastic tube into a site under the skin 24 hours a day. It is just a little larger than a pocket pager.\\n\\nPump users have to monitor their blood sugar frequently so as to make adjustments to the amount of insulin delivered. The insulin pump generally gives you better control and more meal flexibility, but is costlier and requires more frequent blood sugar monitoring.\\n\\n Switching to Insulin from Anti-diabetes Tablets\\n\\nPatients who are switched to insulin from anti-diabetes tablets often worry that their condition must be deteriorating. However, the switch to insulin was made because the diabetes was getting out of control as the tablets were failing to control the patient’s blood sugar — and the insulin will correct that.\\n\\n Insulin Side Effects\\n\\nTaking insulin may result in some side effects. These include:\\n\\n- Low blood sugar\\n- Initial weight gain\\n- Lumpy or scarred tissue from too many injections on the same part of the body\\n- Rashes on the injection site or, in rare cases, all over the body\\n\\nRead these next:\\n\\nhttps://www.healthhub.sg/a-z/diseases-and-conditions/diabetes-treatment-insulin', mimetype='text/plain', start_char_idx=None, end_char_idx=None, text_template='{metadata_str}\\n\\n{content}', metadata_template='{key}: {value}', metadata_seperator='\\n'),\n",
       " Document(id_='34ba972f-8720-4ca7-8d35-1185dd211875', embedding=None, metadata={'id': 'node_22_bf75b966-ce27-465d-bec0-3aa97a2f4174', 'start_char_idx': 1, 'end_char_idx': 80, 'is_table': False}, excluded_embed_metadata_keys=[], excluded_llm_metadata_keys=[], relationships={}, text='Diabetes Treatment: Insulin\\n\\n Diabetes Medications\\n\\n Guide to Managing Diabetes', mimetype='text/plain', start_char_idx=None, end_char_idx=None, text_template='{metadata_str}\\n\\n{content}', metadata_template='{key}: {value}', metadata_seperator='\\n'),\n",
       " Document(id_='ed27e5df-b71b-4e6c-b46d-ef16fb098649', embedding=None, metadata={'id': 'node_23_692b9e5d-2e30-46db-8854-db54a112d37b', 'start_char_idx': 775, 'end_char_idx': 1449, 'is_table': False}, excluded_embed_metadata_keys=[], excluded_llm_metadata_keys=[], relationships={}, text='Low blood sugar (hypo) reaction is more likely to occur around the time of maximum action. High blood sugar (hyper) reaction is more likely to occur before the insulin starts acting, or when its action is ending.\\n\\nCombination insulins (Humulin® 30/70, Mixtard®, etc) are mixtures of short and intermediate-acting insulins. These avoid the need for patients to manually mix their insulins. They are normally administered twice a day. Usually, two-thirds of the daily requirement is given in the morning and the remainder in the evening.\\n\\nThis article was last reviewed on Monday, April 19, 2021\\n\\nhttps://www.healthhub.sg/a-z/diseases-and-conditions/diabetes-treatment-insulin', mimetype='text/plain', start_char_idx=None, end_char_idx=None, text_template='{metadata_str}\\n\\n{content}', metadata_template='{key}: {value}', metadata_seperator='\\n'),\n",
       " Document(id_='34d84811-9851-4c6c-acec-fe0c002ec79d', embedding=None, metadata={'id': 'node_24_57c88aba-4bb6-493a-8f28-c46d15646603', 'start_char_idx': 85, 'end_char_idx': 773, 'is_table': True}, excluded_embed_metadata_keys=[], excluded_llm_metadata_keys=[], relationships={}, text='This table provides information about different types of insulin, their onset of action, peak effectiveness, and duration. It categorizes insulin into rapid-acting, short-acting, intermediate-acting, and long-acting types, detailing specific brand names and their respective time frames for action.\\n\\nThe table does not have a specific title or caption provided in the context. There is also no table ID mentioned.\\n\\nGiven the comprehensive and useful information presented, this table should be kept as it offers valuable data on insulin types and their action profiles.,\\nwith the following columns:\\n', mimetype='text/plain', start_char_idx=None, end_char_idx=None, text_template='{metadata_str}\\n\\n{content}', metadata_template='{key}: {value}', metadata_seperator='\\n'),\n",
       " Document(id_='5ace0b70-21c4-4177-9c7b-6b220b47c02a', embedding=None, metadata={'id': 'node_0_25119fe9-4ade-4fa9-a7f6-ea3a7fceae06', 'start_char_idx': 1, 'end_char_idx': 1414, 'is_table': False}, excluded_embed_metadata_keys=[], excluded_llm_metadata_keys=[], relationships={}, text='Diabetes Medications\\n\\nLearn about the different diabetes treatment pills available, the guidelines when taking them and more.\\n\\n Treatment of Diabetes Mellitus: Tablets\\n\\nTreatment of type 2 diabetes begins with diet control. If diet alone is unable to control blood sugar levels, then tablets have to be taken. If both diet and tablets fail to control the blood sugar levels, insulin injections may be needed.\\n\\nOral anti-diabetes tablets are used for treating type 2 diabetes.\\n\\n Tell Your Doctor if You\\n\\n- Are allergic to any medicines\\n- Are pregnant, or intend to become pregnant\\n- Are breastfeeding\\n- Are taking any other medicines\\n- Have any other medical problems\\n\\n Some Guidelines to Follow When Taking Your Diabetes Pill(s)\\n\\n- Know the name and dosage of your diabetic tablet(s).\\n- Do not take more or less than what your doctor ordered.\\n- Take the tablet(s) at the correct times. Do not make any changes to your medication routine without consulting your doctor.\\n- Take your tablet(s) even when you are sick (sometimes the dosage may have to be changed, so do consult your doctor beforehand).\\n- Follow your meal plan. It will help your tablet(s) work better. Careless eating may cause the tablet(s) to lose their effect.\\n- If you miss a dose of the tablet(s), take it as soon as possible unless it is time for your next dose. In that case, do not take the missed dose and do not double the next one.\\n\\nSource', mimetype='text/plain', start_char_idx=None, end_char_idx=None, text_template='{metadata_str}\\n\\n{content}', metadata_template='{key}: {value}', metadata_seperator='\\n'),\n",
       " Document(id_='58ada7f1-c3c9-4835-8a05-2089f65ec888', embedding=None, metadata={'id': 'node_1_7f69fcae-1422-4fd8-b656-5e53bf1b7ff2', 'start_char_idx': 1, 'end_char_idx': 1346, 'is_table': False}, excluded_embed_metadata_keys=[], excluded_llm_metadata_keys=[], relationships={}, text=\"Diabetes Medications\\n\\nYou should go back to your regular dosage schedule. Check with your doctor or pharmacist before taking any other medicines, including over-the-counter medicines.\\n\\n Rare Side Effects of Anti-diabetes Tablets\\n\\nPlease inform your doctor if you have the following symptoms:\\n\\n- Dark or coloured urine\\n- Tiredness\\n- Itchy skin or skin rash\\n- Loss of appetite\\n- Light-coloured stools\\n- Unexplained fever and sore throat\\n- Increased sensitivity to sunlight\\n- Diarrhoea\\n- Yellowing of eyes or skin\\n- Nausea or vomiting\\n- Headache\\n\\n Take action:\\n\\nBeat Diabetes Step by Step\\n\\n Are Anti-diabetes Tablets Addictive?\\n\\nYou can never become addicted to anti-diabetes tablets. This is a common misconception among patients who do not like the idea of taking medication long-term.\\n\\nThe right way to think about diabetes medications is this: the tablets are there to do a job. If you take tablets only three days of the week instead of every day as instructed, you can expect your blood sugar to be high on the four days that you do not take the tablets.\\n\\nAnti-diabetes tablets are meant to help keep you well. However, they won't work unless you take them.\\n\\n Read more:\\n\\n- Guide to Managing Diabetes\\n- Diabetes in Childhood and Pregnancy\\n- The Diabetic's Guide to Dessert\\n- How Does Belly Fat Increase Your Risk of Diabetes?\\n\\n Type of Tablet\", mimetype='text/plain', start_char_idx=None, end_char_idx=None, text_template='{metadata_str}\\n\\n{content}', metadata_template='{key}: {value}', metadata_seperator='\\n'),\n",
       " Document(id_='b3a5e4f9-550f-4deb-8b99-e38026a8c737', embedding=None, metadata={'id': 'node_2_ab402e1d-4c5b-4d65-8674-ee55f07f11c1', 'start_char_idx': 1409, 'end_char_idx': 1498, 'is_table': False}, excluded_embed_metadata_keys=[], excluded_llm_metadata_keys=[], relationships={}, text='https://www.healthhub.sg/a-z/diseases-and-conditions/diabetes-treatment-capsules--tablets', mimetype='text/plain', start_char_idx=None, end_char_idx=None, text_template='{metadata_str}\\n\\n{content}', metadata_template='{key}: {value}', metadata_seperator='\\n'),\n",
       " Document(id_='15509337-1cc6-4268-9cf7-1fc124fbdedf', embedding=None, metadata={'id': 'node_3_65e00a6f-7eab-4cdc-acc8-5e88cd68730a', 'start_char_idx': 1, 'end_char_idx': 1516, 'is_table': False}, excluded_embed_metadata_keys=[], excluded_llm_metadata_keys=[], relationships={}, text='Diabetes Medications\\n\\n Sulphonylureas\\n\\nHelp the pancreas to release more insulin and the body to use glucose more effectively.\\n\\n- Chlorpropamide (Diabinese®)\\n- Glibenclamide (Daonil®)\\n- Gliclazide (Diamicron®)\\n- Tolbutamide (Rastinon®)\\n- Glimepiride (Amaryl®)\\n\\nTake the tablet(s) daily immediately after meals (except Gliclazide which is consumed half an hour before meals). Do not miss or delay meals. Otherwise, your blood sugar level may fall too low.\\n\\nSometimes other tablets (e.g. those for blood pressure) can react with anti-diabetes tablets. If in doubt, talk to your doctor or pharmacist.\\n\\nAlcohol interferes with some of these tablets: consult your pharmacist if you are planning to drink alcohol. For example, having alcohol with Chlorpropamide causes side effects like redness and vomiting.\\n\\n Biguanides\\n\\nHelp the body to use glucose more effectively.\\n\\n- e.g. Metformin (Glucophage®)\\n\\nTake the tablet(s) with meals or after meals.\\n\\n a-glucosidase inhibitors\\n\\nHelp to stop the quick rise of blood glucose after a meal.\\n\\n- e.g. Acarbose (Glucobay®)\\n\\nTake the tablet(s) with the first mouthful or immediately before each of the three main daily meals.\\n\\n Meglitinides\\n\\nHelp the pancreas to release more insulin.\\n\\n- e.g. Repaglinide (Novonorm®)\\n\\nTake the tablet before meals.\\n\\n Thiazolidinediones\\n\\nEnhance insulin action and help the body to use glucose more effectively.\\n\\n- e.g. Rosiglitazone (Avandia®)\\n\\nTake the tablet with or without food.\\n\\nThis article was last reviewed on Tuesday, May 25, 2021\\n\\nSource', mimetype='text/plain', start_char_idx=None, end_char_idx=None, text_template='{metadata_str}\\n\\n{content}', metadata_template='{key}: {value}', metadata_seperator='\\n'),\n",
       " Document(id_='be1df9e8-2768-41d6-ab80-60656b42081e', embedding=None, metadata={'id': 'node_4_91618cc5-f8b9-4ebe-8b93-b05a1e469437', 'start_char_idx': 1354, 'end_char_idx': 1407, 'is_table': True}, excluded_embed_metadata_keys=[], excluded_llm_metadata_keys=[], relationships={}, text='This table appears to be empty or incomplete. It has three columns labeled \"Type of Tablet,\" \"Action,\" and \"Comment,\" but there is no data in any of the cells. Without any content, it\\'s not possible to determine the specific purpose or subject of this table.\\n\\nThere is no existing title, caption, or table ID provided in the given context.\\n\\nGiven the lack of information, this table should not be kept in its current form as it does not provide any useful data or insights.,\\nwith the following columns:\\n', mimetype='text/plain', start_char_idx=None, end_char_idx=None, text_template='{metadata_str}\\n\\n{content}', metadata_template='{key}: {value}', metadata_seperator='\\n')]"
      ]
     },
     "execution_count": 49,
     "metadata": {},
     "output_type": "execute_result"
    }
   ],
   "source": [
    "doc_list"
   ]
  },
  {
   "cell_type": "code",
   "execution_count": 55,
   "metadata": {},
   "outputs": [
    {
     "name": "stdout",
     "output_type": "stream",
     "text": [
      "1831\n",
      "1219\n",
      "1742\n",
      "172\n",
      "2736\n",
      "2161\n",
      "226\n",
      "550\n",
      "349\n",
      "701\n",
      "2137\n",
      "1426\n",
      "2110\n",
      "2061\n",
      "79\n",
      "674\n",
      "1413\n",
      "1345\n",
      "89\n",
      "1515\n"
     ]
    }
   ],
   "source": [
    "for doc in doc_list:\n",
    "    is_table = doc.metadata[\"is_table\"]\n",
    "    if not is_table:\n",
    "        print(len(doc.text))"
   ]
  },
  {
   "cell_type": "markdown",
   "metadata": {},
   "source": [
    "## Creating of Index"
   ]
  },
  {
   "cell_type": "code",
   "execution_count": null,
   "metadata": {},
   "outputs": [],
   "source": [
    "def create_index(collection: Collection, field_name: str, index_params: dict) -> None:\n",
    "    \"\"\"\n",
    "    Creates an index on the specified field of the collection. Follows index_params.\n",
    "\n",
    "    Args:\n",
    "        collection (Collection): Zillis/Milvus Collection\n",
    "        field_name (str): Name of the field to create the index on\n",
    "        index_params (dict): A dictionary containing the index parameters -> \"metric_type\" (str), \"index_type\" (str), \"params\" (dict)\n",
    "    \"\"\"\n",
    "    # Create the index\n",
    "    index = collection.create_index(field_name=field_name, index_params=index_params)\n",
    "    print(f\"Index '{index.name}' has been created\")"
   ]
  },
  {
   "cell_type": "code",
   "execution_count": null,
   "metadata": {},
   "outputs": [],
   "source": [
    "# Create the indexes\n",
    "def create_all_indexes(collection: Collection):\n",
    "    # Dense embeddings index\n",
    "    create_index(\n",
    "        collection=collection,\n",
    "        field_name=\"dense_embeddings\",\n",
    "        index_params={\n",
    "            \"metric_type\": \"COSINE\",\n",
    "            \"index_type\": \"HNSW\",\n",
    "            \"params\": {\n",
    "                \"M\": 5,\n",
    "                \"efConstruction\": 512\n",
    "            }\n",
    "        }\n",
    "    )\n",
    "\n",
    "    # Sparse embeddings index\n",
    "    create_index(\n",
    "        collection=collection,\n",
    "        field_name=\"sparse_embeddings\",\n",
    "        index_params={\n",
    "            \"metric_type\": \"IP\",\n",
    "            \"index_type\": \"SPARSE_INVERTED_INDEX\",\n",
    "            \"params\": {\n",
    "                \"drop_ratio_build\": 0.2\n",
    "            }\n",
    "        }\n",
    "    )"
   ]
  },
  {
   "cell_type": "code",
   "execution_count": null,
   "metadata": {},
   "outputs": [],
   "source": []
  }
 ],
 "metadata": {
  "kernelspec": {
   "display_name": "Python 3",
   "language": "python",
   "name": "python3"
  },
  "language_info": {
   "codemirror_mode": {
    "name": "ipython",
    "version": 3
   },
   "file_extension": ".py",
   "mimetype": "text/x-python",
   "name": "python",
   "nbconvert_exporter": "python",
   "pygments_lexer": "ipython3",
   "version": "3.11.5"
  }
 },
 "nbformat": 4,
 "nbformat_minor": 2
}
