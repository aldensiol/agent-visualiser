{
 "cells": [
  {
   "cell_type": "code",
   "execution_count": 12,
   "metadata": {},
   "outputs": [],
   "source": [
    "import nest_asyncio\n",
    "import os\n",
    "import pickle\n",
    "import re\n",
    "import uuid\n",
    "\n",
    "from alive_progress import alive_bar\n",
    "from dotenv import load_dotenv\n",
    "from fastembed import TextEmbedding\n",
    "from langchain_anthropic import ChatAnthropic\n",
    "from langchain_openai import OpenAIEmbeddings\n",
    "from langchain.text_splitter import RecursiveCharacterTextSplitter\n",
    "from llama_index.core import Document\n",
    "from llama_index.core.node_parser import MarkdownElementNodeParser\n",
    "from llama_index.llms.anthropic import Anthropic\n",
    "from llama_parse import LlamaParse\n",
    "from pymilvus import (\n",
    "    utility,\n",
    "    CollectionSchema, DataType, FieldSchema, model,\n",
    "    connections, Collection, AnnSearchRequest, WeightedRanker, RRFRanker,\n",
    ")\n",
    "from typing import List, Optional, Tuple"
   ]
  },
  {
   "cell_type": "markdown",
   "metadata": {},
   "source": [
    "## Loading in of API Keys and Cloud Infrastructure\n",
    "1. OpenAI (potentially for embedding models), Anthropic (for Claude 3.5 Sonnet), LLama (for LlamaParse)\n",
    "2. Zillis' Endpoint and Token"
   ]
  },
  {
   "cell_type": "code",
   "execution_count": 13,
   "metadata": {},
   "outputs": [],
   "source": [
    "OPENAI_API_KEY = os.getenv('OPENAI_API_KEY')\n",
    "CLAUDE_API_KEY = os.getenv('CLAUDE_API_KEY')\n",
    "LLAMA_API_KEY = os.getenv('LLAMA_API_KEY')\n",
    "\n",
    "os.environ['OPENAI_API_KEY'] = OPENAI_API_KEY\n",
    "os.environ[\"ANTHROPIC_API_KEY\"] = CLAUDE_API_KEY\n",
    "os.environ[\"LLAMA_CLOUD_API_KEY\"] = LLAMA_API_KEY\n",
    "\n",
    "ENDPOINT = os.getenv('ZILLIS_ENDPOINT')\n",
    "TOKEN = os.getenv('ZILLIS_TOKEN')\n",
    "\n",
    "connections.connect(uri=ENDPOINT, token=TOKEN)"
   ]
  },
  {
   "cell_type": "code",
   "execution_count": 14,
   "metadata": {},
   "outputs": [],
   "source": [
    "llm = ChatAnthropic(\n",
    "    model=\"claude-3-5-sonnet-20240620\",\n",
    "    max_tokens=4096,\n",
    "    temperature=0.0,\n",
    "    stop=[\"\\n\\nHuman\"],\n",
    ")\n",
    "\n",
    "llama_llm = Anthropic(\n",
    "    model=\"claude-3-5-sonnet-20240620\",\n",
    "    max_tokens=4096,\n",
    "    temperature=0.0\n",
    ")"
   ]
  },
  {
   "cell_type": "code",
   "execution_count": 15,
   "metadata": {},
   "outputs": [],
   "source": [
    "nest_asyncio.apply()"
   ]
  },
  {
   "cell_type": "markdown",
   "metadata": {},
   "source": [
    "## Collection Creation\n",
    "1. Drop existing collection (if one exists)\n",
    "2. Define Schema -> How your documents will be Ingested\n",
    "3. Create Collection with Schema defined in 2."
   ]
  },
  {
   "cell_type": "code",
   "execution_count": 16,
   "metadata": {},
   "outputs": [],
   "source": [
    "# Specify the collection name\n",
    "collection_name = \"vector_index\"\n",
    "\n",
    "def drop_collection(collection_name):\n",
    "    # Check if the collection exists\n",
    "    if utility.has_collection(collection_name):\n",
    "        collection = Collection(name=collection_name)\n",
    "        # Release the collection\n",
    "        collection.release()\n",
    "        # Drop the collection if it exists\n",
    "        utility.drop_collection(collection_name)\n",
    "        print(f\"Collection '{collection_name}' has been dropped\")\n",
    "    else:\n",
    "        print(f\"Collection '{collection_name}' does not exist\")\n",
    "\n",
    "# drop_collection(collection_name)"
   ]
  },
  {
   "cell_type": "code",
   "execution_count": 17,
   "metadata": {},
   "outputs": [],
   "source": [
    "auto_id = FieldSchema(\n",
    "    name=\"pk\",\n",
    "    dtype=DataType.INT64,\n",
    "    is_primary=True,\n",
    "    auto_id=True)\n",
    "\n",
    "doc_id = FieldSchema(\n",
    "    name=\"doc_id\",\n",
    "    dtype=DataType.VARCHAR,\n",
    "    max_length=500\n",
    ")\n",
    "\n",
    "doc_source = FieldSchema(\n",
    "    name=\"doc_source\",\n",
    "    dtype=DataType.VARCHAR,\n",
    "    max_length=1000,\n",
    "    default_value=\"NA\"\n",
    ")\n",
    "\n",
    "doc_content = FieldSchema(\n",
    "    name=\"text\",\n",
    "    dtype=DataType.VARCHAR,\n",
    "    max_length=50000,\n",
    "    default_value=\"\"\n",
    ")\n",
    "\n",
    "vec_embeddings = FieldSchema(\n",
    "    name=\"dense_embeddings\",\n",
    "    dtype=DataType.FLOAT_VECTOR,\n",
    "    dim=1024\n",
    ")\n",
    "\n",
    "keyword_embeddings = FieldSchema(\n",
    "    name=\"sparse_embeddings\",\n",
    "    dtype=DataType.SPARSE_FLOAT_VECTOR\n",
    ")"
   ]
  },
  {
   "cell_type": "code",
   "execution_count": 18,
   "metadata": {},
   "outputs": [],
   "source": [
    "schema = CollectionSchema(\n",
    "  fields=[auto_id, doc_id, doc_content, doc_source, vec_embeddings, keyword_embeddings],\n",
    "  description=\"milvus_schema\",\n",
    "  enable_dynamic_field=True\n",
    ")"
   ]
  },
  {
   "cell_type": "code",
   "execution_count": 19,
   "metadata": {},
   "outputs": [],
   "source": [
    "def create_collection(collection_name, schema):\n",
    "    # Check if the collection exists\n",
    "    if utility.has_collection(collection_name):\n",
    "        print(f\"Collection '{collection_name}' already exists\")\n",
    "    # Create the collection\n",
    "    return Collection(name=collection_name, schema=schema, using='default', shards_num=2)"
   ]
  },
  {
   "cell_type": "code",
   "execution_count": 20,
   "metadata": {},
   "outputs": [
    {
     "name": "stdout",
     "output_type": "stream",
     "text": [
      "Collection 'vector_index' already exists\n"
     ]
    }
   ],
   "source": [
    "collection = create_collection(collection_name, schema)"
   ]
  },
  {
   "cell_type": "code",
   "execution_count": 21,
   "metadata": {},
   "outputs": [
    {
     "data": {
      "application/vnd.jupyter.widget-view+json": {
       "model_id": "49a8c4f740cd45d891c272093789010e",
       "version_major": 2,
       "version_minor": 0
      },
      "text/plain": [
       "Fetching 5 files:   0%|          | 0/5 [00:00<?, ?it/s]"
      ]
     },
     "metadata": {},
     "output_type": "display_data"
    },
    {
     "name": "stderr",
     "output_type": "stream",
     "text": [
      "/Library/Frameworks/Python.framework/Versions/3.11/lib/python3.11/site-packages/langchain_openai/embeddings/base.py:281: UserWarning: WARNING! model_name is not default parameter.\n",
      "                    model_name was transferred to model_kwargs.\n",
      "                    Please confirm that model_name is what you intended.\n",
      "  warnings.warn(\n"
     ]
    }
   ],
   "source": [
    "bge_embed_model = TextEmbedding(model_name=\"BAAI/bge-large-en-v1.5\")\n",
    "openai_embed_model = OpenAIEmbeddings(model_name=\"text-embedding-3-large\")\n",
    "spalde_embed_model = model.sparse.SpladeEmbeddingFunction(\n",
    "    model_name=\"naver/splade-cocondenser-ensembledistil\",\n",
    "    device=\"cpu\",\n",
    ")"
   ]
  },
  {
   "cell_type": "markdown",
   "metadata": {},
   "source": [
    "## Pre-processing\n",
    "1. Defining Helper functions for cleaning\n",
    "2. Data Parsing using `LLamaParse` -> Node Parsing using MarkdownElementNodeParser. After this stage, Document objects are pickled\n",
    "3. Chunk long texts using appropriate technique."
   ]
  },
  {
   "cell_type": "code",
   "execution_count": 22,
   "metadata": {},
   "outputs": [],
   "source": [
    "def remove_table_of_contents(text):\n",
    "    pattern = r\"TABLE OF CONTENTS.*?(?=#)\"\n",
    "    cleaned_text = re.sub(pattern, \"\", text, flags=re.DOTALL)\n",
    "    return cleaned_text.strip()\n",
    "\n",
    "def convert_nodes_to_documents(text_nodes, object_nodes, source):\n",
    "    \"\"\"\n",
    "    Converts nodes to Documents\n",
    "\n",
    "    Args:\n",
    "        text_nodes (List[Nodes]): List of text nodes\n",
    "        object_nodes (List[Nodes]): List of object nodes\n",
    "        source (str): Source of the document\n",
    "\n",
    "    Returns:\n",
    "        documents (List[Documents]): List of Documents\n",
    "    \"\"\"\n",
    "    documents = []\n",
    "    for node in text_nodes:\n",
    "        text = node.text\n",
    "        doc = Document(\n",
    "            text= text,\n",
    "            metadata = {\n",
    "                \"is_table\": False,\n",
    "                \"source\": source\n",
    "            }\n",
    "        )\n",
    "        documents.append(doc)\n",
    "        \n",
    "    for node in object_nodes:\n",
    "        text = node.text\n",
    "        doc = Document(\n",
    "            text= text,\n",
    "            metadata = {\n",
    "                \"is_table\": True,\n",
    "                \"source\": source\n",
    "            }\n",
    "        )\n",
    "        documents.append(doc)\n",
    "        \n",
    "    return documents"
   ]
  },
  {
   "cell_type": "code",
   "execution_count": 23,
   "metadata": {},
   "outputs": [],
   "source": [
    "# instantiate doc parser\n",
    "parser = LlamaParse(\n",
    "    result_type=\"markdown\",\n",
    "    num_workers=8,\n",
    "    verbose = True,\n",
    "    language=\"en\",\n",
    ")\n",
    "\n",
    "# instantiate node parser\n",
    "node_parser = MarkdownElementNodeParser(llm=llama_llm, num_workers=8)"
   ]
  },
  {
   "cell_type": "code",
   "execution_count": 24,
   "metadata": {},
   "outputs": [],
   "source": [
    "# create folder to store parsed data\n",
    "data_folder = \"data\"\n",
    "os.makedirs(data_folder, exist_ok=True)\n",
    "\n",
    "def parse_docs(file_location: str, data_folder: Optional[str] = None) -> List[Document]:\n",
    "    \"\"\"\n",
    "    Parses PDF Folder and returns a list of Documents\n",
    "\n",
    "    Args:\n",
    "        file_location (str): PDF Folder Location\n",
    "        data_folder (Optional[str], optional): Folder to save pickles (Optional). Defaults to None.\n",
    "\n",
    "    Returns:\n",
    "        List[Document]: _description_\n",
    "    \"\"\"\n",
    "    all_docs = []\n",
    "    for file_name in os.listdir(file_location):\n",
    "        if not file_name.endswith(\".pdf\"):\n",
    "            continue\n",
    "\n",
    "        print(\"File: \" + str(file_name))\n",
    "        doc_path = os.path.join(file_location, file_name)\n",
    "        modified_file_name = os.path.splitext(file_name)[0].lower().replace(' ', '_')\n",
    "\n",
    "        # results in a list of Document Objects\n",
    "        documents = parser.load_data(doc_path)\n",
    "        \n",
    "        for idx, doc in enumerate(documents):\n",
    "            doc.text = remove_table_of_contents(doc.text)\n",
    "            if idx > 4:\n",
    "                break\n",
    "\n",
    "        raw_nodes = node_parser.get_nodes_from_documents(documents)\n",
    "        # list of text_nodes, list of objects\n",
    "        text_nodes, objects = node_parser.get_nodes_and_objects(raw_nodes)\n",
    "        \n",
    "        final_docs = convert_nodes_to_documents(text_nodes, objects, modified_file_name)\n",
    "        all_docs.append(final_docs)\n",
    "        \n",
    "        if data_folder:\n",
    "            data_path = os.path.join(data_folder, modified_file_name + '.pkl')\n",
    "            pickle.dump(final_docs, open(data_path, \"wb\"))\n",
    "    \n",
    "    return [item for sublist in all_docs for item in sublist]"
   ]
  },
  {
   "cell_type": "code",
   "execution_count": 37,
   "metadata": {},
   "outputs": [
    {
     "name": "stdout",
     "output_type": "stream",
     "text": [
      "File: Diabetes Medications.pdf\n",
      "Started parsing the file under job_id d19e906a-11eb-48e6-9777-5c980136bffc\n",
      ".."
     ]
    },
    {
     "name": "stderr",
     "output_type": "stream",
     "text": [
      "0it [00:00, ?it/s]\n",
      "1it [00:00, 15887.52it/s]\n",
      "0it [00:00, ?it/s]\n"
     ]
    },
    {
     "name": "stdout",
     "output_type": "stream",
     "text": [
      "File: managing-pre-diabetes-(updated-on-27-jul-2021)c2bfc77474154c2abf623156a4b93002.pdf\n",
      "Started parsing the file under job_id 97500a3f-44f8-4826-9e80-eddcce309858\n"
     ]
    },
    {
     "name": "stderr",
     "output_type": "stream",
     "text": [
      "0it [00:00, ?it/s]\n",
      "1it [00:00, 11748.75it/s]\n",
      "0it [00:00, ?it/s]\n",
      "1it [00:00, 19599.55it/s]\n",
      "3it [00:00, 41665.27it/s]\n",
      "0it [00:00, ?it/s]\n"
     ]
    },
    {
     "name": "stdout",
     "output_type": "stream",
     "text": [
      "File: Diabetic Foot Ulcer_ Symptoms and Treatment.pdf\n",
      "Started parsing the file under job_id 90905b25-f816-4f6e-b938-0a9434cea268\n"
     ]
    },
    {
     "name": "stderr",
     "output_type": "stream",
     "text": [
      "0it [00:00, ?it/s]\n",
      "0it [00:00, ?it/s]\n"
     ]
    },
    {
     "name": "stdout",
     "output_type": "stream",
     "text": [
      "File: Diabetes Treatment_ Insulin.pdf\n",
      "Started parsing the file under job_id 0d47bc63-fe00-4659-b2f4-adb9fe8f3af2\n"
     ]
    },
    {
     "name": "stderr",
     "output_type": "stream",
     "text": [
      "0it [00:00, ?it/s]\n",
      "0it [00:00, ?it/s]\n",
      "0it [00:00, ?it/s]\n",
      "1it [00:00, 10782.27it/s]\n"
     ]
    }
   ],
   "source": [
    "file_location = \"pdfs\"\n",
    "\n",
    "doc_list = parse_docs(file_location=file_location, data_folder=data_folder)"
   ]
  },
  {
   "cell_type": "markdown",
   "metadata": {},
   "source": [
    "## Reading of pickles after parsing"
   ]
  },
  {
   "cell_type": "code",
   "execution_count": 38,
   "metadata": {},
   "outputs": [],
   "source": [
    "def read_pickles(data_folder: str) -> List[Document]:\n",
    "    doc_list = []\n",
    "    for file_name in os.listdir(data_folder):\n",
    "        doc_path = os.path.join(data_folder, file_name)\n",
    "        if file_name.endswith(\".pkl\"):\n",
    "            with open(doc_path, 'rb') as file:\n",
    "                # data will be a doc_list\n",
    "                data = pickle.load(file)\n",
    "                doc_list.append(data)\n",
    "                \n",
    "    # since doc_list is a list of list of documents, we need to flatten it\n",
    "    doc_list = [item for sublist in doc_list for item in sublist]\n",
    "    return doc_list"
   ]
  },
  {
   "cell_type": "code",
   "execution_count": 39,
   "metadata": {},
   "outputs": [],
   "source": [
    "doc_list = read_pickles(data_folder)"
   ]
  },
  {
   "cell_type": "code",
   "execution_count": 40,
   "metadata": {},
   "outputs": [
    {
     "data": {
      "text/plain": [
       "[Document(id_='c5007184-5a14-48c2-b267-df334bae0e90', embedding=None, metadata={'is_table': False, 'source': 'diabetic_foot_ulcer__symptoms_and_treatment'}, excluded_embed_metadata_keys=[], excluded_llm_metadata_keys=[], relationships={}, text='Diabetic Foot Ulcer: Symptoms and Treatment\\n\\n What causes diabetic ulcers?\\n\\nHere’s what you need to know in terms of self-care, prevention, and the treatment of diabetic ulcer.\\n\\n What Is a Diabetic Ulcer?\\n\\nA diabetic ulcer is an open sore or wound resulting from poor circulation or lack of sensation due to nerve damage caused by elevated blood glucose levels.\\n\\nThe legs and feet are most at risk for these ulcers. Diabetes makes it hard for the body to heal itself, increasing the risk of wounds becoming chronic and raising the risk of infection.\\n\\nSignificantly, nonhealing diabetic ulcers result in a large number of amputations in Singapore. About two major limb amputations are carried out daily to remove lower limbs affected by diabetes-related ulcers or gangrene.\\n\\n Diabetic Ulcer Prevention\\n\\nTo reduce the risk of wounds, regular foot care is important for those with diabetes. Take these steps to reduce foot injuries and wounds:\\n\\n- Check your feet every day for red spots, cuts, swelling or blisters.\\n- Use a mirror or get help to inspect the bottom of your feet.\\n- Wash your feet every day and dry them carefully, especially between the toes.\\n- Moisturise your feet daily, ideally after washing, to keep the skin soft and smooth.\\n- Massage a thin coat of lotion over the top and bottom of your feet, but not between the toes as the skin is thinner and more prone to splitting.\\n- File away hard skin patches on the sole of the feet or toes at least once a week to prevent foot ulcers from forming underneath.\\n- Keep toenails trimmed to prevent them from cutting into your toes.\\n- Cut toenails straight across and file the edges, never into the sides as this causes ingrown nails.\\n- Always wear shoes and socks, and never walk barefoot to prevent injuries.\\n- Ensure shoes are comfortable and fit well.\\n\\nSource', mimetype='text/plain', start_char_idx=None, end_char_idx=None, text_template='{metadata_str}\\n\\n{content}', metadata_template='{key}: {value}', metadata_seperator='\\n'),\n",
       " Document(id_='9607d426-1a44-4fa2-859d-be3b693f2784', embedding=None, metadata={'is_table': False, 'source': 'diabetic_foot_ulcer__symptoms_and_treatment'}, excluded_embed_metadata_keys=[], excluded_llm_metadata_keys=[], relationships={}, text='Diabetic Foot Ulcer: Symptoms and Treatment\\n\\n- Maintain good blood circulation to the feet by putting your feet up when sitting, and by wiggling your toes and moving your ankles for at least five minutes, two to three times a day.\\n- Don\\'t cross your legs for long periods of time.\\n- Don’t smoke. Smoking does great harm to blood circulation and increases the risk of many diseases.\\n\\nIf you are diabetic, regular foot examinations are important to prevent foot and leg ulcers, and to ensure your feet are in good health. Your podiatrist will check for:\\n\\n- Any loss of sensation\\n- The level of blood flow to the feet\\n- Any changes in the shape of your foot to assess the development of pressure points\\n\\nAll these will help detect changes in any foot condition, and will help ensure that early preventive treatment or management can be given to prevent wounds from occurring or getting worse.\\n\\nThis article titled \"Sole Saviours\" was first published in ONEHealth Magazine, Issue 6, 2015.\\n\\n Read these next:\\n\\n- Diabetes Medications\\n- Skin disease in diabetes mellitus\\n- Diabetes foot screening\\n\\nThis article was last reviewed on Friday, November 22, 2019\\n\\nhttps://www.healthhub.sg/a-z/diseases-and-conditions/diabetic-ulcer', mimetype='text/plain', start_char_idx=None, end_char_idx=None, text_template='{metadata_str}\\n\\n{content}', metadata_template='{key}: {value}', metadata_seperator='\\n'),\n",
       " Document(id_='74b610b2-c8a1-41ff-8d9c-27334fbd9898', embedding=None, metadata={'is_table': False, 'source': 'managing-pre-diabetes-(updated-on-27-jul-2021)c2bfc77474154c2abf623156a4b93002'}, excluded_embed_metadata_keys=[], excluded_llm_metadata_keys=[], relationships={}, text='Appropriate Care Guide (ACG)\\n\\n Managing pre-diabetes\\n\\nFirst Published: 3 July 2017\\n\\nLast updated: 27 July 2021\\n\\n Key messages\\n\\n1. Pre-diabetes is asymptomatic but puts a person at high risk of developing type 2 diabetes mellitus (T2DM) and cardiovascular disease (CVD).\\n2. Early diagnosis, appropriate management and follow-up help to prevent or delay T2DM in persons with pre-diabetes.\\n3. Recommend lifestyle intervention to all persons with pre-diabetes.\\n4. Tailor lifestyle intervention to individual needs for sustained behavioural changes.\\n5. Consider metformin for persons with pre-diabetes when:\\n- glycaemic status does not improve despite lifestyle intervention OR\\n- they are unable to adopt lifestyle intervention, especially if persons outlined in the two points above have a body mass index (BMI) of ≥ 23 kg/m2, are younger than 60 years of age, or are women with a history of gestational diabetes.\\n\\n Preventing or delaying the progression to T2DM\\n\\nPre-diabetes is defined by glycaemic levels that are higher than normal, but lower than diabetes thresholds. Pre-diabetes is asymptomatic but predisposes individuals to T2DM and CVD. Around 14% of Singaporeans have impaired glucose tolerance and without lifestyle changes, at least 35% of persons with pre-diabetes in Singapore will progress to T2DM within eight years.1,2 There is a pressing need to address pre-diabetes as part of the efforts to reduce the impact of T2DM and CVD.\\n\\nEducation increases awareness of pre-diabetes and enables individuals to adopt lifestyle changes.\\n\\nMINISTRY OF HEALTH\\n\\nAcademy of Medicine, Singapore\\n\\nCollege of Family Physicians Singapore\\n\\nChapter of Endocrinologists, CPS\\n\\nChapter of Family Medicine Physicians\\n\\nChapter of General Physicians, CPS', mimetype='text/plain', start_char_idx=None, end_char_idx=None, text_template='{metadata_str}\\n\\n{content}', metadata_template='{key}: {value}', metadata_seperator='\\n'),\n",
       " Document(id_='4feb9b48-8596-40d2-af39-4ab8be3228ce', embedding=None, metadata={'is_table': False, 'source': 'managing-pre-diabetes-(updated-on-27-jul-2021)c2bfc77474154c2abf623156a4b93002'}, excluded_embed_metadata_keys=[], excluded_llm_metadata_keys=[], relationships={}, text='Diagnosis of pre-diabetes\\n\\n 1\\n\\nIn Singapore, glucose thresholds in Table 1 below are used to diagnose pre-diabetes (impaired fasting glucose or impaired glucose tolerance).', mimetype='text/plain', start_char_idx=None, end_char_idx=None, text_template='{metadata_str}\\n\\n{content}', metadata_template='{key}: {value}', metadata_seperator='\\n'),\n",
       " Document(id_='1bfcf118-4b69-46d3-b085-7caf67745bd6', embedding=None, metadata={'is_table': False, 'source': 'managing-pre-diabetes-(updated-on-27-jul-2021)c2bfc77474154c2abf623156a4b93002'}, excluded_embed_metadata_keys=[], excluded_llm_metadata_keys=[], relationships={}, text='IFG, impaired fasting glucose; IGT, impaired glucose tolerance\\n\\n Instructions on lifestyle intervention\\n\\nConvey the following points to persons with pre-diabetes during consultations.\\n\\n Healthy diet\\n\\nPortion a healthy plate\\n\\n- Fill half the plate with vegetables and a small portion of fruits.\\n- Fill a quarter of the plate with lean meat, fish, poultry (skinless), eggs, low-fat dairy or soy products.\\n- Fill a quarter of the plate with whole grains, such as brown rice, rolled oats, whole grain bread or cereals.\\n\\nIn Singapore, glycated haemoglobin (HbA1c) is not currently indicated as a diagnostic test for pre-diabetes.†\\n\\n Lifestyle intervention\\n\\nLifestyle intervention is recommended for all persons with pre-diabetes, as adopting a healthy diet and increased physical activity reduces the risk of them developing T2DM by 31 to 37% over 2 to 6 years, and is cost-effective.3-5\\n\\nFor those who are overweight or obese, aim to gradually achieve and maintain a BMI of &lt; 23 kg/m2 or a 5 to 10% body weight loss.\\n\\nSmokers are advised to stop smoking, as smoking impairs glucose metabolism, insulin sensitivity and secretion.6\\n\\n Healthy diet\\n\\nA healthy and balanced diet plays a key role in preventing or delaying the progression to T2DM in persons with pre-diabetes.7-12\\n\\nAdvise those who are overweight or obese to achieve weight loss by implementing a negative caloric balance.\\n\\n Increased physical activity\\n\\nObesity and a sedentary lifestyle are major risk factors for developing T2DM and can be modified by an increase in physical activity.7-12\\n\\n Eat less fat\\n\\n- Avoid pastries, fried food, and food containing coconut milk or cream.\\n- Use less oil when cooking and use healthier oils (such as sunflower oil, rice bran oil, olive oil) instead of butter, ghee, or palm oil.\\n\\n Limit alcohol intake\\n\\n- No more than one standard drink‡ per day for female.\\n- No more than two standard drinks‡ per day for male.\\n\\n Increased physical activity\\n\\n- Perform at least 150 minutes of moderate-intensity exercise (such as brisk walking, leisure cycling), or 75 minutes of vigorous-intensity exercise (such as jogging, fast-paced cycling, swimming laps) every week.\\n- Avoid more than two consecutive days without exercise.\\n- Engage in exercises that require intensity and that accelerate the heart rate.\\n\\nPedometers or fitness trackers allow progress to be monitored over time and may provide additional motivation.13\\n\\n* 2-hour 75-g oral glucose tolerance test (OGTT).\\n\\n† For more information on HbA1c as a screening test for diabetes mellitus in Singapore, please refer to the Ministry of Health Circular No. 08/2019.\\n\\n‡ A standard drink is one can (330 mL) of beer, half a glass (100 mL) of wine, or one nip (30 mL) of spirits or hard liquor.', mimetype='text/plain', start_char_idx=None, end_char_idx=None, text_template='{metadata_str}\\n\\n{content}', metadata_template='{key}: {value}', metadata_seperator='\\n'),\n",
       " Document(id_='25bf7643-20d7-467f-b257-cc0a8d9b724f', embedding=None, metadata={'is_table': False, 'source': 'managing-pre-diabetes-(updated-on-27-jul-2021)c2bfc77474154c2abf623156a4b93002'}, excluded_embed_metadata_keys=[], excluded_llm_metadata_keys=[], relationships={}, text='Sustained behavioural changes\\n\\n Providing information without individualised advice\\n\\nmay not be sufficient to bring about robust and sustained lifestyle changes. Lifestyle intervention should therefore be tailored to each person’s needs and continuously encouraged.14\\n\\n Pharmacotherapy\\n\\nPharmacotherapy for pre-diabetes is less effective than lifestyle changes and may be considered after a trial of intensive lifestyle intervention.9,15 Discuss the benefits, side effects, and cost before commencing treatment.\\n\\n Tailor lifestyle intervention to individual needs\\n\\n- Assess lifestyle (such as diet and physical activity preferences, work nature, physical or budget constraints).\\n- Identify areas for improvement towards a healthier lifestyle.\\n- Provide advice on practical and sustainable lifestyle changes that fit into daily activities.\\n\\n Reinforce behavioural changes continuously\\n\\n- Encourage persons with pre-diabetes to keep a log of their diet, exercise, and weight.\\n- Advise them to visit the HealthHub website (by scanning the QR code below) to find out more about pre-diabetes and associated lifestyle change programmes. They can also download the HealthHub SG and HealthHub Track applications (App Store or Google Play Store).\\n- Supplement verbal advice with written information.\\n\\n Scan the QR code to access pre-diabetes information on the HealthHub website\\n\\n Indication, dosing regimen, and side effects of metformin for pre-diabetes\\n\\nConsider metformin for persons with pre-diabetes when:\\n\\n- glycaemic status does not improve despite lifestyle intervention OR\\n- they are unable to adopt lifestyle intervention, especially if persons outlined in the two points above have a BMI of ≥ 23 kg/m2, are younger than 60 years of age, or are women with a history of gestational diabetes.\\n\\nStart metformin at 250 mg twice daily and gradually increase as tolerated if required (depending on glycaemic status), up to 850 mg twice daily.\\n\\nTake metformin with meals to reduce side effects such as nausea, vomiting, or diarrhoea.\\n\\n§ Off-label for pre-diabetes; locally registered as additional therapy in association with diet in patients with diabetes mellitus.', mimetype='text/plain', start_char_idx=None, end_char_idx=None, text_template='{metadata_str}\\n\\n{content}', metadata_template='{key}: {value}', metadata_seperator='\\n'),\n",
       " Document(id_='94a48020-6378-4ec4-969b-45d5f3527492', embedding=None, metadata={'is_table': False, 'source': 'managing-pre-diabetes-(updated-on-27-jul-2021)c2bfc77474154c2abf623156a4b93002'}, excluded_embed_metadata_keys=[], excluded_llm_metadata_keys=[], relationships={}, text='Figure 1. Pathway for managing pre-diabetes\\n\\n DIAGNOSIS OF PRE-DIABETES\\n\\nIFG: FPG 6.1–6.9 and 2-hG < 7.8 mmol/L OR Screen for CVD risk factors, including hypertension and dyslipidaemia.\\n\\nIGT: FPG < 7.0 and 2-hG 7.8–11.0 mmol/L', mimetype='text/plain', start_char_idx=None, end_char_idx=None, text_template='{metadata_str}\\n\\n{content}', metadata_template='{key}: {value}', metadata_seperator='\\n'),\n",
       " Document(id_='28d2e176-4593-407c-af57-931fa5989d6c', embedding=None, metadata={'is_table': False, 'source': 'managing-pre-diabetes-(updated-on-27-jul-2021)c2bfc77474154c2abf623156a4b93002'}, excluded_embed_metadata_keys=[], excluded_llm_metadata_keys=[], relationships={}, text='2-hG, 2-hour post-load glucose; BMI, body mass index; CVD, cardiovascular disease; FPG, fasting plasma glucose; HbA1c, glycated haemoglobin; IFG, impaired fasting glucose; IGT, impaired glucose tolerance; OGTT, oral glucose tolerance test; T2DM, type 2 diabetes mellitus\\n\\n** If FPG ≥ 7.0 mmol/L, 2-hG ≥ 11.1 mmol/L, or HbA1c ≥ 7%, proceed to manage as per T2DM.\\n\\n†† If HbA1c ≥ 7%, proceed to manage as per T2DM. If HbA1c does not improve and < 7%, consider investigating for T2DM with FPG or OGTT after a metformin washout period (such as 1–2 weeks).', mimetype='text/plain', start_char_idx=None, end_char_idx=None, text_template='{metadata_str}\\n\\n{content}', metadata_template='{key}: {value}', metadata_seperator='\\n'),\n",
       " Document(id_='ea7bf42d-9b44-428f-b576-ca3ee633dacc', embedding=None, metadata={'is_table': False, 'source': 'managing-pre-diabetes-(updated-on-27-jul-2021)c2bfc77474154c2abf623156a4b93002'}, excluded_embed_metadata_keys=[], excluded_llm_metadata_keys=[], relationships={}, text='Overview of lifestyle intervention in pre-diabetes\\n\\n Role of lifestyle intervention\\n\\nLifestyle intervention reduces the risk of developing T2DM by 31 to 37% over 2 to 6 years for those who are overweight or obese, aim to gradually achieve and maintain a BMI of &lt; 23 kg/m2 or a 5 to 10% body weight loss.\\n\\n Ways to implement lifestyle intervention', mimetype='text/plain', start_char_idx=None, end_char_idx=None, text_template='{metadata_str}\\n\\n{content}', metadata_template='{key}: {value}', metadata_seperator='\\n'),\n",
       " Document(id_='6506b5bb-2756-4a31-a135-093d1420be6a', embedding=None, metadata={'is_table': False, 'source': 'managing-pre-diabetes-(updated-on-27-jul-2021)c2bfc77474154c2abf623156a4b93002'}, excluded_embed_metadata_keys=[], excluded_llm_metadata_keys=[], relationships={}, text='SAY NO\\n\\n1 DAY\\n\\n1 standard drink = 330 mL of beer = 100 mL of wine = 30 mL of spirits or hard liquor\\n\\n Limit alcohol intake', mimetype='text/plain', start_char_idx=None, end_char_idx=None, text_template='{metadata_str}\\n\\n{content}', metadata_template='{key}: {value}', metadata_seperator='\\n'),\n",
       " Document(id_='6bd2aedb-bbf1-4adb-8336-65bba0308451', embedding=None, metadata={'is_table': False, 'source': 'managing-pre-diabetes-(updated-on-27-jul-2021)c2bfc77474154c2abf623156a4b93002'}, excluded_embed_metadata_keys=[], excluded_llm_metadata_keys=[], relationships={}, text='Physical activity\\n\\n&gt;= 150 minutes per week of moderate-intensity exercise, such as brisk walking or leisure cycling (<16 km/hr)\\n\\n&gt;= 75 minutes per week of vigorous-intensity exercise, such as jogging or fast-paced cycling (≥ 16 km/hr)\\n\\nNo more than two consecutive days without exercise\\n\\n Other modifications\\n\\nSmoking cessation\\n\\n How to sustain lifestyle changes\\n\\nTailor lifestyle intervention to individual needs\\n\\nReinforce behavioural changes by encouraging a regular log of:', mimetype='text/plain', start_char_idx=None, end_char_idx=None, text_template='{metadata_str}\\n\\n{content}', metadata_template='{key}: {value}', metadata_seperator='\\n'),\n",
       " Document(id_='309783c4-3676-402a-b33f-ae0ced2951d5', embedding=None, metadata={'is_table': False, 'source': 'managing-pre-diabetes-(updated-on-27-jul-2021)c2bfc77474154c2abf623156a4b93002'}, excluded_embed_metadata_keys=[], excluded_llm_metadata_keys=[], relationships={}, text='References\\n\\nScan the QR code for the reference list to this ACG\\n\\nGOgovsg\\n\\n EXPERT GROUP\\n\\n Lead discussant\\n\\nDr. Phua Eng Joo (KTPH)\\n\\n Chairperson\\n\\nDr. Darren Seah (NHGP)\\n\\n Group members\\n\\n- Ms. Debra Chan (TTSH)\\n- A/Prof. Goh Su-Yen (SGH)\\n- Dr. Khoo Chin Meng (NUHS)\\n- Prof. Joyce Lee (UC Irvine)\\n- Ms. Lee Hwee Khim (SHP)\\n- Dr. Lim Hui Ling (International Medical Clinic)\\n- Ms. Ng Soh Mui (NUP)\\n- Dr. Gilbert Tan (SHP)\\n- Dr. Tham Tat Yean (Frontier Healthcare Group)\\n- Ms. Pauline Xie (NHGP)\\n\\n About the Agency\\n\\nThe Agency for Care Effectiveness (ACE) was established by the Ministry of Health (Singapore) to drive better decision-making in healthcare by conducting health technology assessments (HTA), publishing healthcare guidance and providing education. ACE develops ACGs to inform specific areas of clinical practice. ACGs are usually reviewed around five years after publication, or earlier, if new evidence emerges that requires substantive changes to the recommendations. To access this ACG online, along with other ACGs published to date, please visit www.ace-hta.gov.sg/acg\\n\\nFind out more about ACE at www.ace-hta.gov.sg/about-us\\n\\n© Agency for Care Effectiveness, Ministry of Health, Republic of Singapore\\n\\nAll rights reserved. Reproduction of this publication in whole or in part in any material form is prohibited without the prior written permission of the copyright holder. Application to reproduce any part of this publication should be addressed to: ACE_HTA@moh.gov.sg\\n\\nSuggested citation: Agency for Care Effectiveness (ACE). Managing pre-diabetes – a growing health concern. Appropriate Care Guide (ACG), Ministry of Health, Singapore. 2021. Available from: go.gov.sg/acg-managing-pre-diabetes-a-growing-health-concern\\n\\nThe Ministry of Health, Singapore disclaims any and all liability to any party for any direct, indirect, implied, punitive or other consequential damages arising directly or indirectly from any use of this ACG, which is provided as is, without warranties.\\n\\nAgency for Care Effectiveness (ACE)\\n\\nCollege of Medicine Building\\n\\n16 College Road Singapore 169854\\n\\nDriving better decision-making in healthcare', mimetype='text/plain', start_char_idx=None, end_char_idx=None, text_template='{metadata_str}\\n\\n{content}', metadata_template='{key}: {value}', metadata_seperator='\\n'),\n",
       " Document(id_='afeb0d05-8a7c-4fea-a18a-a99c8625c856', embedding=None, metadata={'is_table': True, 'source': 'managing-pre-diabetes-(updated-on-27-jul-2021)c2bfc77474154c2abf623156a4b93002'}, excluded_embed_metadata_keys=[], excluded_llm_metadata_keys=[], relationships={}, text='This table shows the diagnostic criteria for pre-diabetes, comparing Impaired Fasting Glucose (IFG) and Impaired Glucose Tolerance (IGT) based on fasting plasma glucose and 2-hour post-load glucose levels.,\\nwith the following columns:\\n- Pre-diabetes: Types of pre-diabetes: IFG and IGT\\n- Fasting plasma glucose (mmol/L): Fasting plasma glucose levels for IFG and IGT\\n- 2-hr post-load glucose (mmol/L)*: 2-hour post-load glucose levels for IFG and IGT\\n', mimetype='text/plain', start_char_idx=None, end_char_idx=None, text_template='{metadata_str}\\n\\n{content}', metadata_template='{key}: {value}', metadata_seperator='\\n'),\n",
       " Document(id_='e699fec2-b693-4ff5-8001-1243ffdca28c', embedding=None, metadata={'is_table': True, 'source': 'managing-pre-diabetes-(updated-on-27-jul-2021)c2bfc77474154c2abf623156a4b93002'}, excluded_embed_metadata_keys=[], excluded_llm_metadata_keys=[], relationships={}, text='This table outlines the management approach for individuals with pre-diabetes, including lifestyle interventions, regular follow-ups, and the potential addition of metformin. It provides detailed steps for each stage of care, from initial education to ongoing monitoring and medication management.,\\nwith the following columns:\\n- All persons with pre-diabetes: Initial steps for managing pre-diabetes\\n- LIFESTYLE INTERVENTION: Specific lifestyle changes recommended\\n- REGULAR FOLLOW-UP: Follow-up procedures for lifestyle intervention\\n- ADD METFORMIN: Guidelines for adding metformin treatment\\n- REGULAR FOLLOW-UP: Follow-up procedures for metformin treatment\\n', mimetype='text/plain', start_char_idx=None, end_char_idx=None, text_template='{metadata_str}\\n\\n{content}', metadata_template='{key}: {value}', metadata_seperator='\\n'),\n",
       " Document(id_='75e23740-a99c-442a-9d6c-4a24e959db6b', embedding=None, metadata={'is_table': True, 'source': 'managing-pre-diabetes-(updated-on-27-jul-2021)c2bfc77474154c2abf623156a4b93002'}, excluded_embed_metadata_keys=[], excluded_llm_metadata_keys=[], relationships={}, text='This table presents guidelines for a balanced diet, showing the recommended portions of different food groups on a healthy plate.,\\nwith the following columns:\\n- Diet: None\\n- Portion a healthy plate: None\\n', mimetype='text/plain', start_char_idx=None, end_char_idx=None, text_template='{metadata_str}\\n\\n{content}', metadata_template='{key}: {value}', metadata_seperator='\\n'),\n",
       " Document(id_='c6f5ed30-19ab-4c0b-8d6c-0cfa419f1cfb', embedding=None, metadata={'is_table': True, 'source': 'managing-pre-diabetes-(updated-on-27-jul-2021)c2bfc77474154c2abf623156a4b93002'}, excluded_embed_metadata_keys=[], excluded_llm_metadata_keys=[], relationships={}, text='This table appears to be a comparison between females and males, but it lacks any data or content in the cells.,\\nwith the following columns:\\n- Female: None\\n- Male: None\\n', mimetype='text/plain', start_char_idx=None, end_char_idx=None, text_template='{metadata_str}\\n\\n{content}', metadata_template='{key}: {value}', metadata_seperator='\\n'),\n",
       " Document(id_='d3e919f9-f727-4edc-815c-f6a825ec2cf6', embedding=None, metadata={'is_table': True, 'source': 'managing-pre-diabetes-(updated-on-27-jul-2021)c2bfc77474154c2abf623156a4b93002'}, excluded_embed_metadata_keys=[], excluded_llm_metadata_keys=[], relationships={}, text='Empty table with columns for personal health and lifestyle factors,\\nwith the following columns:\\n- Preference: None\\n- Budget: None\\n- Physical condition: None\\n- Work nature: None\\n- Diet: None\\n- Exercise: None\\n- Weight: None\\n', mimetype='text/plain', start_char_idx=None, end_char_idx=None, text_template='{metadata_str}\\n\\n{content}', metadata_template='{key}: {value}', metadata_seperator='\\n'),\n",
       " Document(id_='df2a2460-9b12-4f92-b2de-19aaf326bb59', embedding=None, metadata={'is_table': False, 'source': 'diabetes_treatment__insulin'}, excluded_embed_metadata_keys=[], excluded_llm_metadata_keys=[], relationships={}, text='Diabetes Treatment: Insulin\\n\\nWhen you have diabetes, you may need to learn how to inject yourself with insulin.\\n\\n What is Insulin?\\n\\nInsulin is a hormone produced by the pancreas and released into our body cells to allow them to convert blood glucose (sugar) for energy. Food is converted into glucose before it is absorbed into our bloodstream. The function of insulin is to move the glucose from the bloodstream into the body cells for use or storage. People with diabetes are unable to fully use the glucose in their bloodstream either because they lack insulin in the body or insulin is ineffective for them.\\n\\n Insulin Therapy\\n\\nTreatment for type 1 diabetes involves dietary control and insulin injections. Some patients with type 2 diabetes may also require insulin injections. Insulin is not effective if taken by mouth, and has to be injected.\\n\\n You must know how to:\\n\\n- Measure your insulin dose\\n- Inject yourself (and not rely on others)\\n- Adapt your diet and activity to your insulin injections\\n\\n Types of Insulin\\n\\nThere are several types of insulin. They differ in how quickly they start to lower your blood glucose, the time taken to reach their highest activity, and how long they continue to work.\\n\\n How to Inject Insulin\\n\\nKnowing where to inject your insulin will make the injection easier, safer and more comfortable. Insulin is injected into the fatty area under the skin. After insulin is injected, it\\n\\nSource', mimetype='text/plain', start_char_idx=None, end_char_idx=None, text_template='{metadata_str}\\n\\n{content}', metadata_template='{key}: {value}', metadata_seperator='\\n'),\n",
       " Document(id_='f5cc61dc-ed35-4786-be03-dd47cc9e56f4', embedding=None, metadata={'is_table': False, 'source': 'diabetes_treatment__insulin'}, excluded_embed_metadata_keys=[], excluded_llm_metadata_keys=[], relationships={}, text='Diabetes Treatment: Insulin\\n\\nInsulin moves into the blood and is used by your body.\\n\\n Injection Areas\\n\\n- Abdomen — insulin moves fastest into the blood from here\\n- Arm\\n- Thigh and buttocks — insulin moves slowest into the blood from here\\n\\nThe injection area is chosen based on the speed of insulin absorption required, and your convenience.\\n\\nYour doctor or nurse will advise you on the best area to inject. It is not a good idea to change injection areas frequently. This may cause your blood sugar levels to go up and down. This happens because insulin moves into blood at different speeds from different areas.\\n\\nYou should inject your insulin into a different spot each time. Injecting into the same spot often may lead to formation of thick areas under the skin. Insulin injected into these areas may not be absorbed well. Rotating your insulin injection spot will prevent these thick areas from forming. You should try and use each spot only once a month.\\n\\nCheck your injection areas every few days. You can press gently and run your fingertips across each area. If there are any lumps, painful spots or any change of colour in the area, report these to your diabetes care team. Avoid using these areas until the problem stops.\\n\\n Timing of Insulin Injections\\n\\nInject your insulin 30 minutes before meals. The insulin will move into your blood to match the rise in the blood sugar level. You should eat regularly throughout the day. This is to avoid a low blood sugar levels caused by the injected insulin.\\n\\nIf you are using a new insulin called Lispro Insulin (Humalog®) you do not have to wait 30 minutes before eating your meal. Lispro insulin is absorbed and goes to work almost immediately after injection.\\n\\n Insulin Usage\\n\\nDiscard the insulin if:\\n\\n- It has expired\\n- There is any contamination of clear (short-acting) insulin\\n- There are any lumps in cloudy (intermediate-acting) insulin that will not dissolve when the bottle is rotated\\n\\nInsulin should be stored in the lower part of the fridge, away from the freezer. You should always keep at least one extra bottle of each type of insulin.\\n\\nSource', mimetype='text/plain', start_char_idx=None, end_char_idx=None, text_template='{metadata_str}\\n\\n{content}', metadata_template='{key}: {value}', metadata_seperator='\\n'),\n",
       " Document(id_='41d4d0ea-437a-47a4-80db-69cdc0a6a541', embedding=None, metadata={'is_table': False, 'source': 'diabetes_treatment__insulin'}, excluded_embed_metadata_keys=[], excluded_llm_metadata_keys=[], relationships={}, text='Diabetes Treatment: Insulin\\n\\nWhen travelling, carry your insulin and syringes with you. Do not put the insulin in your check-in luggage or in your car boot.\\n\\n Insulin Devices\\n\\n Syringes\\n\\nSyringes are used to measure the amount of insulin to be injected. Choose a suitable syringe that best matches the number of units required.\\n\\nA 0.3ml syringe should be used for doses up to 30 units. A 0.5ml syringe should be used for doses up to 50 units. A 1ml syringe can be used for doses up to 100 units. Disposable syringes can be used for the same person up to about two to four times. Between uses, replace the cap and put the syringe in the fridge.\\n\\n Insulin Pens\\n\\nInsulin pens combine both the needle and insulin cartridge into one. Thus, insulin injections become more convenient and you do not have to carry syringes and insulin bottles with you.\\n\\n Insulin Pumps\\n\\nThe insulin pump is a small computerised device that pumps insulin continuously through a fine plastic tube into a site under the skin 24 hours a day. It is just a little larger than a pocket pager.\\n\\nPump users have to monitor their blood sugar frequently so as to make adjustments to the amount of insulin delivered. The insulin pump generally gives you better control and more meal flexibility, but is costlier and requires more frequent blood sugar monitoring.\\n\\n Switching to Insulin from Anti-diabetes Tablets\\n\\nPatients who are switched to insulin from anti-diabetes tablets often worry that their condition must be deteriorating. However, the switch to insulin was made because the diabetes was getting out of control as the tablets were failing to control the patient’s blood sugar — and the insulin will correct that.\\n\\n Insulin Side Effects\\n\\nTaking insulin may result in some side effects. These include:\\n\\n- Low blood sugar\\n- Initial weight gain\\n- Lumpy or scarred tissue from too many injections on the same part of the body\\n- Rashes on the injection site or, in rare cases, all over the body\\n\\nRead these next:\\n\\nhttps://www.healthhub.sg/a-z/diseases-and-conditions/diabetes-treatment-insulin', mimetype='text/plain', start_char_idx=None, end_char_idx=None, text_template='{metadata_str}\\n\\n{content}', metadata_template='{key}: {value}', metadata_seperator='\\n'),\n",
       " Document(id_='e6d7324c-f89d-4ac8-9c8f-df27e0105adf', embedding=None, metadata={'is_table': False, 'source': 'diabetes_treatment__insulin'}, excluded_embed_metadata_keys=[], excluded_llm_metadata_keys=[], relationships={}, text='Diabetes Treatment: Insulin\\n\\n Diabetes Medications\\n\\n Guide to Managing Diabetes', mimetype='text/plain', start_char_idx=None, end_char_idx=None, text_template='{metadata_str}\\n\\n{content}', metadata_template='{key}: {value}', metadata_seperator='\\n'),\n",
       " Document(id_='57a9ee28-c82a-47a2-94e6-0723dea4ea8a', embedding=None, metadata={'is_table': False, 'source': 'diabetes_treatment__insulin'}, excluded_embed_metadata_keys=[], excluded_llm_metadata_keys=[], relationships={}, text='Low blood sugar (hypo) reaction is more likely to occur around the time of maximum action. High blood sugar (hyper) reaction is more likely to occur before the insulin starts acting, or when its action is ending.\\n\\nCombination insulins (Humulin® 30/70, Mixtard®, etc) are mixtures of short and intermediate-acting insulins. These avoid the need for patients to manually mix their insulins. They are normally administered twice a day. Usually, two-thirds of the daily requirement is given in the morning and the remainder in the evening.\\n\\nThis article was last reviewed on Monday, April 19, 2021\\n\\nhttps://www.healthhub.sg/a-z/diseases-and-conditions/diabetes-treatment-insulin', mimetype='text/plain', start_char_idx=None, end_char_idx=None, text_template='{metadata_str}\\n\\n{content}', metadata_template='{key}: {value}', metadata_seperator='\\n'),\n",
       " Document(id_='75be5a96-459c-4cff-9c1f-dc4b2bcf8691', embedding=None, metadata={'is_table': True, 'source': 'diabetes_treatment__insulin'}, excluded_embed_metadata_keys=[], excluded_llm_metadata_keys=[], relationships={}, text='This table provides information about different types of insulin, including rapid-acting, short-acting, intermediate-acting, and long-acting. It details the time of start of action, time of maximum action, and duration of action for various insulin types and brands.,\\nwith the following columns:\\n- Type: None\\n- Time of Start of Action (hours after administration): None\\n- Time of Maximum Action (hours after administration): None\\n- How Long Action lasts (hours after administration): None\\n', mimetype='text/plain', start_char_idx=None, end_char_idx=None, text_template='{metadata_str}\\n\\n{content}', metadata_template='{key}: {value}', metadata_seperator='\\n'),\n",
       " Document(id_='5ef892d9-7554-408c-bfc4-412141b4b4e8', embedding=None, metadata={'is_table': False, 'source': 'diabetes_medications'}, excluded_embed_metadata_keys=[], excluded_llm_metadata_keys=[], relationships={}, text='Diabetes Medications\\n\\nLearn about the different diabetes treatment pills available, the guidelines when taking them and more.\\n\\n Treatment of Diabetes Mellitus: Tablets\\n\\nTreatment of type 2 diabetes begins with diet control. If diet alone is unable to control blood sugar levels, then tablets have to be taken. If both diet and tablets fail to control the blood sugar levels, insulin injections may be needed.\\n\\nOral anti-diabetes tablets are used for treating type 2 diabetes.\\n\\n Tell Your Doctor if You\\n\\n- Are allergic to any medicines\\n- Are pregnant, or intend to become pregnant\\n- Are breastfeeding\\n- Are taking any other medicines\\n- Have any other medical problems\\n\\n Some Guidelines to Follow When Taking Your Diabetes Pill(s)\\n\\n- Know the name and dosage of your diabetic tablet(s).\\n- Do not take more or less than what your doctor ordered.\\n- Take the tablet(s) at the correct times. Do not make any changes to your medication routine without consulting your doctor.\\n- Take your tablet(s) even when you are sick (sometimes the dosage may have to be changed, so do consult your doctor beforehand).\\n- Follow your meal plan. It will help your tablet(s) work better. Careless eating may cause the tablet(s) to lose their effect.\\n- If you miss a dose of the tablet(s), take it as soon as possible unless it is time for your next dose. In that case, do not take the missed dose and do not double the next one.\\n\\nSource', mimetype='text/plain', start_char_idx=None, end_char_idx=None, text_template='{metadata_str}\\n\\n{content}', metadata_template='{key}: {value}', metadata_seperator='\\n'),\n",
       " Document(id_='b557b4f0-e3ab-4c0b-94c9-fb731b2fa05c', embedding=None, metadata={'is_table': False, 'source': 'diabetes_medications'}, excluded_embed_metadata_keys=[], excluded_llm_metadata_keys=[], relationships={}, text=\"Diabetes Medications\\n\\nYou should go back to your regular dosage schedule. Check with your doctor or pharmacist before taking any other medicines, including over-the-counter medicines.\\n\\n Rare Side Effects of Anti-diabetes Tablets\\n\\nPlease inform your doctor if you have the following symptoms:\\n\\n- Dark or coloured urine\\n- Tiredness\\n- Itchy skin or skin rash\\n- Loss of appetite\\n- Light-coloured stools\\n- Unexplained fever and sore throat\\n- Increased sensitivity to sunlight\\n- Diarrhoea\\n- Yellowing of eyes or skin\\n- Nausea or vomiting\\n- Headache\\n\\n Take action:\\n\\nBeat Diabetes Step by Step\\n\\n Are Anti-diabetes Tablets Addictive?\\n\\nYou can never become addicted to anti-diabetes tablets. This is a common misconception among patients who do not like the idea of taking medication long-term.\\n\\nThe right way to think about diabetes medications is this: the tablets are there to do a job. If you take tablets only three days of the week instead of every day as instructed, you can expect your blood sugar to be high on the four days that you do not take the tablets.\\n\\nAnti-diabetes tablets are meant to help keep you well. However, they won't work unless you take them.\\n\\n Read more:\\n\\n- Guide to Managing Diabetes\\n- Diabetes in Childhood and Pregnancy\\n- The Diabetic's Guide to Dessert\\n- How Does Belly Fat Increase Your Risk of Diabetes?\\n\\n Type of Tablet\", mimetype='text/plain', start_char_idx=None, end_char_idx=None, text_template='{metadata_str}\\n\\n{content}', metadata_template='{key}: {value}', metadata_seperator='\\n'),\n",
       " Document(id_='5a0e4f0c-ed65-4bdd-88ac-1d0bb8ce3cb8', embedding=None, metadata={'is_table': False, 'source': 'diabetes_medications'}, excluded_embed_metadata_keys=[], excluded_llm_metadata_keys=[], relationships={}, text='Diabetes Medications\\n\\n Sulphonylureas\\n\\nHelp the pancreas to release more insulin and the body to use glucose more effectively.\\n\\n- Chlorpropamide (Diabinese®)\\n- Glibenclamide (Daonil®)\\n- Gliclazide (Diamicron®)\\n- Tolbutamide (Rastinon®)\\n- Glimepiride (Amaryl®)\\n\\nTake the tablet(s) daily immediately after meals (except Gliclazide which is consumed half an hour before meals). Do not miss or delay meals. Otherwise, your blood sugar level may fall too low.\\n\\nSometimes other tablets (e.g. those for blood pressure) can react with anti-diabetes tablets. If in doubt, talk to your doctor or pharmacist.\\n\\nAlcohol interferes with some of these tablets: consult your pharmacist if you are planning to drink alcohol. For example, having alcohol with Chlorpropamide causes side effects like redness and vomiting.\\n\\n Biguanides\\n\\nHelp the body to use glucose more effectively.\\n\\n- e.g. Metformin (Glucophage®)\\n\\nTake the tablet(s) with meals or after meals.\\n\\n a-glucosidase inhibitors\\n\\nHelp to stop the quick rise of blood glucose after a meal.\\n\\n- e.g. Acarbose (Glucobay®)\\n\\nTake the tablet(s) with the first mouthful or immediately before each of the three main daily meals.\\n\\n Meglitinides\\n\\nHelp the pancreas to release more insulin.\\n\\n- e.g. Repaglinide (Novonorm®)\\n\\nTake the tablet before meals.\\n\\n Thiazolidinediones\\n\\nEnhance insulin action and help the body to use glucose more effectively.\\n\\n- e.g. Rosiglitazone (Avandia®)\\n\\nTake the tablet with or without food.\\n\\nThis article was last reviewed on Tuesday, May 25, 2021\\n\\nSource', mimetype='text/plain', start_char_idx=None, end_char_idx=None, text_template='{metadata_str}\\n\\n{content}', metadata_template='{key}: {value}', metadata_seperator='\\n'),\n",
       " Document(id_='822c23c2-3078-40a0-a5c4-2520d66f1a72', embedding=None, metadata={'is_table': True, 'source': 'diabetes_medications'}, excluded_embed_metadata_keys=[], excluded_llm_metadata_keys=[], relationships={}, text='This table appears to be empty, containing only column headers without any data rows.,\\nwith the following columns:\\n- Type of Tablet: None\\n- Action: None\\n- Comment: None\\n', mimetype='text/plain', start_char_idx=None, end_char_idx=None, text_template='{metadata_str}\\n\\n{content}', metadata_template='{key}: {value}', metadata_seperator='\\n')]"
      ]
     },
     "execution_count": 40,
     "metadata": {},
     "output_type": "execute_result"
    }
   ],
   "source": [
    "doc_list"
   ]
  },
  {
   "cell_type": "markdown",
   "metadata": {},
   "source": [
    "### Recursive splitting for longer texts"
   ]
  },
  {
   "cell_type": "code",
   "execution_count": 41,
   "metadata": {},
   "outputs": [],
   "source": [
    "LONG_CHUNK_SIZE = 2000\n",
    "\n",
    "def further_split_long_docs(doc_list: List[Document]) -> Tuple[List[Document], List[Document]]:\n",
    "    long_docs, short_docs = [], []\n",
    "    for doc in doc_list:\n",
    "        is_table = doc.metadata[\"is_table\"]\n",
    "        if not is_table:\n",
    "            if len(doc.text) > LONG_CHUNK_SIZE:\n",
    "                long_docs.append(doc)\n",
    "            else:\n",
    "                short_docs.append(doc)\n",
    "        else:\n",
    "            short_docs.append(doc)\n",
    "    return long_docs, short_docs\n",
    "\n",
    "long_docs, short_docs = further_split_long_docs(doc_list)"
   ]
  },
  {
   "cell_type": "code",
   "execution_count": 42,
   "metadata": {},
   "outputs": [],
   "source": [
    "def chunk_doc(doc: Document, text_splitter: RecursiveCharacterTextSplitter) -> List[Document]:\n",
    "    chunks = text_splitter.split_text(doc.text)\n",
    "    return [\n",
    "        Document(\n",
    "            text=chunk,\n",
    "            metadata={\n",
    "                'is_table': doc.metadata['is_table'],\n",
    "                'source': doc.metadata.get('source', '')\n",
    "            }\n",
    "        )\n",
    "        for i, chunk in enumerate(chunks)\n",
    "    ]\n",
    "    \n",
    "def recursive_chunk_documents(long_docs: List[Document],\n",
    "                              short_docs: List[Document], \n",
    "                              chunk_size: int = 1024, \n",
    "                              chunk_overlap: int = 128,\n",
    "                              separators: List[str] = [\"\\n\\n\", \"\\n\", \" \", \"\"]) -> List[Document]:\n",
    "    \n",
    "    text_splitter = RecursiveCharacterTextSplitter(\n",
    "        chunk_size=chunk_size,\n",
    "        chunk_overlap=chunk_overlap,\n",
    "        separators=separators\n",
    "    )\n",
    "\n",
    "    for doc in long_docs:\n",
    "        short_docs.extend(chunk_doc(doc, text_splitter))\n",
    "\n",
    "    return short_docs"
   ]
  },
  {
   "cell_type": "code",
   "execution_count": 43,
   "metadata": {},
   "outputs": [],
   "source": [
    "final_docs = recursive_chunk_documents(long_docs, short_docs)"
   ]
  },
  {
   "cell_type": "code",
   "execution_count": 44,
   "metadata": {},
   "outputs": [
    {
     "data": {
      "text/plain": [
       "[Document(id_='c5007184-5a14-48c2-b267-df334bae0e90', embedding=None, metadata={'is_table': False, 'source': 'diabetic_foot_ulcer__symptoms_and_treatment'}, excluded_embed_metadata_keys=[], excluded_llm_metadata_keys=[], relationships={}, text='Diabetic Foot Ulcer: Symptoms and Treatment\\n\\n What causes diabetic ulcers?\\n\\nHere’s what you need to know in terms of self-care, prevention, and the treatment of diabetic ulcer.\\n\\n What Is a Diabetic Ulcer?\\n\\nA diabetic ulcer is an open sore or wound resulting from poor circulation or lack of sensation due to nerve damage caused by elevated blood glucose levels.\\n\\nThe legs and feet are most at risk for these ulcers. Diabetes makes it hard for the body to heal itself, increasing the risk of wounds becoming chronic and raising the risk of infection.\\n\\nSignificantly, nonhealing diabetic ulcers result in a large number of amputations in Singapore. About two major limb amputations are carried out daily to remove lower limbs affected by diabetes-related ulcers or gangrene.\\n\\n Diabetic Ulcer Prevention\\n\\nTo reduce the risk of wounds, regular foot care is important for those with diabetes. Take these steps to reduce foot injuries and wounds:\\n\\n- Check your feet every day for red spots, cuts, swelling or blisters.\\n- Use a mirror or get help to inspect the bottom of your feet.\\n- Wash your feet every day and dry them carefully, especially between the toes.\\n- Moisturise your feet daily, ideally after washing, to keep the skin soft and smooth.\\n- Massage a thin coat of lotion over the top and bottom of your feet, but not between the toes as the skin is thinner and more prone to splitting.\\n- File away hard skin patches on the sole of the feet or toes at least once a week to prevent foot ulcers from forming underneath.\\n- Keep toenails trimmed to prevent them from cutting into your toes.\\n- Cut toenails straight across and file the edges, never into the sides as this causes ingrown nails.\\n- Always wear shoes and socks, and never walk barefoot to prevent injuries.\\n- Ensure shoes are comfortable and fit well.\\n\\nSource', mimetype='text/plain', start_char_idx=None, end_char_idx=None, text_template='{metadata_str}\\n\\n{content}', metadata_template='{key}: {value}', metadata_seperator='\\n'),\n",
       " Document(id_='9607d426-1a44-4fa2-859d-be3b693f2784', embedding=None, metadata={'is_table': False, 'source': 'diabetic_foot_ulcer__symptoms_and_treatment'}, excluded_embed_metadata_keys=[], excluded_llm_metadata_keys=[], relationships={}, text='Diabetic Foot Ulcer: Symptoms and Treatment\\n\\n- Maintain good blood circulation to the feet by putting your feet up when sitting, and by wiggling your toes and moving your ankles for at least five minutes, two to three times a day.\\n- Don\\'t cross your legs for long periods of time.\\n- Don’t smoke. Smoking does great harm to blood circulation and increases the risk of many diseases.\\n\\nIf you are diabetic, regular foot examinations are important to prevent foot and leg ulcers, and to ensure your feet are in good health. Your podiatrist will check for:\\n\\n- Any loss of sensation\\n- The level of blood flow to the feet\\n- Any changes in the shape of your foot to assess the development of pressure points\\n\\nAll these will help detect changes in any foot condition, and will help ensure that early preventive treatment or management can be given to prevent wounds from occurring or getting worse.\\n\\nThis article titled \"Sole Saviours\" was first published in ONEHealth Magazine, Issue 6, 2015.\\n\\n Read these next:\\n\\n- Diabetes Medications\\n- Skin disease in diabetes mellitus\\n- Diabetes foot screening\\n\\nThis article was last reviewed on Friday, November 22, 2019\\n\\nhttps://www.healthhub.sg/a-z/diseases-and-conditions/diabetic-ulcer', mimetype='text/plain', start_char_idx=None, end_char_idx=None, text_template='{metadata_str}\\n\\n{content}', metadata_template='{key}: {value}', metadata_seperator='\\n'),\n",
       " Document(id_='74b610b2-c8a1-41ff-8d9c-27334fbd9898', embedding=None, metadata={'is_table': False, 'source': 'managing-pre-diabetes-(updated-on-27-jul-2021)c2bfc77474154c2abf623156a4b93002'}, excluded_embed_metadata_keys=[], excluded_llm_metadata_keys=[], relationships={}, text='Appropriate Care Guide (ACG)\\n\\n Managing pre-diabetes\\n\\nFirst Published: 3 July 2017\\n\\nLast updated: 27 July 2021\\n\\n Key messages\\n\\n1. Pre-diabetes is asymptomatic but puts a person at high risk of developing type 2 diabetes mellitus (T2DM) and cardiovascular disease (CVD).\\n2. Early diagnosis, appropriate management and follow-up help to prevent or delay T2DM in persons with pre-diabetes.\\n3. Recommend lifestyle intervention to all persons with pre-diabetes.\\n4. Tailor lifestyle intervention to individual needs for sustained behavioural changes.\\n5. Consider metformin for persons with pre-diabetes when:\\n- glycaemic status does not improve despite lifestyle intervention OR\\n- they are unable to adopt lifestyle intervention, especially if persons outlined in the two points above have a body mass index (BMI) of ≥ 23 kg/m2, are younger than 60 years of age, or are women with a history of gestational diabetes.\\n\\n Preventing or delaying the progression to T2DM\\n\\nPre-diabetes is defined by glycaemic levels that are higher than normal, but lower than diabetes thresholds. Pre-diabetes is asymptomatic but predisposes individuals to T2DM and CVD. Around 14% of Singaporeans have impaired glucose tolerance and without lifestyle changes, at least 35% of persons with pre-diabetes in Singapore will progress to T2DM within eight years.1,2 There is a pressing need to address pre-diabetes as part of the efforts to reduce the impact of T2DM and CVD.\\n\\nEducation increases awareness of pre-diabetes and enables individuals to adopt lifestyle changes.\\n\\nMINISTRY OF HEALTH\\n\\nAcademy of Medicine, Singapore\\n\\nCollege of Family Physicians Singapore\\n\\nChapter of Endocrinologists, CPS\\n\\nChapter of Family Medicine Physicians\\n\\nChapter of General Physicians, CPS', mimetype='text/plain', start_char_idx=None, end_char_idx=None, text_template='{metadata_str}\\n\\n{content}', metadata_template='{key}: {value}', metadata_seperator='\\n'),\n",
       " Document(id_='4feb9b48-8596-40d2-af39-4ab8be3228ce', embedding=None, metadata={'is_table': False, 'source': 'managing-pre-diabetes-(updated-on-27-jul-2021)c2bfc77474154c2abf623156a4b93002'}, excluded_embed_metadata_keys=[], excluded_llm_metadata_keys=[], relationships={}, text='Diagnosis of pre-diabetes\\n\\n 1\\n\\nIn Singapore, glucose thresholds in Table 1 below are used to diagnose pre-diabetes (impaired fasting glucose or impaired glucose tolerance).', mimetype='text/plain', start_char_idx=None, end_char_idx=None, text_template='{metadata_str}\\n\\n{content}', metadata_template='{key}: {value}', metadata_seperator='\\n'),\n",
       " Document(id_='94a48020-6378-4ec4-969b-45d5f3527492', embedding=None, metadata={'is_table': False, 'source': 'managing-pre-diabetes-(updated-on-27-jul-2021)c2bfc77474154c2abf623156a4b93002'}, excluded_embed_metadata_keys=[], excluded_llm_metadata_keys=[], relationships={}, text='Figure 1. Pathway for managing pre-diabetes\\n\\n DIAGNOSIS OF PRE-DIABETES\\n\\nIFG: FPG 6.1–6.9 and 2-hG < 7.8 mmol/L OR Screen for CVD risk factors, including hypertension and dyslipidaemia.\\n\\nIGT: FPG < 7.0 and 2-hG 7.8–11.0 mmol/L', mimetype='text/plain', start_char_idx=None, end_char_idx=None, text_template='{metadata_str}\\n\\n{content}', metadata_template='{key}: {value}', metadata_seperator='\\n'),\n",
       " Document(id_='28d2e176-4593-407c-af57-931fa5989d6c', embedding=None, metadata={'is_table': False, 'source': 'managing-pre-diabetes-(updated-on-27-jul-2021)c2bfc77474154c2abf623156a4b93002'}, excluded_embed_metadata_keys=[], excluded_llm_metadata_keys=[], relationships={}, text='2-hG, 2-hour post-load glucose; BMI, body mass index; CVD, cardiovascular disease; FPG, fasting plasma glucose; HbA1c, glycated haemoglobin; IFG, impaired fasting glucose; IGT, impaired glucose tolerance; OGTT, oral glucose tolerance test; T2DM, type 2 diabetes mellitus\\n\\n** If FPG ≥ 7.0 mmol/L, 2-hG ≥ 11.1 mmol/L, or HbA1c ≥ 7%, proceed to manage as per T2DM.\\n\\n†† If HbA1c ≥ 7%, proceed to manage as per T2DM. If HbA1c does not improve and < 7%, consider investigating for T2DM with FPG or OGTT after a metformin washout period (such as 1–2 weeks).', mimetype='text/plain', start_char_idx=None, end_char_idx=None, text_template='{metadata_str}\\n\\n{content}', metadata_template='{key}: {value}', metadata_seperator='\\n'),\n",
       " Document(id_='ea7bf42d-9b44-428f-b576-ca3ee633dacc', embedding=None, metadata={'is_table': False, 'source': 'managing-pre-diabetes-(updated-on-27-jul-2021)c2bfc77474154c2abf623156a4b93002'}, excluded_embed_metadata_keys=[], excluded_llm_metadata_keys=[], relationships={}, text='Overview of lifestyle intervention in pre-diabetes\\n\\n Role of lifestyle intervention\\n\\nLifestyle intervention reduces the risk of developing T2DM by 31 to 37% over 2 to 6 years for those who are overweight or obese, aim to gradually achieve and maintain a BMI of &lt; 23 kg/m2 or a 5 to 10% body weight loss.\\n\\n Ways to implement lifestyle intervention', mimetype='text/plain', start_char_idx=None, end_char_idx=None, text_template='{metadata_str}\\n\\n{content}', metadata_template='{key}: {value}', metadata_seperator='\\n'),\n",
       " Document(id_='6506b5bb-2756-4a31-a135-093d1420be6a', embedding=None, metadata={'is_table': False, 'source': 'managing-pre-diabetes-(updated-on-27-jul-2021)c2bfc77474154c2abf623156a4b93002'}, excluded_embed_metadata_keys=[], excluded_llm_metadata_keys=[], relationships={}, text='SAY NO\\n\\n1 DAY\\n\\n1 standard drink = 330 mL of beer = 100 mL of wine = 30 mL of spirits or hard liquor\\n\\n Limit alcohol intake', mimetype='text/plain', start_char_idx=None, end_char_idx=None, text_template='{metadata_str}\\n\\n{content}', metadata_template='{key}: {value}', metadata_seperator='\\n'),\n",
       " Document(id_='6bd2aedb-bbf1-4adb-8336-65bba0308451', embedding=None, metadata={'is_table': False, 'source': 'managing-pre-diabetes-(updated-on-27-jul-2021)c2bfc77474154c2abf623156a4b93002'}, excluded_embed_metadata_keys=[], excluded_llm_metadata_keys=[], relationships={}, text='Physical activity\\n\\n&gt;= 150 minutes per week of moderate-intensity exercise, such as brisk walking or leisure cycling (<16 km/hr)\\n\\n&gt;= 75 minutes per week of vigorous-intensity exercise, such as jogging or fast-paced cycling (≥ 16 km/hr)\\n\\nNo more than two consecutive days without exercise\\n\\n Other modifications\\n\\nSmoking cessation\\n\\n How to sustain lifestyle changes\\n\\nTailor lifestyle intervention to individual needs\\n\\nReinforce behavioural changes by encouraging a regular log of:', mimetype='text/plain', start_char_idx=None, end_char_idx=None, text_template='{metadata_str}\\n\\n{content}', metadata_template='{key}: {value}', metadata_seperator='\\n'),\n",
       " Document(id_='afeb0d05-8a7c-4fea-a18a-a99c8625c856', embedding=None, metadata={'is_table': True, 'source': 'managing-pre-diabetes-(updated-on-27-jul-2021)c2bfc77474154c2abf623156a4b93002'}, excluded_embed_metadata_keys=[], excluded_llm_metadata_keys=[], relationships={}, text='This table shows the diagnostic criteria for pre-diabetes, comparing Impaired Fasting Glucose (IFG) and Impaired Glucose Tolerance (IGT) based on fasting plasma glucose and 2-hour post-load glucose levels.,\\nwith the following columns:\\n- Pre-diabetes: Types of pre-diabetes: IFG and IGT\\n- Fasting plasma glucose (mmol/L): Fasting plasma glucose levels for IFG and IGT\\n- 2-hr post-load glucose (mmol/L)*: 2-hour post-load glucose levels for IFG and IGT\\n', mimetype='text/plain', start_char_idx=None, end_char_idx=None, text_template='{metadata_str}\\n\\n{content}', metadata_template='{key}: {value}', metadata_seperator='\\n'),\n",
       " Document(id_='e699fec2-b693-4ff5-8001-1243ffdca28c', embedding=None, metadata={'is_table': True, 'source': 'managing-pre-diabetes-(updated-on-27-jul-2021)c2bfc77474154c2abf623156a4b93002'}, excluded_embed_metadata_keys=[], excluded_llm_metadata_keys=[], relationships={}, text='This table outlines the management approach for individuals with pre-diabetes, including lifestyle interventions, regular follow-ups, and the potential addition of metformin. It provides detailed steps for each stage of care, from initial education to ongoing monitoring and medication management.,\\nwith the following columns:\\n- All persons with pre-diabetes: Initial steps for managing pre-diabetes\\n- LIFESTYLE INTERVENTION: Specific lifestyle changes recommended\\n- REGULAR FOLLOW-UP: Follow-up procedures for lifestyle intervention\\n- ADD METFORMIN: Guidelines for adding metformin treatment\\n- REGULAR FOLLOW-UP: Follow-up procedures for metformin treatment\\n', mimetype='text/plain', start_char_idx=None, end_char_idx=None, text_template='{metadata_str}\\n\\n{content}', metadata_template='{key}: {value}', metadata_seperator='\\n'),\n",
       " Document(id_='75e23740-a99c-442a-9d6c-4a24e959db6b', embedding=None, metadata={'is_table': True, 'source': 'managing-pre-diabetes-(updated-on-27-jul-2021)c2bfc77474154c2abf623156a4b93002'}, excluded_embed_metadata_keys=[], excluded_llm_metadata_keys=[], relationships={}, text='This table presents guidelines for a balanced diet, showing the recommended portions of different food groups on a healthy plate.,\\nwith the following columns:\\n- Diet: None\\n- Portion a healthy plate: None\\n', mimetype='text/plain', start_char_idx=None, end_char_idx=None, text_template='{metadata_str}\\n\\n{content}', metadata_template='{key}: {value}', metadata_seperator='\\n'),\n",
       " Document(id_='c6f5ed30-19ab-4c0b-8d6c-0cfa419f1cfb', embedding=None, metadata={'is_table': True, 'source': 'managing-pre-diabetes-(updated-on-27-jul-2021)c2bfc77474154c2abf623156a4b93002'}, excluded_embed_metadata_keys=[], excluded_llm_metadata_keys=[], relationships={}, text='This table appears to be a comparison between females and males, but it lacks any data or content in the cells.,\\nwith the following columns:\\n- Female: None\\n- Male: None\\n', mimetype='text/plain', start_char_idx=None, end_char_idx=None, text_template='{metadata_str}\\n\\n{content}', metadata_template='{key}: {value}', metadata_seperator='\\n'),\n",
       " Document(id_='d3e919f9-f727-4edc-815c-f6a825ec2cf6', embedding=None, metadata={'is_table': True, 'source': 'managing-pre-diabetes-(updated-on-27-jul-2021)c2bfc77474154c2abf623156a4b93002'}, excluded_embed_metadata_keys=[], excluded_llm_metadata_keys=[], relationships={}, text='Empty table with columns for personal health and lifestyle factors,\\nwith the following columns:\\n- Preference: None\\n- Budget: None\\n- Physical condition: None\\n- Work nature: None\\n- Diet: None\\n- Exercise: None\\n- Weight: None\\n', mimetype='text/plain', start_char_idx=None, end_char_idx=None, text_template='{metadata_str}\\n\\n{content}', metadata_template='{key}: {value}', metadata_seperator='\\n'),\n",
       " Document(id_='df2a2460-9b12-4f92-b2de-19aaf326bb59', embedding=None, metadata={'is_table': False, 'source': 'diabetes_treatment__insulin'}, excluded_embed_metadata_keys=[], excluded_llm_metadata_keys=[], relationships={}, text='Diabetes Treatment: Insulin\\n\\nWhen you have diabetes, you may need to learn how to inject yourself with insulin.\\n\\n What is Insulin?\\n\\nInsulin is a hormone produced by the pancreas and released into our body cells to allow them to convert blood glucose (sugar) for energy. Food is converted into glucose before it is absorbed into our bloodstream. The function of insulin is to move the glucose from the bloodstream into the body cells for use or storage. People with diabetes are unable to fully use the glucose in their bloodstream either because they lack insulin in the body or insulin is ineffective for them.\\n\\n Insulin Therapy\\n\\nTreatment for type 1 diabetes involves dietary control and insulin injections. Some patients with type 2 diabetes may also require insulin injections. Insulin is not effective if taken by mouth, and has to be injected.\\n\\n You must know how to:\\n\\n- Measure your insulin dose\\n- Inject yourself (and not rely on others)\\n- Adapt your diet and activity to your insulin injections\\n\\n Types of Insulin\\n\\nThere are several types of insulin. They differ in how quickly they start to lower your blood glucose, the time taken to reach their highest activity, and how long they continue to work.\\n\\n How to Inject Insulin\\n\\nKnowing where to inject your insulin will make the injection easier, safer and more comfortable. Insulin is injected into the fatty area under the skin. After insulin is injected, it\\n\\nSource', mimetype='text/plain', start_char_idx=None, end_char_idx=None, text_template='{metadata_str}\\n\\n{content}', metadata_template='{key}: {value}', metadata_seperator='\\n'),\n",
       " Document(id_='e6d7324c-f89d-4ac8-9c8f-df27e0105adf', embedding=None, metadata={'is_table': False, 'source': 'diabetes_treatment__insulin'}, excluded_embed_metadata_keys=[], excluded_llm_metadata_keys=[], relationships={}, text='Diabetes Treatment: Insulin\\n\\n Diabetes Medications\\n\\n Guide to Managing Diabetes', mimetype='text/plain', start_char_idx=None, end_char_idx=None, text_template='{metadata_str}\\n\\n{content}', metadata_template='{key}: {value}', metadata_seperator='\\n'),\n",
       " Document(id_='57a9ee28-c82a-47a2-94e6-0723dea4ea8a', embedding=None, metadata={'is_table': False, 'source': 'diabetes_treatment__insulin'}, excluded_embed_metadata_keys=[], excluded_llm_metadata_keys=[], relationships={}, text='Low blood sugar (hypo) reaction is more likely to occur around the time of maximum action. High blood sugar (hyper) reaction is more likely to occur before the insulin starts acting, or when its action is ending.\\n\\nCombination insulins (Humulin® 30/70, Mixtard®, etc) are mixtures of short and intermediate-acting insulins. These avoid the need for patients to manually mix their insulins. They are normally administered twice a day. Usually, two-thirds of the daily requirement is given in the morning and the remainder in the evening.\\n\\nThis article was last reviewed on Monday, April 19, 2021\\n\\nhttps://www.healthhub.sg/a-z/diseases-and-conditions/diabetes-treatment-insulin', mimetype='text/plain', start_char_idx=None, end_char_idx=None, text_template='{metadata_str}\\n\\n{content}', metadata_template='{key}: {value}', metadata_seperator='\\n'),\n",
       " Document(id_='75be5a96-459c-4cff-9c1f-dc4b2bcf8691', embedding=None, metadata={'is_table': True, 'source': 'diabetes_treatment__insulin'}, excluded_embed_metadata_keys=[], excluded_llm_metadata_keys=[], relationships={}, text='This table provides information about different types of insulin, including rapid-acting, short-acting, intermediate-acting, and long-acting. It details the time of start of action, time of maximum action, and duration of action for various insulin types and brands.,\\nwith the following columns:\\n- Type: None\\n- Time of Start of Action (hours after administration): None\\n- Time of Maximum Action (hours after administration): None\\n- How Long Action lasts (hours after administration): None\\n', mimetype='text/plain', start_char_idx=None, end_char_idx=None, text_template='{metadata_str}\\n\\n{content}', metadata_template='{key}: {value}', metadata_seperator='\\n'),\n",
       " Document(id_='5ef892d9-7554-408c-bfc4-412141b4b4e8', embedding=None, metadata={'is_table': False, 'source': 'diabetes_medications'}, excluded_embed_metadata_keys=[], excluded_llm_metadata_keys=[], relationships={}, text='Diabetes Medications\\n\\nLearn about the different diabetes treatment pills available, the guidelines when taking them and more.\\n\\n Treatment of Diabetes Mellitus: Tablets\\n\\nTreatment of type 2 diabetes begins with diet control. If diet alone is unable to control blood sugar levels, then tablets have to be taken. If both diet and tablets fail to control the blood sugar levels, insulin injections may be needed.\\n\\nOral anti-diabetes tablets are used for treating type 2 diabetes.\\n\\n Tell Your Doctor if You\\n\\n- Are allergic to any medicines\\n- Are pregnant, or intend to become pregnant\\n- Are breastfeeding\\n- Are taking any other medicines\\n- Have any other medical problems\\n\\n Some Guidelines to Follow When Taking Your Diabetes Pill(s)\\n\\n- Know the name and dosage of your diabetic tablet(s).\\n- Do not take more or less than what your doctor ordered.\\n- Take the tablet(s) at the correct times. Do not make any changes to your medication routine without consulting your doctor.\\n- Take your tablet(s) even when you are sick (sometimes the dosage may have to be changed, so do consult your doctor beforehand).\\n- Follow your meal plan. It will help your tablet(s) work better. Careless eating may cause the tablet(s) to lose their effect.\\n- If you miss a dose of the tablet(s), take it as soon as possible unless it is time for your next dose. In that case, do not take the missed dose and do not double the next one.\\n\\nSource', mimetype='text/plain', start_char_idx=None, end_char_idx=None, text_template='{metadata_str}\\n\\n{content}', metadata_template='{key}: {value}', metadata_seperator='\\n'),\n",
       " Document(id_='b557b4f0-e3ab-4c0b-94c9-fb731b2fa05c', embedding=None, metadata={'is_table': False, 'source': 'diabetes_medications'}, excluded_embed_metadata_keys=[], excluded_llm_metadata_keys=[], relationships={}, text=\"Diabetes Medications\\n\\nYou should go back to your regular dosage schedule. Check with your doctor or pharmacist before taking any other medicines, including over-the-counter medicines.\\n\\n Rare Side Effects of Anti-diabetes Tablets\\n\\nPlease inform your doctor if you have the following symptoms:\\n\\n- Dark or coloured urine\\n- Tiredness\\n- Itchy skin or skin rash\\n- Loss of appetite\\n- Light-coloured stools\\n- Unexplained fever and sore throat\\n- Increased sensitivity to sunlight\\n- Diarrhoea\\n- Yellowing of eyes or skin\\n- Nausea or vomiting\\n- Headache\\n\\n Take action:\\n\\nBeat Diabetes Step by Step\\n\\n Are Anti-diabetes Tablets Addictive?\\n\\nYou can never become addicted to anti-diabetes tablets. This is a common misconception among patients who do not like the idea of taking medication long-term.\\n\\nThe right way to think about diabetes medications is this: the tablets are there to do a job. If you take tablets only three days of the week instead of every day as instructed, you can expect your blood sugar to be high on the four days that you do not take the tablets.\\n\\nAnti-diabetes tablets are meant to help keep you well. However, they won't work unless you take them.\\n\\n Read more:\\n\\n- Guide to Managing Diabetes\\n- Diabetes in Childhood and Pregnancy\\n- The Diabetic's Guide to Dessert\\n- How Does Belly Fat Increase Your Risk of Diabetes?\\n\\n Type of Tablet\", mimetype='text/plain', start_char_idx=None, end_char_idx=None, text_template='{metadata_str}\\n\\n{content}', metadata_template='{key}: {value}', metadata_seperator='\\n'),\n",
       " Document(id_='5a0e4f0c-ed65-4bdd-88ac-1d0bb8ce3cb8', embedding=None, metadata={'is_table': False, 'source': 'diabetes_medications'}, excluded_embed_metadata_keys=[], excluded_llm_metadata_keys=[], relationships={}, text='Diabetes Medications\\n\\n Sulphonylureas\\n\\nHelp the pancreas to release more insulin and the body to use glucose more effectively.\\n\\n- Chlorpropamide (Diabinese®)\\n- Glibenclamide (Daonil®)\\n- Gliclazide (Diamicron®)\\n- Tolbutamide (Rastinon®)\\n- Glimepiride (Amaryl®)\\n\\nTake the tablet(s) daily immediately after meals (except Gliclazide which is consumed half an hour before meals). Do not miss or delay meals. Otherwise, your blood sugar level may fall too low.\\n\\nSometimes other tablets (e.g. those for blood pressure) can react with anti-diabetes tablets. If in doubt, talk to your doctor or pharmacist.\\n\\nAlcohol interferes with some of these tablets: consult your pharmacist if you are planning to drink alcohol. For example, having alcohol with Chlorpropamide causes side effects like redness and vomiting.\\n\\n Biguanides\\n\\nHelp the body to use glucose more effectively.\\n\\n- e.g. Metformin (Glucophage®)\\n\\nTake the tablet(s) with meals or after meals.\\n\\n a-glucosidase inhibitors\\n\\nHelp to stop the quick rise of blood glucose after a meal.\\n\\n- e.g. Acarbose (Glucobay®)\\n\\nTake the tablet(s) with the first mouthful or immediately before each of the three main daily meals.\\n\\n Meglitinides\\n\\nHelp the pancreas to release more insulin.\\n\\n- e.g. Repaglinide (Novonorm®)\\n\\nTake the tablet before meals.\\n\\n Thiazolidinediones\\n\\nEnhance insulin action and help the body to use glucose more effectively.\\n\\n- e.g. Rosiglitazone (Avandia®)\\n\\nTake the tablet with or without food.\\n\\nThis article was last reviewed on Tuesday, May 25, 2021\\n\\nSource', mimetype='text/plain', start_char_idx=None, end_char_idx=None, text_template='{metadata_str}\\n\\n{content}', metadata_template='{key}: {value}', metadata_seperator='\\n'),\n",
       " Document(id_='822c23c2-3078-40a0-a5c4-2520d66f1a72', embedding=None, metadata={'is_table': True, 'source': 'diabetes_medications'}, excluded_embed_metadata_keys=[], excluded_llm_metadata_keys=[], relationships={}, text='This table appears to be empty, containing only column headers without any data rows.,\\nwith the following columns:\\n- Type of Tablet: None\\n- Action: None\\n- Comment: None\\n', mimetype='text/plain', start_char_idx=None, end_char_idx=None, text_template='{metadata_str}\\n\\n{content}', metadata_template='{key}: {value}', metadata_seperator='\\n'),\n",
       " Document(id_='42c0dc66-f137-4e54-b8dd-c5e323bbf672', embedding=None, metadata={'is_table': False, 'source': 'managing-pre-diabetes-(updated-on-27-jul-2021)c2bfc77474154c2abf623156a4b93002'}, excluded_embed_metadata_keys=[], excluded_llm_metadata_keys=[], relationships={}, text='IFG, impaired fasting glucose; IGT, impaired glucose tolerance\\n\\n Instructions on lifestyle intervention\\n\\nConvey the following points to persons with pre-diabetes during consultations.\\n\\n Healthy diet\\n\\nPortion a healthy plate\\n\\n- Fill half the plate with vegetables and a small portion of fruits.\\n- Fill a quarter of the plate with lean meat, fish, poultry (skinless), eggs, low-fat dairy or soy products.\\n- Fill a quarter of the plate with whole grains, such as brown rice, rolled oats, whole grain bread or cereals.\\n\\nIn Singapore, glycated haemoglobin (HbA1c) is not currently indicated as a diagnostic test for pre-diabetes.†\\n\\n Lifestyle intervention\\n\\nLifestyle intervention is recommended for all persons with pre-diabetes, as adopting a healthy diet and increased physical activity reduces the risk of them developing T2DM by 31 to 37% over 2 to 6 years, and is cost-effective.3-5\\n\\nFor those who are overweight or obese, aim to gradually achieve and maintain a BMI of &lt; 23 kg/m2 or a 5 to 10% body weight loss.', mimetype='text/plain', start_char_idx=None, end_char_idx=None, text_template='{metadata_str}\\n\\n{content}', metadata_template='{key}: {value}', metadata_seperator='\\n'),\n",
       " Document(id_='5fb025e5-51e3-4dd4-8b28-f630b302cf6c', embedding=None, metadata={'is_table': False, 'source': 'managing-pre-diabetes-(updated-on-27-jul-2021)c2bfc77474154c2abf623156a4b93002'}, excluded_embed_metadata_keys=[], excluded_llm_metadata_keys=[], relationships={}, text='Smokers are advised to stop smoking, as smoking impairs glucose metabolism, insulin sensitivity and secretion.6\\n\\n Healthy diet\\n\\nA healthy and balanced diet plays a key role in preventing or delaying the progression to T2DM in persons with pre-diabetes.7-12\\n\\nAdvise those who are overweight or obese to achieve weight loss by implementing a negative caloric balance.\\n\\n Increased physical activity\\n\\nObesity and a sedentary lifestyle are major risk factors for developing T2DM and can be modified by an increase in physical activity.7-12\\n\\n Eat less fat\\n\\n- Avoid pastries, fried food, and food containing coconut milk or cream.\\n- Use less oil when cooking and use healthier oils (such as sunflower oil, rice bran oil, olive oil) instead of butter, ghee, or palm oil.\\n\\n Limit alcohol intake\\n\\n- No more than one standard drink‡ per day for female.\\n- No more than two standard drinks‡ per day for male.\\n\\n Increased physical activity', mimetype='text/plain', start_char_idx=None, end_char_idx=None, text_template='{metadata_str}\\n\\n{content}', metadata_template='{key}: {value}', metadata_seperator='\\n'),\n",
       " Document(id_='b1c30f9b-c30a-4156-9e67-c0d5dd30cd9c', embedding=None, metadata={'is_table': False, 'source': 'managing-pre-diabetes-(updated-on-27-jul-2021)c2bfc77474154c2abf623156a4b93002'}, excluded_embed_metadata_keys=[], excluded_llm_metadata_keys=[], relationships={}, text='Increased physical activity\\n\\n- Perform at least 150 minutes of moderate-intensity exercise (such as brisk walking, leisure cycling), or 75 minutes of vigorous-intensity exercise (such as jogging, fast-paced cycling, swimming laps) every week.\\n- Avoid more than two consecutive days without exercise.\\n- Engage in exercises that require intensity and that accelerate the heart rate.\\n\\nPedometers or fitness trackers allow progress to be monitored over time and may provide additional motivation.13\\n\\n* 2-hour 75-g oral glucose tolerance test (OGTT).\\n\\n† For more information on HbA1c as a screening test for diabetes mellitus in Singapore, please refer to the Ministry of Health Circular No. 08/2019.\\n\\n‡ A standard drink is one can (330 mL) of beer, half a glass (100 mL) of wine, or one nip (30 mL) of spirits or hard liquor.', mimetype='text/plain', start_char_idx=None, end_char_idx=None, text_template='{metadata_str}\\n\\n{content}', metadata_template='{key}: {value}', metadata_seperator='\\n'),\n",
       " Document(id_='ae957e7b-bec4-40f7-ad38-66d6aa90c12e', embedding=None, metadata={'is_table': False, 'source': 'managing-pre-diabetes-(updated-on-27-jul-2021)c2bfc77474154c2abf623156a4b93002'}, excluded_embed_metadata_keys=[], excluded_llm_metadata_keys=[], relationships={}, text='Sustained behavioural changes\\n\\n Providing information without individualised advice\\n\\nmay not be sufficient to bring about robust and sustained lifestyle changes. Lifestyle intervention should therefore be tailored to each person’s needs and continuously encouraged.14\\n\\n Pharmacotherapy\\n\\nPharmacotherapy for pre-diabetes is less effective than lifestyle changes and may be considered after a trial of intensive lifestyle intervention.9,15 Discuss the benefits, side effects, and cost before commencing treatment.\\n\\n Tailor lifestyle intervention to individual needs\\n\\n- Assess lifestyle (such as diet and physical activity preferences, work nature, physical or budget constraints).\\n- Identify areas for improvement towards a healthier lifestyle.\\n- Provide advice on practical and sustainable lifestyle changes that fit into daily activities.\\n\\n Reinforce behavioural changes continuously', mimetype='text/plain', start_char_idx=None, end_char_idx=None, text_template='{metadata_str}\\n\\n{content}', metadata_template='{key}: {value}', metadata_seperator='\\n'),\n",
       " Document(id_='e176d216-a7c8-43c1-952f-c360b73eb05f', embedding=None, metadata={'is_table': False, 'source': 'managing-pre-diabetes-(updated-on-27-jul-2021)c2bfc77474154c2abf623156a4b93002'}, excluded_embed_metadata_keys=[], excluded_llm_metadata_keys=[], relationships={}, text='Reinforce behavioural changes continuously\\n\\n- Encourage persons with pre-diabetes to keep a log of their diet, exercise, and weight.\\n- Advise them to visit the HealthHub website (by scanning the QR code below) to find out more about pre-diabetes and associated lifestyle change programmes. They can also download the HealthHub SG and HealthHub Track applications (App Store or Google Play Store).\\n- Supplement verbal advice with written information.\\n\\n Scan the QR code to access pre-diabetes information on the HealthHub website\\n\\n Indication, dosing regimen, and side effects of metformin for pre-diabetes\\n\\nConsider metformin for persons with pre-diabetes when:\\n\\n- glycaemic status does not improve despite lifestyle intervention OR\\n- they are unable to adopt lifestyle intervention, especially if persons outlined in the two points above have a BMI of ≥ 23 kg/m2, are younger than 60 years of age, or are women with a history of gestational diabetes.', mimetype='text/plain', start_char_idx=None, end_char_idx=None, text_template='{metadata_str}\\n\\n{content}', metadata_template='{key}: {value}', metadata_seperator='\\n'),\n",
       " Document(id_='57821152-7a53-49ef-b366-d686419e5f00', embedding=None, metadata={'is_table': False, 'source': 'managing-pre-diabetes-(updated-on-27-jul-2021)c2bfc77474154c2abf623156a4b93002'}, excluded_embed_metadata_keys=[], excluded_llm_metadata_keys=[], relationships={}, text='Start metformin at 250 mg twice daily and gradually increase as tolerated if required (depending on glycaemic status), up to 850 mg twice daily.\\n\\nTake metformin with meals to reduce side effects such as nausea, vomiting, or diarrhoea.\\n\\n§ Off-label for pre-diabetes; locally registered as additional therapy in association with diet in patients with diabetes mellitus.', mimetype='text/plain', start_char_idx=None, end_char_idx=None, text_template='{metadata_str}\\n\\n{content}', metadata_template='{key}: {value}', metadata_seperator='\\n'),\n",
       " Document(id_='287327c7-3aff-4786-9fdd-5f8dcf6b1b04', embedding=None, metadata={'is_table': False, 'source': 'managing-pre-diabetes-(updated-on-27-jul-2021)c2bfc77474154c2abf623156a4b93002'}, excluded_embed_metadata_keys=[], excluded_llm_metadata_keys=[], relationships={}, text='References\\n\\nScan the QR code for the reference list to this ACG\\n\\nGOgovsg\\n\\n EXPERT GROUP\\n\\n Lead discussant\\n\\nDr. Phua Eng Joo (KTPH)\\n\\n Chairperson\\n\\nDr. Darren Seah (NHGP)\\n\\n Group members\\n\\n- Ms. Debra Chan (TTSH)\\n- A/Prof. Goh Su-Yen (SGH)\\n- Dr. Khoo Chin Meng (NUHS)\\n- Prof. Joyce Lee (UC Irvine)\\n- Ms. Lee Hwee Khim (SHP)\\n- Dr. Lim Hui Ling (International Medical Clinic)\\n- Ms. Ng Soh Mui (NUP)\\n- Dr. Gilbert Tan (SHP)\\n- Dr. Tham Tat Yean (Frontier Healthcare Group)\\n- Ms. Pauline Xie (NHGP)\\n\\n About the Agency', mimetype='text/plain', start_char_idx=None, end_char_idx=None, text_template='{metadata_str}\\n\\n{content}', metadata_template='{key}: {value}', metadata_seperator='\\n'),\n",
       " Document(id_='47b9aeb5-cc22-40a4-8490-7d46c35b991e', embedding=None, metadata={'is_table': False, 'source': 'managing-pre-diabetes-(updated-on-27-jul-2021)c2bfc77474154c2abf623156a4b93002'}, excluded_embed_metadata_keys=[], excluded_llm_metadata_keys=[], relationships={}, text='About the Agency\\n\\nThe Agency for Care Effectiveness (ACE) was established by the Ministry of Health (Singapore) to drive better decision-making in healthcare by conducting health technology assessments (HTA), publishing healthcare guidance and providing education. ACE develops ACGs to inform specific areas of clinical practice. ACGs are usually reviewed around five years after publication, or earlier, if new evidence emerges that requires substantive changes to the recommendations. To access this ACG online, along with other ACGs published to date, please visit www.ace-hta.gov.sg/acg\\n\\nFind out more about ACE at www.ace-hta.gov.sg/about-us\\n\\n© Agency for Care Effectiveness, Ministry of Health, Republic of Singapore\\n\\nAll rights reserved. Reproduction of this publication in whole or in part in any material form is prohibited without the prior written permission of the copyright holder. Application to reproduce any part of this publication should be addressed to: ACE_HTA@moh.gov.sg', mimetype='text/plain', start_char_idx=None, end_char_idx=None, text_template='{metadata_str}\\n\\n{content}', metadata_template='{key}: {value}', metadata_seperator='\\n'),\n",
       " Document(id_='91e22f7a-c152-4127-80de-60280b72ecc1', embedding=None, metadata={'is_table': False, 'source': 'managing-pre-diabetes-(updated-on-27-jul-2021)c2bfc77474154c2abf623156a4b93002'}, excluded_embed_metadata_keys=[], excluded_llm_metadata_keys=[], relationships={}, text='Suggested citation: Agency for Care Effectiveness (ACE). Managing pre-diabetes – a growing health concern. Appropriate Care Guide (ACG), Ministry of Health, Singapore. 2021. Available from: go.gov.sg/acg-managing-pre-diabetes-a-growing-health-concern\\n\\nThe Ministry of Health, Singapore disclaims any and all liability to any party for any direct, indirect, implied, punitive or other consequential damages arising directly or indirectly from any use of this ACG, which is provided as is, without warranties.\\n\\nAgency for Care Effectiveness (ACE)\\n\\nCollege of Medicine Building\\n\\n16 College Road Singapore 169854\\n\\nDriving better decision-making in healthcare', mimetype='text/plain', start_char_idx=None, end_char_idx=None, text_template='{metadata_str}\\n\\n{content}', metadata_template='{key}: {value}', metadata_seperator='\\n'),\n",
       " Document(id_='54e89730-3dc4-4e38-9b66-5eef14d115e3', embedding=None, metadata={'is_table': False, 'source': 'diabetes_treatment__insulin'}, excluded_embed_metadata_keys=[], excluded_llm_metadata_keys=[], relationships={}, text='Diabetes Treatment: Insulin\\n\\nInsulin moves into the blood and is used by your body.\\n\\n Injection Areas\\n\\n- Abdomen — insulin moves fastest into the blood from here\\n- Arm\\n- Thigh and buttocks — insulin moves slowest into the blood from here\\n\\nThe injection area is chosen based on the speed of insulin absorption required, and your convenience.\\n\\nYour doctor or nurse will advise you on the best area to inject. It is not a good idea to change injection areas frequently. This may cause your blood sugar levels to go up and down. This happens because insulin moves into blood at different speeds from different areas.\\n\\nYou should inject your insulin into a different spot each time. Injecting into the same spot often may lead to formation of thick areas under the skin. Insulin injected into these areas may not be absorbed well. Rotating your insulin injection spot will prevent these thick areas from forming. You should try and use each spot only once a month.', mimetype='text/plain', start_char_idx=None, end_char_idx=None, text_template='{metadata_str}\\n\\n{content}', metadata_template='{key}: {value}', metadata_seperator='\\n'),\n",
       " Document(id_='14291f10-bdc3-4a71-b351-ebfc9ef65651', embedding=None, metadata={'is_table': False, 'source': 'diabetes_treatment__insulin'}, excluded_embed_metadata_keys=[], excluded_llm_metadata_keys=[], relationships={}, text='Check your injection areas every few days. You can press gently and run your fingertips across each area. If there are any lumps, painful spots or any change of colour in the area, report these to your diabetes care team. Avoid using these areas until the problem stops.\\n\\n Timing of Insulin Injections\\n\\nInject your insulin 30 minutes before meals. The insulin will move into your blood to match the rise in the blood sugar level. You should eat regularly throughout the day. This is to avoid a low blood sugar levels caused by the injected insulin.\\n\\nIf you are using a new insulin called Lispro Insulin (Humalog®) you do not have to wait 30 minutes before eating your meal. Lispro insulin is absorbed and goes to work almost immediately after injection.\\n\\n Insulin Usage\\n\\nDiscard the insulin if:\\n\\n- It has expired\\n- There is any contamination of clear (short-acting) insulin\\n- There are any lumps in cloudy (intermediate-acting) insulin that will not dissolve when the bottle is rotated', mimetype='text/plain', start_char_idx=None, end_char_idx=None, text_template='{metadata_str}\\n\\n{content}', metadata_template='{key}: {value}', metadata_seperator='\\n'),\n",
       " Document(id_='a7e7a555-0d02-4fda-ab57-e7f246456531', embedding=None, metadata={'is_table': False, 'source': 'diabetes_treatment__insulin'}, excluded_embed_metadata_keys=[], excluded_llm_metadata_keys=[], relationships={}, text='Insulin should be stored in the lower part of the fridge, away from the freezer. You should always keep at least one extra bottle of each type of insulin.\\n\\nSource', mimetype='text/plain', start_char_idx=None, end_char_idx=None, text_template='{metadata_str}\\n\\n{content}', metadata_template='{key}: {value}', metadata_seperator='\\n'),\n",
       " Document(id_='c607592d-5839-4486-a131-57f2b58885ea', embedding=None, metadata={'is_table': False, 'source': 'diabetes_treatment__insulin'}, excluded_embed_metadata_keys=[], excluded_llm_metadata_keys=[], relationships={}, text='Diabetes Treatment: Insulin\\n\\nWhen travelling, carry your insulin and syringes with you. Do not put the insulin in your check-in luggage or in your car boot.\\n\\n Insulin Devices\\n\\n Syringes\\n\\nSyringes are used to measure the amount of insulin to be injected. Choose a suitable syringe that best matches the number of units required.\\n\\nA 0.3ml syringe should be used for doses up to 30 units. A 0.5ml syringe should be used for doses up to 50 units. A 1ml syringe can be used for doses up to 100 units. Disposable syringes can be used for the same person up to about two to four times. Between uses, replace the cap and put the syringe in the fridge.\\n\\n Insulin Pens\\n\\nInsulin pens combine both the needle and insulin cartridge into one. Thus, insulin injections become more convenient and you do not have to carry syringes and insulin bottles with you.\\n\\n Insulin Pumps', mimetype='text/plain', start_char_idx=None, end_char_idx=None, text_template='{metadata_str}\\n\\n{content}', metadata_template='{key}: {value}', metadata_seperator='\\n'),\n",
       " Document(id_='f217ba74-76d3-4c6e-8e60-b5be6267e3b6', embedding=None, metadata={'is_table': False, 'source': 'diabetes_treatment__insulin'}, excluded_embed_metadata_keys=[], excluded_llm_metadata_keys=[], relationships={}, text='Insulin Pumps\\n\\nThe insulin pump is a small computerised device that pumps insulin continuously through a fine plastic tube into a site under the skin 24 hours a day. It is just a little larger than a pocket pager.\\n\\nPump users have to monitor their blood sugar frequently so as to make adjustments to the amount of insulin delivered. The insulin pump generally gives you better control and more meal flexibility, but is costlier and requires more frequent blood sugar monitoring.\\n\\n Switching to Insulin from Anti-diabetes Tablets\\n\\nPatients who are switched to insulin from anti-diabetes tablets often worry that their condition must be deteriorating. However, the switch to insulin was made because the diabetes was getting out of control as the tablets were failing to control the patient’s blood sugar — and the insulin will correct that.\\n\\n Insulin Side Effects\\n\\nTaking insulin may result in some side effects. These include:', mimetype='text/plain', start_char_idx=None, end_char_idx=None, text_template='{metadata_str}\\n\\n{content}', metadata_template='{key}: {value}', metadata_seperator='\\n'),\n",
       " Document(id_='c3f0d726-dec8-4f9a-bddf-1a956d4bd9b6', embedding=None, metadata={'is_table': False, 'source': 'diabetes_treatment__insulin'}, excluded_embed_metadata_keys=[], excluded_llm_metadata_keys=[], relationships={}, text='Insulin Side Effects\\n\\nTaking insulin may result in some side effects. These include:\\n\\n- Low blood sugar\\n- Initial weight gain\\n- Lumpy or scarred tissue from too many injections on the same part of the body\\n- Rashes on the injection site or, in rare cases, all over the body\\n\\nRead these next:\\n\\nhttps://www.healthhub.sg/a-z/diseases-and-conditions/diabetes-treatment-insulin', mimetype='text/plain', start_char_idx=None, end_char_idx=None, text_template='{metadata_str}\\n\\n{content}', metadata_template='{key}: {value}', metadata_seperator='\\n')]"
      ]
     },
     "execution_count": 44,
     "metadata": {},
     "output_type": "execute_result"
    }
   ],
   "source": [
    "final_docs"
   ]
  },
  {
   "cell_type": "code",
   "execution_count": 45,
   "metadata": {},
   "outputs": [
    {
     "name": "stdout",
     "output_type": "stream",
     "text": [
      "Metadata |████████████████████████████████████████| 37/37 [100%] in 0.1s (348.81\n"
     ]
    }
   ],
   "source": [
    "def get_required_data(final_docs: List[Document]) -> Tuple[List[str], List[str], List[str]]:\n",
    "    all_ids, all_texts, all_sources = [], [], []\n",
    "\n",
    "    with alive_bar(len(final_docs), title='Metadata', force_tty=True) as bar:\n",
    "        for doc in final_docs:\n",
    "            doc_id = str(uuid.uuid4())\n",
    "            text = doc.text\n",
    "            source = doc.metadata['source']\n",
    "            \n",
    "            all_ids.append(doc_id)\n",
    "            all_texts.append(text)\n",
    "            all_sources.append(source)\n",
    "            bar()\n",
    "    \n",
    "    return all_ids, all_texts, all_sources\n",
    "\n",
    "all_ids, all_texts, all_sources = get_required_data(final_docs)"
   ]
  },
  {
   "cell_type": "markdown",
   "metadata": {},
   "source": [
    "## Feeding texts (and tables) into respective Embedding Models\n",
    "1. Dense Embeddings with BGE\n",
    "2. Sparse Embeddings with SPLADE"
   ]
  },
  {
   "cell_type": "code",
   "execution_count": 46,
   "metadata": {},
   "outputs": [],
   "source": [
    "def get_dense_and_sparse_embeddings(all_texts: List[str]):\n",
    "    dense_embeddings_list = list(bge_embed_model.embed(all_texts))\n",
    "    sparse_embeddings_list = spalde_embed_model.encode_documents(all_texts)\n",
    "    \n",
    "    return dense_embeddings_list, sparse_embeddings_list"
   ]
  },
  {
   "cell_type": "code",
   "execution_count": 47,
   "metadata": {},
   "outputs": [],
   "source": [
    "dense_embeddings_list, sparse_embeddings_list = get_dense_and_sparse_embeddings(all_texts)"
   ]
  },
  {
   "cell_type": "markdown",
   "metadata": {},
   "source": [
    "### Saving of respective embedding lists"
   ]
  },
  {
   "cell_type": "code",
   "execution_count": null,
   "metadata": {},
   "outputs": [],
   "source": [
    "with open('data/dense_embeddings.pkl', 'wb') as f:\n",
    "    pickle.dump(dense_embeddings_list, f)\n",
    "    \n",
    "with open('data/sparse_embeddings.pkl', 'wb') as f:\n",
    "    pickle.dump(sparse_embeddings_list, f)"
   ]
  },
  {
   "cell_type": "markdown",
   "metadata": {},
   "source": [
    "## Batch Ingestion"
   ]
  },
  {
   "cell_type": "code",
   "execution_count": 51,
   "metadata": {},
   "outputs": [],
   "source": [
    "def batch_ingestion(collection, final_docs):\n",
    "    # Get required data\n",
    "    all_ids, all_texts, all_sources = get_required_data(final_docs)\n",
    "    # Get dense and sparse embeddings\n",
    "    # dense_embeddings_list, sparse_embeddings_list = get_dense_and_sparse_embeddings(all_texts)\n",
    "    \n",
    "    # Start ingestion process\n",
    "    data = [\n",
    "        all_ids,\n",
    "        all_texts,\n",
    "        all_sources,\n",
    "        dense_embeddings_list,\n",
    "        sparse_embeddings_list\n",
    "    ]\n",
    "    # Set batch size\n",
    "    batch_size = 10\n",
    "    total_elements = len(data[0])  # All lists have the same length\n",
    "\n",
    "    # Calculate the total number of batches\n",
    "    total_batches = (total_elements + batch_size - 1) // batch_size\n",
    "\n",
    "    # Initialize alive_bar with the total number of batches\n",
    "    with alive_bar(total_batches, force_tty=True) as bar:\n",
    "        for start in range(0, total_elements, batch_size):\n",
    "            end = min(start + batch_size, total_elements)\n",
    "            batch = [sublist[start:end] for sublist in data]\n",
    "            collection.insert(batch)\n",
    "            bar()"
   ]
  },
  {
   "cell_type": "code",
   "execution_count": 52,
   "metadata": {},
   "outputs": [
    {
     "name": "stdout",
     "output_type": "stream",
     "text": [
      "Metadata |████████████████████████████████████████| 37/37 [100%] in 0.1s (347.55\n",
      "|████████████████████████████████████████| 4/4 [100%] in 2.3s (1.36/s)          \n"
     ]
    }
   ],
   "source": [
    "batch_ingestion(collection, final_docs)"
   ]
  },
  {
   "cell_type": "markdown",
   "metadata": {},
   "source": [
    "## Creating of Index\n",
    "1. Delete any existing Index\n",
    "2. Create new Indexes"
   ]
  },
  {
   "cell_type": "code",
   "execution_count": 53,
   "metadata": {},
   "outputs": [],
   "source": [
    "def drop_indexes(collection: Collection, index_names: List[str]) -> None:\n",
    "    # Release or drop the existing collection index\n",
    "    collection.release()\n",
    "    for name in index_names:\n",
    "        collection.drop_index(index_name=name)\n",
    "        print(f\"Index '{name}' has been dropped\")"
   ]
  },
  {
   "cell_type": "code",
   "execution_count": 54,
   "metadata": {},
   "outputs": [
    {
     "name": "stdout",
     "output_type": "stream",
     "text": [
      "Index 'sparse_embeddings' has been dropped\n",
      "Index 'dense_embeddings' has been dropped\n"
     ]
    }
   ],
   "source": [
    "drop_indexes(collection, index_names=[\"sparse_embeddings\", \"dense_embeddings\"])"
   ]
  },
  {
   "cell_type": "code",
   "execution_count": 55,
   "metadata": {},
   "outputs": [],
   "source": [
    "def create_all_indexes(collection: Collection) -> None:\n",
    "    # Dense embeddings index\n",
    "    collection.create_index(\n",
    "        field_name=\"dense_embeddings\",\n",
    "        index_params={\n",
    "            \"metric_type\": \"COSINE\",\n",
    "            \"index_type\": \"HNSW\",\n",
    "            \"params\": {\n",
    "                \"M\": 5,\n",
    "                \"efConstruction\": 512\n",
    "            }\n",
    "        },\n",
    "        index_name=\"dense_embeddings_index\"\n",
    "    )\n",
    "    \n",
    "    print(\"Dense embeddings index created\")\n",
    "\n",
    "    # Sparse embeddings index\n",
    "    collection.create_index(\n",
    "        field_name=\"sparse_embeddings\",\n",
    "        index_params={\n",
    "            \"metric_type\": \"IP\",\n",
    "            \"index_type\": \"SPARSE_INVERTED_INDEX\",\n",
    "            \"params\": {\n",
    "                \"drop_ratio_build\": 0.2\n",
    "            }\n",
    "        },\n",
    "        index_name=\"sparse_embeddings_index\"\n",
    "    )\n",
    "    \n",
    "    print(\"Sparse embeddings index created\")\n",
    "    collection.load()\n",
    "    print(\"Collection loaded\")"
   ]
  },
  {
   "cell_type": "code",
   "execution_count": 56,
   "metadata": {},
   "outputs": [
    {
     "name": "stdout",
     "output_type": "stream",
     "text": [
      "Dense embeddings index created\n",
      "Sparse embeddings index created\n",
      "Collection loaded\n"
     ]
    }
   ],
   "source": [
    "create_all_indexes(collection)"
   ]
  },
  {
   "cell_type": "markdown",
   "metadata": {},
   "source": [
    "## Loading in of collection and setting up Hybrid Searches"
   ]
  },
  {
   "cell_type": "code",
   "execution_count": 57,
   "metadata": {},
   "outputs": [],
   "source": [
    "collection = Collection(name=collection_name)"
   ]
  },
  {
   "cell_type": "code",
   "execution_count": 58,
   "metadata": {},
   "outputs": [],
   "source": [
    "def hybrid_search(query: str) -> str:\n",
    "    dense_embedding = list(bge_embed_model.query_embed(query))[0]\n",
    "    sparse_embedding = list(spalde_embed_model.encode_queries([query]))\n",
    "    \n",
    "    search_results = collection.hybrid_search(\n",
    "            reqs=[\n",
    "                AnnSearchRequest(\n",
    "                    data=[dense_embedding],  # content vector embedding\n",
    "                    anns_field='dense_embeddings',  # content vector field\n",
    "                    param={\"metric_type\": \"COSINE\", \"params\": {\"M\": 64, \"efConstruction\": 512}}, # Search parameters\n",
    "                    limit=3\n",
    "                ),\n",
    "                AnnSearchRequest(\n",
    "                    data=list(sparse_embedding),  # keyword vector embedding\n",
    "                    anns_field='sparse_embeddings',  # keyword vector field\n",
    "                    param={\"metric_type\": \"IP\", \"params\": {\"drop_ratio_build\": 0.2}}, # Search parameters\n",
    "                    limit=3\n",
    "                )\n",
    "            ],\n",
    "            output_fields=['doc_id', 'text', 'doc_source'],\n",
    "            # Use WeightedRanker to combine results with specified weights\n",
    "            # Alternatively, use RRFRanker for reciprocal rank fusion reranking\n",
    "            rerank=RRFRanker(),\n",
    "            limit=3\n",
    "            )\n",
    "    \n",
    "    hits = search_results[0]\n",
    "    \n",
    "    context = []\n",
    "    for res in hits:\n",
    "        text = res.text\n",
    "        source = res.doc_source\n",
    "        context.append(f\"Source: {source}\\nContext: {text}\")\n",
    "    \n",
    "    return \"\\n\\n\".join(context)"
   ]
  },
  {
   "cell_type": "code",
   "execution_count": 59,
   "metadata": {},
   "outputs": [],
   "source": [
    "res = hybrid_search(\"How should i know whether i should throw away my insulin?\")"
   ]
  },
  {
   "cell_type": "code",
   "execution_count": 60,
   "metadata": {},
   "outputs": [
    {
     "name": "stdout",
     "output_type": "stream",
     "text": [
      "Source: diabetes_treatment__insulin\n",
      "Context: Insulin should be stored in the lower part of the fridge, away from the freezer. You should always keep at least one extra bottle of each type of insulin.\n",
      "\n",
      "Source\n",
      "\n",
      "Source: diabetes_treatment__insulin\n",
      "Context: Check your injection areas every few days. You can press gently and run your fingertips across each area. If there are any lumps, painful spots or any change of colour in the area, report these to your diabetes care team. Avoid using these areas until the problem stops.\n",
      "\n",
      " Timing of Insulin Injections\n",
      "\n",
      "Inject your insulin 30 minutes before meals. The insulin will move into your blood to match the rise in the blood sugar level. You should eat regularly throughout the day. This is to avoid a low blood sugar levels caused by the injected insulin.\n",
      "\n",
      "If you are using a new insulin called Lispro Insulin (Humalog®) you do not have to wait 30 minutes before eating your meal. Lispro insulin is absorbed and goes to work almost immediately after injection.\n",
      "\n",
      " Insulin Usage\n",
      "\n",
      "Discard the insulin if:\n",
      "\n",
      "- It has expired\n",
      "- There is any contamination of clear (short-acting) insulin\n",
      "- There are any lumps in cloudy (intermediate-acting) insulin that will not dissolve when the bottle is rotated\n",
      "\n",
      "Source: diabetes_medications\n",
      "Context: Diabetes Medications\n",
      "\n",
      "You should go back to your regular dosage schedule. Check with your doctor or pharmacist before taking any other medicines, including over-the-counter medicines.\n",
      "\n",
      " Rare Side Effects of Anti-diabetes Tablets\n",
      "\n",
      "Please inform your doctor if you have the following symptoms:\n",
      "\n",
      "- Dark or coloured urine\n",
      "- Tiredness\n",
      "- Itchy skin or skin rash\n",
      "- Loss of appetite\n",
      "- Light-coloured stools\n",
      "- Unexplained fever and sore throat\n",
      "- Increased sensitivity to sunlight\n",
      "- Diarrhoea\n",
      "- Yellowing of eyes or skin\n",
      "- Nausea or vomiting\n",
      "- Headache\n",
      "\n",
      " Take action:\n",
      "\n",
      "Beat Diabetes Step by Step\n",
      "\n",
      " Are Anti-diabetes Tablets Addictive?\n",
      "\n",
      "You can never become addicted to anti-diabetes tablets. This is a common misconception among patients who do not like the idea of taking medication long-term.\n",
      "\n",
      "The right way to think about diabetes medications is this: the tablets are there to do a job. If you take tablets only three days of the week instead of every day as instructed, you can expect your blood sugar to be high on the four days that you do not take the tablets.\n",
      "\n",
      "Anti-diabetes tablets are meant to help keep you well. However, they won't work unless you take them.\n",
      "\n",
      " Read more:\n",
      "\n",
      "- Guide to Managing Diabetes\n",
      "- Diabetes in Childhood and Pregnancy\n",
      "- The Diabetic's Guide to Dessert\n",
      "- How Does Belly Fat Increase Your Risk of Diabetes?\n",
      "\n",
      " Type of Tablet\n"
     ]
    }
   ],
   "source": [
    "print(res)"
   ]
  },
  {
   "cell_type": "code",
   "execution_count": null,
   "metadata": {},
   "outputs": [],
   "source": []
  }
 ],
 "metadata": {
  "kernelspec": {
   "display_name": "Python 3",
   "language": "python",
   "name": "python3"
  },
  "language_info": {
   "codemirror_mode": {
    "name": "ipython",
    "version": 3
   },
   "file_extension": ".py",
   "mimetype": "text/x-python",
   "name": "python",
   "nbconvert_exporter": "python",
   "pygments_lexer": "ipython3",
   "version": "3.11.5"
  }
 },
 "nbformat": 4,
 "nbformat_minor": 2
}
