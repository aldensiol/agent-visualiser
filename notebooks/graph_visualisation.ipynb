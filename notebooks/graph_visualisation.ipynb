{
 "cells": [
  {
   "cell_type": "code",
   "execution_count": 1,
   "metadata": {},
   "outputs": [],
   "source": [
    "import os\n",
    "\n",
    "from langchain_anthropic import ChatAnthropic\n",
    "from llama_index.core import Settings, Document, PropertyGraphIndex \n",
    "from llama_index.core.bridge.pydantic import BaseModel, Field\n",
    "from llama_index.core.indices.property_graph import VectorContextRetriever, CypherTemplateRetriever\n",
    "from llama_index.embeddings.openai import OpenAIEmbedding\n",
    "from llama_index.graph_stores.neo4j import Neo4jPropertyGraphStore\n",
    "from llama_index.llms.anthropic import Anthropic"
   ]
  },
  {
   "cell_type": "code",
   "execution_count": 2,
   "metadata": {},
   "outputs": [],
   "source": [
    "OPENAI_API_KEY = os.getenv('OPENAI_API_KEY')\n",
    "CLAUDE_API_KEY = os.getenv('CLAUDE_API_KEY')\n",
    "LLAMA_API_KEY = os.getenv('LLAMA_API_KEY')\n",
    "\n",
    "os.environ['OPENAI_API_KEY'] = OPENAI_API_KEY\n",
    "os.environ[\"ANTHROPIC_API_KEY\"] = CLAUDE_API_KEY\n",
    "os.environ[\"LLAMA_CLOUD_API_KEY\"] = LLAMA_API_KEY"
   ]
  },
  {
   "cell_type": "code",
   "execution_count": 3,
   "metadata": {},
   "outputs": [],
   "source": [
    "llm = ChatAnthropic(\n",
    "    model=\"claude-3-5-sonnet-20240620\",\n",
    "    max_tokens=4096,\n",
    "    temperature=0.0,\n",
    "    stop=[\"\\n\\nHuman\"],\n",
    ")\n",
    "\n",
    "llama_llm = Anthropic(\n",
    "    model=\"claude-3-5-sonnet-20240620\",\n",
    "    max_tokens=4096,\n",
    "    temperature=0.0\n",
    ")\n",
    "\n",
    "llama_openai_embed_model = OpenAIEmbedding(model_name=\"text-embedding-3-small\")"
   ]
  },
  {
   "cell_type": "code",
   "execution_count": null,
   "metadata": {},
   "outputs": [],
   "source": [
    "NEO4J_URI = \"bolt://localhost:7687\"\n",
    "NEO4J_USER = \"neo4j\"\n",
    "NEO4J_PASSWORD = \"15082001\"\n",
    "NEO4J_DATABASE = \"neo4j\"\n",
    "\n",
    "graph_store = Neo4jPropertyGraphStore(\n",
    "    username=NEO4J_USER,\n",
    "    password=NEO4J_PASSWORD,\n",
    "    url=NEO4J_URI,\n",
    "    refresh_schema=False,\n",
    ")\n",
    "\n",
    "# gds = GraphDataScience(NEO4J_URI, database=NEO4J_DATABASE, auth=(NEO4J_USER, NEO4J_PASSWORD))"
   ]
  },
  {
   "cell_type": "code",
   "execution_count": null,
   "metadata": {},
   "outputs": [],
   "source": [
    "index = PropertyGraphIndex.from_existing(\n",
    "    llm = llama_llm,\n",
    "    embed_model=llama_openai_embed_model,\n",
    "    property_graph_store=graph_store,\n",
    ")"
   ]
  },
  {
   "cell_type": "markdown",
   "metadata": {},
   "source": [
    "### Vector Similarity"
   ]
  },
  {
   "cell_type": "code",
   "execution_count": null,
   "metadata": {},
   "outputs": [],
   "source": [
    "sub_retriever = VectorContextRetriever(\n",
    "  index.property_graph_store, \n",
    "  vector_store=index.vector_store,\n",
    "  embed_model=llama_openai_embed_model,\n",
    ")"
   ]
  },
  {
   "cell_type": "markdown",
   "metadata": {},
   "source": [
    "## Cypher Queries"
   ]
  },
  {
   "cell_type": "code",
   "execution_count": null,
   "metadata": {},
   "outputs": [],
   "source": [
    "class Params(BaseModel):\n",
    "    \"\"\"Parameters for a cypher query.\"\"\"\n",
    "    names: list[str] = Field(description=\"A list of possible entity names or keywords related to the query.\")"
   ]
  },
  {
   "cell_type": "code",
   "execution_count": null,
   "metadata": {},
   "outputs": [],
   "source": [
    "cypher_query = \"\"\"\n",
    "   MATCH (c:Chunk)-[:MENTIONS]->(o) \n",
    "   WHERE o.name IN $names\n",
    "   RETURN c.text, o.name, o.label;\n",
    "\"\"\"\n",
    "   \n",
    "sub_retriever = CypherTemplateRetriever(\n",
    " index.property_graph_store, \n",
    " Params, \n",
    " cypher_query,\n",
    " llm=llm,\n",
    ")"
   ]
  },
  {
   "cell_type": "markdown",
   "metadata": {},
   "source": [
    "## Get Relationship Paths"
   ]
  },
  {
   "cell_type": "code",
   "execution_count": null,
   "metadata": {},
   "outputs": [],
   "source": [
    "# query nodes\n",
    "llama_node = graph_store.get(properties={\"name\": \"llama\"})[0]\n",
    "\n",
    "# get relationship paths  \n",
    "paths = graph_store.get_rel_map([llama_node], depth=1)"
   ]
  }
 ],
 "metadata": {
  "kernelspec": {
   "display_name": "Python 3",
   "language": "python",
   "name": "python3"
  },
  "language_info": {
   "codemirror_mode": {
    "name": "ipython",
    "version": 3
   },
   "file_extension": ".py",
   "mimetype": "text/x-python",
   "name": "python",
   "nbconvert_exporter": "python",
   "pygments_lexer": "ipython3",
   "version": "3.11.5"
  }
 },
 "nbformat": 4,
 "nbformat_minor": 2
}
