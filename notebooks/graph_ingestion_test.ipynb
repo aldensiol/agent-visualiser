{
 "cells": [
  {
   "cell_type": "code",
   "execution_count": 1,
   "metadata": {},
   "outputs": [
    {
     "name": "stderr",
     "output_type": "stream",
     "text": [
      "/Library/Frameworks/Python.framework/Versions/3.11/lib/python3.11/site-packages/tqdm/auto.py:21: TqdmWarning: IProgress not found. Please update jupyter and ipywidgets. See https://ipywidgets.readthedocs.io/en/stable/user_install.html\n",
      "  from .autonotebook import tqdm as notebook_tqdm\n"
     ]
    }
   ],
   "source": [
    "import nest_asyncio\n",
    "import os\n",
    "import pickle\n",
    "import re\n",
    "import spacy\n",
    "import torch\n",
    "import uuid\n",
    "\n",
    "from alive_progress import alive_bar\n",
    "from dotenv import load_dotenv\n",
    "from fastembed import TextEmbedding\n",
    "from graphdatascience import GraphDataScience\n",
    "from langchain_anthropic import ChatAnthropic\n",
    "from langchain_openai import OpenAIEmbeddings\n",
    "from langchain.text_splitter import RecursiveCharacterTextSplitter\n",
    "from llama_index.core import Settings, Document, PropertyGraphIndex \n",
    "from llama_index.core.node_parser import MarkdownElementNodeParser\n",
    "from llama_index.embeddings.openai import OpenAIEmbedding\n",
    "from llama_index.extractors.relik.base import RelikPathExtractor\n",
    "from llama_index.graph_stores.neo4j import Neo4jPropertyGraphStore\n",
    "from llama_index.llms.anthropic import Anthropic\n",
    "from llama_parse import LlamaParse\n",
    "from transformers import pipeline\n",
    "from typing import List, Optional, Tuple"
   ]
  },
  {
   "cell_type": "code",
   "execution_count": 2,
   "metadata": {},
   "outputs": [],
   "source": [
    "load_dotenv()\n",
    "\n",
    "OPENAI_API_KEY = os.getenv('OPENAI_API_KEY')\n",
    "CLAUDE_API_KEY = os.getenv('CLAUDE_API_KEY')\n",
    "LLAMA_API_KEY = os.getenv('LLAMA_API_KEY')\n",
    "\n",
    "os.environ['OPENAI_API_KEY'] = OPENAI_API_KEY\n",
    "os.environ[\"ANTHROPIC_API_KEY\"] = CLAUDE_API_KEY\n",
    "os.environ[\"LLAMA_CLOUD_API_KEY\"] = LLAMA_API_KEY"
   ]
  },
  {
   "cell_type": "code",
   "execution_count": 3,
   "metadata": {},
   "outputs": [],
   "source": [
    "llm = ChatAnthropic(\n",
    "    model=\"claude-3-5-sonnet-20240620\",\n",
    "    max_tokens=4096,\n",
    "    temperature=0.0,\n",
    "    stop=[\"\\n\\nHuman\"],\n",
    ")\n",
    "\n",
    "llama_llm = Anthropic(\n",
    "    model=\"claude-3-5-sonnet-20240620\",\n",
    "    max_tokens=4096,\n",
    "    temperature=0.0\n",
    ")"
   ]
  },
  {
   "cell_type": "code",
   "execution_count": 4,
   "metadata": {},
   "outputs": [
    {
     "name": "stderr",
     "output_type": "stream",
     "text": [
      "Fetching 5 files: 100%|██████████| 5/5 [00:00<00:00, 15285.36it/s]\n"
     ]
    }
   ],
   "source": [
    "bge_embed_model = TextEmbedding(model_name=\"BAAI/bge-large-en-v1.5\")\n",
    "llama_openai_embed_model = OpenAIEmbedding(model_name=\"text-embedding-3-small\")\n",
    "\n",
    "Settings.embed_model = llama_openai_embed_model"
   ]
  },
  {
   "cell_type": "code",
   "execution_count": 5,
   "metadata": {},
   "outputs": [
    {
     "name": "stdout",
     "output_type": "stream",
     "text": [
      "                ___              __         \n",
      "               /\\_ \\      __    /\\ \\        \n",
      " _ __     __   \\//\\ \\    /\\_\\   \\ \\ \\/'\\    \n",
      "/\\`'__\\ /'__`\\   \\ \\ \\   \\/\\ \\   \\ \\ , <    \n",
      "\\ \\ \\/ /\\  __/    \\_\\ \\_  \\ \\ \\   \\ \\ \\\\`\\  \n",
      " \\ \\_\\ \\ \\____\\   /\\____\\  \\ \\_\\   \\ \\_\\ \\_\\\n",
      "  \\/_/  \\/____/   \\/____/   \\/_/    \\/_/\\/_/\n",
      "                                            \n",
      "                                            \n",
      "\n"
     ]
    },
    {
     "name": "stderr",
     "output_type": "stream",
     "text": [
      "/Library/Frameworks/Python.framework/Versions/3.11/lib/python3.11/site-packages/huggingface_hub/file_download.py:1132: FutureWarning: `resume_download` is deprecated and will be removed in version 1.0.0. Downloads always resume when possible. If you want to force a new download, use `force_download=True`.\n",
      "  warnings.warn(\n"
     ]
    },
    {
     "name": "stdout",
     "output_type": "stream",
     "text": [
      "\u001b[33m[2024-09-10 16:39:27,870] [WARNING] [relik.common.utils.download_from_hf:342] [PID:10411] [RANK:0] Couldn't download index.faiss from relik-ie/encoder-e5-small-v2-wikipedia-relations-index, ignoring\u001b[39m\n"
     ]
    }
   ],
   "source": [
    "relik = RelikPathExtractor(\n",
    "    model=\"relik-ie/relik-relation-extraction-small\"\n",
    ")"
   ]
  },
  {
   "cell_type": "code",
   "execution_count": 6,
   "metadata": {},
   "outputs": [
    {
     "name": "stderr",
     "output_type": "stream",
     "text": [
      "/Library/Frameworks/Python.framework/Versions/3.11/lib/python3.11/site-packages/spacy/util.py:910: UserWarning: [W095] Model 'en_core_web_lg' (3.5.0) was trained with spaCy v3.5.0 and may not be 100% compatible with the current version (3.7.6). If you see errors or degraded performance, download a newer compatible model or retrain your custom model with the current spaCy version. For more details and available updates, run: python -m spacy validate\n",
      "  warnings.warn(warn_msg)\n"
     ]
    },
    {
     "data": {
      "text/plain": [
       "<coreferee.manager.CorefereeBroker at 0x3fc2665d0>"
      ]
     },
     "execution_count": 6,
     "metadata": {},
     "output_type": "execute_result"
    }
   ],
   "source": [
    "coref_nlp = spacy.load('en_core_web_lg')\n",
    "coref_nlp.add_pipe('coreferee')"
   ]
  },
  {
   "cell_type": "code",
   "execution_count": 7,
   "metadata": {},
   "outputs": [],
   "source": [
    "# instantiate doc parser\n",
    "parser = LlamaParse(\n",
    "    result_type=\"markdown\",\n",
    "    num_workers=8,\n",
    "    verbose = False,\n",
    "    show_progress=True,\n",
    "    ignore_errors=True,\n",
    "    language=\"en\",\n",
    ")\n",
    "\n",
    "# instantiate node parser\n",
    "node_parser = MarkdownElementNodeParser(llm=llama_llm, num_workers=8)"
   ]
  },
  {
   "cell_type": "code",
   "execution_count": 8,
   "metadata": {},
   "outputs": [],
   "source": [
    "nest_asyncio.apply()"
   ]
  },
  {
   "cell_type": "code",
   "execution_count": 9,
   "metadata": {},
   "outputs": [],
   "source": [
    "def coref_text(text):\n",
    "    coref_doc = coref_nlp(text.strip())\n",
    "    resolved_text = \"\"\n",
    "\n",
    "    for token in coref_doc:\n",
    "        repres = coref_doc._.coref_chains.resolve(token)\n",
    "        if repres:\n",
    "            resolved_text += \" \" + \" and \".join(\n",
    "                [\n",
    "                    t.text\n",
    "                    if t.ent_type_ == \"\"\n",
    "                    else [e.text for e in coref_doc.ents if t in e][0]\n",
    "                    for t in repres\n",
    "                ]\n",
    "            )\n",
    "        else:\n",
    "            resolved_text += \" \" + token.text\n",
    "\n",
    "    return resolved_text.strip()\n",
    "\n",
    "def remove_table_of_contents(text):\n",
    "    pattern = r\"TABLE OF CONTENTS.*?(?=#)\"\n",
    "    cleaned_text = re.sub(pattern, \"\", text, flags=re.DOTALL)\n",
    "    return cleaned_text.strip()\n",
    "\n",
    "def convert_nodes_to_documents(text_nodes, object_nodes, source):\n",
    "    \"\"\"\n",
    "    Converts nodes to Documents\n",
    "\n",
    "    Args:\n",
    "        text_nodes (List[Nodes]): List of text nodes\n",
    "        object_nodes (List[Nodes]): List of object nodes\n",
    "        source (str): Source of the document\n",
    "\n",
    "    Returns:\n",
    "        documents (List[Documents]): List of Documents\n",
    "    \"\"\"\n",
    "    documents = []\n",
    "    for node in text_nodes:\n",
    "        text = coref_text(node.text)\n",
    "        doc = Document(\n",
    "            text= text,\n",
    "            metadata = {\n",
    "                \"is_table\": False,\n",
    "                \"source\": source\n",
    "            }\n",
    "        )\n",
    "        documents.append(doc)\n",
    "        \n",
    "    for node in object_nodes:\n",
    "        text = coref_text(node.text)\n",
    "        doc = Document(\n",
    "            text= text,\n",
    "            metadata = {\n",
    "                \"is_table\": True,\n",
    "                \"source\": source\n",
    "            }\n",
    "        )\n",
    "        documents.append(doc)\n",
    "        \n",
    "    return documents\n",
    "\n",
    "def make_dir(data_folder):\n",
    "    os.makedirs(data_folder, exist_ok=True)\n",
    "\n",
    "def parse_docs(file_location: str, data_folder: Optional[str] = None) -> List[Document]:\n",
    "    \"\"\"\n",
    "    Parses PDF Folder and returns a list of Documents\n",
    "\n",
    "    Args:\n",
    "        file_location (str): PDF Folder Location\n",
    "        data_folder (Optional[str], optional): Folder to save pickles (Optional). Defaults to None.\n",
    "\n",
    "    Returns:\n",
    "        List[Document]: _description_\n",
    "    \"\"\"\n",
    "    all_docs = []\n",
    "    for file_name in os.listdir(file_location):\n",
    "        if not file_name.endswith(\".pdf\"):\n",
    "            continue\n",
    "\n",
    "        print(\"File: \" + str(file_name))\n",
    "        doc_path = os.path.join(file_location, file_name)\n",
    "        modified_file_name = os.path.splitext(file_name)[0].lower().replace(' ', '_')\n",
    "\n",
    "        # results in a list of Document Objects\n",
    "        documents = parser.load_data(doc_path)\n",
    "        \n",
    "        for idx, doc in enumerate(documents):\n",
    "            doc.text = remove_table_of_contents(doc.text)\n",
    "            if idx > 4:\n",
    "                break\n",
    "\n",
    "        raw_nodes = node_parser.get_nodes_from_documents(documents)\n",
    "        # list of text_nodes, list of objects\n",
    "        text_nodes, objects = node_parser.get_nodes_and_objects(raw_nodes)\n",
    "        \n",
    "        final_docs = convert_nodes_to_documents(text_nodes, objects, modified_file_name)\n",
    "        all_docs.append(final_docs)\n",
    "        \n",
    "        if data_folder:\n",
    "            data_path = os.path.join(data_folder, modified_file_name + '.pkl')\n",
    "            pickle.dump(final_docs, open(data_path, \"wb\"))\n",
    "    \n",
    "    return [item for sublist in all_docs for item in sublist]\n",
    "\n",
    "def read_pickles(data_folder: str) -> List[Document]:\n",
    "    doc_list = []\n",
    "    for file_name in os.listdir(data_folder):\n",
    "        doc_path = os.path.join(data_folder, file_name)\n",
    "        if file_name.endswith(\".pkl\"):\n",
    "            with open(doc_path, 'rb') as file:\n",
    "                # data will be a doc_list\n",
    "                data = pickle.load(file)\n",
    "                doc_list.append(data)\n",
    "                \n",
    "    # since doc_list is a list of list of documents, we need to flatten it\n",
    "    doc_list = [item for sublist in doc_list for item in sublist]\n",
    "    return doc_list\n",
    "\n",
    "def further_split_long_docs(doc_list: List[Document]) -> Tuple[List[Document], List[Document]]:\n",
    "    long_docs, short_docs = [], []\n",
    "    for doc in doc_list:\n",
    "        is_table = doc.metadata[\"is_table\"]\n",
    "        if not is_table:\n",
    "            if len(doc.text) > 1500:\n",
    "                long_docs.append(doc)\n",
    "            else:\n",
    "                short_docs.append(doc)\n",
    "        else:\n",
    "            short_docs.append(doc)\n",
    "    return long_docs, short_docs\n",
    "                \n",
    "def chunk_doc(doc: Document, text_splitter: RecursiveCharacterTextSplitter) -> List[Document]:\n",
    "    chunks = text_splitter.split_text(doc.text)\n",
    "    return [\n",
    "        Document(\n",
    "            text=chunk,\n",
    "            metadata={\n",
    "                'is_table': doc.metadata['is_table'],\n",
    "                'source': doc.metadata.get('source', '')\n",
    "            }\n",
    "        )\n",
    "        for i, chunk in enumerate(chunks)\n",
    "    ]\n",
    "    \n",
    "def recursive_chunk_documents(long_docs: List[Document],\n",
    "                              short_docs: List[Document], \n",
    "                              chunk_size: int = 512, \n",
    "                              chunk_overlap: int = 64,\n",
    "                              separators: List[str] = [\"\\n\\n\", \"\\n\", \" \", \"\"]) -> List[Document]:\n",
    "    \n",
    "    text_splitter = RecursiveCharacterTextSplitter(\n",
    "        chunk_size=chunk_size,\n",
    "        chunk_overlap=chunk_overlap,\n",
    "        separators=separators\n",
    "    )\n",
    "\n",
    "    for doc in long_docs:\n",
    "        short_docs.extend(chunk_doc(doc, text_splitter))\n",
    "\n",
    "    return short_docs\n",
    "\n",
    "def get_final_docs(data_folder: Optional[str] = None, doc_list: Optional[List[Document]] = None) -> List[Document]:\n",
    "    if doc_list is None:\n",
    "        if data_folder is None:\n",
    "            raise ValueError(\"Either data_folder or doc_list must be provided\")\n",
    "        doc_list = read_pickles(data_folder)\n",
    "    \n",
    "    long_docs, short_docs = further_split_long_docs(doc_list)\n",
    "    final_docs = recursive_chunk_documents(long_docs, short_docs)\n",
    "    return final_docs\n",
    "        \n",
    "def parse_and_process_docs(file_location, data_folder: Optional[str] = None) -> List[Document]:\n",
    "    if data_folder:\n",
    "        make_dir(data_folder)\n",
    "        all_docs = parse_docs(file_location=file_location, data_folder=data_folder)\n",
    "    else:\n",
    "        all_docs = parse_docs(file_location=file_location)\n",
    "        \n",
    "    final_docs = get_final_docs(doc_list=all_docs)\n",
    "    return final_docs"
   ]
  },
  {
   "cell_type": "code",
   "execution_count": 11,
   "metadata": {},
   "outputs": [
    {
     "name": "stdout",
     "output_type": "stream",
     "text": [
      "File: Diabetes Medications.pdf\n",
      "Error while parsing the file 'pdf-test/Diabetes Medications.pdf': 'ascii' codec can't encode character '\\u201c' in position 7: ordinal not in range(128)\n"
     ]
    }
   ],
   "source": [
    "final_docs = parse_and_process_docs(file_location=\"pdf-test\")\n",
    "# pickle.dump(final_docs, open('pickles/final_docs.pkl', \"wb\"))"
   ]
  },
  {
   "cell_type": "code",
   "execution_count": 11,
   "metadata": {},
   "outputs": [
    {
     "data": {
      "text/plain": [
       "[Document(id_='e8394dac-9815-4e11-8953-7a6272ab20f7', embedding=None, metadata={'is_table': False, 'source': 'diabetes_medications'}, excluded_embed_metadata_keys=[], excluded_llm_metadata_keys=[], relationships={}, text=\"Diabetes Medications \\n\\n You should go back to your regular dosage schedule . Check with your doctor or pharmacist before taking any other medicines , including over - the - counter medicines . \\n\\n  Rare Side Effects of Anti - diabetes Tablets \\n\\n Please inform your doctor if you have the following symptoms : \\n\\n - Dark or coloured urine \\n - Tiredness \\n - Itchy skin or skin rash \\n - Loss of appetite \\n - Light - coloured stools \\n - Unexplained fever and sore throat \\n - Increased sensitivity to sunlight \\n - Diarrhoea \\n - Yellowing of eyes or skin \\n - Nausea or vomiting \\n - Headache \\n\\n Take action : \\n\\n  Beat Diabetes Step by Step \\n\\n  Are Anti - diabetes Tablets Addictive ? \\n\\n You can never become addicted to anti - diabetes tablets . This is a common misconception among patients who do not like the idea of taking medication long - term . \\n\\n The right way to think about diabetes medications is this : the tablets are there to do a job . If you take tablets only three days of the week instead of every day as instructed , you can expect your blood sugar to be high on the four days that you do not take the tablets . \\n\\n Anti - diabetes tablets are meant to help keep you well . However , tablets wo n't work unless you take tablets . \\n\\n  Read more : \\n\\n - Guide to Managing Diabetes \\n - Diabetes in Childhood and Pregnancy \\n - The Diabetic 's Guide to Dessert \\n - How Does Belly Fat Increase Your Risk of Diabetes ? \\n\\n  Type of Tablet\", mimetype='text/plain', start_char_idx=None, end_char_idx=None, text_template='{metadata_str}\\n\\n{content}', metadata_template='{key}: {value}', metadata_seperator='\\n'),\n",
       " Document(id_='d92cc625-94e2-4270-8874-5fb56ac69b81', embedding=None, metadata={'is_table': True, 'source': 'diabetes_medications'}, excluded_embed_metadata_keys=[], excluded_llm_metadata_keys=[], relationships={}, text='This table appears to be empty or incomplete . table has three columns labeled \" Type of Tablet , \" \" Action , \" and \" Comment , \" but there is no data in any of the cells . Without any content , it \\'s not possible to determine the specific purpose or subject of this table . \\n\\n There is no existing title , caption , or table ID provided in the given context . \\n\\n Given the lack of information , this table should not be kept in table current form as table does not provide any useful data or insights . , \\n with the following columns :', mimetype='text/plain', start_char_idx=None, end_char_idx=None, text_template='{metadata_str}\\n\\n{content}', metadata_template='{key}: {value}', metadata_seperator='\\n'),\n",
       " Document(id_='c6a053dc-a94c-4cb5-a373-ccf4b6c49a16', embedding=None, metadata={'is_table': False, 'source': 'diabetes_medications'}, excluded_embed_metadata_keys=[], excluded_llm_metadata_keys=[], relationships={}, text='Diabetes Medications \\n\\n Learn about the different diabetes treatment pills available , the guidelines when taking guidelines and more . \\n\\n  Treatment of Diabetes Mellitus : Tablets \\n\\n Treatment of type 2 diabetes begins with diet control . If diet alone is unable to control blood sugar levels , then tablets have to be taken . If both diet and tablets fail to control the blood sugar levels , insulin injections may be needed . \\n\\n Oral anti - diabetes tablets are used for treating type 2 diabetes .', mimetype='text/plain', start_char_idx=None, end_char_idx=None, text_template='{metadata_str}\\n\\n{content}', metadata_template='{key}: {value}', metadata_seperator='\\n'),\n",
       " Document(id_='6d63e9ef-ea90-4dda-a8fb-bd3354c50a85', embedding=None, metadata={'is_table': False, 'source': 'diabetes_medications'}, excluded_embed_metadata_keys=[], excluded_llm_metadata_keys=[], relationships={}, text='Tell Your Doctor if You \\n\\n - Are allergic to any medicines \\n - Are pregnant , or intend to become pregnant \\n - Are breastfeeding \\n - Are taking any other medicines \\n - Have any other medical problems \\n\\n  Some Guidelines to Follow When Taking Your Diabetes Pill(s )', mimetype='text/plain', start_char_idx=None, end_char_idx=None, text_template='{metadata_str}\\n\\n{content}', metadata_template='{key}: {value}', metadata_seperator='\\n'),\n",
       " Document(id_='d4407d0d-34c8-4dc5-aa03-1991ee724850', embedding=None, metadata={'is_table': False, 'source': 'diabetes_medications'}, excluded_embed_metadata_keys=[], excluded_llm_metadata_keys=[], relationships={}, text='- Know the name and dosage of your diabetic tablet(s ) . \\n - Do not take more or less than what your doctor ordered . \\n - Take the tablet(s ) at the correct times . Do not make any changes to your medication routine without consulting your doctor . \\n - Take your tablet(s ) even when you are sick ( sometimes the dosage may have to be changed , so do consult your doctor beforehand ) .', mimetype='text/plain', start_char_idx=None, end_char_idx=None, text_template='{metadata_str}\\n\\n{content}', metadata_template='{key}: {value}', metadata_seperator='\\n'),\n",
       " Document(id_='cf1c49e0-20dd-493d-b12d-6cf5ed364d04', embedding=None, metadata={'is_table': False, 'source': 'diabetes_medications'}, excluded_embed_metadata_keys=[], excluded_llm_metadata_keys=[], relationships={}, text='- Follow your meal plan . doctor will help your tablet(s ) work better . Careless eating may cause the tablet(s ) to lose doctor effect . \\n - If you miss a dose of the tablet(s ) , take tablet(s as soon as possible unless tablet(s is time for your next dose . In that case , do not take the missed dose and do not double the next one .', mimetype='text/plain', start_char_idx=None, end_char_idx=None, text_template='{metadata_str}\\n\\n{content}', metadata_template='{key}: {value}', metadata_seperator='\\n'),\n",
       " Document(id_='25b6ad2f-234e-40a0-bdee-540cf5a749a1', embedding=None, metadata={'is_table': False, 'source': 'diabetes_medications'}, excluded_embed_metadata_keys=[], excluded_llm_metadata_keys=[], relationships={}, text='Source', mimetype='text/plain', start_char_idx=None, end_char_idx=None, text_template='{metadata_str}\\n\\n{content}', metadata_template='{key}: {value}', metadata_seperator='\\n'),\n",
       " Document(id_='518e131e-706a-433b-bdc0-05ba2a596a93', embedding=None, metadata={'is_table': False, 'source': 'diabetes_medications'}, excluded_embed_metadata_keys=[], excluded_llm_metadata_keys=[], relationships={}, text='Diabetes Medications \\n\\n  Sulphonylureas \\n\\n Help the pancreas to release more insulin and the body to use glucose more effectively . \\n\\n - Chlorpropamide ( Diabinese ® ) \\n - Glibenclamide ( Daonil ® ) \\n - Gliclazide ( Diamicron ® ) \\n - Tolbutamide ( Rastinon ® ) \\n - Glimepiride ( Amaryl ® ) \\n\\n Take the tablet(s ) daily immediately after meals ( except Gliclazide which is consumed half an hour before meals ) . Do not miss or delay meals . Otherwise , your blood sugar level may fall too low .', mimetype='text/plain', start_char_idx=None, end_char_idx=None, text_template='{metadata_str}\\n\\n{content}', metadata_template='{key}: {value}', metadata_seperator='\\n'),\n",
       " Document(id_='e7e1d625-e117-4c5f-a490-70b0252dbce4', embedding=None, metadata={'is_table': False, 'source': 'diabetes_medications'}, excluded_embed_metadata_keys=[], excluded_llm_metadata_keys=[], relationships={}, text='Sometimes other tablets ( e.g. those for blood pressure ) can react with anti - diabetes tablets . If in doubt , talk to your doctor or pharmacist . \\n\\n Alcohol interferes with some of these tablets : consult your pharmacist if you are planning to drink alcohol . For example , having alcohol with Chlorpropamide causes side effects like redness and vomiting . \\n\\n  Biguanides \\n\\n Help the body to use glucose more effectively . \\n\\n - e.g. Metformin ( Glucophage ® )', mimetype='text/plain', start_char_idx=None, end_char_idx=None, text_template='{metadata_str}\\n\\n{content}', metadata_template='{key}: {value}', metadata_seperator='\\n'),\n",
       " Document(id_='b8509a3a-bd4d-44b3-9522-47e33f929009', embedding=None, metadata={'is_table': False, 'source': 'diabetes_medications'}, excluded_embed_metadata_keys=[], excluded_llm_metadata_keys=[], relationships={}, text='- e.g. Metformin ( Glucophage ® ) \\n\\n Take the tablet(s ) with meals or after meals . \\n\\n  a - glucosidase inhibitors \\n\\n Help to stop the quick rise of blood glucose after a meal . \\n\\n - e.g. Acarbose ( Glucobay ® ) \\n\\n Take the tablet(s ) with the first mouthful or immediately before each of the three main daily meals . \\n\\n  Meglitinides \\n\\n Help the pancreas to release more insulin . \\n\\n - e.g. Repaglinide ( Novonorm ® ) \\n\\n Take the tablet before meals . \\n\\n  Thiazolidinediones', mimetype='text/plain', start_char_idx=None, end_char_idx=None, text_template='{metadata_str}\\n\\n{content}', metadata_template='{key}: {value}', metadata_seperator='\\n'),\n",
       " Document(id_='6d8a521d-7502-40e8-8538-b582c40f06f6', embedding=None, metadata={'is_table': False, 'source': 'diabetes_medications'}, excluded_embed_metadata_keys=[], excluded_llm_metadata_keys=[], relationships={}, text='Take the tablet before meals . \\n\\n  Thiazolidinediones \\n\\n Enhance insulin action and help the body to use glucose more effectively . \\n\\n - e.g. Rosiglitazone ( Avandia ® ) \\n\\n Take the tablet with or without food . \\n\\n This article was last reviewed on Tuesday , May 25 , 2021 \\n\\n Source', mimetype='text/plain', start_char_idx=None, end_char_idx=None, text_template='{metadata_str}\\n\\n{content}', metadata_template='{key}: {value}', metadata_seperator='\\n')]"
      ]
     },
     "execution_count": 11,
     "metadata": {},
     "output_type": "execute_result"
    }
   ],
   "source": [
    "final_docs"
   ]
  },
  {
   "cell_type": "code",
   "execution_count": 12,
   "metadata": {},
   "outputs": [],
   "source": [
    "NEO4J_URI = \"bolt://localhost:7687\"\n",
    "NEO4J_USER = \"neo4j\"\n",
    "NEO4J_PASSWORD = \"15082001\"\n",
    "NEO4J_DATABASE = \"neo4j\"\n",
    "\n",
    "graph_store = Neo4jPropertyGraphStore(\n",
    "    username=NEO4J_USER,\n",
    "    password=NEO4J_PASSWORD,\n",
    "    url=NEO4J_URI,\n",
    "    refresh_schema=False,\n",
    ")\n",
    "\n",
    "# gds = GraphDataScience(NEO4J_URI, database=NEO4J_DATABASE, auth=(NEO4J_USER, NEO4J_PASSWORD))"
   ]
  },
  {
   "cell_type": "code",
   "execution_count": 13,
   "metadata": {},
   "outputs": [],
   "source": [
    "def delete_all_nodes(graph_store):\n",
    "    graph_store.structured_query(\"\"\"\n",
    "    MATCH (n)\n",
    "    DETACH DELETE n\n",
    "    \"\"\")\n",
    "    print(\"All nodes deleted\")"
   ]
  },
  {
   "cell_type": "code",
   "execution_count": 14,
   "metadata": {},
   "outputs": [
    {
     "name": "stdout",
     "output_type": "stream",
     "text": [
      "All nodes deleted\n"
     ]
    }
   ],
   "source": [
    "delete_all_nodes(graph_store)"
   ]
  },
  {
   "cell_type": "code",
   "execution_count": 15,
   "metadata": {},
   "outputs": [],
   "source": [
    "def remove_all_neo4j_restrictions(graph_store):\n",
    "    graph_store.structured_query(\"\"\"\n",
    "    CALL apoc.schema.assert({}, {});\n",
    "    \"\"\")"
   ]
  },
  {
   "cell_type": "code",
   "execution_count": 16,
   "metadata": {},
   "outputs": [
    {
     "name": "stderr",
     "output_type": "stream",
     "text": [
      "Parsing nodes: 100%|██████████| 11/11 [00:00<00:00, 5510.91it/s]\n",
      "Extracting triples: 100%|██████████| 11/11 [02:44<00:00, 14.95s/it]\n",
      "Generating embeddings: 100%|██████████| 1/1 [00:01<00:00,  1.24s/it]\n",
      "Generating embeddings: 100%|██████████| 1/1 [00:02<00:00,  2.21s/it]\n"
     ]
    }
   ],
   "source": [
    "index = PropertyGraphIndex.from_documents(\n",
    "    final_docs,\n",
    "    kg_extractors=[relik],\n",
    "    llm=llama_llm,\n",
    "    embed_model=llama_openai_embed_model,\n",
    "    property_graph_store=graph_store,\n",
    "    show_progress=True,\n",
    ")"
   ]
  },
  {
   "cell_type": "code",
   "execution_count": 18,
   "metadata": {},
   "outputs": [],
   "source": [
    "index = PropertyGraphIndex.from_existing(\n",
    "    llm = llama_llm,\n",
    "    embed_model=llama_openai_embed_model,\n",
    "    property_graph_store=graph_store,\n",
    ")"
   ]
  },
  {
   "cell_type": "code",
   "execution_count": 48,
   "metadata": {},
   "outputs": [],
   "source": [
    "retriever = index.as_retriever(include_text=True, similarity_top_k=8)"
   ]
  },
  {
   "cell_type": "code",
   "execution_count": 49,
   "metadata": {},
   "outputs": [],
   "source": [
    "nodes = retriever.retrieve(\"can i take alcohol with Sulphonylureas?\")"
   ]
  },
  {
   "cell_type": "code",
   "execution_count": 50,
   "metadata": {},
   "outputs": [
    {
     "name": "stdout",
     "output_type": "stream",
     "text": [
      "Here are some facts extracted from the provided text:\n",
      "\n",
      "Glimepiride ({'source': 'diabetes_medications', 'name': 'Glimepiride', 'triplet_source_id': '9c821a70-f57e-49c9-8b3c-d632344c2bdc'}) -> HAS_USE ({'source': 'diabetes_medications', 'triplet_source_id': '9c821a70-f57e-49c9-8b3c-d632344c2bdc'}) -> Diabetes ({'source': 'diabetes_medications', 'name': 'Diabetes', 'triplet_source_id': '9c821a70-f57e-49c9-8b3c-d632344c2bdc'})\n",
      "\n",
      "Diabetes Medications \n",
      "\n",
      "  Sulphonylureas \n",
      "\n",
      " Help the pancreas to release more insulin and the body to use glucose more effectively . \n",
      "\n",
      " - Chlorpropamide ( Diabinese ® ) \n",
      " - Glibenclamide ( Daonil ® ) \n",
      " - Gliclazide ( Diamicron ® ) \n",
      " - Tolbutamide ( Rastinon ® ) \n",
      " - Glimepiride ( Amaryl ® ) \n",
      "\n",
      " Take the tablet(s ) daily immediately after meals ( except Gliclazide which is consumed half an hour before meals ) . Do not miss or delay meals . Otherwise , your blood sugar level may fall too low .\n",
      "========================================================================================================================\n",
      "Here are some facts extracted from the provided text:\n",
      "\n",
      "glucose ({'source': 'diabetes_medications', 'name': 'glucose', 'triplet_source_id': '5071df29-27d6-4be7-b540-fc34c44a957a'}) -> HAS_USE ({'source': 'diabetes_medications', 'triplet_source_id': '9c821a70-f57e-49c9-8b3c-d632344c2bdc'}) -> Diabetes ({'source': 'diabetes_medications', 'name': 'Diabetes', 'triplet_source_id': '9c821a70-f57e-49c9-8b3c-d632344c2bdc'})\n",
      "\n",
      "Sometimes other tablets ( e.g. those for blood pressure ) can react with anti - diabetes tablets . If in doubt , talk to your doctor or pharmacist . \n",
      "\n",
      " Alcohol interferes with some of these tablets : consult your pharmacist if you are planning to drink alcohol . For example , having alcohol with Chlorpropamide causes side effects like redness and vomiting . \n",
      "\n",
      "  Biguanides \n",
      "\n",
      " Help the body to use glucose more effectively . \n",
      "\n",
      " - e.g. Metformin ( Glucophage ® )\n",
      "========================================================================================================================\n"
     ]
    }
   ],
   "source": [
    "for node in nodes:\n",
    "    print(node.text)\n",
    "    print(\"=\" * 120)"
   ]
  },
  {
   "cell_type": "code",
   "execution_count": null,
   "metadata": {},
   "outputs": [],
   "source": []
  }
 ],
 "metadata": {
  "kernelspec": {
   "display_name": "Python 3",
   "language": "python",
   "name": "python3"
  },
  "language_info": {
   "codemirror_mode": {
    "name": "ipython",
    "version": 3
   },
   "file_extension": ".py",
   "mimetype": "text/x-python",
   "name": "python",
   "nbconvert_exporter": "python",
   "pygments_lexer": "ipython3",
   "version": "3.11.5"
  }
 },
 "nbformat": 4,
 "nbformat_minor": 2
}
