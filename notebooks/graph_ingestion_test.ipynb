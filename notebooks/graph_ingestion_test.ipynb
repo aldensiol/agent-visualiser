{
 "cells": [
  {
   "cell_type": "code",
   "execution_count": 1,
   "metadata": {},
   "outputs": [
    {
     "name": "stderr",
     "output_type": "stream",
     "text": [
      "/Library/Frameworks/Python.framework/Versions/3.11/lib/python3.11/site-packages/tqdm/auto.py:21: TqdmWarning: IProgress not found. Please update jupyter and ipywidgets. See https://ipywidgets.readthedocs.io/en/stable/user_install.html\n",
      "  from .autonotebook import tqdm as notebook_tqdm\n"
     ]
    }
   ],
   "source": [
    "import nest_asyncio\n",
    "import os\n",
    "import pickle\n",
    "import re\n",
    "import spacy\n",
    "import torch\n",
    "import uuid\n",
    "\n",
    "from alive_progress import alive_bar\n",
    "from dotenv import load_dotenv\n",
    "from fastembed import TextEmbedding\n",
    "from graphdatascience import GraphDataScience\n",
    "from langchain_anthropic import ChatAnthropic\n",
    "from langchain_openai import OpenAIEmbeddings\n",
    "from langchain.text_splitter import RecursiveCharacterTextSplitter\n",
    "from llama_index.core import Settings, Document, PropertyGraphIndex \n",
    "from llama_index.core.node_parser import MarkdownElementNodeParser\n",
    "from llama_index.embeddings.openai import OpenAIEmbedding\n",
    "from llama_index.extractors.relik.base import RelikPathExtractor\n",
    "from llama_index.graph_stores.neo4j import Neo4jPropertyGraphStore\n",
    "from llama_index.llms.anthropic import Anthropic\n",
    "from llama_parse import LlamaParse\n",
    "from transformers import pipeline\n",
    "from typing import List, Optional, Tuple"
   ]
  },
  {
   "cell_type": "code",
   "execution_count": 2,
   "metadata": {},
   "outputs": [],
   "source": [
    "load_dotenv()\n",
    "\n",
    "OPENAI_API_KEY = os.getenv('OPENAI_API_KEY')\n",
    "CLAUDE_API_KEY = os.getenv('CLAUDE_API_KEY')\n",
    "LLAMA_API_KEY = os.getenv('LLAMA_API_KEY')\n",
    "\n",
    "os.environ['OPENAI_API_KEY'] = OPENAI_API_KEY\n",
    "os.environ[\"ANTHROPIC_API_KEY\"] = CLAUDE_API_KEY\n",
    "os.environ[\"LLAMA_CLOUD_API_KEY\"] = LLAMA_API_KEY"
   ]
  },
  {
   "cell_type": "code",
   "execution_count": 3,
   "metadata": {},
   "outputs": [],
   "source": [
    "llm = ChatAnthropic(\n",
    "    model=\"claude-3-5-sonnet-20240620\",\n",
    "    max_tokens=4096,\n",
    "    temperature=0.0,\n",
    "    stop=[\"\\n\\nHuman\"],\n",
    ")\n",
    "\n",
    "llama_llm = Anthropic(\n",
    "    model=\"claude-3-5-sonnet-20240620\",\n",
    "    max_tokens=4096,\n",
    "    temperature=0.0\n",
    ")"
   ]
  },
  {
   "cell_type": "code",
   "execution_count": 4,
   "metadata": {},
   "outputs": [
    {
     "name": "stderr",
     "output_type": "stream",
     "text": [
      "Fetching 5 files: 100%|██████████| 5/5 [00:00<00:00, 33554.43it/s]\n"
     ]
    }
   ],
   "source": [
    "bge_embed_model = TextEmbedding(model_name=\"BAAI/bge-large-en-v1.5\")\n",
    "llama_openai_embed_model = OpenAIEmbedding(model_name=\"text-embedding-3-small\")\n",
    "\n",
    "Settings.embed_model = llama_openai_embed_model"
   ]
  },
  {
   "cell_type": "code",
   "execution_count": 5,
   "metadata": {},
   "outputs": [
    {
     "name": "stdout",
     "output_type": "stream",
     "text": [
      "                ___              __         \n",
      "               /\\_ \\      __    /\\ \\        \n",
      " _ __     __   \\//\\ \\    /\\_\\   \\ \\ \\/'\\    \n",
      "/\\`'__\\ /'__`\\   \\ \\ \\   \\/\\ \\   \\ \\ , <    \n",
      "\\ \\ \\/ /\\  __/    \\_\\ \\_  \\ \\ \\   \\ \\ \\\\`\\  \n",
      " \\ \\_\\ \\ \\____\\   /\\____\\  \\ \\_\\   \\ \\_\\ \\_\\\n",
      "  \\/_/  \\/____/   \\/____/   \\/_/    \\/_/\\/_/\n",
      "                                            \n",
      "                                            \n",
      "\n"
     ]
    },
    {
     "name": "stderr",
     "output_type": "stream",
     "text": [
      "/Library/Frameworks/Python.framework/Versions/3.11/lib/python3.11/site-packages/huggingface_hub/file_download.py:1132: FutureWarning: `resume_download` is deprecated and will be removed in version 1.0.0. Downloads always resume when possible. If you want to force a new download, use `force_download=True`.\n",
      "  warnings.warn(\n"
     ]
    },
    {
     "name": "stdout",
     "output_type": "stream",
     "text": [
      "\u001b[33m[2024-09-09 12:03:58,346] [WARNING] [relik.common.utils.download_from_hf:342] [PID:13098] [RANK:0] Couldn't download index.faiss from relik-ie/encoder-e5-small-v2-wikipedia-relations-index, ignoring\u001b[39m\n"
     ]
    }
   ],
   "source": [
    "relik = RelikPathExtractor(\n",
    "    model=\"relik-ie/relik-relation-extraction-small\"\n",
    ")"
   ]
  },
  {
   "cell_type": "code",
   "execution_count": 6,
   "metadata": {},
   "outputs": [
    {
     "name": "stderr",
     "output_type": "stream",
     "text": [
      "/Library/Frameworks/Python.framework/Versions/3.11/lib/python3.11/site-packages/spacy/util.py:910: UserWarning: [W095] Model 'en_core_web_lg' (3.5.0) was trained with spaCy v3.5.0 and may not be 100% compatible with the current version (3.7.6). If you see errors or degraded performance, download a newer compatible model or retrain your custom model with the current spaCy version. For more details and available updates, run: python -m spacy validate\n",
      "  warnings.warn(warn_msg)\n"
     ]
    },
    {
     "data": {
      "text/plain": [
       "<coreferee.manager.CorefereeBroker at 0x3fd9e0c50>"
      ]
     },
     "execution_count": 6,
     "metadata": {},
     "output_type": "execute_result"
    }
   ],
   "source": [
    "coref_nlp = spacy.load('en_core_web_lg')\n",
    "coref_nlp.add_pipe('coreferee')"
   ]
  },
  {
   "cell_type": "code",
   "execution_count": 7,
   "metadata": {},
   "outputs": [],
   "source": [
    "# instantiate doc parser\n",
    "parser = LlamaParse(\n",
    "    result_type=\"markdown\",\n",
    "    num_workers=8,\n",
    "    verbose = True,\n",
    "    language=\"en\",\n",
    ")\n",
    "\n",
    "# instantiate node parser\n",
    "node_parser = MarkdownElementNodeParser(llm=llama_llm, num_workers=8)"
   ]
  },
  {
   "cell_type": "code",
   "execution_count": 8,
   "metadata": {},
   "outputs": [],
   "source": [
    "nest_asyncio.apply()"
   ]
  },
  {
   "cell_type": "code",
   "execution_count": 9,
   "metadata": {},
   "outputs": [],
   "source": [
    "def coref_text(text):\n",
    "    coref_doc = coref_nlp(text.strip())\n",
    "    resolved_text = \"\"\n",
    "\n",
    "    for token in coref_doc:\n",
    "        repres = coref_doc._.coref_chains.resolve(token)\n",
    "        if repres:\n",
    "            resolved_text += \" \" + \" and \".join(\n",
    "                [\n",
    "                    t.text\n",
    "                    if t.ent_type_ == \"\"\n",
    "                    else [e.text for e in coref_doc.ents if t in e][0]\n",
    "                    for t in repres\n",
    "                ]\n",
    "            )\n",
    "        else:\n",
    "            resolved_text += \" \" + token.text\n",
    "\n",
    "    return resolved_text.strip()\n",
    "\n",
    "def remove_table_of_contents(text):\n",
    "    pattern = r\"TABLE OF CONTENTS.*?(?=#)\"\n",
    "    cleaned_text = re.sub(pattern, \"\", text, flags=re.DOTALL)\n",
    "    return cleaned_text.strip()\n",
    "\n",
    "def convert_nodes_to_documents(text_nodes, object_nodes, source):\n",
    "    \"\"\"\n",
    "    Converts nodes to Documents\n",
    "\n",
    "    Args:\n",
    "        text_nodes (List[Nodes]): List of text nodes\n",
    "        object_nodes (List[Nodes]): List of object nodes\n",
    "        source (str): Source of the document\n",
    "\n",
    "    Returns:\n",
    "        documents (List[Documents]): List of Documents\n",
    "    \"\"\"\n",
    "    documents = []\n",
    "    for node in text_nodes:\n",
    "        text = coref_text(node.text)\n",
    "        doc = Document(\n",
    "            text= text,\n",
    "            metadata = {\n",
    "                \"is_table\": False,\n",
    "                \"source\": source\n",
    "            }\n",
    "        )\n",
    "        documents.append(doc)\n",
    "        \n",
    "    for node in object_nodes:\n",
    "        text = coref_text(node.text)\n",
    "        doc = Document(\n",
    "            text= text,\n",
    "            metadata = {\n",
    "                \"is_table\": True,\n",
    "                \"source\": source\n",
    "            }\n",
    "        )\n",
    "        documents.append(doc)\n",
    "        \n",
    "    return documents\n",
    "\n",
    "def make_dir(data_folder):\n",
    "    os.makedirs(data_folder, exist_ok=True)\n",
    "\n",
    "def parse_docs(file_location: str, data_folder: Optional[str] = None) -> List[Document]:\n",
    "    \"\"\"\n",
    "    Parses PDF Folder and returns a list of Documents\n",
    "\n",
    "    Args:\n",
    "        file_location (str): PDF Folder Location\n",
    "        data_folder (Optional[str], optional): Folder to save pickles (Optional). Defaults to None.\n",
    "\n",
    "    Returns:\n",
    "        List[Document]: _description_\n",
    "    \"\"\"\n",
    "    all_docs = []\n",
    "    for file_name in os.listdir(file_location):\n",
    "        if not file_name.endswith(\".pdf\"):\n",
    "            continue\n",
    "\n",
    "        print(\"File: \" + str(file_name))\n",
    "        doc_path = os.path.join(file_location, file_name)\n",
    "        modified_file_name = os.path.splitext(file_name)[0].lower().replace(' ', '_')\n",
    "\n",
    "        # results in a list of Document Objects\n",
    "        documents = parser.load_data(doc_path)\n",
    "        \n",
    "        for idx, doc in enumerate(documents):\n",
    "            doc.text = remove_table_of_contents(doc.text)\n",
    "            if idx > 4:\n",
    "                break\n",
    "\n",
    "        raw_nodes = node_parser.get_nodes_from_documents(documents)\n",
    "        # list of text_nodes, list of objects\n",
    "        text_nodes, objects = node_parser.get_nodes_and_objects(raw_nodes)\n",
    "        \n",
    "        final_docs = convert_nodes_to_documents(text_nodes, objects, modified_file_name)\n",
    "        all_docs.append(final_docs)\n",
    "        \n",
    "        if data_folder:\n",
    "            data_path = os.path.join(data_folder, modified_file_name + '.pkl')\n",
    "            pickle.dump(final_docs, open(data_path, \"wb\"))\n",
    "    \n",
    "    return [item for sublist in all_docs for item in sublist]\n",
    "\n",
    "def read_pickles(data_folder: str) -> List[Document]:\n",
    "    doc_list = []\n",
    "    for file_name in os.listdir(data_folder):\n",
    "        doc_path = os.path.join(data_folder, file_name)\n",
    "        if file_name.endswith(\".pkl\"):\n",
    "            with open(doc_path, 'rb') as file:\n",
    "                # data will be a doc_list\n",
    "                data = pickle.load(file)\n",
    "                doc_list.append(data)\n",
    "                \n",
    "    # since doc_list is a list of list of documents, we need to flatten it\n",
    "    doc_list = [item for sublist in doc_list for item in sublist]\n",
    "    return doc_list\n",
    "\n",
    "def further_split_long_docs(doc_list: List[Document]) -> Tuple[List[Document], List[Document]]:\n",
    "    long_docs, short_docs = [], []\n",
    "    for doc in doc_list:\n",
    "        is_table = doc.metadata[\"is_table\"]\n",
    "        if not is_table:\n",
    "            if len(doc.text) > 1500:\n",
    "                long_docs.append(doc)\n",
    "            else:\n",
    "                short_docs.append(doc)\n",
    "        else:\n",
    "            short_docs.append(doc)\n",
    "    return long_docs, short_docs\n",
    "                \n",
    "def chunk_doc(doc: Document, text_splitter: RecursiveCharacterTextSplitter) -> List[Document]:\n",
    "    chunks = text_splitter.split_text(doc.text)\n",
    "    return [\n",
    "        Document(\n",
    "            text=chunk,\n",
    "            metadata={\n",
    "                'is_table': doc.metadata['is_table'],\n",
    "                'source': doc.metadata.get('source', '')\n",
    "            }\n",
    "        )\n",
    "        for i, chunk in enumerate(chunks)\n",
    "    ]\n",
    "    \n",
    "def recursive_chunk_documents(long_docs: List[Document],\n",
    "                              short_docs: List[Document], \n",
    "                              chunk_size: int = 512, \n",
    "                              chunk_overlap: int = 64,\n",
    "                              separators: List[str] = [\"\\n\\n\", \"\\n\", \" \", \"\"]) -> List[Document]:\n",
    "    \n",
    "    text_splitter = RecursiveCharacterTextSplitter(\n",
    "        chunk_size=chunk_size,\n",
    "        chunk_overlap=chunk_overlap,\n",
    "        separators=separators\n",
    "    )\n",
    "\n",
    "    for doc in long_docs:\n",
    "        short_docs.extend(chunk_doc(doc, text_splitter))\n",
    "\n",
    "    return short_docs\n",
    "\n",
    "def get_final_docs(data_folder: Optional[str] = None, doc_list: Optional[List[Document]] = None) -> List[Document]:\n",
    "    if doc_list is None:\n",
    "        if data_folder is None:\n",
    "            raise ValueError(\"Either data_folder or doc_list must be provided\")\n",
    "        doc_list = read_pickles(data_folder)\n",
    "    \n",
    "    long_docs, short_docs = further_split_long_docs(doc_list)\n",
    "    final_docs = recursive_chunk_documents(long_docs, short_docs)\n",
    "    return final_docs\n",
    "        \n",
    "def parse_and_process_docs(file_location, data_folder: Optional[str] = None) -> List[Document]:\n",
    "    if data_folder:\n",
    "        make_dir(data_folder)\n",
    "        all_docs = parse_docs(file_location=file_location, data_folder=data_folder)\n",
    "    else:\n",
    "        all_docs = parse_docs(file_location=file_location)\n",
    "        \n",
    "    final_docs = get_final_docs(doc_list=all_docs)\n",
    "    return final_docs"
   ]
  },
  {
   "cell_type": "code",
   "execution_count": 10,
   "metadata": {},
   "outputs": [
    {
     "name": "stdout",
     "output_type": "stream",
     "text": [
      "File: Diabetes Medications.pdf\n",
      "Started parsing the file under job_id 35efced1-b9db-475a-9f83-752d30994d72\n"
     ]
    },
    {
     "name": "stderr",
     "output_type": "stream",
     "text": [
      "0it [00:00, ?it/s]\n",
      "1it [00:00, 34100.03it/s]\n",
      "0it [00:00, ?it/s]\n"
     ]
    },
    {
     "name": "stdout",
     "output_type": "stream",
     "text": [
      "File: managing-pre-diabetes-(updated-on-27-jul-2021)c2bfc77474154c2abf623156a4b93002.pdf\n",
      "Started parsing the file under job_id 8bf55fd4-63cc-4271-b9e3-4360312e630e\n",
      "."
     ]
    },
    {
     "name": "stderr",
     "output_type": "stream",
     "text": [
      "0it [00:00, ?it/s]\n",
      "1it [00:00, 21183.35it/s]\n",
      "0it [00:00, ?it/s]\n",
      "1it [00:00, 14873.42it/s]\n",
      "2it [00:00, 41527.76it/s]\n",
      "0it [00:00, ?it/s]\n"
     ]
    },
    {
     "name": "stdout",
     "output_type": "stream",
     "text": [
      "File: Diabetic Foot Ulcer_ Symptoms and Treatment.pdf\n",
      "Started parsing the file under job_id 99916ca4-76f3-45f5-abe7-264559eb2408\n"
     ]
    },
    {
     "name": "stderr",
     "output_type": "stream",
     "text": [
      "0it [00:00, ?it/s]\n",
      "0it [00:00, ?it/s]\n"
     ]
    },
    {
     "name": "stdout",
     "output_type": "stream",
     "text": [
      "File: Diabetes Treatment_ Insulin.pdf\n",
      "Started parsing the file under job_id 423c4aa8-b131-432c-9c54-3c4451f08056\n"
     ]
    },
    {
     "name": "stderr",
     "output_type": "stream",
     "text": [
      "0it [00:00, ?it/s]\n",
      "0it [00:00, ?it/s]\n",
      "0it [00:00, ?it/s]\n",
      "1it [00:00, 31068.92it/s]\n"
     ]
    }
   ],
   "source": [
    "final_docs = parse_and_process_docs(file_location=\"pdfs\", data_folder=\"test_pickles\")\n",
    "pickle.dump(final_docs, open('pickles/final_docs.pkl', \"wb\"))"
   ]
  },
  {
   "cell_type": "code",
   "execution_count": 11,
   "metadata": {},
   "outputs": [],
   "source": [
    "with open(\"pickles/final_docs.pkl\", 'rb') as file:\n",
    "    final_docs = pickle.load(file)"
   ]
  },
  {
   "cell_type": "code",
   "execution_count": 12,
   "metadata": {},
   "outputs": [
    {
     "data": {
      "text/plain": [
       "[Document(id_='43c8dd4c-d18a-469b-97f8-05773f129b16', embedding=None, metadata={'is_table': False, 'source': 'diabetes_medications'}, excluded_embed_metadata_keys=[], excluded_llm_metadata_keys=[], relationships={}, text=\"Diabetes Medications \\n\\n You should go back to your regular dosage schedule . Check with your doctor or pharmacist before taking any other medicines , including over - the - counter medicines . \\n\\n  Rare Side Effects of Anti - diabetes Tablets \\n\\n Please inform your doctor if you have the following symptoms : \\n\\n - Dark or coloured urine \\n - Tiredness \\n - Itchy skin or skin rash \\n - Loss of appetite \\n - Light - coloured stools \\n - Unexplained fever and sore throat \\n - Increased sensitivity to sunlight \\n - Diarrhoea \\n - Yellowing of eyes or skin \\n - Nausea or vomiting \\n - Headache \\n\\n Take action : \\n\\n  Beat Diabetes Step by Step \\n\\n  Are Anti - diabetes Tablets Addictive ? \\n\\n You can never become addicted to anti - diabetes tablets . This is a common misconception among patients who do not like the idea of taking medication long - term . \\n\\n The right way to think about diabetes medications is this : the tablets are there to do a job . If you take tablets only three days of the week instead of every day as instructed , you can expect your blood sugar to be high on the four days that you do not take the tablets . \\n\\n Anti - diabetes tablets are meant to help keep you well . However , tablets wo n't work unless you take tablets . \\n\\n  Read more : \\n\\n - Guide to Managing Diabetes \\n - Diabetes in Childhood and Pregnancy \\n - The Diabetic 's Guide to Dessert \\n - How Does Belly Fat Increase Your Risk of Diabetes ? \\n\\n  Type of Tablet\", mimetype='text/plain', start_char_idx=None, end_char_idx=None, text_template='{metadata_str}\\n\\n{content}', metadata_template='{key}: {value}', metadata_seperator='\\n'),\n",
       " Document(id_='12a71d37-e8f3-4398-b3c2-407afbb88444', embedding=None, metadata={'is_table': True, 'source': 'diabetes_medications'}, excluded_embed_metadata_keys=[], excluded_llm_metadata_keys=[], relationships={}, text='This table appears to be empty or incomplete . table has three columns labeled \" Type of Tablet , \" \" Action , \" and \" Comment , \" but there is no data in any of the cells . Without any content , it \\'s not possible to determine the specific purpose or subject of this table . \\n\\n There is no existing title , caption , or table ID provided in the given context . \\n\\n Given the lack of information , this table should not be kept in table current form as table does not provide any useful data or insights . , \\n with the following columns :', mimetype='text/plain', start_char_idx=None, end_char_idx=None, text_template='{metadata_str}\\n\\n{content}', metadata_template='{key}: {value}', metadata_seperator='\\n'),\n",
       " Document(id_='3f1aba26-5e0d-4f92-98f9-2eb9ce121e98', embedding=None, metadata={'is_table': False, 'source': 'managing-pre-diabetes-(updated-on-27-jul-2021)c2bfc77474154c2abf623156a4b93002'}, excluded_embed_metadata_keys=[], excluded_llm_metadata_keys=[], relationships={}, text='Diagnosis of pre - diabetes \\n\\n  1 \\n\\n In Singapore , glucose thresholds in Table 1 below are used to diagnose pre - diabetes ( impaired fasting glucose or impaired glucose tolerance ) .', mimetype='text/plain', start_char_idx=None, end_char_idx=None, text_template='{metadata_str}\\n\\n{content}', metadata_template='{key}: {value}', metadata_seperator='\\n'),\n",
       " Document(id_='816526d2-cc71-4b5d-8a7e-47562db6dac0', embedding=None, metadata={'is_table': False, 'source': 'managing-pre-diabetes-(updated-on-27-jul-2021)c2bfc77474154c2abf623156a4b93002'}, excluded_embed_metadata_keys=[], excluded_llm_metadata_keys=[], relationships={}, text='Figure 1 . Pathway for managing pre - diabetes \\n\\n  DIAGNOSIS OF PRE - DIABETES \\n\\n IFG : FPG 6.1–6.9 and 2 - hG < 7.8 mmol / L OR Screen for CVD risk factors , including hypertension and dyslipidaemia . \\n\\n IGT : FPG < 7.0 and 2 - hG 7.8–11.0 mmol / L', mimetype='text/plain', start_char_idx=None, end_char_idx=None, text_template='{metadata_str}\\n\\n{content}', metadata_template='{key}: {value}', metadata_seperator='\\n'),\n",
       " Document(id_='5877fc70-3f7f-4ae9-baeb-cbb225e19f39', embedding=None, metadata={'is_table': False, 'source': 'managing-pre-diabetes-(updated-on-27-jul-2021)c2bfc77474154c2abf623156a4b93002'}, excluded_embed_metadata_keys=[], excluded_llm_metadata_keys=[], relationships={}, text='2 - hG , 2 - hour post - load glucose ; BMI , body mass index ; CVD , cardiovascular disease ; FPG , fasting plasma glucose ; HbA1c , glycated haemoglobin ; IFG , impaired fasting glucose ; IGT , impaired glucose tolerance ; OGTT , oral glucose tolerance test ; T2DM , type 2 diabetes mellitus . \\n\\n * * If FPG ≥ 7.0 mmol / L , 2 - hG ≥ 11.1 mmol / L , or HbA1c ≥ 7 % , proceed to manage as per T2DM . \\n\\n †† If HbA1c ≥ 7 % , proceed to manage as per T2DM . If HbA1c does not improve and < 7 % , consider investigating for T2DM with FPG or OGTT after a metformin washout period ( such as 1–2 weeks ) .', mimetype='text/plain', start_char_idx=None, end_char_idx=None, text_template='{metadata_str}\\n\\n{content}', metadata_template='{key}: {value}', metadata_seperator='\\n'),\n",
       " Document(id_='6d6cfcf8-77e0-4754-81f4-81d4d26f980e', embedding=None, metadata={'is_table': False, 'source': 'managing-pre-diabetes-(updated-on-27-jul-2021)c2bfc77474154c2abf623156a4b93002'}, excluded_embed_metadata_keys=[], excluded_llm_metadata_keys=[], relationships={}, text='Overview of lifestyle intervention in pre - diabetes \\n\\n  Role of lifestyle intervention \\n\\n Lifestyle intervention reduces the risk of developing T2DM by 31 to 37 % over 2 to 6 years for those who are overweight or obese , aim to gradually achieve and maintain a BMI of & lt ; 23 kg / m2 or a 5 to 10 % body weight loss . \\n\\n  Ways to implement lifestyle intervention', mimetype='text/plain', start_char_idx=None, end_char_idx=None, text_template='{metadata_str}\\n\\n{content}', metadata_template='{key}: {value}', metadata_seperator='\\n'),\n",
       " Document(id_='d5f7bf32-bde2-42cf-9516-f3adfce7f95e', embedding=None, metadata={'is_table': False, 'source': 'managing-pre-diabetes-(updated-on-27-jul-2021)c2bfc77474154c2abf623156a4b93002'}, excluded_embed_metadata_keys=[], excluded_llm_metadata_keys=[], relationships={}, text='Physical activity \\n\\n ≥ 150 minutes per week of moderate - intensity exercise , such as brisk walking or leisure cycling ( < 16 km / hr ) OR ≥ 75 minutes per week of vigorous - intensity exercise , such as jogging or fast - paced cycling ( ≥ 16 km / hr ) . \\n\\n No more than two consecutive days without exercise . \\n\\n  Other modifications \\n\\n Limit alcohol intake : \\n\\n - 1 standard drink = 330 mL of beer \\n - 1 standard drink = 100 mL of wine \\n - 1 standard drink = 30 mL of spirits or hard liquor \\n\\n Smoking cessation . \\n\\n  How to sustain lifestyle changes \\n\\n Tailor lifestyle intervention to individual needs . Reinforce behavioural changes by encouraging a regular log of :', mimetype='text/plain', start_char_idx=None, end_char_idx=None, text_template='{metadata_str}\\n\\n{content}', metadata_template='{key}: {value}', metadata_seperator='\\n'),\n",
       " Document(id_='31736f92-722b-4fa0-963f-8b02fb2838de', embedding=None, metadata={'is_table': True, 'source': 'managing-pre-diabetes-(updated-on-27-jul-2021)c2bfc77474154c2abf623156a4b93002'}, excluded_embed_metadata_keys=[], excluded_llm_metadata_keys=[], relationships={}, text='This table presents diagnostic criteria for pre - diabetes based on blood glucose levels . table shows the fasting plasma glucose and 2 - hour post - load glucose ranges for Impaired Fasting Glucose ( IFG ) and Impaired Glucose Tolerance ( IGT ) . \\n\\n Table title : Pre - diabetes \\n\\n The table should be kept as title provides valuable information for identifying pre - diabetic conditions . , \\n with the following columns :', mimetype='text/plain', start_char_idx=None, end_char_idx=None, text_template='{metadata_str}\\n\\n{content}', metadata_template='{key}: {value}', metadata_seperator='\\n'),\n",
       " Document(id_='aa26f982-7d07-4aca-9e4c-de479723811d', embedding=None, metadata={'is_table': True, 'source': 'managing-pre-diabetes-(updated-on-27-jul-2021)c2bfc77474154c2abf623156a4b93002'}, excluded_embed_metadata_keys=[], excluded_llm_metadata_keys=[], relationships={}, text='This table outlines a management approach for individuals with pre - diabetes . table presents a step - by - step process including lifestyle intervention , regular follow - up , and the potential addition of metformin . The table covers education on diet and physical activity , weight management goals , monitoring of glycemic status , and screening for cardiovascular disease risk factors . \\n\\n The table \\'s title appears to be \" All persons with pre - diabetes \" based on the first column header . \\n\\n No table ID is explicitly provided in the given context . \\n\\n This table should be kept as ID provides valuable information on the management of pre - diabetes , which is crucial for healthcare providers and patients alike . , \\n with the following columns :', mimetype='text/plain', start_char_idx=None, end_char_idx=None, text_template='{metadata_str}\\n\\n{content}', metadata_template='{key}: {value}', metadata_seperator='\\n'),\n",
       " Document(id_='98924b15-2ae3-4b10-9150-cfb491fcf4cd', embedding=None, metadata={'is_table': True, 'source': 'managing-pre-diabetes-(updated-on-27-jul-2021)c2bfc77474154c2abf623156a4b93002'}, excluded_embed_metadata_keys=[], excluded_llm_metadata_keys=[], relationships={}, text='This table outlines the recommended portions for a healthy plate . table describes the ideal distribution of food groups for a balanced diet . The table suggests dividing a plate into different percentages for various food categories , emphasizing vegetables , whole grains , and lean proteins while advising against sugary foods and drinks . \\n\\n Table title : Diet \\n\\n The table should be kept as title provides valuable nutritional guidance . , \\n with the following columns :', mimetype='text/plain', start_char_idx=None, end_char_idx=None, text_template='{metadata_str}\\n\\n{content}', metadata_template='{key}: {value}', metadata_seperator='\\n'),\n",
       " Document(id_='6f0c8c7a-6844-402e-88fb-3077de2a233e', embedding=None, metadata={'is_table': True, 'source': 'managing-pre-diabetes-(updated-on-27-jul-2021)c2bfc77474154c2abf623156a4b93002'}, excluded_embed_metadata_keys=[], excluded_llm_metadata_keys=[], relationships={}, text=\"This table appears to be about personal health and lifestyle factors . table includes columns for preferences , budget , physical condition , work nature , diet , exercise , and weight . These categories suggest it 's designed to capture information related to an individual 's health profile and daily habits . \\n\\n The table is currently empty , with no data filled in . There is no existing title , caption , or table ID provided in the given context . \\n\\n Given the lack of actual data and identifying information , it 's difficult to determine if this table should be kept . table potential usefulness would depend on the specific purpose and context in which it 's intended to be used . , \\n with the following columns :\", mimetype='text/plain', start_char_idx=None, end_char_idx=None, text_template='{metadata_str}\\n\\n{content}', metadata_template='{key}: {value}', metadata_seperator='\\n'),\n",
       " Document(id_='d6baea4e-7016-4794-8643-55fa60506e57', embedding=None, metadata={'is_table': False, 'source': 'diabetic_foot_ulcer__symptoms_and_treatment'}, excluded_embed_metadata_keys=[], excluded_llm_metadata_keys=[], relationships={}, text='Diabetic Foot Ulcer : Symptoms and Treatment \\n\\n - Maintain good blood circulation to the feet by putting your feet up when sitting , and by wiggling your toes and moving your ankles for at least five minutes , two to three times a day . \\n - Do n\\'t cross your legs for long periods of time . \\n - Do n’t smoke . Smoking does great harm to blood circulation and increases the risk of many diseases . \\n\\n If you are diabetic , regular foot examinations are important to prevent foot and leg ulcers , and to ensure your feet are in good health . Your podiatrist will check for : \\n\\n - Any loss of sensation \\n - The level of blood flow to the feet \\n - Any changes in the shape of your foot to assess the development of pressure points \\n\\n All these will help detect changes in any foot condition , and will help ensure that early preventive treatment or management can be given to prevent wounds from occurring or getting worse . \\n\\n This article titled \" Sole Saviours \" was first published in ONEHealth Magazine , Issue 6 , 2015 . \\n\\n  Read these next : \\n\\n - Diabetes Medications \\n - Skin disease in diabetes mellitus \\n - Diabetes foot screening \\n\\n This article was last reviewed on Friday , November 22 , 2019 \\n\\n https://www.healthhub.sg/a-z/diseases-and-conditions/diabetic-ulcer', mimetype='text/plain', start_char_idx=None, end_char_idx=None, text_template='{metadata_str}\\n\\n{content}', metadata_template='{key}: {value}', metadata_seperator='\\n'),\n",
       " Document(id_='e177f69c-3ef1-4e4b-ba9b-894597c6270a', embedding=None, metadata={'is_table': False, 'source': 'diabetes_treatment__insulin'}, excluded_embed_metadata_keys=[], excluded_llm_metadata_keys=[], relationships={}, text='Diabetes Treatment : Insulin \\n\\n When you have diabetes , you may need to learn how to inject yourself with insulin . \\n\\n  What is Insulin ? \\n\\n Insulin is a hormone produced by the pancreas and released into our body cells to allow cells to convert blood glucose ( sugar ) for energy . Food is converted into glucose before Food is absorbed into our bloodstream . The function of insulin is to move the glucose from the bloodstream into the body cells for use or storage . People with diabetes are unable to fully use the glucose in People bloodstream either because People lack insulin in the body or insulin is ineffective for cells . \\n\\n  Insulin Therapy \\n\\n Treatment for type 1 diabetes involves dietary control and insulin injections . Some patients with type 2 diabetes may also require insulin injections . Insulin is not effective if taken by mouth , and has to be injected . \\n\\n  You must know how to : \\n\\n - Measure your insulin dose \\n - Inject yourself ( and not rely on others ) \\n - Adapt your diet and activity to your insulin injections \\n\\n  Types of Insulin \\n\\n There are several types of insulin . others differ in how quickly others start to lower your blood glucose , the time taken to reach others highest activity , and how long others continue to work . \\n\\n  How to Inject Insulin \\n\\n Knowing where to inject your insulin will make the injection easier , safer and more comfortable . Insulin is injected into the fatty area under the skin . After insulin is injected , insulin \\n\\n Source', mimetype='text/plain', start_char_idx=None, end_char_idx=None, text_template='{metadata_str}\\n\\n{content}', metadata_template='{key}: {value}', metadata_seperator='\\n'),\n",
       " Document(id_='7321d6df-5752-4dd3-b537-3b1431044e38', embedding=None, metadata={'is_table': False, 'source': 'diabetes_treatment__insulin'}, excluded_embed_metadata_keys=[], excluded_llm_metadata_keys=[], relationships={}, text='Diabetes Treatment : Insulin \\n\\n  Diabetes Medications \\n\\n  Guide to Managing Diabetes', mimetype='text/plain', start_char_idx=None, end_char_idx=None, text_template='{metadata_str}\\n\\n{content}', metadata_template='{key}: {value}', metadata_seperator='\\n'),\n",
       " Document(id_='9c917593-b1d7-4e16-acc4-e10e9181c5fe', embedding=None, metadata={'is_table': False, 'source': 'diabetes_treatment__insulin'}, excluded_embed_metadata_keys=[], excluded_llm_metadata_keys=[], relationships={}, text='Low blood sugar ( hypo ) reaction is more likely to occur around the time of maximum action . High blood sugar ( hyper ) reaction is more likely to occur before the insulin starts acting , or when reaction action is ending . \\n\\n Combination insulins ( Humulin ® 30/70 , Mixtard ® , etc ) are mixtures of short and intermediate - acting insulins . These avoid the need for patients to manually mix patients insulins . patients are normally administered twice a day . Usually , two - thirds of the daily requirement is given in the morning and the remainder in the evening . \\n\\n This article was last reviewed on Monday , April 19 , 2021 \\n\\n https://www.healthhub.sg/a-z/diseases-and-conditions/diabetes-treatment-insulin', mimetype='text/plain', start_char_idx=None, end_char_idx=None, text_template='{metadata_str}\\n\\n{content}', metadata_template='{key}: {value}', metadata_seperator='\\n'),\n",
       " Document(id_='6ab920df-acec-4c79-aa90-588bdba829f9', embedding=None, metadata={'is_table': True, 'source': 'diabetes_treatment__insulin'}, excluded_embed_metadata_keys=[], excluded_llm_metadata_keys=[], relationships={}, text='This table provides information about different types of insulin and their action profiles . table details the onset , peak , and duration of action for various insulin formulations , including rapid - acting , short - acting , intermediate - acting , and long - acting insulins . The table compares the timing characteristics of different insulin products , which is crucial for managing diabetes treatment . \\n\\n The table does not appear to have a specific title or caption provided in the context . \\n\\n There is no table ID mentioned in the given context . \\n\\n The table should be kept as table contains valuable information for understanding the pharmacokinetics of different insulin types , which is essential for healthcare professionals and patients managing diabetes . , \\n with the following columns :', mimetype='text/plain', start_char_idx=None, end_char_idx=None, text_template='{metadata_str}\\n\\n{content}', metadata_template='{key}: {value}', metadata_seperator='\\n'),\n",
       " Document(id_='56343e4f-8ac2-424b-a239-32a95e95e046', embedding=None, metadata={'is_table': False, 'source': 'diabetes_medications'}, excluded_embed_metadata_keys=[], excluded_llm_metadata_keys=[], relationships={}, text='Diabetes Medications \\n\\n Learn about the different diabetes treatment pills available , the guidelines when taking guidelines and more . \\n\\n  Treatment of Diabetes Mellitus : Tablets \\n\\n Treatment of type 2 diabetes begins with diet control . If diet alone is unable to control blood sugar levels , then tablets have to be taken . If both diet and tablets fail to control the blood sugar levels , insulin injections may be needed . \\n\\n Oral anti - diabetes tablets are used for treating type 2 diabetes .', mimetype='text/plain', start_char_idx=None, end_char_idx=None, text_template='{metadata_str}\\n\\n{content}', metadata_template='{key}: {value}', metadata_seperator='\\n'),\n",
       " Document(id_='42aca6e1-44e4-4bb5-bead-830e58c9c65c', embedding=None, metadata={'is_table': False, 'source': 'diabetes_medications'}, excluded_embed_metadata_keys=[], excluded_llm_metadata_keys=[], relationships={}, text='Tell Your Doctor if You \\n\\n - Are allergic to any medicines \\n - Are pregnant , or intend to become pregnant \\n - Are breastfeeding \\n - Are taking any other medicines \\n - Have any other medical problems \\n\\n  Some Guidelines to Follow When Taking Your Diabetes Pill(s )', mimetype='text/plain', start_char_idx=None, end_char_idx=None, text_template='{metadata_str}\\n\\n{content}', metadata_template='{key}: {value}', metadata_seperator='\\n'),\n",
       " Document(id_='57836be4-5af9-45d8-b40e-6b09bc339f24', embedding=None, metadata={'is_table': False, 'source': 'diabetes_medications'}, excluded_embed_metadata_keys=[], excluded_llm_metadata_keys=[], relationships={}, text='- Know the name and dosage of your diabetic tablet(s ) . \\n - Do not take more or less than what your doctor ordered . \\n - Take the tablet(s ) at the correct times . Do not make any changes to your medication routine without consulting your doctor . \\n - Take your tablet(s ) even when you are sick ( sometimes the dosage may have to be changed , so do consult your doctor beforehand ) .', mimetype='text/plain', start_char_idx=None, end_char_idx=None, text_template='{metadata_str}\\n\\n{content}', metadata_template='{key}: {value}', metadata_seperator='\\n'),\n",
       " Document(id_='0feed2d7-9c30-4fa1-85d9-d0b35f961e47', embedding=None, metadata={'is_table': False, 'source': 'diabetes_medications'}, excluded_embed_metadata_keys=[], excluded_llm_metadata_keys=[], relationships={}, text='- Follow your meal plan . doctor will help your tablet(s ) work better . Careless eating may cause the tablet(s ) to lose doctor effect . \\n - If you miss a dose of the tablet(s ) , take tablet(s as soon as possible unless tablet(s is time for your next dose . In that case , do not take the missed dose and do not double the next one .', mimetype='text/plain', start_char_idx=None, end_char_idx=None, text_template='{metadata_str}\\n\\n{content}', metadata_template='{key}: {value}', metadata_seperator='\\n'),\n",
       " Document(id_='11479ef9-7a98-4e34-8331-42be29a3aec0', embedding=None, metadata={'is_table': False, 'source': 'diabetes_medications'}, excluded_embed_metadata_keys=[], excluded_llm_metadata_keys=[], relationships={}, text='Source', mimetype='text/plain', start_char_idx=None, end_char_idx=None, text_template='{metadata_str}\\n\\n{content}', metadata_template='{key}: {value}', metadata_seperator='\\n'),\n",
       " Document(id_='42cae083-6f47-4097-ab33-dea66540fcd8', embedding=None, metadata={'is_table': False, 'source': 'diabetes_medications'}, excluded_embed_metadata_keys=[], excluded_llm_metadata_keys=[], relationships={}, text='Diabetes Medications \\n\\n  Sulphonylureas \\n\\n Help the pancreas to release more insulin and the body to use glucose more effectively . \\n\\n - Chlorpropamide ( Diabinese ® ) \\n - Glibenclamide ( Daonil ® ) \\n - Gliclazide ( Diamicron ® ) \\n - Tolbutamide ( Rastinon ® ) \\n - Glimepiride ( Amaryl ® ) \\n\\n Take the tablet(s ) daily immediately after meals ( except Gliclazide which is consumed half an hour before meals ) . Do not miss or delay meals . Otherwise , your blood sugar level may fall too low .', mimetype='text/plain', start_char_idx=None, end_char_idx=None, text_template='{metadata_str}\\n\\n{content}', metadata_template='{key}: {value}', metadata_seperator='\\n'),\n",
       " Document(id_='5b82dc68-e061-48ec-8321-ce1b5deaf073', embedding=None, metadata={'is_table': False, 'source': 'diabetes_medications'}, excluded_embed_metadata_keys=[], excluded_llm_metadata_keys=[], relationships={}, text='Sometimes other tablets ( e.g. those for blood pressure ) can react with anti - diabetes tablets . If in doubt , talk to your doctor or pharmacist . \\n\\n Alcohol interferes with some of these tablets : consult your pharmacist if you are planning to drink alcohol . For example , having alcohol with Chlorpropamide causes side effects like redness and vomiting . \\n\\n  Biguanides \\n\\n Help the body to use glucose more effectively . \\n\\n - e.g. Metformin ( Glucophage ® )', mimetype='text/plain', start_char_idx=None, end_char_idx=None, text_template='{metadata_str}\\n\\n{content}', metadata_template='{key}: {value}', metadata_seperator='\\n'),\n",
       " Document(id_='d8484100-517a-4420-aee6-f9a993c08178', embedding=None, metadata={'is_table': False, 'source': 'diabetes_medications'}, excluded_embed_metadata_keys=[], excluded_llm_metadata_keys=[], relationships={}, text='- e.g. Metformin ( Glucophage ® ) \\n\\n Take the tablet(s ) with meals or after meals . \\n\\n  a - glucosidase inhibitors \\n\\n Help to stop the quick rise of blood glucose after a meal . \\n\\n - e.g. Acarbose ( Glucobay ® ) \\n\\n Take the tablet(s ) with the first mouthful or immediately before each of the three main daily meals . \\n\\n  Meglitinides \\n\\n Help the pancreas to release more insulin . \\n\\n - e.g. Repaglinide ( Novonorm ® ) \\n\\n Take the tablet before meals . \\n\\n  Thiazolidinediones', mimetype='text/plain', start_char_idx=None, end_char_idx=None, text_template='{metadata_str}\\n\\n{content}', metadata_template='{key}: {value}', metadata_seperator='\\n'),\n",
       " Document(id_='b4238ffe-f9b3-4079-8038-4a4e8afd8353', embedding=None, metadata={'is_table': False, 'source': 'diabetes_medications'}, excluded_embed_metadata_keys=[], excluded_llm_metadata_keys=[], relationships={}, text='Take the tablet before meals . \\n\\n  Thiazolidinediones \\n\\n Enhance insulin action and help the body to use glucose more effectively . \\n\\n - e.g. Rosiglitazone ( Avandia ® ) \\n\\n Take the tablet with or without food . \\n\\n This article was last reviewed on Tuesday , May 25 , 2021 \\n\\n Source', mimetype='text/plain', start_char_idx=None, end_char_idx=None, text_template='{metadata_str}\\n\\n{content}', metadata_template='{key}: {value}', metadata_seperator='\\n'),\n",
       " Document(id_='f5d680c9-6ef2-4304-9e56-ecdea66d98a4', embedding=None, metadata={'is_table': False, 'source': 'managing-pre-diabetes-(updated-on-27-jul-2021)c2bfc77474154c2abf623156a4b93002'}, excluded_embed_metadata_keys=[], excluded_llm_metadata_keys=[], relationships={}, text='Appropriate Care Guide ( ACG ) \\n\\n  Managing pre - diabetes \\n\\n First Published : 3 July 2017 \\n\\n Last updated : 27 July 2021 \\n\\n  Key messages', mimetype='text/plain', start_char_idx=None, end_char_idx=None, text_template='{metadata_str}\\n\\n{content}', metadata_template='{key}: {value}', metadata_seperator='\\n'),\n",
       " Document(id_='7e8af616-1e42-4868-8bc6-c58aa83634fb', embedding=None, metadata={'is_table': False, 'source': 'managing-pre-diabetes-(updated-on-27-jul-2021)c2bfc77474154c2abf623156a4b93002'}, excluded_embed_metadata_keys=[], excluded_llm_metadata_keys=[], relationships={}, text='1 . Pre - diabetes is asymptomatic but puts a person at high risk of developing type 2 diabetes mellitus ( T2DM ) and cardiovascular disease ( CVD ) . \\n 2 . Early diagnosis , appropriate management and follow - up help to prevent or delay T2DM in persons with pre - diabetes . \\n 3 . Recommend lifestyle intervention to all persons with pre - diabetes . \\n 4 . Tailor lifestyle intervention to individual needs for sustained behavioural changes . \\n 5 . Consider metformin for persons with pre - diabetes when', mimetype='text/plain', start_char_idx=None, end_char_idx=None, text_template='{metadata_str}\\n\\n{content}', metadata_template='{key}: {value}', metadata_seperator='\\n'),\n",
       " Document(id_='4d9b8d2e-478a-4a0b-ac3c-6615fd294915', embedding=None, metadata={'is_table': False, 'source': 'managing-pre-diabetes-(updated-on-27-jul-2021)c2bfc77474154c2abf623156a4b93002'}, excluded_embed_metadata_keys=[], excluded_llm_metadata_keys=[], relationships={}, text='5 . Consider metformin for persons with pre - diabetes when \\n - glycaemic status does not improve despite lifestyle intervention OR \\n - persons are unable to adopt lifestyle intervention , especially if persons outlined in the two points above have a body mass index ( BMI ) of ≥ 23 kg / m2 , are younger than 60 years of age , or are women with a history of gestational diabetes .', mimetype='text/plain', start_char_idx=None, end_char_idx=None, text_template='{metadata_str}\\n\\n{content}', metadata_template='{key}: {value}', metadata_seperator='\\n'),\n",
       " Document(id_='f6250dcf-77d7-4e8b-8dc7-76c899f8ef92', embedding=None, metadata={'is_table': False, 'source': 'managing-pre-diabetes-(updated-on-27-jul-2021)c2bfc77474154c2abf623156a4b93002'}, excluded_embed_metadata_keys=[], excluded_llm_metadata_keys=[], relationships={}, text='Preventing or delaying the progression to T2DM', mimetype='text/plain', start_char_idx=None, end_char_idx=None, text_template='{metadata_str}\\n\\n{content}', metadata_template='{key}: {value}', metadata_seperator='\\n'),\n",
       " Document(id_='6fb79e12-9db2-406d-8549-a7b1f180d884', embedding=None, metadata={'is_table': False, 'source': 'managing-pre-diabetes-(updated-on-27-jul-2021)c2bfc77474154c2abf623156a4b93002'}, excluded_embed_metadata_keys=[], excluded_llm_metadata_keys=[], relationships={}, text='Pre - diabetes is defined by glycaemic levels that are higher than normal , but lower than diabetes thresholds . Pre - diabetes is asymptomatic but predisposes individuals to T2DM and CVD . Around 14 % of Singaporeans have impaired glucose tolerance and without lifestyle changes , at least 35 % of persons with pre - diabetes in Singapore will progress to T2DM within eight years.1,2 There is a pressing need to address pre - diabetes as part of the efforts to reduce the impact of T2DM and CVD .', mimetype='text/plain', start_char_idx=None, end_char_idx=None, text_template='{metadata_str}\\n\\n{content}', metadata_template='{key}: {value}', metadata_seperator='\\n'),\n",
       " Document(id_='59b2d004-0b8a-482b-882a-35f70f2d0512', embedding=None, metadata={'is_table': False, 'source': 'managing-pre-diabetes-(updated-on-27-jul-2021)c2bfc77474154c2abf623156a4b93002'}, excluded_embed_metadata_keys=[], excluded_llm_metadata_keys=[], relationships={}, text='Education increases awareness of pre - diabetes and enables individuals to adopt lifestyle changes . \\n\\n MINISTRY OF HEALTH \\n\\n Academy of Medicine , Singapore \\n\\n College of Family Physicians Singapore \\n\\n Chapter of Endocrinologists , CPS \\n\\n Chapter of Family Medicine Physicians \\n\\n Chapter of General Physicians , CPS', mimetype='text/plain', start_char_idx=None, end_char_idx=None, text_template='{metadata_str}\\n\\n{content}', metadata_template='{key}: {value}', metadata_seperator='\\n'),\n",
       " Document(id_='3c0e00a1-c678-42e3-b60b-3135336f43ed', embedding=None, metadata={'is_table': False, 'source': 'managing-pre-diabetes-(updated-on-27-jul-2021)c2bfc77474154c2abf623156a4b93002'}, excluded_embed_metadata_keys=[], excluded_llm_metadata_keys=[], relationships={}, text='IFG , impaired fasting glucose ; IGT , impaired glucose tolerance \\n\\n  Instructions on lifestyle intervention \\n\\n Convey the following points to persons with pre - diabetes during consultations . \\n\\n  Healthy diet \\n\\n Portion a healthy plate', mimetype='text/plain', start_char_idx=None, end_char_idx=None, text_template='{metadata_str}\\n\\n{content}', metadata_template='{key}: {value}', metadata_seperator='\\n'),\n",
       " Document(id_='2999ca09-4555-4c23-9bee-25e9447fe44e', embedding=None, metadata={'is_table': False, 'source': 'managing-pre-diabetes-(updated-on-27-jul-2021)c2bfc77474154c2abf623156a4b93002'}, excluded_embed_metadata_keys=[], excluded_llm_metadata_keys=[], relationships={}, text='Healthy diet \\n\\n Portion a healthy plate \\n\\n - Fill half the plate with vegetables and a small portion of fruits . \\n - Fill a quarter of the plate with lean meat , fish , poultry ( skinless ) , eggs , low - fat dairy or soy products . \\n - Fill a quarter of the plate with whole grains , such as brown rice , rolled oats , whole grain bread or cereals . \\n\\n In Singapore , glycated haemoglobin ( HbA1c ) is not currently indicated as a diagnostic test for pre - diabetes.†', mimetype='text/plain', start_char_idx=None, end_char_idx=None, text_template='{metadata_str}\\n\\n{content}', metadata_template='{key}: {value}', metadata_seperator='\\n'),\n",
       " Document(id_='dcd413a4-951a-4480-8566-4853ce52da75', embedding=None, metadata={'is_table': False, 'source': 'managing-pre-diabetes-(updated-on-27-jul-2021)c2bfc77474154c2abf623156a4b93002'}, excluded_embed_metadata_keys=[], excluded_llm_metadata_keys=[], relationships={}, text='Avoid sweetened beverages and foods \\n\\n - Opt for water instead of sugar - sweetened beverages ( such as soda , fruit juice , energy drinks ) . \\n\\n  Lifestyle intervention \\n\\n Lifestyle intervention is recommended for all persons with pre - diabetes , as adopting a healthy diet and increased physical activity reduces the risk of persons developing T2DM by 31 to 37 % over 2 to 6 years , and is cost - effective.3 - 5', mimetype='text/plain', start_char_idx=None, end_char_idx=None, text_template='{metadata_str}\\n\\n{content}', metadata_template='{key}: {value}', metadata_seperator='\\n'),\n",
       " Document(id_='bdb74abe-eb77-4470-810c-addcc0c723c0', embedding=None, metadata={'is_table': False, 'source': 'managing-pre-diabetes-(updated-on-27-jul-2021)c2bfc77474154c2abf623156a4b93002'}, excluded_embed_metadata_keys=[], excluded_llm_metadata_keys=[], relationships={}, text='For those who are overweight or obese , aim to gradually achieve and maintain a BMI of & lt ; 23 kg / m2 or a 5 to 10 % body weight loss . \\n\\n Smokers are advised to stop smoking , as smoking impairs glucose metabolism , insulin sensitivity and secretion.6 \\n\\n  Healthy diet \\n\\n A healthy and balanced diet plays a key role in preventing or delaying the progression to T2DM in persons with pre - diabetes.7 - 12', mimetype='text/plain', start_char_idx=None, end_char_idx=None, text_template='{metadata_str}\\n\\n{content}', metadata_template='{key}: {value}', metadata_seperator='\\n'),\n",
       " Document(id_='d52708c7-ed00-4c57-ba8f-983ff13525fc', embedding=None, metadata={'is_table': False, 'source': 'managing-pre-diabetes-(updated-on-27-jul-2021)c2bfc77474154c2abf623156a4b93002'}, excluded_embed_metadata_keys=[], excluded_llm_metadata_keys=[], relationships={}, text='Advise those who are overweight or obese to achieve weight loss by implementing a negative caloric balance . \\n\\n  Increased physical activity \\n\\n Obesity and a sedentary lifestyle are major risk factors for developing T2DM and can be modified by an increase in physical activity.7 - 12 \\n\\n  Eat less fat', mimetype='text/plain', start_char_idx=None, end_char_idx=None, text_template='{metadata_str}\\n\\n{content}', metadata_template='{key}: {value}', metadata_seperator='\\n'),\n",
       " Document(id_='ac4f1cc2-735e-4d67-a4e3-c21b232db610', embedding=None, metadata={'is_table': False, 'source': 'managing-pre-diabetes-(updated-on-27-jul-2021)c2bfc77474154c2abf623156a4b93002'}, excluded_embed_metadata_keys=[], excluded_llm_metadata_keys=[], relationships={}, text='Eat less fat \\n\\n - Avoid pastries , fried food , and food containing coconut milk or cream . \\n - Use less oil when cooking and use healthier oils ( such as sunflower oil , rice bran oil , olive oil ) instead of butter , ghee , or palm oil . \\n\\n  Limit alcohol intake \\n\\n - No more than one standard drink‡ per day for female . \\n - No more than two standard drinks‡ per day for male . \\n\\n  Increased physical activity', mimetype='text/plain', start_char_idx=None, end_char_idx=None, text_template='{metadata_str}\\n\\n{content}', metadata_template='{key}: {value}', metadata_seperator='\\n'),\n",
       " Document(id_='24586196-d286-44ab-af10-b3eb7f9979df', embedding=None, metadata={'is_table': False, 'source': 'managing-pre-diabetes-(updated-on-27-jul-2021)c2bfc77474154c2abf623156a4b93002'}, excluded_embed_metadata_keys=[], excluded_llm_metadata_keys=[], relationships={}, text='Increased physical activity \\n\\n - Perform at least 150 minutes of moderate - intensity exercise ( such as brisk walking , leisure cycling ) , or 75 minutes of vigorous - intensity exercise ( such as jogging , fast - paced cycling , swimming laps ) every week . \\n - Avoid more than two consecutive days without exercise . \\n - Engage in exercises that require intensity and that accelerate the heart rate .', mimetype='text/plain', start_char_idx=None, end_char_idx=None, text_template='{metadata_str}\\n\\n{content}', metadata_template='{key}: {value}', metadata_seperator='\\n'),\n",
       " Document(id_='a521bd3a-0dd7-4a66-96e0-3918f1a16c9c', embedding=None, metadata={'is_table': False, 'source': 'managing-pre-diabetes-(updated-on-27-jul-2021)c2bfc77474154c2abf623156a4b93002'}, excluded_embed_metadata_keys=[], excluded_llm_metadata_keys=[], relationships={}, text='Pedometers or fitness trackers allow progress to be monitored over time and may provide additional motivation.13 \\n\\n * 2 - hour 75 - g oral glucose tolerance test ( OGTT ) . \\n\\n † For more information on HbA1c as a screening test for diabetes mellitus in Singapore , please refer to the Ministry of Health Circular No . 08/2019 . \\n\\n ‡ A standard drink is one can ( 330 mL ) of beer , half a glass ( 100 mL ) of wine , or one nip ( 30 mL ) of spirits or hard liquor .', mimetype='text/plain', start_char_idx=None, end_char_idx=None, text_template='{metadata_str}\\n\\n{content}', metadata_template='{key}: {value}', metadata_seperator='\\n'),\n",
       " Document(id_='d4900374-ccb5-423f-a373-2410a19a0192', embedding=None, metadata={'is_table': False, 'source': 'managing-pre-diabetes-(updated-on-27-jul-2021)c2bfc77474154c2abf623156a4b93002'}, excluded_embed_metadata_keys=[], excluded_llm_metadata_keys=[], relationships={}, text='Sustained behavioural changes \\n\\n  Providing information without individualised advice \\n\\n may not be sufficient to bring about robust and sustained lifestyle changes . Lifestyle intervention should therefore be tailored to each person ’s needs and continuously encouraged.14 \\n\\n  Pharmacotherapy', mimetype='text/plain', start_char_idx=None, end_char_idx=None, text_template='{metadata_str}\\n\\n{content}', metadata_template='{key}: {value}', metadata_seperator='\\n'),\n",
       " Document(id_='1c4fd6a6-937c-4499-8a7f-0f494b08d01a', embedding=None, metadata={'is_table': False, 'source': 'managing-pre-diabetes-(updated-on-27-jul-2021)c2bfc77474154c2abf623156a4b93002'}, excluded_embed_metadata_keys=[], excluded_llm_metadata_keys=[], relationships={}, text='Pharmacotherapy \\n\\n Pharmacotherapy for pre - diabetes is less effective than lifestyle changes and may be considered after a trial of intensive lifestyle intervention.9,15 Discuss the benefits , side effects , and cost before commencing treatment . \\n\\n  Tailor lifestyle intervention to individual needs', mimetype='text/plain', start_char_idx=None, end_char_idx=None, text_template='{metadata_str}\\n\\n{content}', metadata_template='{key}: {value}', metadata_seperator='\\n'),\n",
       " Document(id_='b775863a-278d-4e30-ab47-3a1dd92dfcfb', embedding=None, metadata={'is_table': False, 'source': 'managing-pre-diabetes-(updated-on-27-jul-2021)c2bfc77474154c2abf623156a4b93002'}, excluded_embed_metadata_keys=[], excluded_llm_metadata_keys=[], relationships={}, text='Tailor lifestyle intervention to individual needs \\n\\n - Assess lifestyle ( such as diet and physical activity preferences , work nature , physical or budget constraints ) . \\n - Identify areas for improvement towards a healthier lifestyle . \\n - Provide advice on practical and sustainable lifestyle changes that fit into daily activities . \\n\\n  Reinforce behavioural changes continuously', mimetype='text/plain', start_char_idx=None, end_char_idx=None, text_template='{metadata_str}\\n\\n{content}', metadata_template='{key}: {value}', metadata_seperator='\\n'),\n",
       " Document(id_='ae7b0c7f-3a16-42ee-bf7e-57959d64e4d1', embedding=None, metadata={'is_table': False, 'source': 'managing-pre-diabetes-(updated-on-27-jul-2021)c2bfc77474154c2abf623156a4b93002'}, excluded_embed_metadata_keys=[], excluded_llm_metadata_keys=[], relationships={}, text='Reinforce behavioural changes continuously \\n\\n - Encourage persons with pre - diabetes to keep a log of persons diet , exercise , and weight . \\n - Advise persons to visit the HealthHub website ( by scanning the QR code below ) to find out more about pre - diabetes and associated lifestyle change programmes . persons can also download the HealthHub SG and HealthHub Track applications ( App Store or Google Play Store ) . \\n - Supplement verbal advice with written information .', mimetype='text/plain', start_char_idx=None, end_char_idx=None, text_template='{metadata_str}\\n\\n{content}', metadata_template='{key}: {value}', metadata_seperator='\\n'),\n",
       " Document(id_='b24c2ab7-d3e3-4102-99dc-709796c2976d', embedding=None, metadata={'is_table': False, 'source': 'managing-pre-diabetes-(updated-on-27-jul-2021)c2bfc77474154c2abf623156a4b93002'}, excluded_embed_metadata_keys=[], excluded_llm_metadata_keys=[], relationships={}, text='Scan the QR code to access pre - diabetes information on the HealthHub website \\n\\n  Indication , dosing regimen , and side effects of metformin for pre - diabetes \\n\\n Consider metformin for persons with pre - diabetes when :', mimetype='text/plain', start_char_idx=None, end_char_idx=None, text_template='{metadata_str}\\n\\n{content}', metadata_template='{key}: {value}', metadata_seperator='\\n'),\n",
       " Document(id_='8f951f2a-b5ca-4f54-a7d0-6626f3c73eb5', embedding=None, metadata={'is_table': False, 'source': 'managing-pre-diabetes-(updated-on-27-jul-2021)c2bfc77474154c2abf623156a4b93002'}, excluded_embed_metadata_keys=[], excluded_llm_metadata_keys=[], relationships={}, text='Consider metformin for persons with pre - diabetes when : \\n\\n - glycaemic status does not improve despite lifestyle intervention OR \\n - persons are unable to adopt lifestyle intervention , especially if persons outlined in the two points above have a BMI of ≥ 23 kg / m2 , are younger than 60 years of age , or are women with a history of gestational diabetes .', mimetype='text/plain', start_char_idx=None, end_char_idx=None, text_template='{metadata_str}\\n\\n{content}', metadata_template='{key}: {value}', metadata_seperator='\\n'),\n",
       " Document(id_='7718d0db-60ca-4df2-a8e4-737f3e452212', embedding=None, metadata={'is_table': False, 'source': 'managing-pre-diabetes-(updated-on-27-jul-2021)c2bfc77474154c2abf623156a4b93002'}, excluded_embed_metadata_keys=[], excluded_llm_metadata_keys=[], relationships={}, text='Start metformin at 250 mg twice daily and gradually increase as tolerated if required ( depending on glycaemic status ) , up to 850 mg twice daily . \\n\\n Take metformin with meals to reduce side effects such as nausea , vomiting , or diarrhoea . \\n\\n § Off - label for pre - diabetes ; locally registered as additional therapy in association with diet in patients with diabetes mellitus .', mimetype='text/plain', start_char_idx=None, end_char_idx=None, text_template='{metadata_str}\\n\\n{content}', metadata_template='{key}: {value}', metadata_seperator='\\n'),\n",
       " Document(id_='6e616261-6789-47f8-8b4e-780be1e032ca', embedding=None, metadata={'is_table': False, 'source': 'managing-pre-diabetes-(updated-on-27-jul-2021)c2bfc77474154c2abf623156a4b93002'}, excluded_embed_metadata_keys=[], excluded_llm_metadata_keys=[], relationships={}, text='References \\n\\n Scan the QR code for the reference list to this ACG \\n\\n GOgovsg \\n\\n  EXPERT GROUP \\n\\n Lead discussant \\n\\n Dr. Phua Eng Joo ( KTPH ) \\n\\n Chairperson \\n\\n Dr. Darren Seah ( NHGP ) \\n\\n  Group members', mimetype='text/plain', start_char_idx=None, end_char_idx=None, text_template='{metadata_str}\\n\\n{content}', metadata_template='{key}: {value}', metadata_seperator='\\n'),\n",
       " Document(id_='657d5bbe-ff94-42a7-ba71-b8ba42de35d1', embedding=None, metadata={'is_table': False, 'source': 'managing-pre-diabetes-(updated-on-27-jul-2021)c2bfc77474154c2abf623156a4b93002'}, excluded_embed_metadata_keys=[], excluded_llm_metadata_keys=[], relationships={}, text='Chairperson \\n\\n Dr. Darren Seah ( NHGP ) \\n\\n  Group members \\n\\n - Ms. Debra Chan ( TTSH ) \\n - A / Prof. Goh Su - Yen ( SGH ) \\n - Dr. Khoo Chin Meng ( NUHS ) \\n - Prof. Joyce Lee ( UC Irvine ) \\n - Ms. Lee Hwee Khim ( SHP ) \\n - Dr. Lim Hui Ling ( International Medical Clinic ) \\n - Ms. Ng Soh Mui ( NUP ) \\n - Dr. Gilbert Tan ( SHP ) \\n - Dr. Tham Tat Yean ( Frontier Healthcare Group ) \\n - Ms. Pauline Xie ( NHGP ) \\n\\n  About the Agency', mimetype='text/plain', start_char_idx=None, end_char_idx=None, text_template='{metadata_str}\\n\\n{content}', metadata_template='{key}: {value}', metadata_seperator='\\n'),\n",
       " Document(id_='84cc270b-0296-49d6-9d04-450c9cf31bf9', embedding=None, metadata={'is_table': False, 'source': 'managing-pre-diabetes-(updated-on-27-jul-2021)c2bfc77474154c2abf623156a4b93002'}, excluded_embed_metadata_keys=[], excluded_llm_metadata_keys=[], relationships={}, text='The Agency for Care Effectiveness ( ACE ) was established by the Ministry of Health ( Singapore ) to drive better decision - making in healthcare by conducting health technology assessments ( HTA ) , publishing healthcare guidance and providing education . ACE develops ACGs to inform specific areas of clinical practice . ACGs are usually reviewed around five years after publication , or earlier , if new evidence emerges that requires substantive changes to the recommendations . To access this ACG online ,', mimetype='text/plain', start_char_idx=None, end_char_idx=None, text_template='{metadata_str}\\n\\n{content}', metadata_template='{key}: {value}', metadata_seperator='\\n'),\n",
       " Document(id_='0744401c-c539-43c2-bf57-4861e4acfc18', embedding=None, metadata={'is_table': False, 'source': 'managing-pre-diabetes-(updated-on-27-jul-2021)c2bfc77474154c2abf623156a4b93002'}, excluded_embed_metadata_keys=[], excluded_llm_metadata_keys=[], relationships={}, text='changes to the recommendations . To access this ACG online , along with other ACGs published to date , please visit www.ace-hta.gov.sg/acg', mimetype='text/plain', start_char_idx=None, end_char_idx=None, text_template='{metadata_str}\\n\\n{content}', metadata_template='{key}: {value}', metadata_seperator='\\n'),\n",
       " Document(id_='022e23b6-8f15-446a-a954-31f832242001', embedding=None, metadata={'is_table': False, 'source': 'managing-pre-diabetes-(updated-on-27-jul-2021)c2bfc77474154c2abf623156a4b93002'}, excluded_embed_metadata_keys=[], excluded_llm_metadata_keys=[], relationships={}, text='Find out more about ACE at www.ace-hta.gov.sg/about-us \\n\\n © Agency for Care Effectiveness , Ministry of Health , Republic of Singapore \\n\\n All rights reserved . Reproduction of this publication in whole or in part in any material form is prohibited without the prior written permission of the copyright holder . Application to reproduce any part of this publication should be addressed to : ACE_HTA@moh.gov.sg \\n\\n Suggested citation : www.ace-hta.gov.sg/about-us', mimetype='text/plain', start_char_idx=None, end_char_idx=None, text_template='{metadata_str}\\n\\n{content}', metadata_template='{key}: {value}', metadata_seperator='\\n'),\n",
       " Document(id_='03e5783d-5e3e-4696-854c-0fe81fa69403', embedding=None, metadata={'is_table': False, 'source': 'managing-pre-diabetes-(updated-on-27-jul-2021)c2bfc77474154c2abf623156a4b93002'}, excluded_embed_metadata_keys=[], excluded_llm_metadata_keys=[], relationships={}, text='Suggested citation : www.ace-hta.gov.sg/about-us\\n\\n© Agency for Care Care Effectiveness ( ACE ) . Managing pre - diabetes – a growing health concern . Appropriate Care Guide ( ACG ) , Ministry of Health , Singapore . 2021 . Available from : go.gov.sg/acg-managing-pre-diabetes-a-growing-health-concern', mimetype='text/plain', start_char_idx=None, end_char_idx=None, text_template='{metadata_str}\\n\\n{content}', metadata_template='{key}: {value}', metadata_seperator='\\n'),\n",
       " Document(id_='63c209ce-11be-4b51-8841-9230cdad342c', embedding=None, metadata={'is_table': False, 'source': 'managing-pre-diabetes-(updated-on-27-jul-2021)c2bfc77474154c2abf623156a4b93002'}, excluded_embed_metadata_keys=[], excluded_llm_metadata_keys=[], relationships={}, text='The Ministry of Health of Ministry of Health , Singapore disclaims any and all liability to any party for any direct , indirect , implied , punitive or other consequential damages arising directly or indirectly from any use of this ACG , which is provided as is , without warranties . \\n\\n Agency for Care Effectiveness ( ACE ) \\n\\n College of Medicine Building \\n\\n 16 College Road Singapore 169854 \\n\\n Driving better decision - making in healthcare', mimetype='text/plain', start_char_idx=None, end_char_idx=None, text_template='{metadata_str}\\n\\n{content}', metadata_template='{key}: {value}', metadata_seperator='\\n'),\n",
       " Document(id_='dcf7752d-545b-4bbc-8fc8-fbad6e394164', embedding=None, metadata={'is_table': False, 'source': 'diabetic_foot_ulcer__symptoms_and_treatment'}, excluded_embed_metadata_keys=[], excluded_llm_metadata_keys=[], relationships={}, text='Diabetic Foot Ulcer : Symptoms and Treatment \\n\\n  What causes diabetic ulcers ? \\n\\n Here ’s what you need to know in terms of self - care , prevention , and the treatment of diabetic ulcer . \\n\\n  What Is a Diabetic Ulcer ? \\n\\n A diabetic ulcer is an open sore or wound resulting from poor circulation or lack of sensation due to nerve damage caused by elevated blood glucose levels .', mimetype='text/plain', start_char_idx=None, end_char_idx=None, text_template='{metadata_str}\\n\\n{content}', metadata_template='{key}: {value}', metadata_seperator='\\n'),\n",
       " Document(id_='ec627edf-5ff0-462a-aab3-4d1542f70baa', embedding=None, metadata={'is_table': False, 'source': 'diabetic_foot_ulcer__symptoms_and_treatment'}, excluded_embed_metadata_keys=[], excluded_llm_metadata_keys=[], relationships={}, text='The legs and feet are most at risk for these ulcers . Diabetes makes it hard for the body to heal body , increasing the risk of wounds becoming chronic and raising the risk of infection . \\n\\n Significantly , nonhealing diabetic ulcers result in a large number of amputations in Singapore . About two major limb amputations are carried out daily to remove lower limbs affected by diabetes - related ulcers or gangrene . \\n\\n  Diabetic Ulcer Prevention', mimetype='text/plain', start_char_idx=None, end_char_idx=None, text_template='{metadata_str}\\n\\n{content}', metadata_template='{key}: {value}', metadata_seperator='\\n'),\n",
       " Document(id_='bcd51e51-512a-45fc-9dde-32d56f91408e', embedding=None, metadata={'is_table': False, 'source': 'diabetic_foot_ulcer__symptoms_and_treatment'}, excluded_embed_metadata_keys=[], excluded_llm_metadata_keys=[], relationships={}, text='Diabetic Ulcer Prevention \\n\\n To reduce the risk of wounds , regular foot care is important for those with diabetes . Take these steps to reduce foot injuries and wounds :', mimetype='text/plain', start_char_idx=None, end_char_idx=None, text_template='{metadata_str}\\n\\n{content}', metadata_template='{key}: {value}', metadata_seperator='\\n'),\n",
       " Document(id_='8f423247-dc14-476f-97ab-d2eb8666c5ba', embedding=None, metadata={'is_table': False, 'source': 'diabetic_foot_ulcer__symptoms_and_treatment'}, excluded_embed_metadata_keys=[], excluded_llm_metadata_keys=[], relationships={}, text='- Check your feet every day for red spots , cuts , swelling or blisters . \\n - Use a mirror or get help to inspect the bottom of your feet . \\n - Wash your feet every day and dry feet carefully , especially between the toes . \\n - Moisturise your feet daily , ideally after washing , to keep the skin soft and smooth . \\n - Massage a thin coat of lotion over the top and bottom of your feet , but not between the toes as the skin is thinner and more prone to splitting .', mimetype='text/plain', start_char_idx=None, end_char_idx=None, text_template='{metadata_str}\\n\\n{content}', metadata_template='{key}: {value}', metadata_seperator='\\n'),\n",
       " Document(id_='58f0a595-59c4-4fb6-81b3-b3bccb6b7bb3', embedding=None, metadata={'is_table': False, 'source': 'diabetic_foot_ulcer__symptoms_and_treatment'}, excluded_embed_metadata_keys=[], excluded_llm_metadata_keys=[], relationships={}, text='- File away hard skin patches on the sole of the feet or toes at least once a week to prevent foot ulcers from forming underneath . \\n - Keep toenails trimmed to prevent toenails from cutting into your toes . \\n - Cut toenails straight across and file the edges , never into the sides as this causes ingrown nails . \\n - Always wear shoes and socks , and never walk barefoot to prevent injuries . \\n - Ensure shoes are comfortable and fit well .', mimetype='text/plain', start_char_idx=None, end_char_idx=None, text_template='{metadata_str}\\n\\n{content}', metadata_template='{key}: {value}', metadata_seperator='\\n'),\n",
       " Document(id_='08d26d57-ff58-4afb-9d73-b885d2d3a84e', embedding=None, metadata={'is_table': False, 'source': 'diabetic_foot_ulcer__symptoms_and_treatment'}, excluded_embed_metadata_keys=[], excluded_llm_metadata_keys=[], relationships={}, text='https://www.healthhub.sg/a-z/diseases-and-conditions/diabetic-ulcer', mimetype='text/plain', start_char_idx=None, end_char_idx=None, text_template='{metadata_str}\\n\\n{content}', metadata_template='{key}: {value}', metadata_seperator='\\n'),\n",
       " Document(id_='8e4b9ff8-f632-4ca9-b8cb-20120cd67aa9', embedding=None, metadata={'is_table': False, 'source': 'diabetes_treatment__insulin'}, excluded_embed_metadata_keys=[], excluded_llm_metadata_keys=[], relationships={}, text='Diabetes Treatment : Insulin \\n\\n Insulin moves into the blood and is used by your body . \\n\\n  Injection Areas \\n\\n - Abdomen — insulin moves fastest into the blood from here \\n - Arm \\n - Thigh and buttocks — insulin moves slowest into the blood from here \\n\\n The injection area is chosen based on the speed of insulin absorption required , and your convenience .', mimetype='text/plain', start_char_idx=None, end_char_idx=None, text_template='{metadata_str}\\n\\n{content}', metadata_template='{key}: {value}', metadata_seperator='\\n'),\n",
       " Document(id_='0dc0b70d-feb5-4610-8b3a-0ad22e7377fe', embedding=None, metadata={'is_table': False, 'source': 'diabetes_treatment__insulin'}, excluded_embed_metadata_keys=[], excluded_llm_metadata_keys=[], relationships={}, text='Your doctor or nurse will advise you on the best area to inject . doctor is not a good idea to change injection areas frequently . This may cause your blood sugar levels to go up and down . This happens because insulin moves into blood at different speeds from different areas .', mimetype='text/plain', start_char_idx=None, end_char_idx=None, text_template='{metadata_str}\\n\\n{content}', metadata_template='{key}: {value}', metadata_seperator='\\n'),\n",
       " Document(id_='bea19930-b1a8-43bc-9921-5a3d36c91b4e', embedding=None, metadata={'is_table': False, 'source': 'diabetes_treatment__insulin'}, excluded_embed_metadata_keys=[], excluded_llm_metadata_keys=[], relationships={}, text='You should inject your insulin into a different spot each time . Injecting into the same spot often may lead to formation of thick areas under the skin . Insulin injected into these areas may not be absorbed well . Rotating your insulin injection spot will prevent these thick areas from forming . You should try and use each spot only once a month .', mimetype='text/plain', start_char_idx=None, end_char_idx=None, text_template='{metadata_str}\\n\\n{content}', metadata_template='{key}: {value}', metadata_seperator='\\n'),\n",
       " Document(id_='e1737152-6d3d-4a83-9a37-fd787d66bb6b', embedding=None, metadata={'is_table': False, 'source': 'diabetes_treatment__insulin'}, excluded_embed_metadata_keys=[], excluded_llm_metadata_keys=[], relationships={}, text='Check your injection areas every few days . You can press gently and run your fingertips across each area . If there are any lumps , painful spots or any change of colour in the area , report these to your diabetes care team . Avoid using these areas until the problem stops . \\n\\n  Timing of Insulin Injections', mimetype='text/plain', start_char_idx=None, end_char_idx=None, text_template='{metadata_str}\\n\\n{content}', metadata_template='{key}: {value}', metadata_seperator='\\n'),\n",
       " Document(id_='e24b5523-fbf5-4f48-a30e-32a6f6e74189', embedding=None, metadata={'is_table': False, 'source': 'diabetes_treatment__insulin'}, excluded_embed_metadata_keys=[], excluded_llm_metadata_keys=[], relationships={}, text='Timing of Insulin Injections \\n\\n Inject your insulin 30 minutes before meals . The insulin will move into your blood to match the rise in the blood sugar level . You should eat regularly throughout the day . This is to avoid a low blood sugar levels caused by the injected insulin . \\n\\n If you are using a new insulin called Lispro Insulin ( Humalog ® ) you do not have to wait 30 minutes before eating your meal . Lispro insulin is absorbed and goes to work almost immediately after injection .', mimetype='text/plain', start_char_idx=None, end_char_idx=None, text_template='{metadata_str}\\n\\n{content}', metadata_template='{key}: {value}', metadata_seperator='\\n'),\n",
       " Document(id_='7d290250-c753-44aa-a045-5e6b472195c5', embedding=None, metadata={'is_table': False, 'source': 'diabetes_treatment__insulin'}, excluded_embed_metadata_keys=[], excluded_llm_metadata_keys=[], relationships={}, text='Insulin Usage \\n\\n Discard the insulin if : \\n\\n - insulin has expired \\n - There is any contamination of clear ( short - acting ) insulin \\n - There are any lumps in cloudy ( intermediate - acting ) insulin that will not dissolve when the bottle is rotated \\n\\n Lispro Insulin should be stored in the lower part of the fridge , away from the freezer . You should always keep at least one extra bottle of each type of insulin . \\n\\n Source', mimetype='text/plain', start_char_idx=None, end_char_idx=None, text_template='{metadata_str}\\n\\n{content}', metadata_template='{key}: {value}', metadata_seperator='\\n'),\n",
       " Document(id_='e14391ec-86e0-4ee5-85b4-96a01f7395c1', embedding=None, metadata={'is_table': False, 'source': 'diabetes_treatment__insulin'}, excluded_embed_metadata_keys=[], excluded_llm_metadata_keys=[], relationships={}, text='Diabetes Treatment : Insulin \\n\\n When travelling , carry your insulin and syringes with you . Do not put the insulin in your check - in luggage or in your car boot . \\n\\n  Insulin Devices \\n\\n  Syringes \\n\\n Syringes are used to measure the amount of insulin to be injected . Choose a suitable syringe that best matches the number of units required .', mimetype='text/plain', start_char_idx=None, end_char_idx=None, text_template='{metadata_str}\\n\\n{content}', metadata_template='{key}: {value}', metadata_seperator='\\n'),\n",
       " Document(id_='06fc856c-cd23-4915-8eff-760e3d00c058', embedding=None, metadata={'is_table': False, 'source': 'diabetes_treatment__insulin'}, excluded_embed_metadata_keys=[], excluded_llm_metadata_keys=[], relationships={}, text='A 0.3ml syringe should be used for doses up to 30 units . A 0.5ml syringe should be used for doses up to 50 units . A 1ml syringe can be used for doses up to 100 units . Disposable syringes can be used for the same person up to about two to four times . Between uses , replace the cap and put the syringe in the fridge . \\n\\n  Insulin Pens', mimetype='text/plain', start_char_idx=None, end_char_idx=None, text_template='{metadata_str}\\n\\n{content}', metadata_template='{key}: {value}', metadata_seperator='\\n'),\n",
       " Document(id_='f906d7c3-ba92-4345-9d25-68e83610aa10', embedding=None, metadata={'is_table': False, 'source': 'diabetes_treatment__insulin'}, excluded_embed_metadata_keys=[], excluded_llm_metadata_keys=[], relationships={}, text='Insulin Pens \\n\\n Insulin pens combine both the needle and insulin cartridge into one . Thus , insulin injections become more convenient and you do not have to carry syringes and insulin bottles with you . \\n\\n  Insulin Pumps \\n\\n The insulin pump is a small computerised device that pumps insulin continuously through a fine plastic tube into a site under the skin 24 hours a day . Pumps is just a little larger than a pocket pager .', mimetype='text/plain', start_char_idx=None, end_char_idx=None, text_template='{metadata_str}\\n\\n{content}', metadata_template='{key}: {value}', metadata_seperator='\\n'),\n",
       " Document(id_='b81a91bb-c731-43f0-b526-4bb8d2d7f841', embedding=None, metadata={'is_table': False, 'source': 'diabetes_treatment__insulin'}, excluded_embed_metadata_keys=[], excluded_llm_metadata_keys=[], relationships={}, text='Pump users have to monitor users blood sugar frequently so as to make adjustments to the amount of insulin delivered . The insulin pump generally gives you better control and more meal flexibility , but is costlier and requires more frequent blood sugar monitoring . \\n\\n  Switching to Insulin from Anti - diabetes Tablets', mimetype='text/plain', start_char_idx=None, end_char_idx=None, text_template='{metadata_str}\\n\\n{content}', metadata_template='{key}: {value}', metadata_seperator='\\n'),\n",
       " Document(id_='5899cf1d-b897-44b3-bc04-6660e4c6b8f0', embedding=None, metadata={'is_table': False, 'source': 'diabetes_treatment__insulin'}, excluded_embed_metadata_keys=[], excluded_llm_metadata_keys=[], relationships={}, text='Switching to Insulin from Anti - diabetes Tablets \\n\\n Patients who are switched to insulin from anti - diabetes tablets often worry that Patients condition must be deteriorating . However , the switch to insulin was made because the diabetes was getting out of control as the tablets were failing to control the patient ’s blood sugar — and the insulin will correct that . \\n\\n  Insulin Side Effects \\n\\n Taking insulin may result in some side effects . These include :', mimetype='text/plain', start_char_idx=None, end_char_idx=None, text_template='{metadata_str}\\n\\n{content}', metadata_template='{key}: {value}', metadata_seperator='\\n'),\n",
       " Document(id_='01c4cefb-7503-4728-87b1-9bf2d32ded5b', embedding=None, metadata={'is_table': False, 'source': 'diabetes_treatment__insulin'}, excluded_embed_metadata_keys=[], excluded_llm_metadata_keys=[], relationships={}, text='- Low blood sugar \\n - Initial weight gain \\n - Lumpy or scarred tissue from too many injections on the same part of the body \\n - Rashes on the injection site or , in rare cases , all over the body \\n\\n Read these next : \\n\\n https://www.healthhub.sg/a-z/diseases-and-conditions/diabetes-treatment-insulin', mimetype='text/plain', start_char_idx=None, end_char_idx=None, text_template='{metadata_str}\\n\\n{content}', metadata_template='{key}: {value}', metadata_seperator='\\n')]"
      ]
     },
     "execution_count": 12,
     "metadata": {},
     "output_type": "execute_result"
    }
   ],
   "source": [
    "final_docs"
   ]
  },
  {
   "cell_type": "code",
   "execution_count": 13,
   "metadata": {},
   "outputs": [],
   "source": [
    "diabetes_medications = [i for i in final_docs if i.metadata['source'] == 'diabetes_medications']"
   ]
  },
  {
   "cell_type": "code",
   "execution_count": 14,
   "metadata": {},
   "outputs": [
    {
     "data": {
      "text/plain": [
       "[Document(id_='43c8dd4c-d18a-469b-97f8-05773f129b16', embedding=None, metadata={'is_table': False, 'source': 'diabetes_medications'}, excluded_embed_metadata_keys=[], excluded_llm_metadata_keys=[], relationships={}, text=\"Diabetes Medications \\n\\n You should go back to your regular dosage schedule . Check with your doctor or pharmacist before taking any other medicines , including over - the - counter medicines . \\n\\n  Rare Side Effects of Anti - diabetes Tablets \\n\\n Please inform your doctor if you have the following symptoms : \\n\\n - Dark or coloured urine \\n - Tiredness \\n - Itchy skin or skin rash \\n - Loss of appetite \\n - Light - coloured stools \\n - Unexplained fever and sore throat \\n - Increased sensitivity to sunlight \\n - Diarrhoea \\n - Yellowing of eyes or skin \\n - Nausea or vomiting \\n - Headache \\n\\n Take action : \\n\\n  Beat Diabetes Step by Step \\n\\n  Are Anti - diabetes Tablets Addictive ? \\n\\n You can never become addicted to anti - diabetes tablets . This is a common misconception among patients who do not like the idea of taking medication long - term . \\n\\n The right way to think about diabetes medications is this : the tablets are there to do a job . If you take tablets only three days of the week instead of every day as instructed , you can expect your blood sugar to be high on the four days that you do not take the tablets . \\n\\n Anti - diabetes tablets are meant to help keep you well . However , tablets wo n't work unless you take tablets . \\n\\n  Read more : \\n\\n - Guide to Managing Diabetes \\n - Diabetes in Childhood and Pregnancy \\n - The Diabetic 's Guide to Dessert \\n - How Does Belly Fat Increase Your Risk of Diabetes ? \\n\\n  Type of Tablet\", mimetype='text/plain', start_char_idx=None, end_char_idx=None, text_template='{metadata_str}\\n\\n{content}', metadata_template='{key}: {value}', metadata_seperator='\\n'),\n",
       " Document(id_='12a71d37-e8f3-4398-b3c2-407afbb88444', embedding=None, metadata={'is_table': True, 'source': 'diabetes_medications'}, excluded_embed_metadata_keys=[], excluded_llm_metadata_keys=[], relationships={}, text='This table appears to be empty or incomplete . table has three columns labeled \" Type of Tablet , \" \" Action , \" and \" Comment , \" but there is no data in any of the cells . Without any content , it \\'s not possible to determine the specific purpose or subject of this table . \\n\\n There is no existing title , caption , or table ID provided in the given context . \\n\\n Given the lack of information , this table should not be kept in table current form as table does not provide any useful data or insights . , \\n with the following columns :', mimetype='text/plain', start_char_idx=None, end_char_idx=None, text_template='{metadata_str}\\n\\n{content}', metadata_template='{key}: {value}', metadata_seperator='\\n'),\n",
       " Document(id_='56343e4f-8ac2-424b-a239-32a95e95e046', embedding=None, metadata={'is_table': False, 'source': 'diabetes_medications'}, excluded_embed_metadata_keys=[], excluded_llm_metadata_keys=[], relationships={}, text='Diabetes Medications \\n\\n Learn about the different diabetes treatment pills available , the guidelines when taking guidelines and more . \\n\\n  Treatment of Diabetes Mellitus : Tablets \\n\\n Treatment of type 2 diabetes begins with diet control . If diet alone is unable to control blood sugar levels , then tablets have to be taken . If both diet and tablets fail to control the blood sugar levels , insulin injections may be needed . \\n\\n Oral anti - diabetes tablets are used for treating type 2 diabetes .', mimetype='text/plain', start_char_idx=None, end_char_idx=None, text_template='{metadata_str}\\n\\n{content}', metadata_template='{key}: {value}', metadata_seperator='\\n'),\n",
       " Document(id_='42aca6e1-44e4-4bb5-bead-830e58c9c65c', embedding=None, metadata={'is_table': False, 'source': 'diabetes_medications'}, excluded_embed_metadata_keys=[], excluded_llm_metadata_keys=[], relationships={}, text='Tell Your Doctor if You \\n\\n - Are allergic to any medicines \\n - Are pregnant , or intend to become pregnant \\n - Are breastfeeding \\n - Are taking any other medicines \\n - Have any other medical problems \\n\\n  Some Guidelines to Follow When Taking Your Diabetes Pill(s )', mimetype='text/plain', start_char_idx=None, end_char_idx=None, text_template='{metadata_str}\\n\\n{content}', metadata_template='{key}: {value}', metadata_seperator='\\n'),\n",
       " Document(id_='57836be4-5af9-45d8-b40e-6b09bc339f24', embedding=None, metadata={'is_table': False, 'source': 'diabetes_medications'}, excluded_embed_metadata_keys=[], excluded_llm_metadata_keys=[], relationships={}, text='- Know the name and dosage of your diabetic tablet(s ) . \\n - Do not take more or less than what your doctor ordered . \\n - Take the tablet(s ) at the correct times . Do not make any changes to your medication routine without consulting your doctor . \\n - Take your tablet(s ) even when you are sick ( sometimes the dosage may have to be changed , so do consult your doctor beforehand ) .', mimetype='text/plain', start_char_idx=None, end_char_idx=None, text_template='{metadata_str}\\n\\n{content}', metadata_template='{key}: {value}', metadata_seperator='\\n'),\n",
       " Document(id_='0feed2d7-9c30-4fa1-85d9-d0b35f961e47', embedding=None, metadata={'is_table': False, 'source': 'diabetes_medications'}, excluded_embed_metadata_keys=[], excluded_llm_metadata_keys=[], relationships={}, text='- Follow your meal plan . doctor will help your tablet(s ) work better . Careless eating may cause the tablet(s ) to lose doctor effect . \\n - If you miss a dose of the tablet(s ) , take tablet(s as soon as possible unless tablet(s is time for your next dose . In that case , do not take the missed dose and do not double the next one .', mimetype='text/plain', start_char_idx=None, end_char_idx=None, text_template='{metadata_str}\\n\\n{content}', metadata_template='{key}: {value}', metadata_seperator='\\n'),\n",
       " Document(id_='11479ef9-7a98-4e34-8331-42be29a3aec0', embedding=None, metadata={'is_table': False, 'source': 'diabetes_medications'}, excluded_embed_metadata_keys=[], excluded_llm_metadata_keys=[], relationships={}, text='Source', mimetype='text/plain', start_char_idx=None, end_char_idx=None, text_template='{metadata_str}\\n\\n{content}', metadata_template='{key}: {value}', metadata_seperator='\\n'),\n",
       " Document(id_='42cae083-6f47-4097-ab33-dea66540fcd8', embedding=None, metadata={'is_table': False, 'source': 'diabetes_medications'}, excluded_embed_metadata_keys=[], excluded_llm_metadata_keys=[], relationships={}, text='Diabetes Medications \\n\\n  Sulphonylureas \\n\\n Help the pancreas to release more insulin and the body to use glucose more effectively . \\n\\n - Chlorpropamide ( Diabinese ® ) \\n - Glibenclamide ( Daonil ® ) \\n - Gliclazide ( Diamicron ® ) \\n - Tolbutamide ( Rastinon ® ) \\n - Glimepiride ( Amaryl ® ) \\n\\n Take the tablet(s ) daily immediately after meals ( except Gliclazide which is consumed half an hour before meals ) . Do not miss or delay meals . Otherwise , your blood sugar level may fall too low .', mimetype='text/plain', start_char_idx=None, end_char_idx=None, text_template='{metadata_str}\\n\\n{content}', metadata_template='{key}: {value}', metadata_seperator='\\n'),\n",
       " Document(id_='5b82dc68-e061-48ec-8321-ce1b5deaf073', embedding=None, metadata={'is_table': False, 'source': 'diabetes_medications'}, excluded_embed_metadata_keys=[], excluded_llm_metadata_keys=[], relationships={}, text='Sometimes other tablets ( e.g. those for blood pressure ) can react with anti - diabetes tablets . If in doubt , talk to your doctor or pharmacist . \\n\\n Alcohol interferes with some of these tablets : consult your pharmacist if you are planning to drink alcohol . For example , having alcohol with Chlorpropamide causes side effects like redness and vomiting . \\n\\n  Biguanides \\n\\n Help the body to use glucose more effectively . \\n\\n - e.g. Metformin ( Glucophage ® )', mimetype='text/plain', start_char_idx=None, end_char_idx=None, text_template='{metadata_str}\\n\\n{content}', metadata_template='{key}: {value}', metadata_seperator='\\n'),\n",
       " Document(id_='d8484100-517a-4420-aee6-f9a993c08178', embedding=None, metadata={'is_table': False, 'source': 'diabetes_medications'}, excluded_embed_metadata_keys=[], excluded_llm_metadata_keys=[], relationships={}, text='- e.g. Metformin ( Glucophage ® ) \\n\\n Take the tablet(s ) with meals or after meals . \\n\\n  a - glucosidase inhibitors \\n\\n Help to stop the quick rise of blood glucose after a meal . \\n\\n - e.g. Acarbose ( Glucobay ® ) \\n\\n Take the tablet(s ) with the first mouthful or immediately before each of the three main daily meals . \\n\\n  Meglitinides \\n\\n Help the pancreas to release more insulin . \\n\\n - e.g. Repaglinide ( Novonorm ® ) \\n\\n Take the tablet before meals . \\n\\n  Thiazolidinediones', mimetype='text/plain', start_char_idx=None, end_char_idx=None, text_template='{metadata_str}\\n\\n{content}', metadata_template='{key}: {value}', metadata_seperator='\\n'),\n",
       " Document(id_='b4238ffe-f9b3-4079-8038-4a4e8afd8353', embedding=None, metadata={'is_table': False, 'source': 'diabetes_medications'}, excluded_embed_metadata_keys=[], excluded_llm_metadata_keys=[], relationships={}, text='Take the tablet before meals . \\n\\n  Thiazolidinediones \\n\\n Enhance insulin action and help the body to use glucose more effectively . \\n\\n - e.g. Rosiglitazone ( Avandia ® ) \\n\\n Take the tablet with or without food . \\n\\n This article was last reviewed on Tuesday , May 25 , 2021 \\n\\n Source', mimetype='text/plain', start_char_idx=None, end_char_idx=None, text_template='{metadata_str}\\n\\n{content}', metadata_template='{key}: {value}', metadata_seperator='\\n')]"
      ]
     },
     "execution_count": 14,
     "metadata": {},
     "output_type": "execute_result"
    }
   ],
   "source": [
    "diabetes_medications"
   ]
  },
  {
   "cell_type": "code",
   "execution_count": 15,
   "metadata": {},
   "outputs": [],
   "source": [
    "NEO4J_URI = \"bolt://localhost:7687\"\n",
    "NEO4J_USER = \"neo4j\"\n",
    "NEO4J_PASSWORD = \"15082001\"\n",
    "NEO4J_DATABASE = \"neo4j\"\n",
    "\n",
    "graph_store = Neo4jPropertyGraphStore(\n",
    "    username=NEO4J_USER,\n",
    "    password=NEO4J_PASSWORD,\n",
    "    url=NEO4J_URI,\n",
    "    refresh_schema=False,\n",
    ")\n",
    "\n",
    "# gds = GraphDataScience(NEO4J_URI, database=NEO4J_DATABASE, auth=(NEO4J_USER, NEO4J_PASSWORD))"
   ]
  },
  {
   "cell_type": "code",
   "execution_count": 16,
   "metadata": {},
   "outputs": [],
   "source": [
    "def delete_all_nodes(graph_store):\n",
    "    graph_store.structured_query(\"\"\"\n",
    "    MATCH (n)\n",
    "    DETACH DELETE n\n",
    "    \"\"\")\n",
    "    print(\"All nodes deleted\")"
   ]
  },
  {
   "cell_type": "code",
   "execution_count": 17,
   "metadata": {},
   "outputs": [
    {
     "name": "stdout",
     "output_type": "stream",
     "text": [
      "All nodes deleted\n"
     ]
    }
   ],
   "source": [
    "# delete_all_nodes(graph_store)"
   ]
  },
  {
   "cell_type": "code",
   "execution_count": 18,
   "metadata": {},
   "outputs": [],
   "source": [
    "def remove_all_neo4j_restrictions(graph_store):\n",
    "    graph_store.structured_query(\"\"\"\n",
    "    CALL apoc.schema.assert({}, {});\n",
    "    \"\"\")"
   ]
  },
  {
   "cell_type": "code",
   "execution_count": 19,
   "metadata": {},
   "outputs": [
    {
     "name": "stderr",
     "output_type": "stream",
     "text": [
      "Parsing nodes: 100%|██████████| 11/11 [00:00<00:00, 1956.22it/s]\n",
      "Extracting triples: 100%|██████████| 11/11 [02:43<00:00, 14.88s/it]\n",
      "Generating embeddings: 100%|██████████| 1/1 [00:00<00:00,  1.04it/s]\n",
      "Generating embeddings: 100%|██████████| 1/1 [00:01<00:00,  1.54s/it]\n"
     ]
    }
   ],
   "source": [
    "index = PropertyGraphIndex.from_documents(\n",
    "    diabetes_medications,\n",
    "    kg_extractors=[relik],\n",
    "    llm=llama_llm,\n",
    "    embed_model=llama_openai_embed_model,\n",
    "    property_graph_store=graph_store,\n",
    "    show_progress=True,\n",
    ")"
   ]
  },
  {
   "cell_type": "code",
   "execution_count": null,
   "metadata": {},
   "outputs": [],
   "source": []
  }
 ],
 "metadata": {
  "kernelspec": {
   "display_name": "Python 3",
   "language": "python",
   "name": "python3"
  },
  "language_info": {
   "codemirror_mode": {
    "name": "ipython",
    "version": 3
   },
   "file_extension": ".py",
   "mimetype": "text/x-python",
   "name": "python",
   "nbconvert_exporter": "python",
   "pygments_lexer": "ipython3",
   "version": "3.11.5"
  }
 },
 "nbformat": 4,
 "nbformat_minor": 2
}
