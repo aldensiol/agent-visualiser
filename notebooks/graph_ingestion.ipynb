{
 "cells": [
  {
   "cell_type": "code",
   "execution_count": 28,
   "metadata": {},
   "outputs": [],
   "source": [
    "import nest_asyncio\n",
    "import os\n",
    "import pickle\n",
    "import re\n",
    "import spacy\n",
    "import torch\n",
    "import uuid\n",
    "\n",
    "from alive_progress import alive_bar\n",
    "from dotenv import load_dotenv\n",
    "from fastembed import TextEmbedding\n",
    "from graphdatascience import GraphDataScience\n",
    "from langchain_anthropic import ChatAnthropic\n",
    "from langchain_openai import OpenAIEmbeddings\n",
    "from langchain.text_splitter import RecursiveCharacterTextSplitter\n",
    "from llama_index.core import Settings, Document, PropertyGraphIndex \n",
    "from llama_index.core.node_parser import MarkdownElementNodeParser\n",
    "from llama_index.embeddings.openai import OpenAIEmbedding\n",
    "from llama_index.extractors.relik.base import RelikPathExtractor\n",
    "from llama_index.graph_stores.neo4j import Neo4jPropertyGraphStore\n",
    "from llama_index.llms.anthropic import Anthropic\n",
    "from llama_parse import LlamaParse\n",
    "from transformers import pipeline\n",
    "from typing import List, Optional, Tuple"
   ]
  },
  {
   "cell_type": "code",
   "execution_count": 2,
   "metadata": {},
   "outputs": [],
   "source": [
    "load_dotenv()\n",
    "\n",
    "OPENAI_API_KEY = os.getenv('OPENAI_API_KEY')\n",
    "CLAUDE_API_KEY = os.getenv('CLAUDE_API_KEY')\n",
    "LLAMA_API_KEY = os.getenv('LLAMA_API_KEY')\n",
    "\n",
    "os.environ['OPENAI_API_KEY'] = OPENAI_API_KEY\n",
    "os.environ[\"ANTHROPIC_API_KEY\"] = CLAUDE_API_KEY\n",
    "os.environ[\"LLAMA_CLOUD_API_KEY\"] = LLAMA_API_KEY"
   ]
  },
  {
   "cell_type": "code",
   "execution_count": 3,
   "metadata": {},
   "outputs": [],
   "source": [
    "llm = ChatAnthropic(\n",
    "    model=\"claude-3-5-sonnet-20240620\",\n",
    "    max_tokens=4096,\n",
    "    temperature=0.0,\n",
    "    stop=[\"\\n\\nHuman\"],\n",
    ")\n",
    "\n",
    "llama_llm = Anthropic(\n",
    "    model=\"claude-3-5-sonnet-20240620\",\n",
    "    max_tokens=4096,\n",
    "    temperature=0.0\n",
    ")"
   ]
  },
  {
   "cell_type": "code",
   "execution_count": 26,
   "metadata": {},
   "outputs": [
    {
     "name": "stderr",
     "output_type": "stream",
     "text": [
      "Fetching 5 files: 100%|██████████| 5/5 [00:00<00:00, 53773.13it/s]\n"
     ]
    }
   ],
   "source": [
    "bge_embed_model = TextEmbedding(model_name=\"BAAI/bge-large-en-v1.5\")\n",
    "llama_openai_embed_model = OpenAIEmbedding(model_name=\"text-embedding-3-small\")\n",
    "\n",
    "Settings.embed_model = llama_openai_embed_model"
   ]
  },
  {
   "cell_type": "code",
   "execution_count": 24,
   "metadata": {},
   "outputs": [
    {
     "name": "stdout",
     "output_type": "stream",
     "text": [
      "                ___              __         \n",
      "               /\\_ \\      __    /\\ \\        \n",
      " _ __     __   \\//\\ \\    /\\_\\   \\ \\ \\/'\\    \n",
      "/\\`'__\\ /'__`\\   \\ \\ \\   \\/\\ \\   \\ \\ , <    \n",
      "\\ \\ \\/ /\\  __/    \\_\\ \\_  \\ \\ \\   \\ \\ \\\\`\\  \n",
      " \\ \\_\\ \\ \\____\\   /\\____\\  \\ \\_\\   \\ \\_\\ \\_\\\n",
      "  \\/_/  \\/____/   \\/____/   \\/_/    \\/_/\\/_/\n",
      "                                            \n",
      "                                            \n",
      "\n"
     ]
    },
    {
     "name": "stderr",
     "output_type": "stream",
     "text": [
      "/Library/Frameworks/Python.framework/Versions/3.11/lib/python3.11/site-packages/huggingface_hub/file_download.py:1132: FutureWarning: `resume_download` is deprecated and will be removed in version 1.0.0. Downloads always resume when possible. If you want to force a new download, use `force_download=True`.\n",
      "  warnings.warn(\n"
     ]
    },
    {
     "name": "stdout",
     "output_type": "stream",
     "text": [
      "\u001b[33m[2024-09-06 16:03:38,607] [WARNING] [relik.common.utils.download_from_hf:342] [PID:7140] [RANK:0] Couldn't download index.faiss from relik-ie/encoder-e5-small-v2-wikipedia-relations-index, ignoring\u001b[39m\n"
     ]
    }
   ],
   "source": [
    "relik = RelikPathExtractor(\n",
    "    model=\"relik-ie/relik-relation-extraction-small\"\n",
    ")"
   ]
  },
  {
   "cell_type": "code",
   "execution_count": 5,
   "metadata": {},
   "outputs": [
    {
     "name": "stderr",
     "output_type": "stream",
     "text": [
      "/Library/Frameworks/Python.framework/Versions/3.11/lib/python3.11/site-packages/spacy/util.py:910: UserWarning: [W095] Model 'en_core_web_lg' (3.5.0) was trained with spaCy v3.5.0 and may not be 100% compatible with the current version (3.7.6). If you see errors or degraded performance, download a newer compatible model or retrain your custom model with the current spaCy version. For more details and available updates, run: python -m spacy validate\n",
      "  warnings.warn(warn_msg)\n"
     ]
    },
    {
     "data": {
      "text/plain": [
       "<coreferee.manager.CorefereeBroker at 0x3394f8e50>"
      ]
     },
     "execution_count": 5,
     "metadata": {},
     "output_type": "execute_result"
    }
   ],
   "source": [
    "coref_nlp = spacy.load('en_core_web_lg')\n",
    "coref_nlp.add_pipe('coreferee')"
   ]
  },
  {
   "cell_type": "code",
   "execution_count": 7,
   "metadata": {},
   "outputs": [],
   "source": [
    "# instantiate doc parser\n",
    "parser = LlamaParse(\n",
    "    result_type=\"markdown\",\n",
    "    num_workers=8,\n",
    "    verbose = True,\n",
    "    language=\"en\",\n",
    ")\n",
    "\n",
    "# instantiate node parser\n",
    "node_parser = MarkdownElementNodeParser(llm=llama_llm, num_workers=8)"
   ]
  },
  {
   "cell_type": "code",
   "execution_count": 8,
   "metadata": {},
   "outputs": [],
   "source": [
    "nest_asyncio.apply()"
   ]
  },
  {
   "cell_type": "code",
   "execution_count": 9,
   "metadata": {},
   "outputs": [],
   "source": [
    "def coref_text(text):\n",
    "    coref_doc = coref_nlp(text.strip())\n",
    "    resolved_text = \"\"\n",
    "\n",
    "    for token in coref_doc:\n",
    "        repres = coref_doc._.coref_chains.resolve(token)\n",
    "        if repres:\n",
    "            resolved_text += \" \" + \" and \".join(\n",
    "                [\n",
    "                    t.text\n",
    "                    if t.ent_type_ == \"\"\n",
    "                    else [e.text for e in coref_doc.ents if t in e][0]\n",
    "                    for t in repres\n",
    "                ]\n",
    "            )\n",
    "        else:\n",
    "            resolved_text += \" \" + token.text\n",
    "\n",
    "    return resolved_text.strip()\n",
    "\n",
    "def remove_table_of_contents(text):\n",
    "    pattern = r\"TABLE OF CONTENTS.*?(?=#)\"\n",
    "    cleaned_text = re.sub(pattern, \"\", text, flags=re.DOTALL)\n",
    "    return cleaned_text.strip()\n",
    "\n",
    "def convert_nodes_to_documents(text_nodes, object_nodes, source):\n",
    "    \"\"\"\n",
    "    Converts nodes to Documents\n",
    "\n",
    "    Args:\n",
    "        text_nodes (List[Nodes]): List of text nodes\n",
    "        object_nodes (List[Nodes]): List of object nodes\n",
    "        source (str): Source of the document\n",
    "\n",
    "    Returns:\n",
    "        documents (List[Documents]): List of Documents\n",
    "    \"\"\"\n",
    "    documents = []\n",
    "    for node in text_nodes:\n",
    "        text = coref_text(node.text)\n",
    "        doc_id = str(uuid.uuid4())\n",
    "        doc = Document(\n",
    "            text= text,\n",
    "            metadata = {\n",
    "                \"id\": doc_id,\n",
    "                \"is_table\": False,\n",
    "                \"source\": source\n",
    "            }\n",
    "        )\n",
    "        documents.append(doc)\n",
    "        \n",
    "    for node in object_nodes:\n",
    "        text = coref_text(node.text)\n",
    "        doc_id = str(uuid.uuid4())\n",
    "        doc = Document(\n",
    "            text= text,\n",
    "            metadata = {\n",
    "                \"id\": doc_id,\n",
    "                \"is_table\": True,\n",
    "                \"source\": source\n",
    "            }\n",
    "        )\n",
    "        documents.append(doc)\n",
    "        \n",
    "    return documents\n",
    "\n",
    "def make_dir(data_folder):\n",
    "    os.makedirs(data_folder, exist_ok=True)\n",
    "\n",
    "def parse_docs(file_location: str, data_folder: Optional[str] = None) -> List[Document]:\n",
    "    all_docs = []\n",
    "    for file_name in os.listdir(file_location):\n",
    "        if not file_name.endswith(\".pdf\"):\n",
    "            continue\n",
    "\n",
    "        print(\"File: \" + str(file_name))\n",
    "        doc_path = os.path.join(file_location, file_name)\n",
    "        modified_file_name = os.path.splitext(file_name)[0].lower().replace(' ', '_')\n",
    "\n",
    "        # results in a list of Document Objects\n",
    "        documents = parser.load_data(doc_path)\n",
    "        \n",
    "        for idx, doc in enumerate(documents):\n",
    "            doc.text = remove_table_of_contents(doc.text)\n",
    "            if idx > 4:\n",
    "                break\n",
    "\n",
    "        raw_nodes = node_parser.get_nodes_from_documents(documents)\n",
    "        # list of text_nodes, list of objects\n",
    "        text_nodes, objects = node_parser.get_nodes_and_objects(raw_nodes)\n",
    "        \n",
    "        final_docs = convert_nodes_to_documents(text_nodes, objects, modified_file_name)\n",
    "        all_docs.append(final_docs)\n",
    "        \n",
    "        if data_folder:\n",
    "            data_path = os.path.join(data_folder, modified_file_name + '.pkl')\n",
    "            pickle.dump(final_docs, open(data_path, \"wb\"))\n",
    "    \n",
    "    return [item for sublist in all_docs for item in sublist]\n",
    "\n",
    "def read_pickles(data_folder: str) -> List[Document]:\n",
    "    doc_list = []\n",
    "    for file_name in os.listdir(data_folder):\n",
    "        doc_path = os.path.join(data_folder, file_name)\n",
    "        if file_name.endswith(\".pkl\"):\n",
    "            with open(doc_path, 'rb') as file:\n",
    "                # data will be a doc_list\n",
    "                data = pickle.load(file)\n",
    "                doc_list.append(data)\n",
    "                \n",
    "    # since doc_list is a list of list of documents, we need to flatten it\n",
    "    doc_list = [item for sublist in doc_list for item in sublist]\n",
    "    return doc_list\n",
    "\n",
    "def further_split_long_docs(doc_list: List[Document]) -> Tuple[List[Document], List[Document]]:\n",
    "    long_docs, short_docs = [], []\n",
    "    for doc in doc_list:\n",
    "        is_table = doc.metadata[\"is_table\"]\n",
    "        if not is_table:\n",
    "            if len(doc.text) > 1500:\n",
    "                long_docs.append(doc)\n",
    "            else:\n",
    "                short_docs.append(doc)\n",
    "        else:\n",
    "            short_docs.append(doc)\n",
    "    return long_docs, short_docs\n",
    "                \n",
    "def chunk_doc(doc: Document, text_splitter: RecursiveCharacterTextSplitter) -> List[Document]:\n",
    "    chunks = text_splitter.split_text(doc.text)\n",
    "    return [\n",
    "        Document(\n",
    "            text=chunk,\n",
    "            metadata={\n",
    "                'id': str(uuid.uuid4()),\n",
    "                'is_table': doc.metadata['is_table'],\n",
    "                'parent_id': doc.metadata.get('id', ''),\n",
    "                'source': doc.metadata.get('source', '')\n",
    "            }\n",
    "        )\n",
    "        for i, chunk in enumerate(chunks)\n",
    "    ]\n",
    "    \n",
    "def recursive_chunk_documents(long_docs: List[Document],\n",
    "                              short_docs: List[Document], \n",
    "                              chunk_size: int = 512, \n",
    "                              chunk_overlap: int = 64,\n",
    "                              separators: List[str] = [\"\\n\\n\", \"\\n\", \" \", \"\"]) -> List[Document]:\n",
    "    \n",
    "    text_splitter = RecursiveCharacterTextSplitter(\n",
    "        chunk_size=chunk_size,\n",
    "        chunk_overlap=chunk_overlap,\n",
    "        separators=separators\n",
    "    )\n",
    "\n",
    "    for doc in long_docs:\n",
    "        short_docs.extend(chunk_doc(doc, text_splitter))\n",
    "\n",
    "    return short_docs\n",
    "\n",
    "def get_final_docs(data_folder: Optional[str] = None, doc_list: Optional[List[Document]] = None) -> List[Document]:\n",
    "    if doc_list is None:\n",
    "        if data_folder is None:\n",
    "            raise ValueError(\"Either data_folder or doc_list must be provided\")\n",
    "        doc_list = read_pickles(data_folder)\n",
    "    \n",
    "    long_docs, short_docs = further_split_long_docs(doc_list)\n",
    "    final_docs = recursive_chunk_documents(long_docs, short_docs)\n",
    "    return final_docs\n",
    "        \n",
    "def parse_and_process_docs(file_location, data_folder: Optional[str] = None) -> List[Document]:\n",
    "    if data_folder:\n",
    "        make_dir(data_folder)\n",
    "        all_docs = parse_docs(file_location=file_location, data_folder=data_folder)\n",
    "    else:\n",
    "        all_docs = parse_docs(file_location=file_location)\n",
    "        \n",
    "    final_docs = get_final_docs(doc_list=all_docs)\n",
    "    return final_docs"
   ]
  },
  {
   "cell_type": "code",
   "execution_count": 10,
   "metadata": {},
   "outputs": [],
   "source": [
    "# final_docs = parse_and_process_docs(file_location=\"pdfs\", data_folder=\"pickles\")\n",
    "# pickle.dump(final_docs, open('pickles/final_docs.pkl', \"wb\"))"
   ]
  },
  {
   "cell_type": "code",
   "execution_count": 11,
   "metadata": {},
   "outputs": [],
   "source": [
    "with open(\"pickles/final_docs.pkl\", 'rb') as file:\n",
    "    final_docs = pickle.load(file)"
   ]
  },
  {
   "cell_type": "code",
   "execution_count": 12,
   "metadata": {},
   "outputs": [
    {
     "data": {
      "text/plain": [
       "[Document(id_='d5efd733-7731-4865-ba5c-42d79bcdc5a9', embedding=None, metadata={'id': '1b19777a-7277-4a49-be33-1e72679c58dc', 'is_table': False, 'source': 'diabetes_medications'}, excluded_embed_metadata_keys=[], excluded_llm_metadata_keys=[], relationships={}, text=\"Diabetes Medications \\n\\n You should go back to your regular dosage schedule . Check with your doctor or pharmacist before taking any other medicines , including over - the - counter medicines . \\n\\n  Rare Side Effects of Anti - diabetes Tablets \\n\\n Please inform your doctor if you have the following symptoms : \\n\\n - Dark or coloured urine \\n - Tiredness \\n - Itchy skin or skin rash \\n - Loss of appetite \\n - Light - coloured stools \\n - Unexplained fever and sore throat \\n - Increased sensitivity to sunlight \\n - Diarrhoea \\n - Yellowing of eyes or skin \\n - Nausea or vomiting \\n - Headache \\n\\n Take action : \\n\\n  Beat Diabetes Step by Step \\n\\n  Are Anti - diabetes Tablets Addictive ? \\n\\n You can never become addicted to anti - diabetes tablets . This is a common misconception among patients who do not like the idea of taking medication long - term . \\n\\n The right way to think about diabetes medications is this : the tablets are there to do a job . If you take tablets only three days of the week instead of every day as instructed , you can expect your blood sugar to be high on the four days that you do not take the tablets . \\n\\n Anti - diabetes tablets are meant to help keep you well . However , tablets wo n't work unless you take tablets . \\n\\n  Read more : \\n\\n - Guide to Managing Diabetes \\n - Diabetes in Childhood and Pregnancy \\n - The Diabetic 's Guide to Dessert \\n - How Does Belly Fat Increase Your Risk of Diabetes ? \\n\\n  Type of Tablet\", mimetype='text/plain', start_char_idx=None, end_char_idx=None, text_template='{metadata_str}\\n\\n{content}', metadata_template='{key}: {value}', metadata_seperator='\\n'),\n",
       " Document(id_='16a15f90-fd3f-4d2a-bccd-55d2484ccc37', embedding=None, metadata={'id': 'c31cfa1c-47bf-44d8-91fe-6f215ccb3b81', 'is_table': True, 'source': 'diabetes_medications'}, excluded_embed_metadata_keys=[], excluded_llm_metadata_keys=[], relationships={}, text='This table appears to be empty or incomplete . table has three columns labeled \" Type of Tablet , \" \" Action , \" and \" Comment , \" but there is no data in any of the cells . Without any content , it \\'s not possible to determine the specific purpose or subject of this table . \\n\\n There is no existing title , caption , or table ID provided in the given context . \\n\\n Given the lack of information , this table should not be kept in table current form as table does not provide any useful data or insights . , \\n with the following columns :', mimetype='text/plain', start_char_idx=None, end_char_idx=None, text_template='{metadata_str}\\n\\n{content}', metadata_template='{key}: {value}', metadata_seperator='\\n'),\n",
       " Document(id_='c3de7438-ee3a-4bf9-a877-17a2722f954e', embedding=None, metadata={'id': '380229b5-6f69-4ce2-a119-8a546380edfe', 'is_table': False, 'source': 'managing-pre-diabetes-(updated-on-27-jul-2021)c2bfc77474154c2abf623156a4b93002'}, excluded_embed_metadata_keys=[], excluded_llm_metadata_keys=[], relationships={}, text='Diagnosis of pre - diabetes \\n\\n  1 \\n\\n In Singapore , glucose thresholds in Table 1 below are used to diagnose pre - diabetes ( impaired fasting glucose or impaired glucose tolerance ) .', mimetype='text/plain', start_char_idx=None, end_char_idx=None, text_template='{metadata_str}\\n\\n{content}', metadata_template='{key}: {value}', metadata_seperator='\\n'),\n",
       " Document(id_='9d350164-4977-48ba-a858-f989060947d4', embedding=None, metadata={'id': 'f798598c-b504-4072-bd3e-15133773287a', 'is_table': False, 'source': 'managing-pre-diabetes-(updated-on-27-jul-2021)c2bfc77474154c2abf623156a4b93002'}, excluded_embed_metadata_keys=[], excluded_llm_metadata_keys=[], relationships={}, text='Figure 1 . Pathway for managing pre - diabetes \\n\\n  DIAGNOSIS OF PRE - DIABETES \\n\\n IFG : FPG 6.1–6.9 and 2 - hG < 7.8 mmol / L OR Screen for CVD risk factors , including hypertension and dyslipidaemia . \\n\\n IGT : FPG < 7.0 and 2 - hG 7.8–11.0 mmol / L', mimetype='text/plain', start_char_idx=None, end_char_idx=None, text_template='{metadata_str}\\n\\n{content}', metadata_template='{key}: {value}', metadata_seperator='\\n'),\n",
       " Document(id_='76105798-73fd-473d-b51f-72e06f21a3c5', embedding=None, metadata={'id': '641f2a0b-83e8-41ff-a5e8-85078a903e94', 'is_table': False, 'source': 'managing-pre-diabetes-(updated-on-27-jul-2021)c2bfc77474154c2abf623156a4b93002'}, excluded_embed_metadata_keys=[], excluded_llm_metadata_keys=[], relationships={}, text='2 - hG , 2 - hour post - load glucose ; BMI , body mass index ; CVD , cardiovascular disease ; FPG , fasting plasma glucose ; HbA1c , glycated haemoglobin ; IFG , impaired fasting glucose ; IGT , impaired glucose tolerance ; OGTT , oral glucose tolerance test ; T2DM , type 2 diabetes mellitus . \\n\\n * * If FPG ≥ 7.0 mmol / L , 2 - hG ≥ 11.1 mmol / L , or HbA1c ≥ 7 % , proceed to manage as per T2DM . \\n\\n †† If HbA1c ≥ 7 % , proceed to manage as per T2DM . If HbA1c does not improve and < 7 % , consider investigating for T2DM with FPG or OGTT after a metformin washout period ( such as 1–2 weeks ) .', mimetype='text/plain', start_char_idx=None, end_char_idx=None, text_template='{metadata_str}\\n\\n{content}', metadata_template='{key}: {value}', metadata_seperator='\\n'),\n",
       " Document(id_='1c0894eb-34c7-423a-839e-9e704a0debc3', embedding=None, metadata={'id': '45dc79ad-59fe-464f-92b8-cbf354f364ac', 'is_table': False, 'source': 'managing-pre-diabetes-(updated-on-27-jul-2021)c2bfc77474154c2abf623156a4b93002'}, excluded_embed_metadata_keys=[], excluded_llm_metadata_keys=[], relationships={}, text='Overview of lifestyle intervention in pre - diabetes \\n\\n  Role of lifestyle intervention \\n\\n Lifestyle intervention reduces the risk of developing T2DM by 31 to 37 % over 2 to 6 years for those who are overweight or obese , aim to gradually achieve and maintain a BMI of & lt ; 23 kg / m2 or a 5 to 10 % body weight loss . \\n\\n  Ways to implement lifestyle intervention', mimetype='text/plain', start_char_idx=None, end_char_idx=None, text_template='{metadata_str}\\n\\n{content}', metadata_template='{key}: {value}', metadata_seperator='\\n'),\n",
       " Document(id_='c918f3bc-a487-4f25-bc5b-d684ecefd8f6', embedding=None, metadata={'id': '8252b087-8cba-4f09-90b6-e317a721e110', 'is_table': False, 'source': 'managing-pre-diabetes-(updated-on-27-jul-2021)c2bfc77474154c2abf623156a4b93002'}, excluded_embed_metadata_keys=[], excluded_llm_metadata_keys=[], relationships={}, text='Physical activity \\n\\n ≥ 150 minutes per week of moderate - intensity exercise , such as brisk walking or leisure cycling ( < 16 km / hr ) OR ≥ 75 minutes per week of vigorous - intensity exercise , such as jogging or fast - paced cycling ( ≥ 16 km / hr ) . \\n\\n No more than two consecutive days without exercise . \\n\\n  Other modifications \\n\\n Limit alcohol intake : \\n\\n - 1 standard drink = 330 mL of beer \\n - 1 standard drink = 100 mL of wine \\n - 1 standard drink = 30 mL of spirits or hard liquor \\n\\n Smoking cessation . \\n\\n  How to sustain lifestyle changes \\n\\n Tailor lifestyle intervention to individual needs . Reinforce behavioural changes by encouraging a regular log of :', mimetype='text/plain', start_char_idx=None, end_char_idx=None, text_template='{metadata_str}\\n\\n{content}', metadata_template='{key}: {value}', metadata_seperator='\\n'),\n",
       " Document(id_='6be78449-83ad-4b46-a016-bace4f35510a', embedding=None, metadata={'id': '47a3399b-0473-4e0d-9695-21f38251e71e', 'is_table': True, 'source': 'managing-pre-diabetes-(updated-on-27-jul-2021)c2bfc77474154c2abf623156a4b93002'}, excluded_embed_metadata_keys=[], excluded_llm_metadata_keys=[], relationships={}, text='This table presents diagnostic criteria for pre - diabetes based on blood glucose levels . table shows the fasting plasma glucose and 2 - hour post - load glucose ranges for Impaired Fasting Glucose ( IFG ) and Impaired Glucose Tolerance ( IGT ) . \\n\\n Table title : Pre - diabetes \\n\\n The table should be kept as title provides valuable information on pre - diabetes classification . \\n\\n No table ID is provided in the given context . , \\n with the following columns :', mimetype='text/plain', start_char_idx=None, end_char_idx=None, text_template='{metadata_str}\\n\\n{content}', metadata_template='{key}: {value}', metadata_seperator='\\n'),\n",
       " Document(id_='7185be0b-26bd-4f9e-8b76-729b99ed9ff0', embedding=None, metadata={'id': '4bcf6709-4d2f-4b39-aa9c-c6b49f404b4d', 'is_table': True, 'source': 'managing-pre-diabetes-(updated-on-27-jul-2021)c2bfc77474154c2abf623156a4b93002'}, excluded_embed_metadata_keys=[], excluded_llm_metadata_keys=[], relationships={}, text='This table outlines a management approach for individuals with pre - diabetes . table presents a step - by - step process including lifestyle intervention , regular follow - up , and the potential addition of metformin . The table covers education on diet and physical activity , weight management goals , monitoring of glycemic status , and screening for cardiovascular disease risk factors . \\n\\n The table \\'s title appears to be \" All persons with pre - diabetes \" based on the first column header . \\n\\n No specific table ID is provided in the given context . \\n\\n This table should be kept as ID provides valuable information on the management of pre - diabetes , which is crucial for healthcare providers and patients alike . , \\n with the following columns :', mimetype='text/plain', start_char_idx=None, end_char_idx=None, text_template='{metadata_str}\\n\\n{content}', metadata_template='{key}: {value}', metadata_seperator='\\n'),\n",
       " Document(id_='867757e3-18d1-4e94-b371-8cc5f573258b', embedding=None, metadata={'id': '5d717395-9850-4d67-908e-09eebe85f2dc', 'is_table': True, 'source': 'managing-pre-diabetes-(updated-on-27-jul-2021)c2bfc77474154c2abf623156a4b93002'}, excluded_embed_metadata_keys=[], excluded_llm_metadata_keys=[], relationships={}, text='This table outlines the recommended portions for a healthy plate . table describes the ideal distribution of food groups for a balanced diet . The table suggests dividing a plate into different percentages for various food categories , emphasizing vegetables , whole grains , and lean proteins while advising against sugary foods and drinks . \\n\\n Table title : Diet \\n\\n The table should be kept as title provides valuable nutritional guidance . , \\n with the following columns :', mimetype='text/plain', start_char_idx=None, end_char_idx=None, text_template='{metadata_str}\\n\\n{content}', metadata_template='{key}: {value}', metadata_seperator='\\n'),\n",
       " Document(id_='7b5472d0-803f-4689-83e7-346fd47f65b2', embedding=None, metadata={'id': 'aa5dc21b-085b-4a04-907e-278ce488826a', 'is_table': True, 'source': 'managing-pre-diabetes-(updated-on-27-jul-2021)c2bfc77474154c2abf623156a4b93002'}, excluded_embed_metadata_keys=[], excluded_llm_metadata_keys=[], relationships={}, text=\"This table appears to be about personal health and lifestyle factors . table includes columns for preferences , budget , physical condition , work nature , diet , exercise , and weight . These categories suggest it 's designed to capture information related to an individual 's health profile and daily habits . \\n\\n The table is currently empty , with no data filled in . There is no existing title , caption , or table ID provided in the context . \\n\\n Given the lack of actual data and identifying information , it 's difficult to determine if this table should be kept . table usefulness would depend on the specific purpose and context in which it 's intended to be used . , \\n with the following columns :\", mimetype='text/plain', start_char_idx=None, end_char_idx=None, text_template='{metadata_str}\\n\\n{content}', metadata_template='{key}: {value}', metadata_seperator='\\n'),\n",
       " Document(id_='040b7beb-a8e2-4076-939f-0a14731a458d', embedding=None, metadata={'id': 'd1916d52-66fa-4094-9b23-43c7cc1dd0a3', 'is_table': False, 'source': 'diabetic_foot_ulcer__symptoms_and_treatment'}, excluded_embed_metadata_keys=[], excluded_llm_metadata_keys=[], relationships={}, text='Diabetic Foot Ulcer : Symptoms and Treatment \\n\\n - Maintain good blood circulation to the feet by putting your feet up when sitting , and by wiggling your toes and moving your ankles for at least five minutes , two to three times a day . \\n - Do n\\'t cross your legs for long periods of time . \\n - Do n’t smoke . Smoking does great harm to blood circulation and increases the risk of many diseases . \\n\\n If you are diabetic , regular foot examinations are important to prevent foot and leg ulcers , and to ensure your feet are in good health . Your podiatrist will check for : \\n\\n - Any loss of sensation \\n - The level of blood flow to the feet \\n - Any changes in the shape of your foot to assess the development of pressure points \\n\\n All these will help detect changes in any foot condition , and will help ensure that early preventive treatment or management can be given to prevent wounds from occurring or getting worse . \\n\\n This article titled \" Sole Saviours \" was first published in ONEHealth Magazine , Issue 6 , 2015 . \\n\\n  Read these next : \\n\\n - Diabetes Medications \\n - Skin disease in diabetes mellitus \\n - Diabetes foot screening \\n\\n This article was last reviewed on Friday , November 22 , 2019 \\n\\n https://www.healthhub.sg/a-z/diseases-and-conditions/diabetic-ulcer', mimetype='text/plain', start_char_idx=None, end_char_idx=None, text_template='{metadata_str}\\n\\n{content}', metadata_template='{key}: {value}', metadata_seperator='\\n'),\n",
       " Document(id_='0794f058-bd78-4737-a16f-5f41b29687e8', embedding=None, metadata={'id': 'dd458a85-4a13-408c-aa08-f89de3aa5aed', 'is_table': False, 'source': 'diabetes_treatment__insulin'}, excluded_embed_metadata_keys=[], excluded_llm_metadata_keys=[], relationships={}, text='Diabetes Treatment : Insulin \\n\\n When you have diabetes , you may need to learn how to inject yourself with insulin . \\n\\n  What is Insulin ? \\n\\n Insulin is a hormone produced by the pancreas and released into our body cells to allow cells to convert blood glucose ( sugar ) for energy . Food is converted into glucose before Food is absorbed into our bloodstream . The function of insulin is to move the glucose from the bloodstream into the body cells for use or storage . People with diabetes are unable to fully use the glucose in People bloodstream either because People lack insulin in the body or insulin is ineffective for cells . \\n\\n  Insulin Therapy \\n\\n Treatment for type 1 diabetes involves dietary control and insulin injections . Some patients with type 2 diabetes may also require insulin injections . Insulin is not effective if taken by mouth , and has to be injected . \\n\\n  You must know how to : \\n\\n - Measure your insulin dose \\n - Inject yourself ( and not rely on others ) \\n - Adapt your diet and activity to your insulin injections \\n\\n  Types of Insulin \\n\\n There are several types of insulin . others differ in how quickly others start to lower your blood glucose , the time taken to reach others highest activity , and how long others continue to work . \\n\\n  How to Inject Insulin \\n\\n Knowing where to inject your insulin will make the injection easier , safer and more comfortable . Insulin is injected into the fatty area under the skin . After insulin is injected , insulin \\n\\n Source', mimetype='text/plain', start_char_idx=None, end_char_idx=None, text_template='{metadata_str}\\n\\n{content}', metadata_template='{key}: {value}', metadata_seperator='\\n'),\n",
       " Document(id_='6da849b1-088b-4a85-b476-6ad1d793fa93', embedding=None, metadata={'id': '188b6e44-1d60-4495-ae1b-fb056c0cf1f9', 'is_table': False, 'source': 'diabetes_treatment__insulin'}, excluded_embed_metadata_keys=[], excluded_llm_metadata_keys=[], relationships={}, text='Diabetes Treatment : Insulin \\n\\n  Diabetes Medications \\n\\n  Guide to Managing Diabetes', mimetype='text/plain', start_char_idx=None, end_char_idx=None, text_template='{metadata_str}\\n\\n{content}', metadata_template='{key}: {value}', metadata_seperator='\\n'),\n",
       " Document(id_='6723bf4c-0727-4cf8-b29c-7ce8c8aa3bd1', embedding=None, metadata={'id': 'b836e1be-4005-40fd-9b8d-b24cae1f1b88', 'is_table': False, 'source': 'diabetes_treatment__insulin'}, excluded_embed_metadata_keys=[], excluded_llm_metadata_keys=[], relationships={}, text='Low blood sugar ( hypo ) reaction is more likely to occur around the time of maximum action . High blood sugar ( hyper ) reaction is more likely to occur before the insulin starts acting , or when reaction action is ending . \\n\\n Combination insulins ( Humulin ® 30/70 , Mixtard ® , etc ) are mixtures of short and intermediate - acting insulins . These avoid the need for patients to manually mix patients insulins . patients are normally administered twice a day . Usually , two - thirds of the daily requirement is given in the morning and the remainder in the evening . \\n\\n This article was last reviewed on Monday , April 19 , 2021 \\n\\n https://www.healthhub.sg/a-z/diseases-and-conditions/diabetes-treatment-insulin', mimetype='text/plain', start_char_idx=None, end_char_idx=None, text_template='{metadata_str}\\n\\n{content}', metadata_template='{key}: {value}', metadata_seperator='\\n'),\n",
       " Document(id_='0819fbcb-ebcd-4d2e-8f35-75f3bcf4c28f', embedding=None, metadata={'id': 'b0363128-71fc-4751-a894-036ed9dccb40', 'is_table': True, 'source': 'diabetes_treatment__insulin'}, excluded_embed_metadata_keys=[], excluded_llm_metadata_keys=[], relationships={}, text='This table provides information about different types of insulin and their action profiles . table details the onset , peak , and duration of action for various insulin formulations , including rapid - acting , short - acting , intermediate - acting , and long - acting insulins . The table compares the timing characteristics of different insulin products , which is crucial for managing diabetes treatment . \\n\\n The table does not appear to have a specific title or caption provided in the context . \\n\\n There is no table ID mentioned in the given context . \\n\\n The table should be kept as table contains valuable information for understanding the pharmacokinetics of different insulin types , which is essential for healthcare professionals and patients managing diabetes . , \\n with the following columns :', mimetype='text/plain', start_char_idx=None, end_char_idx=None, text_template='{metadata_str}\\n\\n{content}', metadata_template='{key}: {value}', metadata_seperator='\\n'),\n",
       " Document(id_='ac578626-862a-4160-942c-31a26a07c1f6', embedding=None, metadata={'id': '9d76e667-ff2e-4186-b85d-1f97c1ecc152', 'is_table': False, 'parent_id': '8af21fb5-a57b-461e-be19-381e47679797', 'source': 'diabetes_medications'}, excluded_embed_metadata_keys=[], excluded_llm_metadata_keys=[], relationships={}, text='Diabetes Medications \\n\\n Learn about the different diabetes treatment pills available , the guidelines when taking guidelines and more . \\n\\n  Treatment of Diabetes Mellitus : Tablets \\n\\n Treatment of type 2 diabetes begins with diet control . If diet alone is unable to control blood sugar levels , then tablets have to be taken . If both diet and tablets fail to control the blood sugar levels , insulin injections may be needed . \\n\\n Oral anti - diabetes tablets are used for treating type 2 diabetes .', mimetype='text/plain', start_char_idx=None, end_char_idx=None, text_template='{metadata_str}\\n\\n{content}', metadata_template='{key}: {value}', metadata_seperator='\\n'),\n",
       " Document(id_='26cbb386-47ea-4213-ad99-ae1985edb935', embedding=None, metadata={'id': '29397a7b-a3cb-4302-926c-af40223dabc6', 'is_table': False, 'parent_id': '8af21fb5-a57b-461e-be19-381e47679797', 'source': 'diabetes_medications'}, excluded_embed_metadata_keys=[], excluded_llm_metadata_keys=[], relationships={}, text='Tell Your Doctor if You \\n\\n - Are allergic to any medicines \\n - Are pregnant , or intend to become pregnant \\n - Are breastfeeding \\n - Are taking any other medicines \\n - Have any other medical problems \\n\\n  Some Guidelines to Follow When Taking Your Diabetes Pill(s )', mimetype='text/plain', start_char_idx=None, end_char_idx=None, text_template='{metadata_str}\\n\\n{content}', metadata_template='{key}: {value}', metadata_seperator='\\n'),\n",
       " Document(id_='52c24c77-81de-4f22-8030-7893997f8ed8', embedding=None, metadata={'id': 'e74bc2be-3d83-44c8-88a3-a0780c8dd9f6', 'is_table': False, 'parent_id': '8af21fb5-a57b-461e-be19-381e47679797', 'source': 'diabetes_medications'}, excluded_embed_metadata_keys=[], excluded_llm_metadata_keys=[], relationships={}, text='- Know the name and dosage of your diabetic tablet(s ) . \\n - Do not take more or less than what your doctor ordered . \\n - Take the tablet(s ) at the correct times . Do not make any changes to your medication routine without consulting your doctor . \\n - Take your tablet(s ) even when you are sick ( sometimes the dosage may have to be changed , so do consult your doctor beforehand ) .', mimetype='text/plain', start_char_idx=None, end_char_idx=None, text_template='{metadata_str}\\n\\n{content}', metadata_template='{key}: {value}', metadata_seperator='\\n'),\n",
       " Document(id_='e621df8f-df35-4295-88bd-91682131d89e', embedding=None, metadata={'id': '199734fe-9f4a-45b1-8deb-cb39ba428138', 'is_table': False, 'parent_id': '8af21fb5-a57b-461e-be19-381e47679797', 'source': 'diabetes_medications'}, excluded_embed_metadata_keys=[], excluded_llm_metadata_keys=[], relationships={}, text='- Follow your meal plan . doctor will help your tablet(s ) work better . Careless eating may cause the tablet(s ) to lose doctor effect . \\n - If you miss a dose of the tablet(s ) , take tablet(s as soon as possible unless tablet(s is time for your next dose . In that case , do not take the missed dose and do not double the next one .', mimetype='text/plain', start_char_idx=None, end_char_idx=None, text_template='{metadata_str}\\n\\n{content}', metadata_template='{key}: {value}', metadata_seperator='\\n'),\n",
       " Document(id_='9f35e9f8-ad82-4c71-98c9-e9e255936442', embedding=None, metadata={'id': '845664e9-d745-4ef7-b5ad-bbe45100d1d5', 'is_table': False, 'parent_id': '8af21fb5-a57b-461e-be19-381e47679797', 'source': 'diabetes_medications'}, excluded_embed_metadata_keys=[], excluded_llm_metadata_keys=[], relationships={}, text='Source', mimetype='text/plain', start_char_idx=None, end_char_idx=None, text_template='{metadata_str}\\n\\n{content}', metadata_template='{key}: {value}', metadata_seperator='\\n'),\n",
       " Document(id_='c45c1477-dd81-46e5-9985-d4c29bead7c8', embedding=None, metadata={'id': '5a54b368-b6da-4da1-ba95-eccfa107fa77', 'is_table': False, 'parent_id': 'b7cc4604-d4c5-4d5b-873f-fdfe6beaa1bd', 'source': 'diabetes_medications'}, excluded_embed_metadata_keys=[], excluded_llm_metadata_keys=[], relationships={}, text='Diabetes Medications \\n\\n  Sulphonylureas \\n\\n Help the pancreas to release more insulin and the body to use glucose more effectively . \\n\\n - Chlorpropamide ( Diabinese ® ) \\n - Glibenclamide ( Daonil ® ) \\n - Gliclazide ( Diamicron ® ) \\n - Tolbutamide ( Rastinon ® ) \\n - Glimepiride ( Amaryl ® ) \\n\\n Take the tablet(s ) daily immediately after meals ( except Gliclazide which is consumed half an hour before meals ) . Do not miss or delay meals . Otherwise , your blood sugar level may fall too low .', mimetype='text/plain', start_char_idx=None, end_char_idx=None, text_template='{metadata_str}\\n\\n{content}', metadata_template='{key}: {value}', metadata_seperator='\\n'),\n",
       " Document(id_='1418ec98-e5da-414e-b577-442fef3da98c', embedding=None, metadata={'id': 'a1c3321f-e2ef-42f5-89d4-91125a1972dd', 'is_table': False, 'parent_id': 'b7cc4604-d4c5-4d5b-873f-fdfe6beaa1bd', 'source': 'diabetes_medications'}, excluded_embed_metadata_keys=[], excluded_llm_metadata_keys=[], relationships={}, text='Sometimes other tablets ( e.g. those for blood pressure ) can react with anti - diabetes tablets . If in doubt , talk to your doctor or pharmacist . \\n\\n Alcohol interferes with some of these tablets : consult your pharmacist if you are planning to drink alcohol . For example , having alcohol with Chlorpropamide causes side effects like redness and vomiting . \\n\\n  Biguanides \\n\\n Help the body to use glucose more effectively . \\n\\n - e.g. Metformin ( Glucophage ® )', mimetype='text/plain', start_char_idx=None, end_char_idx=None, text_template='{metadata_str}\\n\\n{content}', metadata_template='{key}: {value}', metadata_seperator='\\n'),\n",
       " Document(id_='b6c0d113-905c-47c3-a56b-33e73684c6ef', embedding=None, metadata={'id': '828d531a-b876-4d7f-b240-5b981846179f', 'is_table': False, 'parent_id': 'b7cc4604-d4c5-4d5b-873f-fdfe6beaa1bd', 'source': 'diabetes_medications'}, excluded_embed_metadata_keys=[], excluded_llm_metadata_keys=[], relationships={}, text='- e.g. Metformin ( Glucophage ® ) \\n\\n Take the tablet(s ) with meals or after meals . \\n\\n  a - glucosidase inhibitors \\n\\n Help to stop the quick rise of blood glucose after a meal . \\n\\n - e.g. Acarbose ( Glucobay ® ) \\n\\n Take the tablet(s ) with the first mouthful or immediately before each of the three main daily meals . \\n\\n  Meglitinides \\n\\n Help the pancreas to release more insulin . \\n\\n - e.g. Repaglinide ( Novonorm ® ) \\n\\n Take the tablet before meals . \\n\\n  Thiazolidinediones', mimetype='text/plain', start_char_idx=None, end_char_idx=None, text_template='{metadata_str}\\n\\n{content}', metadata_template='{key}: {value}', metadata_seperator='\\n'),\n",
       " Document(id_='780252f2-5f77-4bf5-890a-bbbfdce6b8ac', embedding=None, metadata={'id': '2b2de015-e823-472a-b1ee-5e9d1be0bd60', 'is_table': False, 'parent_id': 'b7cc4604-d4c5-4d5b-873f-fdfe6beaa1bd', 'source': 'diabetes_medications'}, excluded_embed_metadata_keys=[], excluded_llm_metadata_keys=[], relationships={}, text='Take the tablet before meals . \\n\\n  Thiazolidinediones \\n\\n Enhance insulin action and help the body to use glucose more effectively . \\n\\n - e.g. Rosiglitazone ( Avandia ® ) \\n\\n Take the tablet with or without food . \\n\\n This article was last reviewed on Tuesday , May 25 , 2021 \\n\\n Source', mimetype='text/plain', start_char_idx=None, end_char_idx=None, text_template='{metadata_str}\\n\\n{content}', metadata_template='{key}: {value}', metadata_seperator='\\n'),\n",
       " Document(id_='d9d6e17f-4da8-4c50-ac89-28df20f398c4', embedding=None, metadata={'id': '56fbf054-678f-4668-857e-3666bc111004', 'is_table': False, 'parent_id': '75a7ffdc-5153-412e-833c-51a386e52289', 'source': 'managing-pre-diabetes-(updated-on-27-jul-2021)c2bfc77474154c2abf623156a4b93002'}, excluded_embed_metadata_keys=[], excluded_llm_metadata_keys=[], relationships={}, text='Appropriate Care Guide ( ACG ) \\n\\n  Managing pre - diabetes \\n\\n First Published : 3 July 2017 \\n\\n Last updated : 27 July 2021 \\n\\n  Key messages', mimetype='text/plain', start_char_idx=None, end_char_idx=None, text_template='{metadata_str}\\n\\n{content}', metadata_template='{key}: {value}', metadata_seperator='\\n'),\n",
       " Document(id_='67e52424-4e13-47ce-a459-1f52b13c2ab2', embedding=None, metadata={'id': '837d5b7f-e86e-491b-9432-a67b50c86eeb', 'is_table': False, 'parent_id': '75a7ffdc-5153-412e-833c-51a386e52289', 'source': 'managing-pre-diabetes-(updated-on-27-jul-2021)c2bfc77474154c2abf623156a4b93002'}, excluded_embed_metadata_keys=[], excluded_llm_metadata_keys=[], relationships={}, text='1 . Pre - diabetes is asymptomatic but puts a person at high risk of developing type 2 diabetes mellitus ( T2DM ) and cardiovascular disease ( CVD ) . \\n 2 . Early diagnosis , appropriate management and follow - up help to prevent or delay T2DM in persons with pre - diabetes . \\n 3 . Recommend lifestyle intervention to all persons with pre - diabetes . \\n 4 . Tailor lifestyle intervention to individual needs for sustained behavioural changes . \\n 5 . Consider metformin for persons with pre - diabetes when', mimetype='text/plain', start_char_idx=None, end_char_idx=None, text_template='{metadata_str}\\n\\n{content}', metadata_template='{key}: {value}', metadata_seperator='\\n'),\n",
       " Document(id_='d1880d59-00c0-4cb4-99fd-4cfa4efae8cd', embedding=None, metadata={'id': 'e0d2d7f4-acd5-4e3a-bf61-4c492a91ae09', 'is_table': False, 'parent_id': '75a7ffdc-5153-412e-833c-51a386e52289', 'source': 'managing-pre-diabetes-(updated-on-27-jul-2021)c2bfc77474154c2abf623156a4b93002'}, excluded_embed_metadata_keys=[], excluded_llm_metadata_keys=[], relationships={}, text='5 . Consider metformin for persons with pre - diabetes when \\n - glycaemic status does not improve despite lifestyle intervention OR \\n - persons are unable to adopt lifestyle intervention , especially if persons outlined in the two points above have a body mass index ( BMI ) of ≥ 23 kg / m2 , are younger than 60 years of age , or are women with a history of gestational diabetes .', mimetype='text/plain', start_char_idx=None, end_char_idx=None, text_template='{metadata_str}\\n\\n{content}', metadata_template='{key}: {value}', metadata_seperator='\\n'),\n",
       " Document(id_='86db9b31-5b91-4b59-8cbe-d24f4aaeabe6', embedding=None, metadata={'id': '883b2986-29ad-4717-9e30-c6c123f000e4', 'is_table': False, 'parent_id': '75a7ffdc-5153-412e-833c-51a386e52289', 'source': 'managing-pre-diabetes-(updated-on-27-jul-2021)c2bfc77474154c2abf623156a4b93002'}, excluded_embed_metadata_keys=[], excluded_llm_metadata_keys=[], relationships={}, text='Preventing or delaying the progression to T2DM', mimetype='text/plain', start_char_idx=None, end_char_idx=None, text_template='{metadata_str}\\n\\n{content}', metadata_template='{key}: {value}', metadata_seperator='\\n'),\n",
       " Document(id_='459e4df8-bd9f-4b60-a058-ab11b6c6bcdb', embedding=None, metadata={'id': '87a3200c-ca04-4df7-8956-320f80a1939d', 'is_table': False, 'parent_id': '75a7ffdc-5153-412e-833c-51a386e52289', 'source': 'managing-pre-diabetes-(updated-on-27-jul-2021)c2bfc77474154c2abf623156a4b93002'}, excluded_embed_metadata_keys=[], excluded_llm_metadata_keys=[], relationships={}, text='Pre - diabetes is defined by glycaemic levels that are higher than normal , but lower than diabetes thresholds . Pre - diabetes is asymptomatic but predisposes individuals to T2DM and CVD . Around 14 % of Singaporeans have impaired glucose tolerance and without lifestyle changes , at least 35 % of persons with pre - diabetes in Singapore will progress to T2DM within eight years.1,2 There is a pressing need to address pre - diabetes as part of the efforts to reduce the impact of T2DM and CVD .', mimetype='text/plain', start_char_idx=None, end_char_idx=None, text_template='{metadata_str}\\n\\n{content}', metadata_template='{key}: {value}', metadata_seperator='\\n'),\n",
       " Document(id_='a63813bd-1712-4862-9887-e6ebe573970a', embedding=None, metadata={'id': 'bee28dce-d2a9-46a2-883f-f7f243c48967', 'is_table': False, 'parent_id': '75a7ffdc-5153-412e-833c-51a386e52289', 'source': 'managing-pre-diabetes-(updated-on-27-jul-2021)c2bfc77474154c2abf623156a4b93002'}, excluded_embed_metadata_keys=[], excluded_llm_metadata_keys=[], relationships={}, text='Education increases awareness of pre - diabetes and enables individuals to adopt lifestyle changes . \\n\\n MINISTRY OF HEALTH \\n\\n Academy of Medicine , Singapore \\n\\n College of Family Physicians Singapore \\n\\n Chapter of Endocrinologists , CPS \\n\\n Chapter of Family Medicine Physicians \\n\\n Chapter of General Physicians , CPS', mimetype='text/plain', start_char_idx=None, end_char_idx=None, text_template='{metadata_str}\\n\\n{content}', metadata_template='{key}: {value}', metadata_seperator='\\n'),\n",
       " Document(id_='b318e380-433f-45b0-a8ce-317692ad11b9', embedding=None, metadata={'id': '529569a5-573a-4e2f-b81b-2a5571347362', 'is_table': False, 'parent_id': '165d30f5-5375-4765-b0ee-33eabbb41d06', 'source': 'managing-pre-diabetes-(updated-on-27-jul-2021)c2bfc77474154c2abf623156a4b93002'}, excluded_embed_metadata_keys=[], excluded_llm_metadata_keys=[], relationships={}, text='IFG , impaired fasting glucose ; IGT , impaired glucose tolerance \\n\\n  Instructions on lifestyle intervention \\n\\n Convey the following points to persons with pre - diabetes during consultations . \\n\\n  Healthy diet \\n\\n Portion a healthy plate', mimetype='text/plain', start_char_idx=None, end_char_idx=None, text_template='{metadata_str}\\n\\n{content}', metadata_template='{key}: {value}', metadata_seperator='\\n'),\n",
       " Document(id_='79be83c9-4437-4c83-a931-dd23f5b7ea6c', embedding=None, metadata={'id': 'd14589b5-7e97-40ea-be75-e8c701806098', 'is_table': False, 'parent_id': '165d30f5-5375-4765-b0ee-33eabbb41d06', 'source': 'managing-pre-diabetes-(updated-on-27-jul-2021)c2bfc77474154c2abf623156a4b93002'}, excluded_embed_metadata_keys=[], excluded_llm_metadata_keys=[], relationships={}, text='Healthy diet \\n\\n Portion a healthy plate \\n\\n - Fill half the plate with vegetables and a small portion of fruits . \\n - Fill a quarter of the plate with lean meat , fish , poultry ( skinless ) , eggs , low - fat dairy or soy products . \\n - Fill a quarter of the plate with whole grains , such as brown rice , rolled oats , whole grain bread or cereals . \\n\\n In Singapore , glycated haemoglobin ( HbA1c ) is not currently indicated as a diagnostic test for pre - diabetes.†', mimetype='text/plain', start_char_idx=None, end_char_idx=None, text_template='{metadata_str}\\n\\n{content}', metadata_template='{key}: {value}', metadata_seperator='\\n'),\n",
       " Document(id_='3e6bbd61-36e3-49ea-8996-12722f9f4f69', embedding=None, metadata={'id': '7b59ea1c-581c-4835-b9c3-d0b73da9b9b7', 'is_table': False, 'parent_id': '165d30f5-5375-4765-b0ee-33eabbb41d06', 'source': 'managing-pre-diabetes-(updated-on-27-jul-2021)c2bfc77474154c2abf623156a4b93002'}, excluded_embed_metadata_keys=[], excluded_llm_metadata_keys=[], relationships={}, text='Avoid sweetened beverages and foods \\n\\n - Opt for water instead of sugar - sweetened beverages ( such as soda , fruit juice , energy drinks ) . \\n\\n  Lifestyle intervention \\n\\n Lifestyle intervention is recommended for all persons with pre - diabetes , as adopting a healthy diet and increased physical activity reduces the risk of persons developing T2DM by 31 to 37 % over 2 to 6 years , and is cost - effective.3 - 5', mimetype='text/plain', start_char_idx=None, end_char_idx=None, text_template='{metadata_str}\\n\\n{content}', metadata_template='{key}: {value}', metadata_seperator='\\n'),\n",
       " Document(id_='9a5592d3-53f2-4bb4-80db-eb3f5a4a8b8d', embedding=None, metadata={'id': '1b55f9fc-2c73-44fc-8f90-4c4352292d5b', 'is_table': False, 'parent_id': '165d30f5-5375-4765-b0ee-33eabbb41d06', 'source': 'managing-pre-diabetes-(updated-on-27-jul-2021)c2bfc77474154c2abf623156a4b93002'}, excluded_embed_metadata_keys=[], excluded_llm_metadata_keys=[], relationships={}, text='For those who are overweight or obese , aim to gradually achieve and maintain a BMI of & lt ; 23 kg / m2 or a 5 to 10 % body weight loss . \\n\\n Smokers are advised to stop smoking , as smoking impairs glucose metabolism , insulin sensitivity and secretion.6 \\n\\n  Healthy diet \\n\\n A healthy and balanced diet plays a key role in preventing or delaying the progression to T2DM in persons with pre - diabetes.7 - 12', mimetype='text/plain', start_char_idx=None, end_char_idx=None, text_template='{metadata_str}\\n\\n{content}', metadata_template='{key}: {value}', metadata_seperator='\\n'),\n",
       " Document(id_='deecf0f4-a6fb-4c81-8aba-7b21f303cad4', embedding=None, metadata={'id': 'b9a05a93-13b2-4a79-9567-527b715040bb', 'is_table': False, 'parent_id': '165d30f5-5375-4765-b0ee-33eabbb41d06', 'source': 'managing-pre-diabetes-(updated-on-27-jul-2021)c2bfc77474154c2abf623156a4b93002'}, excluded_embed_metadata_keys=[], excluded_llm_metadata_keys=[], relationships={}, text='Advise those who are overweight or obese to achieve weight loss by implementing a negative caloric balance . \\n\\n  Increased physical activity \\n\\n Obesity and a sedentary lifestyle are major risk factors for developing T2DM and can be modified by an increase in physical activity.7 - 12 \\n\\n  Eat less fat', mimetype='text/plain', start_char_idx=None, end_char_idx=None, text_template='{metadata_str}\\n\\n{content}', metadata_template='{key}: {value}', metadata_seperator='\\n'),\n",
       " Document(id_='513d97cb-f499-4af7-8fa6-e7cc7deac5cc', embedding=None, metadata={'id': 'c4c20ecb-a1bb-4c03-9255-be6d08abc95b', 'is_table': False, 'parent_id': '165d30f5-5375-4765-b0ee-33eabbb41d06', 'source': 'managing-pre-diabetes-(updated-on-27-jul-2021)c2bfc77474154c2abf623156a4b93002'}, excluded_embed_metadata_keys=[], excluded_llm_metadata_keys=[], relationships={}, text='Eat less fat \\n\\n - Avoid pastries , fried food , and food containing coconut milk or cream . \\n - Use less oil when cooking and use healthier oils ( such as sunflower oil , rice bran oil , olive oil ) instead of butter , ghee , or palm oil . \\n\\n  Limit alcohol intake \\n\\n - No more than one standard drink‡ per day for female . \\n - No more than two standard drinks‡ per day for male . \\n\\n  Increased physical activity', mimetype='text/plain', start_char_idx=None, end_char_idx=None, text_template='{metadata_str}\\n\\n{content}', metadata_template='{key}: {value}', metadata_seperator='\\n'),\n",
       " Document(id_='83975caa-cf8b-4f9d-9c9d-034eb205e537', embedding=None, metadata={'id': '3633a589-9c0f-4214-807e-6cb87a3eec8a', 'is_table': False, 'parent_id': '165d30f5-5375-4765-b0ee-33eabbb41d06', 'source': 'managing-pre-diabetes-(updated-on-27-jul-2021)c2bfc77474154c2abf623156a4b93002'}, excluded_embed_metadata_keys=[], excluded_llm_metadata_keys=[], relationships={}, text='Increased physical activity \\n\\n - Perform at least 150 minutes of moderate - intensity exercise ( such as brisk walking , leisure cycling ) , or 75 minutes of vigorous - intensity exercise ( such as jogging , fast - paced cycling , swimming laps ) every week . \\n - Avoid more than two consecutive days without exercise . \\n - Engage in exercises that require intensity and that accelerate the heart rate .', mimetype='text/plain', start_char_idx=None, end_char_idx=None, text_template='{metadata_str}\\n\\n{content}', metadata_template='{key}: {value}', metadata_seperator='\\n'),\n",
       " Document(id_='92b31436-13ad-4c3d-ac59-88c642f10f1e', embedding=None, metadata={'id': 'c9462449-912c-4626-bf5e-ee4be40cad20', 'is_table': False, 'parent_id': '165d30f5-5375-4765-b0ee-33eabbb41d06', 'source': 'managing-pre-diabetes-(updated-on-27-jul-2021)c2bfc77474154c2abf623156a4b93002'}, excluded_embed_metadata_keys=[], excluded_llm_metadata_keys=[], relationships={}, text='Pedometers or fitness trackers allow progress to be monitored over time and may provide additional motivation.13 \\n\\n * 2 - hour 75 - g oral glucose tolerance test ( OGTT ) . \\n\\n † For more information on HbA1c as a screening test for diabetes mellitus in Singapore , please refer to the Ministry of Health Circular No . 08/2019 . \\n\\n ‡ A standard drink is one can ( 330 mL ) of beer , half a glass ( 100 mL ) of wine , or one nip ( 30 mL ) of spirits or hard liquor .', mimetype='text/plain', start_char_idx=None, end_char_idx=None, text_template='{metadata_str}\\n\\n{content}', metadata_template='{key}: {value}', metadata_seperator='\\n'),\n",
       " Document(id_='8ede0aa6-9a4d-4e16-b61f-36b61f55b411', embedding=None, metadata={'id': '0cd96c75-595f-42b2-87c6-130ade1dfcc1', 'is_table': False, 'parent_id': '3e7b42c8-a259-4ec1-b3e8-25f26eb93402', 'source': 'managing-pre-diabetes-(updated-on-27-jul-2021)c2bfc77474154c2abf623156a4b93002'}, excluded_embed_metadata_keys=[], excluded_llm_metadata_keys=[], relationships={}, text='Sustained behavioural changes \\n\\n  Providing information without individualised advice \\n\\n may not be sufficient to bring about robust and sustained lifestyle changes . Lifestyle intervention should therefore be tailored to each person ’s needs and continuously encouraged.14 \\n\\n  Pharmacotherapy', mimetype='text/plain', start_char_idx=None, end_char_idx=None, text_template='{metadata_str}\\n\\n{content}', metadata_template='{key}: {value}', metadata_seperator='\\n'),\n",
       " Document(id_='c561e97a-aa08-43a5-b5ba-87324c0e1a0f', embedding=None, metadata={'id': '1ab6eba3-b50a-4f77-94ca-d8dacef0e276', 'is_table': False, 'parent_id': '3e7b42c8-a259-4ec1-b3e8-25f26eb93402', 'source': 'managing-pre-diabetes-(updated-on-27-jul-2021)c2bfc77474154c2abf623156a4b93002'}, excluded_embed_metadata_keys=[], excluded_llm_metadata_keys=[], relationships={}, text='Pharmacotherapy \\n\\n Pharmacotherapy for pre - diabetes is less effective than lifestyle changes and may be considered after a trial of intensive lifestyle intervention.9,15 Discuss the benefits , side effects , and cost before commencing treatment . \\n\\n  Tailor lifestyle intervention to individual needs', mimetype='text/plain', start_char_idx=None, end_char_idx=None, text_template='{metadata_str}\\n\\n{content}', metadata_template='{key}: {value}', metadata_seperator='\\n'),\n",
       " Document(id_='64ef47f9-d933-4e42-9aa4-328bb751af32', embedding=None, metadata={'id': '611e18f3-36a5-434b-bd96-39a384db6aaa', 'is_table': False, 'parent_id': '3e7b42c8-a259-4ec1-b3e8-25f26eb93402', 'source': 'managing-pre-diabetes-(updated-on-27-jul-2021)c2bfc77474154c2abf623156a4b93002'}, excluded_embed_metadata_keys=[], excluded_llm_metadata_keys=[], relationships={}, text='Tailor lifestyle intervention to individual needs \\n\\n - Assess lifestyle ( such as diet and physical activity preferences , work nature , physical or budget constraints ) . \\n - Identify areas for improvement towards a healthier lifestyle . \\n - Provide advice on practical and sustainable lifestyle changes that fit into daily activities . \\n\\n  Reinforce behavioural changes continuously', mimetype='text/plain', start_char_idx=None, end_char_idx=None, text_template='{metadata_str}\\n\\n{content}', metadata_template='{key}: {value}', metadata_seperator='\\n'),\n",
       " Document(id_='dd7762a0-7b9d-4e47-89e8-0effde32a012', embedding=None, metadata={'id': '5afde9a6-f86d-47e1-90ee-ff667a63cb8b', 'is_table': False, 'parent_id': '3e7b42c8-a259-4ec1-b3e8-25f26eb93402', 'source': 'managing-pre-diabetes-(updated-on-27-jul-2021)c2bfc77474154c2abf623156a4b93002'}, excluded_embed_metadata_keys=[], excluded_llm_metadata_keys=[], relationships={}, text='Reinforce behavioural changes continuously \\n\\n - Encourage persons with pre - diabetes to keep a log of persons diet , exercise , and weight . \\n - Advise persons to visit the HealthHub website ( by scanning the QR code below ) to find out more about pre - diabetes and associated lifestyle change programmes . persons can also download the HealthHub SG and HealthHub Track applications ( App Store or Google Play Store ) . \\n - Supplement verbal advice with written information .', mimetype='text/plain', start_char_idx=None, end_char_idx=None, text_template='{metadata_str}\\n\\n{content}', metadata_template='{key}: {value}', metadata_seperator='\\n'),\n",
       " Document(id_='7859bccb-e8ab-4d69-bdec-b3c31c91a8b2', embedding=None, metadata={'id': 'f7041183-3945-4f32-b853-976554cdc944', 'is_table': False, 'parent_id': '3e7b42c8-a259-4ec1-b3e8-25f26eb93402', 'source': 'managing-pre-diabetes-(updated-on-27-jul-2021)c2bfc77474154c2abf623156a4b93002'}, excluded_embed_metadata_keys=[], excluded_llm_metadata_keys=[], relationships={}, text='Scan the QR code to access pre - diabetes information on the HealthHub website \\n\\n  Indication , dosing regimen , and side effects of metformin for pre - diabetes \\n\\n Consider metformin for persons with pre - diabetes when :', mimetype='text/plain', start_char_idx=None, end_char_idx=None, text_template='{metadata_str}\\n\\n{content}', metadata_template='{key}: {value}', metadata_seperator='\\n'),\n",
       " Document(id_='4052e26d-6af4-4771-baaf-bb6371db8ffe', embedding=None, metadata={'id': '7408c138-2f46-489a-843a-c0aa1fb02d15', 'is_table': False, 'parent_id': '3e7b42c8-a259-4ec1-b3e8-25f26eb93402', 'source': 'managing-pre-diabetes-(updated-on-27-jul-2021)c2bfc77474154c2abf623156a4b93002'}, excluded_embed_metadata_keys=[], excluded_llm_metadata_keys=[], relationships={}, text='Consider metformin for persons with pre - diabetes when : \\n\\n - glycaemic status does not improve despite lifestyle intervention OR \\n - persons are unable to adopt lifestyle intervention , especially if persons outlined in the two points above have a BMI of ≥ 23 kg / m2 , are younger than 60 years of age , or are women with a history of gestational diabetes .', mimetype='text/plain', start_char_idx=None, end_char_idx=None, text_template='{metadata_str}\\n\\n{content}', metadata_template='{key}: {value}', metadata_seperator='\\n'),\n",
       " Document(id_='5e66b767-6cb5-4725-a482-09095b1181af', embedding=None, metadata={'id': '8e405d6a-1169-4f61-9c70-230e5c6cdc76', 'is_table': False, 'parent_id': '3e7b42c8-a259-4ec1-b3e8-25f26eb93402', 'source': 'managing-pre-diabetes-(updated-on-27-jul-2021)c2bfc77474154c2abf623156a4b93002'}, excluded_embed_metadata_keys=[], excluded_llm_metadata_keys=[], relationships={}, text='Start metformin at 250 mg twice daily and gradually increase as tolerated if required ( depending on glycaemic status ) , up to 850 mg twice daily . \\n\\n Take metformin with meals to reduce side effects such as nausea , vomiting , or diarrhoea . \\n\\n § Off - label for pre - diabetes ; locally registered as additional therapy in association with diet in patients with diabetes mellitus .', mimetype='text/plain', start_char_idx=None, end_char_idx=None, text_template='{metadata_str}\\n\\n{content}', metadata_template='{key}: {value}', metadata_seperator='\\n'),\n",
       " Document(id_='c2895873-1673-4f70-a839-687246e2f0ed', embedding=None, metadata={'id': '6f742218-8ae0-42b3-bed8-469149d74671', 'is_table': False, 'parent_id': '1e31e7d4-0d43-41e9-80da-b38b2b0359da', 'source': 'managing-pre-diabetes-(updated-on-27-jul-2021)c2bfc77474154c2abf623156a4b93002'}, excluded_embed_metadata_keys=[], excluded_llm_metadata_keys=[], relationships={}, text='References \\n\\n Scan the QR code for the reference list to this ACG \\n\\n GOgovsg \\n\\n  EXPERT GROUP \\n\\n Lead discussant \\n\\n Dr. Phua Eng Joo ( KTPH ) \\n\\n Chairperson \\n\\n Dr. Darren Seah ( NHGP ) \\n\\n  Group members', mimetype='text/plain', start_char_idx=None, end_char_idx=None, text_template='{metadata_str}\\n\\n{content}', metadata_template='{key}: {value}', metadata_seperator='\\n'),\n",
       " Document(id_='62827fcb-5bb1-481f-a459-d934f6526a52', embedding=None, metadata={'id': '62c32af4-09dc-449b-9b8e-b013e87fbab3', 'is_table': False, 'parent_id': '1e31e7d4-0d43-41e9-80da-b38b2b0359da', 'source': 'managing-pre-diabetes-(updated-on-27-jul-2021)c2bfc77474154c2abf623156a4b93002'}, excluded_embed_metadata_keys=[], excluded_llm_metadata_keys=[], relationships={}, text='Chairperson \\n\\n Dr. Darren Seah ( NHGP ) \\n\\n  Group members \\n\\n - Ms. Debra Chan ( TTSH ) \\n - A / Prof. Goh Su - Yen ( SGH ) \\n - Dr. Khoo Chin Meng ( NUHS ) \\n - Prof. Joyce Lee ( UC Irvine ) \\n - Ms. Lee Hwee Khim ( SHP ) \\n - Dr. Lim Hui Ling ( International Medical Clinic ) \\n - Ms. Ng Soh Mui ( NUP ) \\n - Dr. Gilbert Tan ( SHP ) \\n - Dr. Tham Tat Yean ( Frontier Healthcare Group ) \\n - Ms. Pauline Xie ( NHGP ) \\n\\n  About the Agency', mimetype='text/plain', start_char_idx=None, end_char_idx=None, text_template='{metadata_str}\\n\\n{content}', metadata_template='{key}: {value}', metadata_seperator='\\n'),\n",
       " Document(id_='10bb5bef-1797-4c02-b88f-0564088f5a9b', embedding=None, metadata={'id': '74ab442d-ec68-4601-ae9e-ac50189680e0', 'is_table': False, 'parent_id': '1e31e7d4-0d43-41e9-80da-b38b2b0359da', 'source': 'managing-pre-diabetes-(updated-on-27-jul-2021)c2bfc77474154c2abf623156a4b93002'}, excluded_embed_metadata_keys=[], excluded_llm_metadata_keys=[], relationships={}, text='The Agency for Care Effectiveness ( ACE ) was established by the Ministry of Health ( Singapore ) to drive better decision - making in healthcare by conducting health technology assessments ( HTA ) , publishing healthcare guidance and providing education . ACE develops ACGs to inform specific areas of clinical practice . ACGs are usually reviewed around five years after publication , or earlier , if new evidence emerges that requires substantive changes to the recommendations . To access this ACG online ,', mimetype='text/plain', start_char_idx=None, end_char_idx=None, text_template='{metadata_str}\\n\\n{content}', metadata_template='{key}: {value}', metadata_seperator='\\n'),\n",
       " Document(id_='b50f244d-dccb-4056-863c-650372a54054', embedding=None, metadata={'id': '05b33edd-0652-4b52-afe5-631471d52cc5', 'is_table': False, 'parent_id': '1e31e7d4-0d43-41e9-80da-b38b2b0359da', 'source': 'managing-pre-diabetes-(updated-on-27-jul-2021)c2bfc77474154c2abf623156a4b93002'}, excluded_embed_metadata_keys=[], excluded_llm_metadata_keys=[], relationships={}, text='changes to the recommendations . To access this ACG online , along with other ACGs published to date , please visit www.ace-hta.gov.sg/acg', mimetype='text/plain', start_char_idx=None, end_char_idx=None, text_template='{metadata_str}\\n\\n{content}', metadata_template='{key}: {value}', metadata_seperator='\\n'),\n",
       " Document(id_='71921e61-83c4-4082-8746-f99d0a0ff5ad', embedding=None, metadata={'id': 'dda83a9c-cc66-4fa0-bdce-aaee4a0a4663', 'is_table': False, 'parent_id': '1e31e7d4-0d43-41e9-80da-b38b2b0359da', 'source': 'managing-pre-diabetes-(updated-on-27-jul-2021)c2bfc77474154c2abf623156a4b93002'}, excluded_embed_metadata_keys=[], excluded_llm_metadata_keys=[], relationships={}, text='Find out more about ACE at www.ace-hta.gov.sg/about-us \\n\\n © Agency for Care Effectiveness , Ministry of Health , Republic of Singapore \\n\\n All rights reserved . Reproduction of this publication in whole or in part in any material form is prohibited without the prior written permission of the copyright holder . Application to reproduce any part of this publication should be addressed to : ACE_HTA@moh.gov.sg \\n\\n Suggested citation : www.ace-hta.gov.sg/about-us', mimetype='text/plain', start_char_idx=None, end_char_idx=None, text_template='{metadata_str}\\n\\n{content}', metadata_template='{key}: {value}', metadata_seperator='\\n'),\n",
       " Document(id_='fc3323cc-2152-4438-9e1c-1bd73adbccce', embedding=None, metadata={'id': '9dedc2ab-3cd1-4e3b-9a4d-10f36df74ab8', 'is_table': False, 'parent_id': '1e31e7d4-0d43-41e9-80da-b38b2b0359da', 'source': 'managing-pre-diabetes-(updated-on-27-jul-2021)c2bfc77474154c2abf623156a4b93002'}, excluded_embed_metadata_keys=[], excluded_llm_metadata_keys=[], relationships={}, text='Suggested citation : www.ace-hta.gov.sg/about-us\\n\\n© Agency for Care Care Effectiveness ( ACE ) . Managing pre - diabetes – a growing health concern . Appropriate Care Guide ( ACG ) , Ministry of Health , Singapore . 2021 . Available from : go.gov.sg/acg-managing-pre-diabetes-a-growing-health-concern', mimetype='text/plain', start_char_idx=None, end_char_idx=None, text_template='{metadata_str}\\n\\n{content}', metadata_template='{key}: {value}', metadata_seperator='\\n'),\n",
       " Document(id_='e868be20-18ae-4ff7-8674-4034056c8a5f', embedding=None, metadata={'id': 'fcb33ce8-c408-40d4-ae81-2c28f4b0ee08', 'is_table': False, 'parent_id': '1e31e7d4-0d43-41e9-80da-b38b2b0359da', 'source': 'managing-pre-diabetes-(updated-on-27-jul-2021)c2bfc77474154c2abf623156a4b93002'}, excluded_embed_metadata_keys=[], excluded_llm_metadata_keys=[], relationships={}, text='The Ministry of Health of Ministry of Health , Singapore disclaims any and all liability to any party for any direct , indirect , implied , punitive or other consequential damages arising directly or indirectly from any use of this ACG , which is provided as is , without warranties . \\n\\n Agency for Care Effectiveness ( ACE ) \\n\\n College of Medicine Building \\n\\n 16 College Road Singapore 169854 \\n\\n Driving better decision - making in healthcare', mimetype='text/plain', start_char_idx=None, end_char_idx=None, text_template='{metadata_str}\\n\\n{content}', metadata_template='{key}: {value}', metadata_seperator='\\n'),\n",
       " Document(id_='c8963914-d844-492b-8ae1-63dbe44b038e', embedding=None, metadata={'id': '294d7bc9-cd40-4b1e-896b-47e9be633f83', 'is_table': False, 'parent_id': '5b57b445-154b-4a9c-bc8a-e400dfa7e4a4', 'source': 'diabetic_foot_ulcer__symptoms_and_treatment'}, excluded_embed_metadata_keys=[], excluded_llm_metadata_keys=[], relationships={}, text='Diabetic Foot Ulcer : Symptoms and Treatment \\n\\n  What causes diabetic ulcers ? \\n\\n Here ’s what you need to know in terms of self - care , prevention , and the treatment of diabetic ulcer . \\n\\n  What Is a Diabetic Ulcer ? \\n\\n A diabetic ulcer is an open sore or wound resulting from poor circulation or lack of sensation due to nerve damage caused by elevated blood glucose levels .', mimetype='text/plain', start_char_idx=None, end_char_idx=None, text_template='{metadata_str}\\n\\n{content}', metadata_template='{key}: {value}', metadata_seperator='\\n'),\n",
       " Document(id_='e91f4bcf-92aa-40dc-9d45-cb6d2847d8a3', embedding=None, metadata={'id': 'c788d2c7-4097-4646-811f-fcb1b5fd0ce3', 'is_table': False, 'parent_id': '5b57b445-154b-4a9c-bc8a-e400dfa7e4a4', 'source': 'diabetic_foot_ulcer__symptoms_and_treatment'}, excluded_embed_metadata_keys=[], excluded_llm_metadata_keys=[], relationships={}, text='The legs and feet are most at risk for these ulcers . Diabetes makes it hard for the body to heal body , increasing the risk of wounds becoming chronic and raising the risk of infection . \\n\\n Significantly , nonhealing diabetic ulcers result in a large number of amputations in Singapore . About two major limb amputations are carried out daily to remove lower limbs affected by diabetes - related ulcers or gangrene . \\n\\n  Diabetic Ulcer Prevention', mimetype='text/plain', start_char_idx=None, end_char_idx=None, text_template='{metadata_str}\\n\\n{content}', metadata_template='{key}: {value}', metadata_seperator='\\n'),\n",
       " Document(id_='bf86eccd-4068-4e3d-9b64-132193c3028b', embedding=None, metadata={'id': 'a291be99-132d-45ca-a84e-4457d4cb3e68', 'is_table': False, 'parent_id': '5b57b445-154b-4a9c-bc8a-e400dfa7e4a4', 'source': 'diabetic_foot_ulcer__symptoms_and_treatment'}, excluded_embed_metadata_keys=[], excluded_llm_metadata_keys=[], relationships={}, text='Diabetic Ulcer Prevention \\n\\n To reduce the risk of wounds , regular foot care is important for those with diabetes . Take these steps to reduce foot injuries and wounds :', mimetype='text/plain', start_char_idx=None, end_char_idx=None, text_template='{metadata_str}\\n\\n{content}', metadata_template='{key}: {value}', metadata_seperator='\\n'),\n",
       " Document(id_='3c200062-10b2-4d02-b2d6-871b42365cf1', embedding=None, metadata={'id': '8bc56004-8ee9-45af-9215-a14506d648a0', 'is_table': False, 'parent_id': '5b57b445-154b-4a9c-bc8a-e400dfa7e4a4', 'source': 'diabetic_foot_ulcer__symptoms_and_treatment'}, excluded_embed_metadata_keys=[], excluded_llm_metadata_keys=[], relationships={}, text='- Check your feet every day for red spots , cuts , swelling or blisters . \\n - Use a mirror or get help to inspect the bottom of your feet . \\n - Wash your feet every day and dry feet carefully , especially between the toes . \\n - Moisturise your feet daily , ideally after washing , to keep the skin soft and smooth . \\n - Massage a thin coat of lotion over the top and bottom of your feet , but not between the toes as the skin is thinner and more prone to splitting .', mimetype='text/plain', start_char_idx=None, end_char_idx=None, text_template='{metadata_str}\\n\\n{content}', metadata_template='{key}: {value}', metadata_seperator='\\n'),\n",
       " Document(id_='4b13f26b-d7ea-4d9b-8da7-8b65675c5dec', embedding=None, metadata={'id': '2f65bd11-4cc8-4b3b-a420-1e7191320d7a', 'is_table': False, 'parent_id': '5b57b445-154b-4a9c-bc8a-e400dfa7e4a4', 'source': 'diabetic_foot_ulcer__symptoms_and_treatment'}, excluded_embed_metadata_keys=[], excluded_llm_metadata_keys=[], relationships={}, text='- File away hard skin patches on the sole of the feet or toes at least once a week to prevent foot ulcers from forming underneath . \\n - Keep toenails trimmed to prevent toenails from cutting into your toes . \\n - Cut toenails straight across and file the edges , never into the sides as this causes ingrown nails . \\n - Always wear shoes and socks , and never walk barefoot to prevent injuries . \\n - Ensure shoes are comfortable and fit well .', mimetype='text/plain', start_char_idx=None, end_char_idx=None, text_template='{metadata_str}\\n\\n{content}', metadata_template='{key}: {value}', metadata_seperator='\\n'),\n",
       " Document(id_='ee9adea1-e860-4812-a1c7-bcbb5737f827', embedding=None, metadata={'id': 'ed257777-5960-433b-9ac8-8e40fae5e995', 'is_table': False, 'parent_id': '5b57b445-154b-4a9c-bc8a-e400dfa7e4a4', 'source': 'diabetic_foot_ulcer__symptoms_and_treatment'}, excluded_embed_metadata_keys=[], excluded_llm_metadata_keys=[], relationships={}, text='https://www.healthhub.sg/a-z/diseases-and-conditions/diabetic-ulcer', mimetype='text/plain', start_char_idx=None, end_char_idx=None, text_template='{metadata_str}\\n\\n{content}', metadata_template='{key}: {value}', metadata_seperator='\\n'),\n",
       " Document(id_='fdfb0e44-fe84-42fb-90cb-e1d1719d9505', embedding=None, metadata={'id': 'c17c061a-c647-4627-9c22-87457352b89d', 'is_table': False, 'parent_id': 'ee6f7b30-31cf-48b0-a5a3-04847a97d4e5', 'source': 'diabetes_treatment__insulin'}, excluded_embed_metadata_keys=[], excluded_llm_metadata_keys=[], relationships={}, text='Diabetes Treatment : Insulin \\n\\n Insulin moves into the blood and is used by your body . \\n\\n  Injection Areas \\n\\n - Abdomen — insulin moves fastest into the blood from here \\n - Arm \\n - Thigh and buttocks — insulin moves slowest into the blood from here \\n\\n The injection area is chosen based on the speed of insulin absorption required , and your convenience .', mimetype='text/plain', start_char_idx=None, end_char_idx=None, text_template='{metadata_str}\\n\\n{content}', metadata_template='{key}: {value}', metadata_seperator='\\n'),\n",
       " Document(id_='d41181ef-d39d-4c5c-bea3-810dd85d3fda', embedding=None, metadata={'id': '1ccec0a9-94cf-4519-ac89-3fb2513077de', 'is_table': False, 'parent_id': 'ee6f7b30-31cf-48b0-a5a3-04847a97d4e5', 'source': 'diabetes_treatment__insulin'}, excluded_embed_metadata_keys=[], excluded_llm_metadata_keys=[], relationships={}, text='Your doctor or nurse will advise you on the best area to inject . doctor is not a good idea to change injection areas frequently . This may cause your blood sugar levels to go up and down . This happens because insulin moves into blood at different speeds from different areas .', mimetype='text/plain', start_char_idx=None, end_char_idx=None, text_template='{metadata_str}\\n\\n{content}', metadata_template='{key}: {value}', metadata_seperator='\\n'),\n",
       " Document(id_='e6d4ceb3-3466-4c38-b48e-d8fac08a1edd', embedding=None, metadata={'id': 'ab57d75d-6584-408a-b33a-f541fb7996df', 'is_table': False, 'parent_id': 'ee6f7b30-31cf-48b0-a5a3-04847a97d4e5', 'source': 'diabetes_treatment__insulin'}, excluded_embed_metadata_keys=[], excluded_llm_metadata_keys=[], relationships={}, text='You should inject your insulin into a different spot each time . Injecting into the same spot often may lead to formation of thick areas under the skin . Insulin injected into these areas may not be absorbed well . Rotating your insulin injection spot will prevent these thick areas from forming . You should try and use each spot only once a month .', mimetype='text/plain', start_char_idx=None, end_char_idx=None, text_template='{metadata_str}\\n\\n{content}', metadata_template='{key}: {value}', metadata_seperator='\\n'),\n",
       " Document(id_='b96cd355-35be-4ad7-9195-44b075f25601', embedding=None, metadata={'id': 'b42edb22-4912-4a8d-af40-518be30cc36a', 'is_table': False, 'parent_id': 'ee6f7b30-31cf-48b0-a5a3-04847a97d4e5', 'source': 'diabetes_treatment__insulin'}, excluded_embed_metadata_keys=[], excluded_llm_metadata_keys=[], relationships={}, text='Check your injection areas every few days . You can press gently and run your fingertips across each area . If there are any lumps , painful spots or any change of colour in the area , report these to your diabetes care team . Avoid using these areas until the problem stops . \\n\\n  Timing of Insulin Injections', mimetype='text/plain', start_char_idx=None, end_char_idx=None, text_template='{metadata_str}\\n\\n{content}', metadata_template='{key}: {value}', metadata_seperator='\\n'),\n",
       " Document(id_='c2520abc-38ae-4a18-8649-bb6307ecb7c7', embedding=None, metadata={'id': 'e926a2a5-dcb0-4eb0-9f6d-4944bad7eff9', 'is_table': False, 'parent_id': 'ee6f7b30-31cf-48b0-a5a3-04847a97d4e5', 'source': 'diabetes_treatment__insulin'}, excluded_embed_metadata_keys=[], excluded_llm_metadata_keys=[], relationships={}, text='Timing of Insulin Injections \\n\\n Inject your insulin 30 minutes before meals . The insulin will move into your blood to match the rise in the blood sugar level . You should eat regularly throughout the day . This is to avoid a low blood sugar levels caused by the injected insulin . \\n\\n If you are using a new insulin called Lispro Insulin ( Humalog ® ) you do not have to wait 30 minutes before eating your meal . Lispro insulin is absorbed and goes to work almost immediately after injection .', mimetype='text/plain', start_char_idx=None, end_char_idx=None, text_template='{metadata_str}\\n\\n{content}', metadata_template='{key}: {value}', metadata_seperator='\\n'),\n",
       " Document(id_='656fd0d3-cb18-44a3-8232-192f0446dbf0', embedding=None, metadata={'id': '4ff10493-316c-425f-afd2-4f7d450bc369', 'is_table': False, 'parent_id': 'ee6f7b30-31cf-48b0-a5a3-04847a97d4e5', 'source': 'diabetes_treatment__insulin'}, excluded_embed_metadata_keys=[], excluded_llm_metadata_keys=[], relationships={}, text='Insulin Usage \\n\\n Discard the insulin if : \\n\\n - insulin has expired \\n - There is any contamination of clear ( short - acting ) insulin \\n - There are any lumps in cloudy ( intermediate - acting ) insulin that will not dissolve when the bottle is rotated \\n\\n Lispro Insulin should be stored in the lower part of the fridge , away from the freezer . You should always keep at least one extra bottle of each type of insulin . \\n\\n Source', mimetype='text/plain', start_char_idx=None, end_char_idx=None, text_template='{metadata_str}\\n\\n{content}', metadata_template='{key}: {value}', metadata_seperator='\\n'),\n",
       " Document(id_='894b9eff-5d44-490b-8548-9ced05bfb7dc', embedding=None, metadata={'id': 'b6aae752-72d6-44f8-ab0d-deb637a2f70f', 'is_table': False, 'parent_id': 'c0586318-1aa7-4076-94d2-4b95fbfd783d', 'source': 'diabetes_treatment__insulin'}, excluded_embed_metadata_keys=[], excluded_llm_metadata_keys=[], relationships={}, text='Diabetes Treatment : Insulin \\n\\n When travelling , carry your insulin and syringes with you . Do not put the insulin in your check - in luggage or in your car boot . \\n\\n  Insulin Devices \\n\\n  Syringes \\n\\n Syringes are used to measure the amount of insulin to be injected . Choose a suitable syringe that best matches the number of units required .', mimetype='text/plain', start_char_idx=None, end_char_idx=None, text_template='{metadata_str}\\n\\n{content}', metadata_template='{key}: {value}', metadata_seperator='\\n'),\n",
       " Document(id_='17c75cfb-e8f1-4f0c-98e4-05acb42b33e3', embedding=None, metadata={'id': '0eab3a60-fe2f-46b9-976a-ac569c0d65c5', 'is_table': False, 'parent_id': 'c0586318-1aa7-4076-94d2-4b95fbfd783d', 'source': 'diabetes_treatment__insulin'}, excluded_embed_metadata_keys=[], excluded_llm_metadata_keys=[], relationships={}, text='A 0.3ml syringe should be used for doses up to 30 units . A 0.5ml syringe should be used for doses up to 50 units . A 1ml syringe can be used for doses up to 100 units . Disposable syringes can be used for the same person up to about two to four times . Between uses , replace the cap and put the syringe in the fridge . \\n\\n  Insulin Pens', mimetype='text/plain', start_char_idx=None, end_char_idx=None, text_template='{metadata_str}\\n\\n{content}', metadata_template='{key}: {value}', metadata_seperator='\\n'),\n",
       " Document(id_='650e61af-75a6-4ea9-9c27-ea535c8856d4', embedding=None, metadata={'id': 'ce9a4b9b-21bc-44b6-bd2e-a2f89216fbcd', 'is_table': False, 'parent_id': 'c0586318-1aa7-4076-94d2-4b95fbfd783d', 'source': 'diabetes_treatment__insulin'}, excluded_embed_metadata_keys=[], excluded_llm_metadata_keys=[], relationships={}, text='Insulin Pens \\n\\n Insulin pens combine both the needle and insulin cartridge into one . Thus , insulin injections become more convenient and you do not have to carry syringes and insulin bottles with you . \\n\\n  Insulin Pumps \\n\\n The insulin pump is a small computerised device that pumps insulin continuously through a fine plastic tube into a site under the skin 24 hours a day . Pumps is just a little larger than a pocket pager .', mimetype='text/plain', start_char_idx=None, end_char_idx=None, text_template='{metadata_str}\\n\\n{content}', metadata_template='{key}: {value}', metadata_seperator='\\n'),\n",
       " Document(id_='0e7a0568-6851-4b87-9c96-9d44c75ed002', embedding=None, metadata={'id': '0faec8f4-7df2-4bfc-b619-4831f4f0d107', 'is_table': False, 'parent_id': 'c0586318-1aa7-4076-94d2-4b95fbfd783d', 'source': 'diabetes_treatment__insulin'}, excluded_embed_metadata_keys=[], excluded_llm_metadata_keys=[], relationships={}, text='Pump users have to monitor users blood sugar frequently so as to make adjustments to the amount of insulin delivered . The insulin pump generally gives you better control and more meal flexibility , but is costlier and requires more frequent blood sugar monitoring . \\n\\n  Switching to Insulin from Anti - diabetes Tablets', mimetype='text/plain', start_char_idx=None, end_char_idx=None, text_template='{metadata_str}\\n\\n{content}', metadata_template='{key}: {value}', metadata_seperator='\\n'),\n",
       " Document(id_='04b4681c-f2b8-4ca1-a9c4-8097435c757e', embedding=None, metadata={'id': '60b4f5a3-d98d-4c12-a6bd-f89d80aebcf6', 'is_table': False, 'parent_id': 'c0586318-1aa7-4076-94d2-4b95fbfd783d', 'source': 'diabetes_treatment__insulin'}, excluded_embed_metadata_keys=[], excluded_llm_metadata_keys=[], relationships={}, text='Switching to Insulin from Anti - diabetes Tablets \\n\\n Patients who are switched to insulin from anti - diabetes tablets often worry that Patients condition must be deteriorating . However , the switch to insulin was made because the diabetes was getting out of control as the tablets were failing to control the patient ’s blood sugar — and the insulin will correct that . \\n\\n  Insulin Side Effects \\n\\n Taking insulin may result in some side effects . These include :', mimetype='text/plain', start_char_idx=None, end_char_idx=None, text_template='{metadata_str}\\n\\n{content}', metadata_template='{key}: {value}', metadata_seperator='\\n'),\n",
       " Document(id_='9f8668f1-9ec3-4a1a-a6e0-8335d95d9765', embedding=None, metadata={'id': 'f0ac3833-3fab-4412-a22e-4ffb1acb9b0c', 'is_table': False, 'parent_id': 'c0586318-1aa7-4076-94d2-4b95fbfd783d', 'source': 'diabetes_treatment__insulin'}, excluded_embed_metadata_keys=[], excluded_llm_metadata_keys=[], relationships={}, text='- Low blood sugar \\n - Initial weight gain \\n - Lumpy or scarred tissue from too many injections on the same part of the body \\n - Rashes on the injection site or , in rare cases , all over the body \\n\\n Read these next : \\n\\n https://www.healthhub.sg/a-z/diseases-and-conditions/diabetes-treatment-insulin', mimetype='text/plain', start_char_idx=None, end_char_idx=None, text_template='{metadata_str}\\n\\n{content}', metadata_template='{key}: {value}', metadata_seperator='\\n')]"
      ]
     },
     "execution_count": 12,
     "metadata": {},
     "output_type": "execute_result"
    }
   ],
   "source": [
    "final_docs"
   ]
  },
  {
   "cell_type": "code",
   "execution_count": 13,
   "metadata": {},
   "outputs": [],
   "source": [
    "diabetes_medications = [i for i in final_docs if i.metadata['source'] == 'diabetes_medications']"
   ]
  },
  {
   "cell_type": "code",
   "execution_count": 14,
   "metadata": {},
   "outputs": [
    {
     "data": {
      "text/plain": [
       "[Document(id_='d5efd733-7731-4865-ba5c-42d79bcdc5a9', embedding=None, metadata={'id': '1b19777a-7277-4a49-be33-1e72679c58dc', 'is_table': False, 'source': 'diabetes_medications'}, excluded_embed_metadata_keys=[], excluded_llm_metadata_keys=[], relationships={}, text=\"Diabetes Medications \\n\\n You should go back to your regular dosage schedule . Check with your doctor or pharmacist before taking any other medicines , including over - the - counter medicines . \\n\\n  Rare Side Effects of Anti - diabetes Tablets \\n\\n Please inform your doctor if you have the following symptoms : \\n\\n - Dark or coloured urine \\n - Tiredness \\n - Itchy skin or skin rash \\n - Loss of appetite \\n - Light - coloured stools \\n - Unexplained fever and sore throat \\n - Increased sensitivity to sunlight \\n - Diarrhoea \\n - Yellowing of eyes or skin \\n - Nausea or vomiting \\n - Headache \\n\\n Take action : \\n\\n  Beat Diabetes Step by Step \\n\\n  Are Anti - diabetes Tablets Addictive ? \\n\\n You can never become addicted to anti - diabetes tablets . This is a common misconception among patients who do not like the idea of taking medication long - term . \\n\\n The right way to think about diabetes medications is this : the tablets are there to do a job . If you take tablets only three days of the week instead of every day as instructed , you can expect your blood sugar to be high on the four days that you do not take the tablets . \\n\\n Anti - diabetes tablets are meant to help keep you well . However , tablets wo n't work unless you take tablets . \\n\\n  Read more : \\n\\n - Guide to Managing Diabetes \\n - Diabetes in Childhood and Pregnancy \\n - The Diabetic 's Guide to Dessert \\n - How Does Belly Fat Increase Your Risk of Diabetes ? \\n\\n  Type of Tablet\", mimetype='text/plain', start_char_idx=None, end_char_idx=None, text_template='{metadata_str}\\n\\n{content}', metadata_template='{key}: {value}', metadata_seperator='\\n'),\n",
       " Document(id_='16a15f90-fd3f-4d2a-bccd-55d2484ccc37', embedding=None, metadata={'id': 'c31cfa1c-47bf-44d8-91fe-6f215ccb3b81', 'is_table': True, 'source': 'diabetes_medications'}, excluded_embed_metadata_keys=[], excluded_llm_metadata_keys=[], relationships={}, text='This table appears to be empty or incomplete . table has three columns labeled \" Type of Tablet , \" \" Action , \" and \" Comment , \" but there is no data in any of the cells . Without any content , it \\'s not possible to determine the specific purpose or subject of this table . \\n\\n There is no existing title , caption , or table ID provided in the given context . \\n\\n Given the lack of information , this table should not be kept in table current form as table does not provide any useful data or insights . , \\n with the following columns :', mimetype='text/plain', start_char_idx=None, end_char_idx=None, text_template='{metadata_str}\\n\\n{content}', metadata_template='{key}: {value}', metadata_seperator='\\n'),\n",
       " Document(id_='ac578626-862a-4160-942c-31a26a07c1f6', embedding=None, metadata={'id': '9d76e667-ff2e-4186-b85d-1f97c1ecc152', 'is_table': False, 'parent_id': '8af21fb5-a57b-461e-be19-381e47679797', 'source': 'diabetes_medications'}, excluded_embed_metadata_keys=[], excluded_llm_metadata_keys=[], relationships={}, text='Diabetes Medications \\n\\n Learn about the different diabetes treatment pills available , the guidelines when taking guidelines and more . \\n\\n  Treatment of Diabetes Mellitus : Tablets \\n\\n Treatment of type 2 diabetes begins with diet control . If diet alone is unable to control blood sugar levels , then tablets have to be taken . If both diet and tablets fail to control the blood sugar levels , insulin injections may be needed . \\n\\n Oral anti - diabetes tablets are used for treating type 2 diabetes .', mimetype='text/plain', start_char_idx=None, end_char_idx=None, text_template='{metadata_str}\\n\\n{content}', metadata_template='{key}: {value}', metadata_seperator='\\n'),\n",
       " Document(id_='26cbb386-47ea-4213-ad99-ae1985edb935', embedding=None, metadata={'id': '29397a7b-a3cb-4302-926c-af40223dabc6', 'is_table': False, 'parent_id': '8af21fb5-a57b-461e-be19-381e47679797', 'source': 'diabetes_medications'}, excluded_embed_metadata_keys=[], excluded_llm_metadata_keys=[], relationships={}, text='Tell Your Doctor if You \\n\\n - Are allergic to any medicines \\n - Are pregnant , or intend to become pregnant \\n - Are breastfeeding \\n - Are taking any other medicines \\n - Have any other medical problems \\n\\n  Some Guidelines to Follow When Taking Your Diabetes Pill(s )', mimetype='text/plain', start_char_idx=None, end_char_idx=None, text_template='{metadata_str}\\n\\n{content}', metadata_template='{key}: {value}', metadata_seperator='\\n'),\n",
       " Document(id_='52c24c77-81de-4f22-8030-7893997f8ed8', embedding=None, metadata={'id': 'e74bc2be-3d83-44c8-88a3-a0780c8dd9f6', 'is_table': False, 'parent_id': '8af21fb5-a57b-461e-be19-381e47679797', 'source': 'diabetes_medications'}, excluded_embed_metadata_keys=[], excluded_llm_metadata_keys=[], relationships={}, text='- Know the name and dosage of your diabetic tablet(s ) . \\n - Do not take more or less than what your doctor ordered . \\n - Take the tablet(s ) at the correct times . Do not make any changes to your medication routine without consulting your doctor . \\n - Take your tablet(s ) even when you are sick ( sometimes the dosage may have to be changed , so do consult your doctor beforehand ) .', mimetype='text/plain', start_char_idx=None, end_char_idx=None, text_template='{metadata_str}\\n\\n{content}', metadata_template='{key}: {value}', metadata_seperator='\\n'),\n",
       " Document(id_='e621df8f-df35-4295-88bd-91682131d89e', embedding=None, metadata={'id': '199734fe-9f4a-45b1-8deb-cb39ba428138', 'is_table': False, 'parent_id': '8af21fb5-a57b-461e-be19-381e47679797', 'source': 'diabetes_medications'}, excluded_embed_metadata_keys=[], excluded_llm_metadata_keys=[], relationships={}, text='- Follow your meal plan . doctor will help your tablet(s ) work better . Careless eating may cause the tablet(s ) to lose doctor effect . \\n - If you miss a dose of the tablet(s ) , take tablet(s as soon as possible unless tablet(s is time for your next dose . In that case , do not take the missed dose and do not double the next one .', mimetype='text/plain', start_char_idx=None, end_char_idx=None, text_template='{metadata_str}\\n\\n{content}', metadata_template='{key}: {value}', metadata_seperator='\\n'),\n",
       " Document(id_='9f35e9f8-ad82-4c71-98c9-e9e255936442', embedding=None, metadata={'id': '845664e9-d745-4ef7-b5ad-bbe45100d1d5', 'is_table': False, 'parent_id': '8af21fb5-a57b-461e-be19-381e47679797', 'source': 'diabetes_medications'}, excluded_embed_metadata_keys=[], excluded_llm_metadata_keys=[], relationships={}, text='Source', mimetype='text/plain', start_char_idx=None, end_char_idx=None, text_template='{metadata_str}\\n\\n{content}', metadata_template='{key}: {value}', metadata_seperator='\\n'),\n",
       " Document(id_='c45c1477-dd81-46e5-9985-d4c29bead7c8', embedding=None, metadata={'id': '5a54b368-b6da-4da1-ba95-eccfa107fa77', 'is_table': False, 'parent_id': 'b7cc4604-d4c5-4d5b-873f-fdfe6beaa1bd', 'source': 'diabetes_medications'}, excluded_embed_metadata_keys=[], excluded_llm_metadata_keys=[], relationships={}, text='Diabetes Medications \\n\\n  Sulphonylureas \\n\\n Help the pancreas to release more insulin and the body to use glucose more effectively . \\n\\n - Chlorpropamide ( Diabinese ® ) \\n - Glibenclamide ( Daonil ® ) \\n - Gliclazide ( Diamicron ® ) \\n - Tolbutamide ( Rastinon ® ) \\n - Glimepiride ( Amaryl ® ) \\n\\n Take the tablet(s ) daily immediately after meals ( except Gliclazide which is consumed half an hour before meals ) . Do not miss or delay meals . Otherwise , your blood sugar level may fall too low .', mimetype='text/plain', start_char_idx=None, end_char_idx=None, text_template='{metadata_str}\\n\\n{content}', metadata_template='{key}: {value}', metadata_seperator='\\n'),\n",
       " Document(id_='1418ec98-e5da-414e-b577-442fef3da98c', embedding=None, metadata={'id': 'a1c3321f-e2ef-42f5-89d4-91125a1972dd', 'is_table': False, 'parent_id': 'b7cc4604-d4c5-4d5b-873f-fdfe6beaa1bd', 'source': 'diabetes_medications'}, excluded_embed_metadata_keys=[], excluded_llm_metadata_keys=[], relationships={}, text='Sometimes other tablets ( e.g. those for blood pressure ) can react with anti - diabetes tablets . If in doubt , talk to your doctor or pharmacist . \\n\\n Alcohol interferes with some of these tablets : consult your pharmacist if you are planning to drink alcohol . For example , having alcohol with Chlorpropamide causes side effects like redness and vomiting . \\n\\n  Biguanides \\n\\n Help the body to use glucose more effectively . \\n\\n - e.g. Metformin ( Glucophage ® )', mimetype='text/plain', start_char_idx=None, end_char_idx=None, text_template='{metadata_str}\\n\\n{content}', metadata_template='{key}: {value}', metadata_seperator='\\n'),\n",
       " Document(id_='b6c0d113-905c-47c3-a56b-33e73684c6ef', embedding=None, metadata={'id': '828d531a-b876-4d7f-b240-5b981846179f', 'is_table': False, 'parent_id': 'b7cc4604-d4c5-4d5b-873f-fdfe6beaa1bd', 'source': 'diabetes_medications'}, excluded_embed_metadata_keys=[], excluded_llm_metadata_keys=[], relationships={}, text='- e.g. Metformin ( Glucophage ® ) \\n\\n Take the tablet(s ) with meals or after meals . \\n\\n  a - glucosidase inhibitors \\n\\n Help to stop the quick rise of blood glucose after a meal . \\n\\n - e.g. Acarbose ( Glucobay ® ) \\n\\n Take the tablet(s ) with the first mouthful or immediately before each of the three main daily meals . \\n\\n  Meglitinides \\n\\n Help the pancreas to release more insulin . \\n\\n - e.g. Repaglinide ( Novonorm ® ) \\n\\n Take the tablet before meals . \\n\\n  Thiazolidinediones', mimetype='text/plain', start_char_idx=None, end_char_idx=None, text_template='{metadata_str}\\n\\n{content}', metadata_template='{key}: {value}', metadata_seperator='\\n'),\n",
       " Document(id_='780252f2-5f77-4bf5-890a-bbbfdce6b8ac', embedding=None, metadata={'id': '2b2de015-e823-472a-b1ee-5e9d1be0bd60', 'is_table': False, 'parent_id': 'b7cc4604-d4c5-4d5b-873f-fdfe6beaa1bd', 'source': 'diabetes_medications'}, excluded_embed_metadata_keys=[], excluded_llm_metadata_keys=[], relationships={}, text='Take the tablet before meals . \\n\\n  Thiazolidinediones \\n\\n Enhance insulin action and help the body to use glucose more effectively . \\n\\n - e.g. Rosiglitazone ( Avandia ® ) \\n\\n Take the tablet with or without food . \\n\\n This article was last reviewed on Tuesday , May 25 , 2021 \\n\\n Source', mimetype='text/plain', start_char_idx=None, end_char_idx=None, text_template='{metadata_str}\\n\\n{content}', metadata_template='{key}: {value}', metadata_seperator='\\n')]"
      ]
     },
     "execution_count": 14,
     "metadata": {},
     "output_type": "execute_result"
    }
   ],
   "source": [
    "diabetes_medications"
   ]
  },
  {
   "cell_type": "code",
   "execution_count": 21,
   "metadata": {},
   "outputs": [],
   "source": [
    "NEO4J_URI = \"bolt://localhost:7687\"\n",
    "NEO4J_USER = \"neo4j\"\n",
    "NEO4J_PASSWORD = \"15082001\"\n",
    "NEO4J_DATABASE = \"neo4j\"\n",
    "\n",
    "graph_store = Neo4jPropertyGraphStore(\n",
    "    username=NEO4J_USER,\n",
    "    password=NEO4J_PASSWORD,\n",
    "    url=NEO4J_URI,\n",
    "    refresh_schema=False,\n",
    ")\n",
    "\n",
    "# gds = GraphDataScience(NEO4J_URI, database=NEO4J_DATABASE, auth=(NEO4J_USER, NEO4J_PASSWORD))"
   ]
  },
  {
   "cell_type": "code",
   "execution_count": 16,
   "metadata": {},
   "outputs": [],
   "source": [
    "def delete_all_nodes(graph_store):\n",
    "    graph_store.structured_query(\"\"\"\n",
    "    MATCH (n)\n",
    "    DETACH DELETE n\n",
    "    \"\"\")\n",
    "    print(\"All nodes deleted\")"
   ]
  },
  {
   "cell_type": "code",
   "execution_count": 17,
   "metadata": {},
   "outputs": [],
   "source": [
    "def remove_all_neo4j_restrictions(graph_store):\n",
    "    graph_store.structured_query(\"\"\"\n",
    "    CALL apoc.schema.assert({}, {});\n",
    "    \"\"\")"
   ]
  },
  {
   "cell_type": "code",
   "execution_count": 27,
   "metadata": {},
   "outputs": [
    {
     "name": "stderr",
     "output_type": "stream",
     "text": [
      "Parsing nodes: 100%|██████████| 11/11 [00:00<00:00, 1168.21it/s]\n",
      "Extracting triples: 100%|██████████| 11/11 [02:57<00:00, 16.12s/it]\n",
      "Generating embeddings: 100%|██████████| 1/1 [00:01<00:00,  1.20s/it]\n",
      "Generating embeddings: 100%|██████████| 1/1 [00:01<00:00,  1.50s/it]\n"
     ]
    },
    {
     "ename": "ConstraintError",
     "evalue": "{code: Neo.ClientError.Schema.ConstraintValidationFailed} {message: New data does not satisfy Constraint( id=6, name='constraint_ec67c859', type='UNIQUENESS', schema=(:__Node__ {id}), ownedIndex=5 ): Node(48) already exists with label `Label[0]` and property `PropertyKey[0]` = '1b19777a-7277-4a49-be33-1e72679c58dc'}",
     "output_type": "error",
     "traceback": [
      "\u001b[0;31m---------------------------------------------------------------------------\u001b[0m",
      "\u001b[0;31mConstraintError\u001b[0m                           Traceback (most recent call last)",
      "Cell \u001b[0;32mIn[27], line 1\u001b[0m\n\u001b[0;32m----> 1\u001b[0m index \u001b[38;5;241m=\u001b[39m \u001b[43mPropertyGraphIndex\u001b[49m\u001b[38;5;241;43m.\u001b[39;49m\u001b[43mfrom_documents\u001b[49m\u001b[43m(\u001b[49m\n\u001b[1;32m      2\u001b[0m \u001b[43m    \u001b[49m\u001b[43mdiabetes_medications\u001b[49m\u001b[43m,\u001b[49m\n\u001b[1;32m      3\u001b[0m \u001b[43m    \u001b[49m\u001b[43mkg_extractors\u001b[49m\u001b[38;5;241;43m=\u001b[39;49m\u001b[43m[\u001b[49m\u001b[43mrelik\u001b[49m\u001b[43m]\u001b[49m\u001b[43m,\u001b[49m\n\u001b[1;32m      4\u001b[0m \u001b[43m    \u001b[49m\u001b[43mllm\u001b[49m\u001b[38;5;241;43m=\u001b[39;49m\u001b[43mllama_llm\u001b[49m\u001b[43m,\u001b[49m\n\u001b[1;32m      5\u001b[0m \u001b[43m    \u001b[49m\u001b[43membed_model\u001b[49m\u001b[38;5;241;43m=\u001b[39;49m\u001b[43mllama_openai_embed_model\u001b[49m\u001b[43m,\u001b[49m\n\u001b[1;32m      6\u001b[0m \u001b[43m    \u001b[49m\u001b[43mproperty_graph_store\u001b[49m\u001b[38;5;241;43m=\u001b[39;49m\u001b[43mgraph_store\u001b[49m\u001b[43m,\u001b[49m\n\u001b[1;32m      7\u001b[0m \u001b[43m    \u001b[49m\u001b[43mshow_progress\u001b[49m\u001b[38;5;241;43m=\u001b[39;49m\u001b[38;5;28;43;01mTrue\u001b[39;49;00m\u001b[43m,\u001b[49m\n\u001b[1;32m      8\u001b[0m \u001b[43m)\u001b[49m\n",
      "File \u001b[0;32m/Library/Frameworks/Python.framework/Versions/3.11/lib/python3.11/site-packages/llama_index/core/indices/base.py:119\u001b[0m, in \u001b[0;36mBaseIndex.from_documents\u001b[0;34m(cls, documents, storage_context, show_progress, callback_manager, transformations, **kwargs)\u001b[0m\n\u001b[1;32m    110\u001b[0m     docstore\u001b[38;5;241m.\u001b[39mset_document_hash(doc\u001b[38;5;241m.\u001b[39mget_doc_id(), doc\u001b[38;5;241m.\u001b[39mhash)\n\u001b[1;32m    112\u001b[0m nodes \u001b[38;5;241m=\u001b[39m run_transformations(\n\u001b[1;32m    113\u001b[0m     documents,  \u001b[38;5;66;03m# type: ignore\u001b[39;00m\n\u001b[1;32m    114\u001b[0m     transformations,\n\u001b[1;32m    115\u001b[0m     show_progress\u001b[38;5;241m=\u001b[39mshow_progress,\n\u001b[1;32m    116\u001b[0m     \u001b[38;5;241m*\u001b[39m\u001b[38;5;241m*\u001b[39mkwargs,\n\u001b[1;32m    117\u001b[0m )\n\u001b[0;32m--> 119\u001b[0m \u001b[38;5;28;01mreturn\u001b[39;00m \u001b[38;5;28;43mcls\u001b[39;49m\u001b[43m(\u001b[49m\n\u001b[1;32m    120\u001b[0m \u001b[43m    \u001b[49m\u001b[43mnodes\u001b[49m\u001b[38;5;241;43m=\u001b[39;49m\u001b[43mnodes\u001b[49m\u001b[43m,\u001b[49m\n\u001b[1;32m    121\u001b[0m \u001b[43m    \u001b[49m\u001b[43mstorage_context\u001b[49m\u001b[38;5;241;43m=\u001b[39;49m\u001b[43mstorage_context\u001b[49m\u001b[43m,\u001b[49m\n\u001b[1;32m    122\u001b[0m \u001b[43m    \u001b[49m\u001b[43mcallback_manager\u001b[49m\u001b[38;5;241;43m=\u001b[39;49m\u001b[43mcallback_manager\u001b[49m\u001b[43m,\u001b[49m\n\u001b[1;32m    123\u001b[0m \u001b[43m    \u001b[49m\u001b[43mshow_progress\u001b[49m\u001b[38;5;241;43m=\u001b[39;49m\u001b[43mshow_progress\u001b[49m\u001b[43m,\u001b[49m\n\u001b[1;32m    124\u001b[0m \u001b[43m    \u001b[49m\u001b[43mtransformations\u001b[49m\u001b[38;5;241;43m=\u001b[39;49m\u001b[43mtransformations\u001b[49m\u001b[43m,\u001b[49m\n\u001b[1;32m    125\u001b[0m \u001b[43m    \u001b[49m\u001b[38;5;241;43m*\u001b[39;49m\u001b[38;5;241;43m*\u001b[39;49m\u001b[43mkwargs\u001b[49m\u001b[43m,\u001b[49m\n\u001b[1;32m    126\u001b[0m \u001b[43m\u001b[49m\u001b[43m)\u001b[49m\n",
      "File \u001b[0;32m/Library/Frameworks/Python.framework/Versions/3.11/lib/python3.11/site-packages/llama_index/core/indices/property_graph/base.py:134\u001b[0m, in \u001b[0;36mPropertyGraphIndex.__init__\u001b[0;34m(self, nodes, llm, kg_extractors, property_graph_store, vector_store, use_async, embed_model, embed_kg_nodes, callback_manager, transformations, storage_context, show_progress, **kwargs)\u001b[0m\n\u001b[1;32m    128\u001b[0m \u001b[38;5;28mself\u001b[39m\u001b[38;5;241m.\u001b[39m_embed_kg_nodes \u001b[38;5;241m=\u001b[39m embed_kg_nodes\n\u001b[1;32m    129\u001b[0m \u001b[38;5;28mself\u001b[39m\u001b[38;5;241m.\u001b[39m_override_vector_store \u001b[38;5;241m=\u001b[39m (\n\u001b[1;32m    130\u001b[0m     vector_store \u001b[38;5;129;01mis\u001b[39;00m \u001b[38;5;129;01mnot\u001b[39;00m \u001b[38;5;28;01mNone\u001b[39;00m\n\u001b[1;32m    131\u001b[0m     \u001b[38;5;129;01mor\u001b[39;00m \u001b[38;5;129;01mnot\u001b[39;00m storage_context\u001b[38;5;241m.\u001b[39mproperty_graph_store\u001b[38;5;241m.\u001b[39msupports_vector_queries\n\u001b[1;32m    132\u001b[0m )\n\u001b[0;32m--> 134\u001b[0m \u001b[38;5;28;43msuper\u001b[39;49m\u001b[43m(\u001b[49m\u001b[43m)\u001b[49m\u001b[38;5;241;43m.\u001b[39;49m\u001b[38;5;21;43m__init__\u001b[39;49m\u001b[43m(\u001b[49m\n\u001b[1;32m    135\u001b[0m \u001b[43m    \u001b[49m\u001b[43mnodes\u001b[49m\u001b[38;5;241;43m=\u001b[39;49m\u001b[43mnodes\u001b[49m\u001b[43m,\u001b[49m\n\u001b[1;32m    136\u001b[0m \u001b[43m    \u001b[49m\u001b[43mcallback_manager\u001b[49m\u001b[38;5;241;43m=\u001b[39;49m\u001b[43mcallback_manager\u001b[49m\u001b[43m,\u001b[49m\n\u001b[1;32m    137\u001b[0m \u001b[43m    \u001b[49m\u001b[43mstorage_context\u001b[49m\u001b[38;5;241;43m=\u001b[39;49m\u001b[43mstorage_context\u001b[49m\u001b[43m,\u001b[49m\n\u001b[1;32m    138\u001b[0m \u001b[43m    \u001b[49m\u001b[43mtransformations\u001b[49m\u001b[38;5;241;43m=\u001b[39;49m\u001b[43mtransformations\u001b[49m\u001b[43m,\u001b[49m\n\u001b[1;32m    139\u001b[0m \u001b[43m    \u001b[49m\u001b[43mshow_progress\u001b[49m\u001b[38;5;241;43m=\u001b[39;49m\u001b[43mshow_progress\u001b[49m\u001b[43m,\u001b[49m\n\u001b[1;32m    140\u001b[0m \u001b[43m    \u001b[49m\u001b[38;5;241;43m*\u001b[39;49m\u001b[38;5;241;43m*\u001b[39;49m\u001b[43mkwargs\u001b[49m\u001b[43m,\u001b[49m\n\u001b[1;32m    141\u001b[0m \u001b[43m\u001b[49m\u001b[43m)\u001b[49m\n",
      "File \u001b[0;32m/Library/Frameworks/Python.framework/Versions/3.11/lib/python3.11/site-packages/llama_index/core/indices/base.py:77\u001b[0m, in \u001b[0;36mBaseIndex.__init__\u001b[0;34m(self, nodes, objects, index_struct, storage_context, callback_manager, transformations, show_progress, **kwargs)\u001b[0m\n\u001b[1;32m     75\u001b[0m \u001b[38;5;28;01mif\u001b[39;00m index_struct \u001b[38;5;129;01mis\u001b[39;00m \u001b[38;5;28;01mNone\u001b[39;00m:\n\u001b[1;32m     76\u001b[0m     nodes \u001b[38;5;241m=\u001b[39m nodes \u001b[38;5;129;01mor\u001b[39;00m []\n\u001b[0;32m---> 77\u001b[0m     index_struct \u001b[38;5;241m=\u001b[39m \u001b[38;5;28;43mself\u001b[39;49m\u001b[38;5;241;43m.\u001b[39;49m\u001b[43mbuild_index_from_nodes\u001b[49m\u001b[43m(\u001b[49m\n\u001b[1;32m     78\u001b[0m \u001b[43m        \u001b[49m\u001b[43mnodes\u001b[49m\u001b[43m \u001b[49m\u001b[38;5;241;43m+\u001b[39;49m\u001b[43m \u001b[49m\u001b[43mobjects\u001b[49m\u001b[43m,\u001b[49m\n\u001b[1;32m     79\u001b[0m \u001b[43m        \u001b[49m\u001b[38;5;241;43m*\u001b[39;49m\u001b[38;5;241;43m*\u001b[39;49m\u001b[43mkwargs\u001b[49m\u001b[43m,\u001b[49m\u001b[43m  \u001b[49m\u001b[38;5;66;43;03m# type: ignore\u001b[39;49;00m\n\u001b[1;32m     80\u001b[0m \u001b[43m    \u001b[49m\u001b[43m)\u001b[49m\n\u001b[1;32m     81\u001b[0m \u001b[38;5;28mself\u001b[39m\u001b[38;5;241m.\u001b[39m_index_struct \u001b[38;5;241m=\u001b[39m index_struct\n\u001b[1;32m     82\u001b[0m \u001b[38;5;28mself\u001b[39m\u001b[38;5;241m.\u001b[39m_storage_context\u001b[38;5;241m.\u001b[39mindex_store\u001b[38;5;241m.\u001b[39madd_index_struct(\u001b[38;5;28mself\u001b[39m\u001b[38;5;241m.\u001b[39m_index_struct)\n",
      "File \u001b[0;32m/Library/Frameworks/Python.framework/Versions/3.11/lib/python3.11/site-packages/llama_index/core/indices/base.py:185\u001b[0m, in \u001b[0;36mBaseIndex.build_index_from_nodes\u001b[0;34m(self, nodes, **build_kwargs)\u001b[0m\n\u001b[1;32m    183\u001b[0m \u001b[38;5;250m\u001b[39m\u001b[38;5;124;03m\"\"\"Build the index from nodes.\"\"\"\u001b[39;00m\n\u001b[1;32m    184\u001b[0m \u001b[38;5;28mself\u001b[39m\u001b[38;5;241m.\u001b[39m_docstore\u001b[38;5;241m.\u001b[39madd_documents(nodes, allow_update\u001b[38;5;241m=\u001b[39m\u001b[38;5;28;01mTrue\u001b[39;00m)\n\u001b[0;32m--> 185\u001b[0m \u001b[38;5;28;01mreturn\u001b[39;00m \u001b[38;5;28;43mself\u001b[39;49m\u001b[38;5;241;43m.\u001b[39;49m\u001b[43m_build_index_from_nodes\u001b[49m\u001b[43m(\u001b[49m\u001b[43mnodes\u001b[49m\u001b[43m,\u001b[49m\u001b[43m \u001b[49m\u001b[38;5;241;43m*\u001b[39;49m\u001b[38;5;241;43m*\u001b[39;49m\u001b[43mbuild_kwargs\u001b[49m\u001b[43m)\u001b[49m\n",
      "File \u001b[0;32m/Library/Frameworks/Python.framework/Versions/3.11/lib/python3.11/site-packages/llama_index/core/indices/property_graph/base.py:328\u001b[0m, in \u001b[0;36mPropertyGraphIndex._build_index_from_nodes\u001b[0;34m(self, nodes)\u001b[0m\n\u001b[1;32m    326\u001b[0m \u001b[38;5;28;01mdef\u001b[39;00m \u001b[38;5;21m_build_index_from_nodes\u001b[39m(\u001b[38;5;28mself\u001b[39m, nodes: Optional[Sequence[BaseNode]]) \u001b[38;5;241m-\u001b[39m\u001b[38;5;241m>\u001b[39m IndexLPG:\n\u001b[1;32m    327\u001b[0m \u001b[38;5;250m    \u001b[39m\u001b[38;5;124;03m\"\"\"Build index from nodes.\"\"\"\u001b[39;00m\n\u001b[0;32m--> 328\u001b[0m     nodes \u001b[38;5;241m=\u001b[39m \u001b[38;5;28;43mself\u001b[39;49m\u001b[38;5;241;43m.\u001b[39;49m\u001b[43m_insert_nodes\u001b[49m\u001b[43m(\u001b[49m\u001b[43mnodes\u001b[49m\u001b[43m \u001b[49m\u001b[38;5;129;43;01mor\u001b[39;49;00m\u001b[43m \u001b[49m\u001b[43m[\u001b[49m\u001b[43m]\u001b[49m\u001b[43m)\u001b[49m\n\u001b[1;32m    330\u001b[0m     \u001b[38;5;66;03m# this isn't really used or needed\u001b[39;00m\n\u001b[1;32m    331\u001b[0m     \u001b[38;5;28;01mreturn\u001b[39;00m IndexLPG()\n",
      "File \u001b[0;32m/Library/Frameworks/Python.framework/Versions/3.11/lib/python3.11/site-packages/llama_index/core/indices/property_graph/base.py:294\u001b[0m, in \u001b[0;36mPropertyGraphIndex._insert_nodes\u001b[0;34m(self, nodes)\u001b[0m\n\u001b[1;32m    291\u001b[0m     \u001b[38;5;28mself\u001b[39m\u001b[38;5;241m.\u001b[39mproperty_graph_store\u001b[38;5;241m.\u001b[39mupsert_llama_nodes(nodes)\n\u001b[1;32m    293\u001b[0m \u001b[38;5;28;01mif\u001b[39;00m \u001b[38;5;28mlen\u001b[39m(kg_nodes_to_insert) \u001b[38;5;241m>\u001b[39m \u001b[38;5;241m0\u001b[39m:\n\u001b[0;32m--> 294\u001b[0m     \u001b[38;5;28;43mself\u001b[39;49m\u001b[38;5;241;43m.\u001b[39;49m\u001b[43mproperty_graph_store\u001b[49m\u001b[38;5;241;43m.\u001b[39;49m\u001b[43mupsert_nodes\u001b[49m\u001b[43m(\u001b[49m\u001b[43mkg_nodes_to_insert\u001b[49m\u001b[43m)\u001b[49m\n\u001b[1;32m    296\u001b[0m \u001b[38;5;66;03m# important: upsert relations after nodes\u001b[39;00m\n\u001b[1;32m    297\u001b[0m \u001b[38;5;28;01mif\u001b[39;00m \u001b[38;5;28mlen\u001b[39m(kg_rels_to_insert) \u001b[38;5;241m>\u001b[39m \u001b[38;5;241m0\u001b[39m:\n",
      "File \u001b[0;32m/Library/Frameworks/Python.framework/Versions/3.11/lib/python3.11/site-packages/llama_index/graph_stores/neo4j/neo4j_property_graph.py:334\u001b[0m, in \u001b[0;36mNeo4jPropertyGraphStore.upsert_nodes\u001b[0;34m(self, nodes)\u001b[0m\n\u001b[1;32m    332\u001b[0m \u001b[38;5;28;01mfor\u001b[39;00m index \u001b[38;5;129;01min\u001b[39;00m \u001b[38;5;28mrange\u001b[39m(\u001b[38;5;241m0\u001b[39m, \u001b[38;5;28mlen\u001b[39m(entity_dicts), CHUNK_SIZE):\n\u001b[1;32m    333\u001b[0m     chunked_params \u001b[38;5;241m=\u001b[39m entity_dicts[index : index \u001b[38;5;241m+\u001b[39m CHUNK_SIZE]\n\u001b[0;32m--> 334\u001b[0m     \u001b[38;5;28;43mself\u001b[39;49m\u001b[38;5;241;43m.\u001b[39;49m\u001b[43mstructured_query\u001b[49m\u001b[43m(\u001b[49m\n\u001b[1;32m    335\u001b[0m \u001b[43m        \u001b[49m\u001b[38;5;124;43mf\u001b[39;49m\u001b[38;5;124;43m\"\"\"\u001b[39;49m\n\u001b[1;32m    336\u001b[0m \u001b[38;5;124;43m        UNWIND $data AS row\u001b[39;49m\n\u001b[1;32m    337\u001b[0m \u001b[38;5;124;43m        MERGE (e:\u001b[39;49m\u001b[38;5;132;43;01m{\u001b[39;49;00m\u001b[43mBASE_NODE_LABEL\u001b[49m\u001b[38;5;132;43;01m}\u001b[39;49;00m\u001b[38;5;124;43m \u001b[39;49m\u001b[38;5;130;43;01m{{\u001b[39;49;00m\u001b[38;5;124;43mid: row.id\u001b[39;49m\u001b[38;5;130;43;01m}}\u001b[39;49;00m\u001b[38;5;124;43m)\u001b[39;49m\n\u001b[1;32m    338\u001b[0m \u001b[38;5;124;43m        SET e += apoc.map.clean(row.properties, [], [])\u001b[39;49m\n\u001b[1;32m    339\u001b[0m \u001b[38;5;124;43m        SET e.name = row.name, e:`\u001b[39;49m\u001b[38;5;132;43;01m{\u001b[39;49;00m\u001b[43mBASE_ENTITY_LABEL\u001b[49m\u001b[38;5;132;43;01m}\u001b[39;49;00m\u001b[38;5;124;43m`\u001b[39;49m\n\u001b[1;32m    340\u001b[0m \u001b[38;5;124;43m        WITH e, row\u001b[39;49m\n\u001b[1;32m    341\u001b[0m \u001b[38;5;124;43m        CALL apoc.create.addLabels(e, [row.label])\u001b[39;49m\n\u001b[1;32m    342\u001b[0m \u001b[38;5;124;43m        YIELD node\u001b[39;49m\n\u001b[1;32m    343\u001b[0m \u001b[38;5;124;43m        WITH e, row\u001b[39;49m\n\u001b[1;32m    344\u001b[0m \u001b[38;5;124;43m        CALL \u001b[39;49m\u001b[38;5;130;43;01m{{\u001b[39;49;00m\n\u001b[1;32m    345\u001b[0m \u001b[38;5;124;43m            WITH e, row\u001b[39;49m\n\u001b[1;32m    346\u001b[0m \u001b[38;5;124;43m            WITH e, row\u001b[39;49m\n\u001b[1;32m    347\u001b[0m \u001b[38;5;124;43m            WHERE row.embedding IS NOT NULL\u001b[39;49m\n\u001b[1;32m    348\u001b[0m \u001b[38;5;124;43m            CALL db.create.setNodeVectorProperty(e, \u001b[39;49m\u001b[38;5;124;43m'\u001b[39;49m\u001b[38;5;124;43membedding\u001b[39;49m\u001b[38;5;124;43m'\u001b[39;49m\u001b[38;5;124;43m, row.embedding)\u001b[39;49m\n\u001b[1;32m    349\u001b[0m \u001b[38;5;124;43m            RETURN count(*) AS count\u001b[39;49m\n\u001b[1;32m    350\u001b[0m \u001b[38;5;124;43m        \u001b[39;49m\u001b[38;5;130;43;01m}}\u001b[39;49;00m\n\u001b[1;32m    351\u001b[0m \u001b[38;5;124;43m        WITH e, row WHERE row.properties.triplet_source_id IS NOT NULL\u001b[39;49m\n\u001b[1;32m    352\u001b[0m \u001b[38;5;124;43m        MERGE (c:\u001b[39;49m\u001b[38;5;132;43;01m{\u001b[39;49;00m\u001b[43mBASE_NODE_LABEL\u001b[49m\u001b[38;5;132;43;01m}\u001b[39;49;00m\u001b[38;5;124;43m \u001b[39;49m\u001b[38;5;130;43;01m{{\u001b[39;49;00m\u001b[38;5;124;43mid: row.properties.triplet_source_id\u001b[39;49m\u001b[38;5;130;43;01m}}\u001b[39;49;00m\u001b[38;5;124;43m)\u001b[39;49m\n\u001b[1;32m    353\u001b[0m \u001b[38;5;124;43m        MERGE (e)<-[:MENTIONS]-(c)\u001b[39;49m\n\u001b[1;32m    354\u001b[0m \u001b[38;5;124;43m        \u001b[39;49m\u001b[38;5;124;43m\"\"\"\u001b[39;49m\u001b[43m,\u001b[49m\n\u001b[1;32m    355\u001b[0m \u001b[43m        \u001b[49m\u001b[43mparam_map\u001b[49m\u001b[38;5;241;43m=\u001b[39;49m\u001b[43m{\u001b[49m\u001b[38;5;124;43m\"\u001b[39;49m\u001b[38;5;124;43mdata\u001b[39;49m\u001b[38;5;124;43m\"\u001b[39;49m\u001b[43m:\u001b[49m\u001b[43m \u001b[49m\u001b[43mchunked_params\u001b[49m\u001b[43m}\u001b[49m\u001b[43m,\u001b[49m\n\u001b[1;32m    356\u001b[0m \u001b[43m    \u001b[49m\u001b[43m)\u001b[49m\n",
      "File \u001b[0;32m/Library/Frameworks/Python.framework/Versions/3.11/lib/python3.11/site-packages/llama_index/graph_stores/neo4j/neo4j_property_graph.py:587\u001b[0m, in \u001b[0;36mNeo4jPropertyGraphStore.structured_query\u001b[0;34m(self, query, param_map)\u001b[0m\n\u001b[1;32m    584\u001b[0m param_map \u001b[38;5;241m=\u001b[39m param_map \u001b[38;5;129;01mor\u001b[39;00m {}\n\u001b[1;32m    586\u001b[0m \u001b[38;5;28;01mwith\u001b[39;00m \u001b[38;5;28mself\u001b[39m\u001b[38;5;241m.\u001b[39m_driver\u001b[38;5;241m.\u001b[39msession(database\u001b[38;5;241m=\u001b[39m\u001b[38;5;28mself\u001b[39m\u001b[38;5;241m.\u001b[39m_database) \u001b[38;5;28;01mas\u001b[39;00m session:\n\u001b[0;32m--> 587\u001b[0m     result \u001b[38;5;241m=\u001b[39m \u001b[43msession\u001b[49m\u001b[38;5;241;43m.\u001b[39;49m\u001b[43mrun\u001b[49m\u001b[43m(\u001b[49m\u001b[43mquery\u001b[49m\u001b[43m,\u001b[49m\u001b[43m \u001b[49m\u001b[43mparam_map\u001b[49m\u001b[43m)\u001b[49m\n\u001b[1;32m    588\u001b[0m     full_result \u001b[38;5;241m=\u001b[39m [d\u001b[38;5;241m.\u001b[39mdata() \u001b[38;5;28;01mfor\u001b[39;00m d \u001b[38;5;129;01min\u001b[39;00m result]\n\u001b[1;32m    590\u001b[0m \u001b[38;5;28;01mif\u001b[39;00m \u001b[38;5;28mself\u001b[39m\u001b[38;5;241m.\u001b[39msanitize_query_output:\n",
      "File \u001b[0;32m/Library/Frameworks/Python.framework/Versions/3.11/lib/python3.11/site-packages/neo4j/_sync/work/session.py:314\u001b[0m, in \u001b[0;36mSession.run\u001b[0;34m(self, query, parameters, **kwargs)\u001b[0m\n\u001b[1;32m    312\u001b[0m bookmarks \u001b[38;5;241m=\u001b[39m \u001b[38;5;28mself\u001b[39m\u001b[38;5;241m.\u001b[39m_get_bookmarks()\n\u001b[1;32m    313\u001b[0m parameters \u001b[38;5;241m=\u001b[39m \u001b[38;5;28mdict\u001b[39m(parameters \u001b[38;5;129;01mor\u001b[39;00m {}, \u001b[38;5;241m*\u001b[39m\u001b[38;5;241m*\u001b[39mkwargs)\n\u001b[0;32m--> 314\u001b[0m \u001b[38;5;28;43mself\u001b[39;49m\u001b[38;5;241;43m.\u001b[39;49m\u001b[43m_auto_result\u001b[49m\u001b[38;5;241;43m.\u001b[39;49m\u001b[43m_run\u001b[49m\u001b[43m(\u001b[49m\n\u001b[1;32m    315\u001b[0m \u001b[43m    \u001b[49m\u001b[43mquery\u001b[49m\u001b[43m,\u001b[49m\u001b[43m \u001b[49m\u001b[43mparameters\u001b[49m\u001b[43m,\u001b[49m\u001b[43m \u001b[49m\u001b[38;5;28;43mself\u001b[39;49m\u001b[38;5;241;43m.\u001b[39;49m\u001b[43m_config\u001b[49m\u001b[38;5;241;43m.\u001b[39;49m\u001b[43mdatabase\u001b[49m\u001b[43m,\u001b[49m\n\u001b[1;32m    316\u001b[0m \u001b[43m    \u001b[49m\u001b[38;5;28;43mself\u001b[39;49m\u001b[38;5;241;43m.\u001b[39;49m\u001b[43m_config\u001b[49m\u001b[38;5;241;43m.\u001b[39;49m\u001b[43mimpersonated_user\u001b[49m\u001b[43m,\u001b[49m\u001b[43m \u001b[49m\u001b[38;5;28;43mself\u001b[39;49m\u001b[38;5;241;43m.\u001b[39;49m\u001b[43m_config\u001b[49m\u001b[38;5;241;43m.\u001b[39;49m\u001b[43mdefault_access_mode\u001b[49m\u001b[43m,\u001b[49m\n\u001b[1;32m    317\u001b[0m \u001b[43m    \u001b[49m\u001b[43mbookmarks\u001b[49m\u001b[43m,\u001b[49m\u001b[43m \u001b[49m\u001b[38;5;28;43mself\u001b[39;49m\u001b[38;5;241;43m.\u001b[39;49m\u001b[43m_config\u001b[49m\u001b[38;5;241;43m.\u001b[39;49m\u001b[43mnotifications_min_severity\u001b[49m\u001b[43m,\u001b[49m\n\u001b[1;32m    318\u001b[0m \u001b[43m    \u001b[49m\u001b[38;5;28;43mself\u001b[39;49m\u001b[38;5;241;43m.\u001b[39;49m\u001b[43m_config\u001b[49m\u001b[38;5;241;43m.\u001b[39;49m\u001b[43mnotifications_disabled_classifications\u001b[49m\u001b[43m,\u001b[49m\n\u001b[1;32m    319\u001b[0m \u001b[43m\u001b[49m\u001b[43m)\u001b[49m\n\u001b[1;32m    321\u001b[0m \u001b[38;5;28;01mreturn\u001b[39;00m \u001b[38;5;28mself\u001b[39m\u001b[38;5;241m.\u001b[39m_auto_result\n",
      "File \u001b[0;32m/Library/Frameworks/Python.framework/Versions/3.11/lib/python3.11/site-packages/neo4j/_sync/work/result.py:221\u001b[0m, in \u001b[0;36mResult._run\u001b[0;34m(self, query, parameters, db, imp_user, access_mode, bookmarks, notifications_min_severity, notifications_disabled_classifications)\u001b[0m\n\u001b[1;32m    219\u001b[0m \u001b[38;5;28mself\u001b[39m\u001b[38;5;241m.\u001b[39m_pull()\n\u001b[1;32m    220\u001b[0m \u001b[38;5;28mself\u001b[39m\u001b[38;5;241m.\u001b[39m_connection\u001b[38;5;241m.\u001b[39msend_all()\n\u001b[0;32m--> 221\u001b[0m \u001b[38;5;28;43mself\u001b[39;49m\u001b[38;5;241;43m.\u001b[39;49m\u001b[43m_attach\u001b[49m\u001b[43m(\u001b[49m\u001b[43m)\u001b[49m\n",
      "File \u001b[0;32m/Library/Frameworks/Python.framework/Versions/3.11/lib/python3.11/site-packages/neo4j/_sync/work/result.py:409\u001b[0m, in \u001b[0;36mResult._attach\u001b[0;34m(self)\u001b[0m\n\u001b[1;32m    407\u001b[0m \u001b[38;5;28;01mif\u001b[39;00m \u001b[38;5;28mself\u001b[39m\u001b[38;5;241m.\u001b[39m_exhausted \u001b[38;5;129;01mis\u001b[39;00m \u001b[38;5;28;01mFalse\u001b[39;00m:\n\u001b[1;32m    408\u001b[0m     \u001b[38;5;28;01mwhile\u001b[39;00m \u001b[38;5;28mself\u001b[39m\u001b[38;5;241m.\u001b[39m_attached \u001b[38;5;129;01mis\u001b[39;00m \u001b[38;5;28;01mFalse\u001b[39;00m:\n\u001b[0;32m--> 409\u001b[0m         \u001b[38;5;28;43mself\u001b[39;49m\u001b[38;5;241;43m.\u001b[39;49m\u001b[43m_connection\u001b[49m\u001b[38;5;241;43m.\u001b[39;49m\u001b[43mfetch_message\u001b[49m\u001b[43m(\u001b[49m\u001b[43m)\u001b[49m\n",
      "File \u001b[0;32m/Library/Frameworks/Python.framework/Versions/3.11/lib/python3.11/site-packages/neo4j/_sync/io/_common.py:178\u001b[0m, in \u001b[0;36mConnectionErrorHandler.__getattr__.<locals>.outer.<locals>.inner\u001b[0;34m(*args, **kwargs)\u001b[0m\n\u001b[1;32m    176\u001b[0m \u001b[38;5;28;01mdef\u001b[39;00m \u001b[38;5;21minner\u001b[39m(\u001b[38;5;241m*\u001b[39margs, \u001b[38;5;241m*\u001b[39m\u001b[38;5;241m*\u001b[39mkwargs):\n\u001b[1;32m    177\u001b[0m     \u001b[38;5;28;01mtry\u001b[39;00m:\n\u001b[0;32m--> 178\u001b[0m         \u001b[43mfunc\u001b[49m\u001b[43m(\u001b[49m\u001b[38;5;241;43m*\u001b[39;49m\u001b[43margs\u001b[49m\u001b[43m,\u001b[49m\u001b[43m \u001b[49m\u001b[38;5;241;43m*\u001b[39;49m\u001b[38;5;241;43m*\u001b[39;49m\u001b[43mkwargs\u001b[49m\u001b[43m)\u001b[49m\n\u001b[1;32m    179\u001b[0m     \u001b[38;5;28;01mexcept\u001b[39;00m (Neo4jError, ServiceUnavailable, SessionExpired) \u001b[38;5;28;01mas\u001b[39;00m exc:\n\u001b[1;32m    180\u001b[0m         \u001b[38;5;28;01massert\u001b[39;00m \u001b[38;5;129;01mnot\u001b[39;00m asyncio\u001b[38;5;241m.\u001b[39miscoroutinefunction(\u001b[38;5;28mself\u001b[39m\u001b[38;5;241m.\u001b[39m__on_error)\n",
      "File \u001b[0;32m/Library/Frameworks/Python.framework/Versions/3.11/lib/python3.11/site-packages/neo4j/_sync/io/_bolt.py:860\u001b[0m, in \u001b[0;36mBolt.fetch_message\u001b[0;34m(self)\u001b[0m\n\u001b[1;32m    856\u001b[0m \u001b[38;5;66;03m# Receive exactly one message\u001b[39;00m\n\u001b[1;32m    857\u001b[0m tag, fields \u001b[38;5;241m=\u001b[39m \u001b[38;5;28mself\u001b[39m\u001b[38;5;241m.\u001b[39minbox\u001b[38;5;241m.\u001b[39mpop(\n\u001b[1;32m    858\u001b[0m     hydration_hooks\u001b[38;5;241m=\u001b[39m\u001b[38;5;28mself\u001b[39m\u001b[38;5;241m.\u001b[39mresponses[\u001b[38;5;241m0\u001b[39m]\u001b[38;5;241m.\u001b[39mhydration_hooks\n\u001b[1;32m    859\u001b[0m )\n\u001b[0;32m--> 860\u001b[0m res \u001b[38;5;241m=\u001b[39m \u001b[38;5;28;43mself\u001b[39;49m\u001b[38;5;241;43m.\u001b[39;49m\u001b[43m_process_message\u001b[49m\u001b[43m(\u001b[49m\u001b[43mtag\u001b[49m\u001b[43m,\u001b[49m\u001b[43m \u001b[49m\u001b[43mfields\u001b[49m\u001b[43m)\u001b[49m\n\u001b[1;32m    861\u001b[0m \u001b[38;5;28mself\u001b[39m\u001b[38;5;241m.\u001b[39midle_since \u001b[38;5;241m=\u001b[39m monotonic()\n\u001b[1;32m    862\u001b[0m \u001b[38;5;28;01mreturn\u001b[39;00m res\n",
      "File \u001b[0;32m/Library/Frameworks/Python.framework/Versions/3.11/lib/python3.11/site-packages/neo4j/_sync/io/_bolt5.py:370\u001b[0m, in \u001b[0;36mBolt5x0._process_message\u001b[0;34m(self, tag, fields)\u001b[0m\n\u001b[1;32m    368\u001b[0m \u001b[38;5;28mself\u001b[39m\u001b[38;5;241m.\u001b[39m_server_state_manager\u001b[38;5;241m.\u001b[39mstate \u001b[38;5;241m=\u001b[39m \u001b[38;5;28mself\u001b[39m\u001b[38;5;241m.\u001b[39mbolt_states\u001b[38;5;241m.\u001b[39mFAILED\n\u001b[1;32m    369\u001b[0m \u001b[38;5;28;01mtry\u001b[39;00m:\n\u001b[0;32m--> 370\u001b[0m     \u001b[43mresponse\u001b[49m\u001b[38;5;241;43m.\u001b[39;49m\u001b[43mon_failure\u001b[49m\u001b[43m(\u001b[49m\u001b[43msummary_metadata\u001b[49m\u001b[43m \u001b[49m\u001b[38;5;129;43;01mor\u001b[39;49;00m\u001b[43m \u001b[49m\u001b[43m{\u001b[49m\u001b[43m}\u001b[49m\u001b[43m)\u001b[49m\n\u001b[1;32m    371\u001b[0m \u001b[38;5;28;01mexcept\u001b[39;00m (ServiceUnavailable, DatabaseUnavailable):\n\u001b[1;32m    372\u001b[0m     \u001b[38;5;28;01mif\u001b[39;00m \u001b[38;5;28mself\u001b[39m\u001b[38;5;241m.\u001b[39mpool:\n",
      "File \u001b[0;32m/Library/Frameworks/Python.framework/Versions/3.11/lib/python3.11/site-packages/neo4j/_sync/io/_common.py:245\u001b[0m, in \u001b[0;36mResponse.on_failure\u001b[0;34m(self, metadata)\u001b[0m\n\u001b[1;32m    243\u001b[0m handler \u001b[38;5;241m=\u001b[39m \u001b[38;5;28mself\u001b[39m\u001b[38;5;241m.\u001b[39mhandlers\u001b[38;5;241m.\u001b[39mget(\u001b[38;5;124m\"\u001b[39m\u001b[38;5;124mon_summary\u001b[39m\u001b[38;5;124m\"\u001b[39m)\n\u001b[1;32m    244\u001b[0m Util\u001b[38;5;241m.\u001b[39mcallback(handler)\n\u001b[0;32m--> 245\u001b[0m \u001b[38;5;28;01mraise\u001b[39;00m Neo4jError\u001b[38;5;241m.\u001b[39mhydrate(\u001b[38;5;241m*\u001b[39m\u001b[38;5;241m*\u001b[39mmetadata)\n",
      "\u001b[0;31mConstraintError\u001b[0m: {code: Neo.ClientError.Schema.ConstraintValidationFailed} {message: New data does not satisfy Constraint( id=6, name='constraint_ec67c859', type='UNIQUENESS', schema=(:__Node__ {id}), ownedIndex=5 ): Node(48) already exists with label `Label[0]` and property `PropertyKey[0]` = '1b19777a-7277-4a49-be33-1e72679c58dc'}"
     ]
    }
   ],
   "source": [
    "index = PropertyGraphIndex.from_documents(\n",
    "    diabetes_medications,\n",
    "    kg_extractors=[relik],\n",
    "    llm=llama_llm,\n",
    "    embed_model=llama_openai_embed_model,\n",
    "    property_graph_store=graph_store,\n",
    "    show_progress=True,\n",
    ")"
   ]
  },
  {
   "cell_type": "code",
   "execution_count": null,
   "metadata": {},
   "outputs": [],
   "source": []
  }
 ],
 "metadata": {
  "kernelspec": {
   "display_name": "Python 3",
   "language": "python",
   "name": "python3"
  },
  "language_info": {
   "codemirror_mode": {
    "name": "ipython",
    "version": 3
   },
   "file_extension": ".py",
   "mimetype": "text/x-python",
   "name": "python",
   "nbconvert_exporter": "python",
   "pygments_lexer": "ipython3",
   "version": "3.11.5"
  }
 },
 "nbformat": 4,
 "nbformat_minor": 2
}
