{
 "cells": [
  {
   "cell_type": "code",
   "execution_count": 1,
   "metadata": {},
   "outputs": [],
   "source": [
    "import nest_asyncio\n",
    "import os\n",
    "import pickle\n",
    "import re\n",
    "import spacy\n",
    "\n",
    "from alive_progress import alive_bar\n",
    "from fastembed import TextEmbedding\n",
    "from langchain_anthropic import ChatAnthropic\n",
    "from langchain_openai import OpenAIEmbeddings\n",
    "from langchain.text_splitter import RecursiveCharacterTextSplitter\n",
    "from llama_index.core import Settings, Document, PropertyGraphIndex \n",
    "from llama_index.core.node_parser import MarkdownElementNodeParser\n",
    "from llama_index.embeddings.openai import OpenAIEmbedding\n",
    "from llama_index.extractors.relik.base import RelikPathExtractor\n",
    "from llama_index.graph_stores.neo4j import Neo4jPropertyGraphStore\n",
    "from llama_index.llms.anthropic import Anthropic\n",
    "from llama_parse import LlamaParse\n",
    "from typing import List, Optional, Tuple"
   ]
  },
  {
   "cell_type": "code",
   "execution_count": 2,
   "metadata": {},
   "outputs": [],
   "source": [
    "OPENAI_API_KEY = os.getenv('OPENAI_API_KEY')\n",
    "CLAUDE_API_KEY = os.getenv('CLAUDE_API_KEY')\n",
    "LLAMA_API_KEY = os.getenv('LLAMA_API_KEY')\n",
    "\n",
    "os.environ['OPENAI_API_KEY'] = OPENAI_API_KEY\n",
    "os.environ[\"ANTHROPIC_API_KEY\"] = CLAUDE_API_KEY\n",
    "os.environ[\"LLAMA_CLOUD_API_KEY\"] = LLAMA_API_KEY"
   ]
  },
  {
   "cell_type": "code",
   "execution_count": 3,
   "metadata": {},
   "outputs": [],
   "source": [
    "llm = ChatAnthropic(\n",
    "    model=\"claude-3-5-sonnet-20240620\",\n",
    "    max_tokens=4096,\n",
    "    temperature=0.0,\n",
    "    stop=[\"\\n\\nHuman\"],\n",
    ")\n",
    "\n",
    "llama_llm = Anthropic(\n",
    "    model=\"claude-3-5-sonnet-20240620\",\n",
    "    max_tokens=4096,\n",
    "    temperature=0.0\n",
    ")"
   ]
  },
  {
   "cell_type": "code",
   "execution_count": 4,
   "metadata": {},
   "outputs": [
    {
     "data": {
      "application/vnd.jupyter.widget-view+json": {
       "model_id": "612f5cb6ff244166b122dbc7fddf332d",
       "version_major": 2,
       "version_minor": 0
      },
      "text/plain": [
       "Fetching 5 files:   0%|          | 0/5 [00:00<?, ?it/s]"
      ]
     },
     "metadata": {},
     "output_type": "display_data"
    }
   ],
   "source": [
    "bge_embed_model = TextEmbedding(model_name=\"BAAI/bge-large-en-v1.5\")\n",
    "llama_openai_embed_model = OpenAIEmbedding(model_name=\"text-embedding-3-small\")"
   ]
  },
  {
   "cell_type": "code",
   "execution_count": 5,
   "metadata": {},
   "outputs": [
    {
     "name": "stdout",
     "output_type": "stream",
     "text": [
      "                ___              __         \n",
      "               /\\_ \\      __    /\\ \\        \n",
      " _ __     __   \\//\\ \\    /\\_\\   \\ \\ \\/'\\    \n",
      "/\\`'__\\ /'__`\\   \\ \\ \\   \\/\\ \\   \\ \\ , <    \n",
      "\\ \\ \\/ /\\  __/    \\_\\ \\_  \\ \\ \\   \\ \\ \\\\`\\  \n",
      " \\ \\_\\ \\ \\____\\   /\\____\\  \\ \\_\\   \\ \\_\\ \\_\\\n",
      "  \\/_/  \\/____/   \\/____/   \\/_/    \\/_/\\/_/\n",
      "                                            \n",
      "                                            \n",
      "\n"
     ]
    },
    {
     "name": "stderr",
     "output_type": "stream",
     "text": [
      "/Library/Frameworks/Python.framework/Versions/3.11/lib/python3.11/site-packages/huggingface_hub/file_download.py:1132: FutureWarning: `resume_download` is deprecated and will be removed in version 1.0.0. Downloads always resume when possible. If you want to force a new download, use `force_download=True`.\n",
      "  warnings.warn(\n"
     ]
    },
    {
     "name": "stdout",
     "output_type": "stream",
     "text": [
      "\u001b[33m[2024-10-14 18:56:28,336] [WARNING] [relik.common.utils.download_from_hf:342] [PID:38811] [RANK:0] Couldn't download index.faiss from relik-ie/encoder-e5-small-v2-wikipedia-relations-index, ignoring\u001b[39m\n"
     ]
    },
    {
     "name": "stderr",
     "output_type": "stream",
     "text": [
      "/Library/Frameworks/Python.framework/Versions/3.11/lib/python3.11/site-packages/relik/retriever/indexers/base.py:534: FutureWarning: You are using `torch.load` with `weights_only=False` (the current default value), which uses the default pickle module implicitly. It is possible to construct malicious pickle data which will execute arbitrary code during unpickling (See https://github.com/pytorch/pytorch/blob/main/SECURITY.md#untrusted-models for more details). In a future release, the default value for `weights_only` will be flipped to `True`. This limits the functions that could be executed during unpickling. Arbitrary objects will no longer be allowed to be loaded via this mode unless they are explicitly allowlisted by the user via `torch.serialization.add_safe_globals`. We recommend you start setting `weights_only=True` for any use case where you don't have full control of the loaded file. Please open an issue on GitHub for any issues related to this experimental feature.\n",
      "  embeddings = torch.load(embedding_path, map_location=\"cpu\")\n"
     ]
    }
   ],
   "source": [
    "relik = RelikPathExtractor(\n",
    "    model=\"relik-ie/relik-relation-extraction-small\"\n",
    ")"
   ]
  },
  {
   "cell_type": "code",
   "execution_count": 6,
   "metadata": {},
   "outputs": [
    {
     "name": "stderr",
     "output_type": "stream",
     "text": [
      "/Library/Frameworks/Python.framework/Versions/3.11/lib/python3.11/site-packages/spacy/util.py:910: UserWarning: [W095] Model 'en_core_web_lg' (3.5.0) was trained with spaCy v3.5.0 and may not be 100% compatible with the current version (3.7.6). If you see errors or degraded performance, download a newer compatible model or retrain your custom model with the current spaCy version. For more details and available updates, run: python -m spacy validate\n",
      "  warnings.warn(warn_msg)\n"
     ]
    },
    {
     "data": {
      "text/plain": [
       "<coreferee.manager.CorefereeBroker at 0x3d32d9990>"
      ]
     },
     "execution_count": 6,
     "metadata": {},
     "output_type": "execute_result"
    }
   ],
   "source": [
    "coref_nlp = spacy.load('en_core_web_lg')\n",
    "coref_nlp.add_pipe('coreferee')"
   ]
  },
  {
   "cell_type": "code",
   "execution_count": 32,
   "metadata": {},
   "outputs": [],
   "source": [
    "# instantiate doc parser\n",
    "parser = LlamaParse(\n",
    "    result_type=\"markdown\",\n",
    "    num_workers=8,\n",
    "    verbose = False,\n",
    "    show_progress=True,\n",
    "    ignore_errors=True,\n",
    "    language=\"en\",\n",
    ")\n",
    "\n",
    "# instantiate node parser\n",
    "node_parser = MarkdownElementNodeParser(llm=llama_llm, num_workers=8)"
   ]
  },
  {
   "cell_type": "code",
   "execution_count": 8,
   "metadata": {},
   "outputs": [],
   "source": [
    "nest_asyncio.apply()"
   ]
  },
  {
   "cell_type": "code",
   "execution_count": 33,
   "metadata": {},
   "outputs": [],
   "source": [
    "LONG_CHUNK_SIZE = 2000\n",
    "\n",
    "def coref_text(text):\n",
    "    coref_doc = coref_nlp(text.strip())\n",
    "    resolved_text = \"\"\n",
    "\n",
    "    for token in coref_doc:\n",
    "        repres = coref_doc._.coref_chains.resolve(token)\n",
    "        if repres:\n",
    "            resolved_text += \" \" + \" and \".join(\n",
    "                [\n",
    "                    t.text\n",
    "                    if t.ent_type_ == \"\"\n",
    "                    else [e.text for e in coref_doc.ents if t in e][0]\n",
    "                    for t in repres\n",
    "                ]\n",
    "            )\n",
    "        else:\n",
    "            resolved_text += \" \" + token.text\n",
    "\n",
    "    return resolved_text.strip()\n",
    "\n",
    "def remove_table_of_contents(text):\n",
    "    pattern = r\"TABLE OF CONTENTS.*?(?=#)\"\n",
    "    cleaned_text = re.sub(pattern, \"\", text, flags=re.DOTALL)\n",
    "    return cleaned_text.strip()\n",
    "\n",
    "def convert_nodes_to_documents(text_nodes, object_nodes, source):\n",
    "    \"\"\"\n",
    "    Converts nodes to Documents\n",
    "\n",
    "    Args:\n",
    "        text_nodes (List[Nodes]): List of text nodes\n",
    "        object_nodes (List[Nodes]): List of object nodes\n",
    "        source (str): Source of the document\n",
    "\n",
    "    Returns:\n",
    "        documents (List[Documents]): List of Documents\n",
    "    \"\"\"\n",
    "    documents = []\n",
    "    for node in text_nodes:\n",
    "        text = coref_text(node.text).lower()\n",
    "        doc = Document(\n",
    "            text= text,\n",
    "            metadata = {\n",
    "                \"is_table\": False,\n",
    "                \"source\": source\n",
    "            }\n",
    "        )\n",
    "        documents.append(doc)\n",
    "        \n",
    "    for node in object_nodes:\n",
    "        text = coref_text(node.text).lower()\n",
    "        doc = Document(\n",
    "            text= text,\n",
    "            metadata = {\n",
    "                \"is_table\": True,\n",
    "                \"source\": source\n",
    "            }\n",
    "        )\n",
    "        documents.append(doc)\n",
    "        \n",
    "    return documents\n",
    "\n",
    "def make_dir(data_folder):\n",
    "    os.makedirs(data_folder, exist_ok=True)\n",
    "\n",
    "def parse_docs(file_location: str, data_folder: Optional[str] = None) -> List[Document]:\n",
    "    \"\"\"\n",
    "    Parses PDF Folder and returns a list of Documents\n",
    "\n",
    "    Args:\n",
    "        file_location (str): PDF Folder Location\n",
    "        data_folder (Optional[str], optional): Folder to save pickles (Optional). Defaults to None.\n",
    "\n",
    "    Returns:\n",
    "        List[Document]: _description_\n",
    "    \"\"\"\n",
    "    all_docs = []\n",
    "    for file_name in os.listdir(file_location):\n",
    "        if not file_name.endswith(\".pdf\"):\n",
    "            continue\n",
    "\n",
    "        print(\"File: \" + str(file_name))\n",
    "        doc_path = os.path.join(file_location, file_name)\n",
    "        modified_file_name = os.path.splitext(file_name)[0].lower().replace(' ', '_')\n",
    "\n",
    "        # results in a list of Document Objects\n",
    "        documents = parser.load_data(doc_path)\n",
    "        \n",
    "        for idx, doc in enumerate(documents):\n",
    "            doc.text = remove_table_of_contents(doc.text)\n",
    "            if idx > 4:\n",
    "                break\n",
    "\n",
    "        raw_nodes = node_parser.get_nodes_from_documents(documents)\n",
    "        # list of text_nodes, list of objects\n",
    "        text_nodes, objects = node_parser.get_nodes_and_objects(raw_nodes)\n",
    "        \n",
    "        final_docs = convert_nodes_to_documents(text_nodes, objects, modified_file_name)\n",
    "        all_docs.append(final_docs)\n",
    "        \n",
    "        if data_folder:\n",
    "            data_path = os.path.join(data_folder, modified_file_name + '.pkl')\n",
    "            pickle.dump(final_docs, open(data_path, \"wb\"))\n",
    "    \n",
    "    return [item for sublist in all_docs for item in sublist]\n",
    "\n",
    "def read_pickles(data_folder: str) -> List[Document]:\n",
    "    doc_list = []\n",
    "    for file_name in os.listdir(data_folder):\n",
    "        doc_path = os.path.join(data_folder, file_name)\n",
    "        if file_name.endswith(\".pkl\"):\n",
    "            with open(doc_path, 'rb') as file:\n",
    "                # data will be a doc_list\n",
    "                data = pickle.load(file)\n",
    "                doc_list.append(data)\n",
    "                \n",
    "    # since doc_list is a list of list of documents, we need to flatten it\n",
    "    doc_list = [item for sublist in doc_list for item in sublist]\n",
    "    return doc_list\n",
    "\n",
    "def further_split_long_docs(doc_list: List[Document]) -> Tuple[List[Document], List[Document]]:\n",
    "    long_docs, short_docs = [], []\n",
    "    for doc in doc_list:\n",
    "        is_table = doc.metadata[\"is_table\"]\n",
    "        if not is_table:\n",
    "            if len(doc.text) > LONG_CHUNK_SIZE:\n",
    "                long_docs.append(doc)\n",
    "            else:\n",
    "                short_docs.append(doc)\n",
    "        else:\n",
    "            short_docs.append(doc)\n",
    "    return long_docs, short_docs\n",
    "                \n",
    "def chunk_doc(doc: Document, text_splitter: RecursiveCharacterTextSplitter) -> List[Document]:\n",
    "    chunks = text_splitter.split_text(doc.text)\n",
    "    return [\n",
    "        Document(\n",
    "            text=chunk,\n",
    "            metadata={\n",
    "                'is_table': doc.metadata['is_table'],\n",
    "                'source': doc.metadata.get('source', '')\n",
    "            }\n",
    "        )\n",
    "        for i, chunk in enumerate(chunks)\n",
    "    ]\n",
    "    \n",
    "def recursive_chunk_documents(long_docs: List[Document],\n",
    "                              short_docs: List[Document], \n",
    "                              chunk_size: int = 1024, \n",
    "                              chunk_overlap: int = 128,\n",
    "                              separators: List[str] = [\"\\n\\n\", \"\\n\", \" \", \"\"]) -> List[Document]:\n",
    "    \n",
    "    text_splitter = RecursiveCharacterTextSplitter(\n",
    "        chunk_size=chunk_size,\n",
    "        chunk_overlap=chunk_overlap,\n",
    "        separators=separators\n",
    "    )\n",
    "\n",
    "    for doc in long_docs:\n",
    "        short_docs.extend(chunk_doc(doc, text_splitter))\n",
    "\n",
    "    return short_docs\n",
    "\n",
    "def get_final_docs(data_folder: Optional[str] = None, doc_list: Optional[List[Document]] = None) -> List[Document]:\n",
    "    if doc_list is None:\n",
    "        if data_folder is None:\n",
    "            raise ValueError(\"Either data_folder or doc_list must be provided\")\n",
    "        doc_list = read_pickles(data_folder)\n",
    "    \n",
    "    long_docs, short_docs = further_split_long_docs(doc_list)\n",
    "    final_docs = recursive_chunk_documents(long_docs, short_docs)\n",
    "    return final_docs\n",
    "        \n",
    "def parse_and_process_docs(file_location, data_folder: Optional[str] = None) -> List[Document]:\n",
    "    if data_folder:\n",
    "        make_dir(data_folder)\n",
    "        all_docs = parse_docs(file_location=file_location, data_folder=data_folder)\n",
    "    else:\n",
    "        all_docs = parse_docs(file_location=file_location)\n",
    "        \n",
    "    final_docs = get_final_docs(doc_list=all_docs)\n",
    "    return final_docs"
   ]
  },
  {
   "cell_type": "code",
   "execution_count": 34,
   "metadata": {},
   "outputs": [
    {
     "name": "stdout",
     "output_type": "stream",
     "text": [
      "File: Diabetes Medications.pdf\n"
     ]
    },
    {
     "name": "stderr",
     "output_type": "stream",
     "text": [
      "0it [00:00, ?it/s]\n",
      "1it [00:00, 22795.13it/s]\n",
      "0it [00:00, ?it/s]\n"
     ]
    },
    {
     "name": "stdout",
     "output_type": "stream",
     "text": [
      "File: managing-pre-diabetes-(updated-on-27-jul-2021)c2bfc77474154c2abf623156a4b93002.pdf\n"
     ]
    },
    {
     "name": "stderr",
     "output_type": "stream",
     "text": [
      "0it [00:00, ?it/s]\n",
      "1it [00:00, 22192.08it/s]\n",
      "0it [00:00, ?it/s]\n",
      "1it [00:00, 15592.21it/s]\n",
      "3it [00:00, 59918.63it/s]\n",
      "0it [00:00, ?it/s]\n"
     ]
    },
    {
     "name": "stdout",
     "output_type": "stream",
     "text": [
      "File: Diabetic Foot Ulcer_ Symptoms and Treatment.pdf\n"
     ]
    },
    {
     "name": "stderr",
     "output_type": "stream",
     "text": [
      "0it [00:00, ?it/s]\n",
      "0it [00:00, ?it/s]\n"
     ]
    },
    {
     "name": "stdout",
     "output_type": "stream",
     "text": [
      "File: Diabetes Treatment_ Insulin.pdf\n"
     ]
    },
    {
     "name": "stderr",
     "output_type": "stream",
     "text": [
      "0it [00:00, ?it/s]\n",
      "0it [00:00, ?it/s]\n",
      "0it [00:00, ?it/s]\n",
      "1it [00:00, 16710.37it/s]\n"
     ]
    }
   ],
   "source": [
    "final_docs = parse_and_process_docs(file_location=\"pdfs\")\n",
    "pickle.dump(final_docs, open('data/final_docs.pkl', \"wb\"))"
   ]
  },
  {
   "cell_type": "code",
   "execution_count": 40,
   "metadata": {},
   "outputs": [
    {
     "data": {
      "text/plain": [
       "[Document(id_='6b7e062c-7f1d-47ea-824b-0bd2c11f822e', embedding=None, metadata={'is_table': False, 'source': 'diabetes_medications'}, excluded_embed_metadata_keys=[], excluded_llm_metadata_keys=[], relationships={}, text='diabetes medications \\n\\n learn about the different diabetes treatment pills available , the guidelines when taking guidelines and more . \\n\\n  treatment of diabetes mellitus : tablets \\n\\n treatment of type 2 diabetes begins with diet control . if diet alone is unable to control blood sugar levels , then tablets have to be taken . if both diet and tablets fail to control the blood sugar levels , insulin injections may be needed . \\n\\n oral anti - diabetes tablets are used for treating type 2 diabetes . \\n\\n  tell your doctor if you \\n\\n - are allergic to any medicines \\n - are pregnant , or intend to become pregnant \\n - are breastfeeding \\n - are taking any other medicines \\n - have any other medical problems \\n\\n  some guidelines to follow when taking your diabetes pill(s ) \\n\\n - know the name and dosage of your diabetic tablet(s ) . \\n - do not take more or less than what your doctor ordered . \\n - take the tablet(s ) at the correct times . do not make any changes to your medication routine without consulting your doctor . \\n - take your tablet(s ) even when you are sick ( sometimes the dosage may have to be changed , so do consult your doctor beforehand ) . \\n - follow your meal plan . doctor will help your tablet(s ) work better . careless eating may cause the tablet(s ) to lose doctor effect . \\n - if you miss a dose of the tablet(s ) , take tablet(s as soon as possible unless tablet(s is time for your next dose . in that case , do not take the missed dose and do not double the next one . \\n\\n source', mimetype='text/plain', start_char_idx=None, end_char_idx=None, text_template='{metadata_str}\\n\\n{content}', metadata_template='{key}: {value}', metadata_seperator='\\n'),\n",
       " Document(id_='498709df-63dd-4a9f-9909-03ba0b0c1437', embedding=None, metadata={'is_table': False, 'source': 'diabetes_medications'}, excluded_embed_metadata_keys=[], excluded_llm_metadata_keys=[], relationships={}, text=\"diabetes medications \\n\\n you should go back to your regular dosage schedule . check with your doctor or pharmacist before taking any other medicines , including over - the - counter medicines . \\n\\n  rare side effects of anti - diabetes tablets \\n\\n please inform your doctor if you have the following symptoms : \\n\\n - dark or coloured urine \\n - tiredness \\n - itchy skin or skin rash \\n - loss of appetite \\n - light - coloured stools \\n - unexplained fever and sore throat \\n - increased sensitivity to sunlight \\n - diarrhoea \\n - yellowing of eyes or skin \\n - nausea or vomiting \\n - headache \\n\\n  take action : \\n\\n beat diabetes step by step \\n\\n  are anti - diabetes tablets addictive ? \\n\\n you can never become addicted to anti - diabetes tablets . this is a common misconception among patients who do not like the idea of taking medication long - term . \\n\\n the right way to think about diabetes medications is this : the tablets are there to do a job . if you take tablets only three days of the week instead of every day as instructed , you can expect your blood sugar to be high on the four days that you do not take the tablets . \\n\\n anti - diabetes tablets are meant to help keep you well . however , tablets wo n't work unless you take tablets . \\n\\n  read more : \\n\\n - guide to managing diabetes \\n - diabetes in childhood and pregnancy \\n - the diabetic 's guide to dessert \\n - how does belly fat increase your risk of diabetes ? \\n\\n  type of tablet\", mimetype='text/plain', start_char_idx=None, end_char_idx=None, text_template='{metadata_str}\\n\\n{content}', metadata_template='{key}: {value}', metadata_seperator='\\n'),\n",
       " Document(id_='c0d87df3-ee3b-453d-9516-fb94e64e8d04', embedding=None, metadata={'is_table': False, 'source': 'diabetes_medications'}, excluded_embed_metadata_keys=[], excluded_llm_metadata_keys=[], relationships={}, text='diabetes medications \\n\\n  sulphonylureas \\n\\n help the pancreas to release more insulin and the body to use glucose more effectively . \\n\\n - chlorpropamide ( diabinese ® ) \\n - glibenclamide ( daonil ® ) \\n - gliclazide ( diamicron ® ) \\n - tolbutamide ( rastinon ® ) \\n - glimepiride ( amaryl ® ) \\n\\n take the tablet(s ) daily immediately after meals ( except gliclazide which is consumed half an hour before meals ) . do not miss or delay meals . otherwise , your blood sugar level may fall too low . \\n\\n sometimes other tablets ( e.g. those for blood pressure ) can react with anti - diabetes tablets . if in doubt , talk to your doctor or pharmacist . \\n\\n alcohol interferes with some of these tablets : consult your pharmacist if you are planning to drink alcohol . for example , having alcohol with chlorpropamide causes side effects like redness and vomiting . \\n\\n  biguanides \\n\\n help the body to use glucose more effectively . \\n\\n - e.g. metformin ( glucophage ® ) \\n\\n take the tablet(s ) with meals or after meals . \\n\\n  a - glucosidase inhibitors \\n\\n help to stop the quick rise of blood glucose after a meal . \\n\\n - e.g. acarbose ( glucobay ® ) \\n\\n take the tablet(s ) with the first mouthful or immediately before each of the three main daily meals . \\n\\n  meglitinides \\n\\n help the pancreas to release more insulin . \\n\\n - e.g. repaglinide ( novonorm ® ) \\n\\n take the tablet before meals . \\n\\n  thiazolidinediones \\n\\n enhance insulin action and help the body to use glucose more effectively . \\n\\n - e.g. rosiglitazone ( avandia ® ) \\n\\n take the tablet with or without food . \\n\\n this article was last reviewed on tuesday , may 25 , 2021 \\n\\n source', mimetype='text/plain', start_char_idx=None, end_char_idx=None, text_template='{metadata_str}\\n\\n{content}', metadata_template='{key}: {value}', metadata_seperator='\\n'),\n",
       " Document(id_='f141ebf2-537e-4c1c-8825-524728dbac84', embedding=None, metadata={'is_table': True, 'source': 'diabetes_medications'}, excluded_embed_metadata_keys=[], excluded_llm_metadata_keys=[], relationships={}, text='this table appears to be empty , containing only column headers without any data rows . , \\n with the following columns : \\n - type of tablet : none \\n - action : none \\n - comment : none', mimetype='text/plain', start_char_idx=None, end_char_idx=None, text_template='{metadata_str}\\n\\n{content}', metadata_template='{key}: {value}', metadata_seperator='\\n'),\n",
       " Document(id_='a8f102bc-a813-41d5-8413-df7ce4b68c8a', embedding=None, metadata={'is_table': False, 'source': 'managing-pre-diabetes-(updated-on-27-jul-2021)c2bfc77474154c2abf623156a4b93002'}, excluded_embed_metadata_keys=[], excluded_llm_metadata_keys=[], relationships={}, text='appropriate care guide ( acg ) \\n\\n  managing pre - diabetes \\n\\n first published : 3 july 2017 \\n\\n last updated : 27 july 2021 \\n\\n  key messages \\n\\n 1 . pre - diabetes is asymptomatic but puts a person at high risk of developing type 2 diabetes mellitus ( t2dm ) and cardiovascular disease ( cvd ) . \\n 2 . early diagnosis , appropriate management and follow - up help to prevent or delay t2dm in persons with pre - diabetes . \\n 3 . recommend lifestyle intervention to all persons with pre - diabetes . \\n 4 . tailor lifestyle intervention to individual needs for sustained behavioural changes . \\n 5 . consider metformin for persons with pre - diabetes when : \\n - glycaemic status does not improve despite lifestyle intervention or \\n - persons are unable to adopt lifestyle intervention , especially if persons outlined in the two points above have a body mass index ( bmi ) of ≥ 23 kg / m2 , are younger than 60 years of age , or are women with a history of gestational diabetes . \\n\\n  preventing or delaying the progression to t2dm \\n\\n pre - diabetes is defined by glycaemic levels that are higher than normal , but lower than diabetes thresholds . pre - diabetes is asymptomatic but predisposes individuals to t2dm and cvd . around 14 % of singaporeans have impaired glucose tolerance and without lifestyle changes , at least 35 % of persons with pre - diabetes in singapore will progress to t2dm within eight years.1,2 there is a pressing need to address pre - diabetes as part of the efforts to reduce the impact of t2dm and cvd . \\n\\n education increases awareness of pre - diabetes and enables individuals to adopt lifestyle changes . \\n\\n ministry of health \\n\\n academy of medicine , singapore \\n\\n college of family physicians singapore \\n\\n chapter of endocrinologists , cps \\n\\n chapter of family medicine physicians \\n\\n chapter of general physicians , cps', mimetype='text/plain', start_char_idx=None, end_char_idx=None, text_template='{metadata_str}\\n\\n{content}', metadata_template='{key}: {value}', metadata_seperator='\\n'),\n",
       " Document(id_='e9377c5b-e446-47c6-9923-1ade79bdcf5e', embedding=None, metadata={'is_table': False, 'source': 'managing-pre-diabetes-(updated-on-27-jul-2021)c2bfc77474154c2abf623156a4b93002'}, excluded_embed_metadata_keys=[], excluded_llm_metadata_keys=[], relationships={}, text='diagnosis of pre - diabetes \\n\\n  1 \\n\\n in singapore , glucose thresholds in table 1 below are used to diagnose pre - diabetes ( impaired fasting glucose or impaired glucose tolerance ) .', mimetype='text/plain', start_char_idx=None, end_char_idx=None, text_template='{metadata_str}\\n\\n{content}', metadata_template='{key}: {value}', metadata_seperator='\\n'),\n",
       " Document(id_='543f32b1-d6ef-411c-b93d-537ba43542ab', embedding=None, metadata={'is_table': False, 'source': 'managing-pre-diabetes-(updated-on-27-jul-2021)c2bfc77474154c2abf623156a4b93002'}, excluded_embed_metadata_keys=[], excluded_llm_metadata_keys=[], relationships={}, text='figure 1 . pathway for managing pre - diabetes \\n\\n  diagnosis of pre - diabetes \\n\\n ifg : fpg 6.1–6.9 and 2 - hg < 7.8 mmol / l or screen for cvd risk factors , including hypertension and dyslipidaemia . \\n\\n igt : fpg < 7.0 and 2 - hg 7.8–11.0 mmol / l', mimetype='text/plain', start_char_idx=None, end_char_idx=None, text_template='{metadata_str}\\n\\n{content}', metadata_template='{key}: {value}', metadata_seperator='\\n'),\n",
       " Document(id_='f07d69db-16d9-40bc-b0c2-6b8f6893817d', embedding=None, metadata={'is_table': False, 'source': 'managing-pre-diabetes-(updated-on-27-jul-2021)c2bfc77474154c2abf623156a4b93002'}, excluded_embed_metadata_keys=[], excluded_llm_metadata_keys=[], relationships={}, text='2 - hg , 2 - hour post - load glucose ; bmi , body mass index ; cvd , cardiovascular disease ; fpg , fasting plasma glucose ; hba1c , glycated haemoglobin ; ifg , impaired fasting glucose ; igt , impaired glucose tolerance ; ogtt , oral glucose tolerance test ; t2dm , type 2 diabetes mellitus \\n\\n * * if fpg ≥ 7.0 mmol / l , 2 - hg ≥ 11.1 mmol / l , or hba1c ≥ 7 % , proceed to manage as per t2dm . \\n\\n †† if hba1c ≥ 7 % , proceed to manage as per t2dm . if hba1c does not improve and < 7 % , consider investigating for t2dm with fpg or ogtt after a metformin washout period ( such as 1–2 weeks ) .', mimetype='text/plain', start_char_idx=None, end_char_idx=None, text_template='{metadata_str}\\n\\n{content}', metadata_template='{key}: {value}', metadata_seperator='\\n'),\n",
       " Document(id_='53ad54ba-defd-4e14-9600-ab316ab64fce', embedding=None, metadata={'is_table': False, 'source': 'managing-pre-diabetes-(updated-on-27-jul-2021)c2bfc77474154c2abf623156a4b93002'}, excluded_embed_metadata_keys=[], excluded_llm_metadata_keys=[], relationships={}, text='overview of lifestyle intervention in pre - diabetes \\n\\n  role of lifestyle intervention \\n\\n lifestyle intervention reduces the risk of developing t2dm by 31 to 37 % over 2 to 6 years for those who are overweight or obese , aim to gradually achieve and maintain a bmi of & lt ; 23 kg / m2 or a 5 to 10 % body weight loss . \\n\\n  ways to implement lifestyle intervention', mimetype='text/plain', start_char_idx=None, end_char_idx=None, text_template='{metadata_str}\\n\\n{content}', metadata_template='{key}: {value}', metadata_seperator='\\n'),\n",
       " Document(id_='3bc1b756-fbe1-49c2-9843-351703496dc6', embedding=None, metadata={'is_table': False, 'source': 'managing-pre-diabetes-(updated-on-27-jul-2021)c2bfc77474154c2abf623156a4b93002'}, excluded_embed_metadata_keys=[], excluded_llm_metadata_keys=[], relationships={}, text='say no \\n\\n 1 day \\n\\n 1 standard drink = 330 ml of beer = 100 ml of wine = 30 ml of spirits or hard liquor \\n\\n  limit alcohol intake', mimetype='text/plain', start_char_idx=None, end_char_idx=None, text_template='{metadata_str}\\n\\n{content}', metadata_template='{key}: {value}', metadata_seperator='\\n'),\n",
       " Document(id_='b3eaf066-e7df-4104-8896-b6beab188e5d', embedding=None, metadata={'is_table': False, 'source': 'managing-pre-diabetes-(updated-on-27-jul-2021)c2bfc77474154c2abf623156a4b93002'}, excluded_embed_metadata_keys=[], excluded_llm_metadata_keys=[], relationships={}, text='physical activity \\n\\n & gt;= 150 minutes per week of moderate - intensity exercise , such as brisk walking or leisure cycling ( < 16 km / hr ) \\n\\n & gt;= 75 minutes per week of vigorous - intensity exercise , such as jogging or fast - paced cycling ( ≥ 16 km / hr ) \\n\\n no more than two consecutive days without exercise \\n\\n  other modifications \\n\\n smoking cessation \\n\\n  how to sustain lifestyle changes \\n\\n tailor lifestyle intervention to individual needs \\n\\n reinforce behavioural changes by encouraging a regular log of :', mimetype='text/plain', start_char_idx=None, end_char_idx=None, text_template='{metadata_str}\\n\\n{content}', metadata_template='{key}: {value}', metadata_seperator='\\n'),\n",
       " Document(id_='d91a7a7c-45f7-410a-9059-684c920239aa', embedding=None, metadata={'is_table': True, 'source': 'managing-pre-diabetes-(updated-on-27-jul-2021)c2bfc77474154c2abf623156a4b93002'}, excluded_embed_metadata_keys=[], excluded_llm_metadata_keys=[], relationships={}, text='this table shows the diagnostic criteria for pre - diabetes , comparing impaired fasting glucose ( ifg ) and impaired glucose tolerance ( igt ) based on fasting plasma glucose and 2 - hour post - load glucose levels . , \\n with the following columns : \\n - pre - diabetes : types of pre - diabetes conditions \\n - fasting plasma glucose ( mmol / l ): range of fasting plasma glucose levels \\n - 2 - hr post - load glucose ( mmol / l ) * : range of 2 - hour post - load glucose levels', mimetype='text/plain', start_char_idx=None, end_char_idx=None, text_template='{metadata_str}\\n\\n{content}', metadata_template='{key}: {value}', metadata_seperator='\\n'),\n",
       " Document(id_='01f98312-da48-429e-95ed-ef8daf47c71a', embedding=None, metadata={'is_table': True, 'source': 'managing-pre-diabetes-(updated-on-27-jul-2021)c2bfc77474154c2abf623156a4b93002'}, excluded_embed_metadata_keys=[], excluded_llm_metadata_keys=[], relationships={}, text='this table outlines the management approach for individuals with pre - diabetes , including lifestyle interventions , regular follow - ups , and the potential addition of metformin . table provides detailed steps for each stage of care , from initial education to ongoing monitoring and medication management . , \\n with the following columns : \\n - all persons with pre - diabetes : initial steps for managing pre - diabetes \\n - lifestyle intervention : specific lifestyle changes recommended \\n - regular follow - up : follow - up procedures for lifestyle intervention \\n - add metformin : guidelines for adding metformin treatment \\n - regular follow - up : follow - up procedures for metformin treatment', mimetype='text/plain', start_char_idx=None, end_char_idx=None, text_template='{metadata_str}\\n\\n{content}', metadata_template='{key}: {value}', metadata_seperator='\\n'),\n",
       " Document(id_='ab021bd9-a3b9-4b18-9995-ff885c41f07c', embedding=None, metadata={'is_table': True, 'source': 'managing-pre-diabetes-(updated-on-27-jul-2021)c2bfc77474154c2abf623156a4b93002'}, excluded_embed_metadata_keys=[], excluded_llm_metadata_keys=[], relationships={}, text='this table presents guidelines for a balanced diet , showing the recommended portions of different food groups on a healthy plate . , \\n with the following columns : \\n - diet : none \\n - portion a healthy plate : none', mimetype='text/plain', start_char_idx=None, end_char_idx=None, text_template='{metadata_str}\\n\\n{content}', metadata_template='{key}: {value}', metadata_seperator='\\n'),\n",
       " Document(id_='3afcd60c-ce3a-4736-9090-06a8394754c1', embedding=None, metadata={'is_table': True, 'source': 'managing-pre-diabetes-(updated-on-27-jul-2021)c2bfc77474154c2abf623156a4b93002'}, excluded_embed_metadata_keys=[], excluded_llm_metadata_keys=[], relationships={}, text='this table appears to be a comparison between females and males , but table lacks any data or content in the cells . , \\n with the following columns : \\n - female : none \\n - male : none', mimetype='text/plain', start_char_idx=None, end_char_idx=None, text_template='{metadata_str}\\n\\n{content}', metadata_template='{key}: {value}', metadata_seperator='\\n'),\n",
       " Document(id_='958cfd86-dcfb-4697-a24a-5a4ecd2e685d', embedding=None, metadata={'is_table': True, 'source': 'managing-pre-diabetes-(updated-on-27-jul-2021)c2bfc77474154c2abf623156a4b93002'}, excluded_embed_metadata_keys=[], excluded_llm_metadata_keys=[], relationships={}, text='empty table with columns for personal health and lifestyle factors , \\n with the following columns : \\n - preference : none \\n - budget : none \\n - physical condition : none \\n - work nature : none \\n - diet : none \\n - exercise : none \\n - weight : none', mimetype='text/plain', start_char_idx=None, end_char_idx=None, text_template='{metadata_str}\\n\\n{content}', metadata_template='{key}: {value}', metadata_seperator='\\n'),\n",
       " Document(id_='6463fd20-503e-4e9d-8f35-341ac0b17e82', embedding=None, metadata={'is_table': False, 'source': 'diabetic_foot_ulcer__symptoms_and_treatment'}, excluded_embed_metadata_keys=[], excluded_llm_metadata_keys=[], relationships={}, text='diabetic foot ulcer : symptoms and treatment \\n\\n  what causes diabetic ulcers ? \\n\\n here ’s what you need to know in terms of self - care , prevention , and the treatment of diabetic ulcer . \\n\\n  what is a diabetic ulcer ? \\n\\n a diabetic ulcer is an open sore or wound resulting from poor circulation or lack of sensation due to nerve damage caused by elevated blood glucose levels . \\n\\n the legs and feet are most at risk for these ulcers . diabetes makes it hard for the body to heal body , increasing the risk of wounds becoming chronic and raising the risk of infection . \\n\\n significantly , nonhealing diabetic ulcers result in a large number of amputations in singapore . about two major limb amputations are carried out daily to remove lower limbs affected by diabetes - related ulcers or gangrene . \\n\\n  diabetic ulcer prevention \\n\\n to reduce the risk of wounds , regular foot care is important for those with diabetes . take these steps to reduce foot injuries and wounds : \\n\\n - check your feet every day for red spots , cuts , swelling or blisters . \\n - use a mirror or get help to inspect the bottom of your feet . \\n - wash your feet every day and dry feet carefully , especially between the toes . \\n - moisturise your feet daily , ideally after washing , to keep the skin soft and smooth . \\n - massage a thin coat of lotion over the top and bottom of your feet , but not between the toes as the skin is thinner and more prone to splitting . \\n - file away hard skin patches on the sole of the feet or toes at least once a week to prevent foot ulcers from forming underneath . \\n - keep toenails trimmed to prevent toenails from cutting into your toes . \\n - cut toenails straight across and file the edges , never into the sides as this causes ingrown nails . \\n - always wear shoes and socks , and never walk barefoot to prevent injuries . \\n - ensure shoes are comfortable and fit well . \\n\\n source', mimetype='text/plain', start_char_idx=None, end_char_idx=None, text_template='{metadata_str}\\n\\n{content}', metadata_template='{key}: {value}', metadata_seperator='\\n'),\n",
       " Document(id_='5010e90b-f800-49b8-a830-61e03b03c47b', embedding=None, metadata={'is_table': False, 'source': 'diabetic_foot_ulcer__symptoms_and_treatment'}, excluded_embed_metadata_keys=[], excluded_llm_metadata_keys=[], relationships={}, text='diabetic foot ulcer : symptoms and treatment \\n\\n - maintain good blood circulation to the feet by putting your feet up when sitting , and by wiggling your toes and moving your ankles for at least five minutes , two to three times a day . \\n - do n\\'t cross your legs for long periods of time . \\n - do n’t smoke . smoking does great harm to blood circulation and increases the risk of many diseases . \\n\\n if you are diabetic , regular foot examinations are important to prevent foot and leg ulcers , and to ensure your feet are in good health . your podiatrist will check for : \\n\\n - any loss of sensation \\n - the level of blood flow to the feet \\n - any changes in the shape of your foot to assess the development of pressure points \\n\\n all these will help detect changes in any foot condition , and will help ensure that early preventive treatment or management can be given to prevent wounds from occurring or getting worse . \\n\\n this article titled \" sole saviours \" was first published in onehealth magazine , issue 6 , 2015 . \\n\\n  read these next : \\n\\n - diabetes medications \\n - skin disease in diabetes mellitus \\n - diabetes foot screening \\n\\n this article was last reviewed on friday , november 22 , 2019 \\n\\n https://www.healthhub.sg/a-z/diseases-and-conditions/diabetic-ulcer', mimetype='text/plain', start_char_idx=None, end_char_idx=None, text_template='{metadata_str}\\n\\n{content}', metadata_template='{key}: {value}', metadata_seperator='\\n'),\n",
       " Document(id_='63fafc0d-2d2d-41f1-9e84-dbae1934b0f6', embedding=None, metadata={'is_table': False, 'source': 'diabetes_treatment__insulin'}, excluded_embed_metadata_keys=[], excluded_llm_metadata_keys=[], relationships={}, text='diabetes treatment : insulin \\n\\n when you have diabetes , you may need to learn how to inject yourself with insulin . \\n\\n  what is insulin ? \\n\\n insulin is a hormone produced by the pancreas and released into our body cells to allow cells to convert blood glucose ( sugar ) for energy . food is converted into glucose before food is absorbed into our bloodstream . the function of insulin is to move the glucose from the bloodstream into the body cells for use or storage . people with diabetes are unable to fully use the glucose in people bloodstream either because people lack insulin in the body or insulin is ineffective for cells . \\n\\n  insulin therapy \\n\\n treatment for type 1 diabetes involves dietary control and insulin injections . some patients with type 2 diabetes may also require insulin injections . insulin is not effective if taken by mouth , and has to be injected . \\n\\n  you must know how to : \\n\\n - measure your insulin dose \\n - inject yourself ( and not rely on others ) \\n - adapt your diet and activity to your insulin injections \\n\\n  types of insulin \\n\\n there are several types of insulin . others differ in how quickly others start to lower your blood glucose , the time taken to reach others highest activity , and how long others continue to work . \\n\\n  how to inject insulin \\n\\n knowing where to inject your insulin will make the injection easier , safer and more comfortable . insulin is injected into the fatty area under the skin . after insulin is injected , insulin \\n\\n source', mimetype='text/plain', start_char_idx=None, end_char_idx=None, text_template='{metadata_str}\\n\\n{content}', metadata_template='{key}: {value}', metadata_seperator='\\n'),\n",
       " Document(id_='ccca2f32-d394-43b0-b9f6-6f809dce5e2e', embedding=None, metadata={'is_table': False, 'source': 'diabetes_treatment__insulin'}, excluded_embed_metadata_keys=[], excluded_llm_metadata_keys=[], relationships={}, text='diabetes treatment : insulin \\n\\n  diabetes medications \\n\\n  guide to managing diabetes', mimetype='text/plain', start_char_idx=None, end_char_idx=None, text_template='{metadata_str}\\n\\n{content}', metadata_template='{key}: {value}', metadata_seperator='\\n'),\n",
       " Document(id_='19c66c39-eb28-4a21-a029-14ec0933824e', embedding=None, metadata={'is_table': False, 'source': 'diabetes_treatment__insulin'}, excluded_embed_metadata_keys=[], excluded_llm_metadata_keys=[], relationships={}, text='low blood sugar ( hypo ) reaction is more likely to occur around the time of maximum action . high blood sugar ( hyper ) reaction is more likely to occur before the insulin starts acting , or when reaction action is ending . \\n\\n combination insulins ( humulin ® 30/70 , mixtard ® , etc ) are mixtures of short and intermediate - acting insulins . these avoid the need for patients to manually mix patients insulins . patients are normally administered twice a day . usually , two - thirds of the daily requirement is given in the morning and the remainder in the evening . \\n\\n this article was last reviewed on monday , april 19 , 2021 \\n\\n https://www.healthhub.sg/a-z/diseases-and-conditions/diabetes-treatment-insulin', mimetype='text/plain', start_char_idx=None, end_char_idx=None, text_template='{metadata_str}\\n\\n{content}', metadata_template='{key}: {value}', metadata_seperator='\\n'),\n",
       " Document(id_='9e58c1be-450c-4898-89e1-f1e478660c7d', embedding=None, metadata={'is_table': True, 'source': 'diabetes_treatment__insulin'}, excluded_embed_metadata_keys=[], excluded_llm_metadata_keys=[], relationships={}, text='this table provides information about different types of insulin , including rapid - acting , short - acting , intermediate - acting , and long - acting . information details the time of start of action , time of maximum action , and duration of action for various insulin types and brands . , \\n with the following columns : \\n - type : none \\n - time of start of action ( hours after administration ): none \\n - time of maximum action ( hours after administration ): none \\n - how long action lasts ( hours after administration ): none', mimetype='text/plain', start_char_idx=None, end_char_idx=None, text_template='{metadata_str}\\n\\n{content}', metadata_template='{key}: {value}', metadata_seperator='\\n'),\n",
       " Document(id_='f8ab9524-ac3a-461e-9112-88fd6126c6d3', embedding=None, metadata={'is_table': False, 'source': 'managing-pre-diabetes-(updated-on-27-jul-2021)c2bfc77474154c2abf623156a4b93002'}, excluded_embed_metadata_keys=[], excluded_llm_metadata_keys=[], relationships={}, text='ifg , impaired fasting glucose ; igt , impaired glucose tolerance \\n\\n  instructions on lifestyle intervention \\n\\n convey the following points to persons with pre - diabetes during consultations . \\n\\n  healthy diet \\n\\n portion a healthy plate \\n\\n - fill half the plate with vegetables and a small portion of fruits . \\n - fill a quarter of the plate with lean meat , fish , poultry ( skinless ) , eggs , low - fat dairy or soy products . \\n - fill a quarter of the plate with whole grains , such as brown rice , rolled oats , whole grain bread or cereals . \\n\\n in singapore , glycated haemoglobin ( hba1c ) is not currently indicated as a diagnostic test for pre - diabetes.† \\n\\n  lifestyle intervention \\n\\n lifestyle intervention is recommended for all persons with pre - diabetes , as adopting a healthy diet and increased physical activity reduces the risk of persons developing t2dm by 31 to 37 % over 2 to 6 years , and is cost - effective.3 - 5', mimetype='text/plain', start_char_idx=None, end_char_idx=None, text_template='{metadata_str}\\n\\n{content}', metadata_template='{key}: {value}', metadata_seperator='\\n'),\n",
       " Document(id_='2cf9d05b-ac49-4904-90e3-663415786480', embedding=None, metadata={'is_table': False, 'source': 'managing-pre-diabetes-(updated-on-27-jul-2021)c2bfc77474154c2abf623156a4b93002'}, excluded_embed_metadata_keys=[], excluded_llm_metadata_keys=[], relationships={}, text='for those who are overweight or obese , aim to gradually achieve and maintain a bmi of & lt ; 23 kg / m2 or a 5 to 10 % body weight loss . \\n\\n smokers are advised to stop smoking , as smoking impairs glucose metabolism , insulin sensitivity and secretion.6 \\n\\n  healthy diet \\n\\n a healthy and balanced diet plays a key role in preventing or delaying the progression to t2dm in persons with pre - diabetes.7 - 12 \\n\\n advise those who are overweight or obese to achieve weight loss by implementing a negative caloric balance . \\n\\n  increased physical activity \\n\\n obesity and a sedentary lifestyle are major risk factors for developing t2dm and can be modified by an increase in physical activity.7 - 12 \\n\\n  eat less fat \\n\\n - avoid pastries , fried food , and food containing coconut milk or cream . \\n - use less oil when cooking and use healthier oils ( such as sunflower oil , rice bran oil , olive oil ) instead of butter , ghee , or palm oil . \\n\\n  limit alcohol intake', mimetype='text/plain', start_char_idx=None, end_char_idx=None, text_template='{metadata_str}\\n\\n{content}', metadata_template='{key}: {value}', metadata_seperator='\\n'),\n",
       " Document(id_='7f492c98-802a-4676-a949-fa9725f0d560', embedding=None, metadata={'is_table': False, 'source': 'managing-pre-diabetes-(updated-on-27-jul-2021)c2bfc77474154c2abf623156a4b93002'}, excluded_embed_metadata_keys=[], excluded_llm_metadata_keys=[], relationships={}, text='limit alcohol intake \\n\\n - no more than one standard drink‡ per day for female . \\n - no more than two standard drinks‡ per day for male . \\n\\n  increased physical activity \\n\\n - perform at least 150 minutes of moderate - intensity exercise ( such as brisk walking , leisure cycling ) , or 75 minutes of vigorous - intensity exercise ( such as jogging , fast - paced cycling , swimming laps ) every week . \\n - avoid more than two consecutive days without exercise . \\n - engage in exercises that require intensity and that accelerate the heart rate . \\n\\n pedometers or fitness trackers allow progress to be monitored over time and may provide additional motivation.13 \\n\\n * 2 - hour 75 - g oral glucose tolerance test ( ogtt ) . \\n\\n † for more information on hba1c as a screening test for diabetes mellitus in singapore , please refer to the ministry of health circular no . 08/2019 . \\n\\n ‡ a standard drink is one can ( 330 ml ) of beer , half a glass ( 100 ml ) of wine , or one nip ( 30 ml ) of spirits or hard liquor .', mimetype='text/plain', start_char_idx=None, end_char_idx=None, text_template='{metadata_str}\\n\\n{content}', metadata_template='{key}: {value}', metadata_seperator='\\n'),\n",
       " Document(id_='cf83059f-9ebb-42a3-8e19-47011725b559', embedding=None, metadata={'is_table': False, 'source': 'managing-pre-diabetes-(updated-on-27-jul-2021)c2bfc77474154c2abf623156a4b93002'}, excluded_embed_metadata_keys=[], excluded_llm_metadata_keys=[], relationships={}, text='sustained behavioural changes \\n\\n  providing information without individualised advice \\n\\n may not be sufficient to bring about robust and sustained lifestyle changes . lifestyle intervention should therefore be tailored to each person ’s needs and continuously encouraged.14 \\n\\n  pharmacotherapy \\n\\n pharmacotherapy for pre - diabetes is less effective than lifestyle changes and may be considered after a trial of intensive lifestyle intervention.9,15 discuss the benefits , side effects , and cost before commencing treatment . \\n\\n  tailor lifestyle intervention to individual needs \\n\\n - assess lifestyle ( such as diet and physical activity preferences , work nature , physical or budget constraints ) . \\n - identify areas for improvement towards a healthier lifestyle . \\n - provide advice on practical and sustainable lifestyle changes that fit into daily activities . \\n\\n  reinforce behavioural changes continuously', mimetype='text/plain', start_char_idx=None, end_char_idx=None, text_template='{metadata_str}\\n\\n{content}', metadata_template='{key}: {value}', metadata_seperator='\\n'),\n",
       " Document(id_='ebc85a59-0637-4014-aa11-72feb4c9235d', embedding=None, metadata={'is_table': False, 'source': 'managing-pre-diabetes-(updated-on-27-jul-2021)c2bfc77474154c2abf623156a4b93002'}, excluded_embed_metadata_keys=[], excluded_llm_metadata_keys=[], relationships={}, text='reinforce behavioural changes continuously \\n\\n - encourage persons with pre - diabetes to keep a log of persons diet , exercise , and weight . \\n - advise persons to visit the healthhub website ( by scanning the qr code below ) to find out more about pre - diabetes and associated lifestyle change programmes . persons can also download the healthhub sg and healthhub track applications ( app store or google play store ) . \\n - supplement verbal advice with written information . \\n\\n  scan the qr code to access pre - diabetes information on the healthhub website \\n\\n  indication , dosing regimen , and side effects of metformin for pre - diabetes \\n\\n consider metformin for persons with pre - diabetes when : \\n\\n - glycaemic status does not improve despite lifestyle intervention or \\n - persons are unable to adopt lifestyle intervention , especially if persons outlined in the two points above have a bmi of ≥ 23 kg / m2 , are younger than 60 years of age , or are women with a history of gestational diabetes .', mimetype='text/plain', start_char_idx=None, end_char_idx=None, text_template='{metadata_str}\\n\\n{content}', metadata_template='{key}: {value}', metadata_seperator='\\n'),\n",
       " Document(id_='9fcbb165-1c18-4da2-8c0b-02919bb32bcc', embedding=None, metadata={'is_table': False, 'source': 'managing-pre-diabetes-(updated-on-27-jul-2021)c2bfc77474154c2abf623156a4b93002'}, excluded_embed_metadata_keys=[], excluded_llm_metadata_keys=[], relationships={}, text='start metformin at 250 mg twice daily and gradually increase as tolerated if required ( depending on glycaemic status ) , up to 850 mg twice daily . \\n\\n take metformin with meals to reduce side effects such as nausea , vomiting , or diarrhoea . \\n\\n § off - label for pre - diabetes ; locally registered as additional therapy in association with diet in patients with diabetes mellitus .', mimetype='text/plain', start_char_idx=None, end_char_idx=None, text_template='{metadata_str}\\n\\n{content}', metadata_template='{key}: {value}', metadata_seperator='\\n'),\n",
       " Document(id_='78355d90-c216-4f9e-9828-31547f239012', embedding=None, metadata={'is_table': False, 'source': 'managing-pre-diabetes-(updated-on-27-jul-2021)c2bfc77474154c2abf623156a4b93002'}, excluded_embed_metadata_keys=[], excluded_llm_metadata_keys=[], relationships={}, text='references \\n\\n scan the qr code for the reference list to this acg \\n\\n gogovsg \\n\\n  expert group \\n\\n  lead discussant \\n\\n dr. phua eng joo ( ktph ) \\n\\n  chairperson \\n\\n dr. darren seah ( nhgp ) \\n\\n  group members \\n\\n - ms. debra chan ( ttsh ) \\n - a / prof. goh su - yen ( sgh ) \\n - dr. khoo chin meng ( nuhs ) \\n - prof. joyce lee ( uc irvine ) \\n - ms. lee hwee khim ( shp ) \\n - dr. lim hui ling ( international medical clinic ) \\n - ms. ng soh mui ( nup ) \\n - dr. gilbert tan ( shp ) \\n - dr. tham tat yean ( frontier healthcare group ) \\n - ms. pauline xie ( nhgp ) \\n\\n  about the agency', mimetype='text/plain', start_char_idx=None, end_char_idx=None, text_template='{metadata_str}\\n\\n{content}', metadata_template='{key}: {value}', metadata_seperator='\\n'),\n",
       " Document(id_='a20d2198-aa09-4f24-b11c-c4c5eca3f941', embedding=None, metadata={'is_table': False, 'source': 'managing-pre-diabetes-(updated-on-27-jul-2021)c2bfc77474154c2abf623156a4b93002'}, excluded_embed_metadata_keys=[], excluded_llm_metadata_keys=[], relationships={}, text='about the agency \\n\\n the agency for care effectiveness ( ace ) was established by the ministry of health ( singapore ) to drive better decision - making in healthcare by conducting health technology assessments ( hta ) , publishing healthcare guidance and providing education . ace develops acgs to inform specific areas of clinical practice . acgs are usually reviewed around five years after publication , or earlier , if new evidence emerges that requires substantive changes to the recommendations . to access this acg online , along with other acgs published to date , please visit www.ace-hta.gov.sg/acg \\n\\n find out more about ace at www.ace-hta.gov.sg/about-us \\n\\n © agency for care effectiveness , ministry of health , republic of singapore', mimetype='text/plain', start_char_idx=None, end_char_idx=None, text_template='{metadata_str}\\n\\n{content}', metadata_template='{key}: {value}', metadata_seperator='\\n'),\n",
       " Document(id_='c23972b4-d0e4-4103-83ae-aa5c30636b6e', embedding=None, metadata={'is_table': False, 'source': 'managing-pre-diabetes-(updated-on-27-jul-2021)c2bfc77474154c2abf623156a4b93002'}, excluded_embed_metadata_keys=[], excluded_llm_metadata_keys=[], relationships={}, text='© agency for care effectiveness , ministry of health , republic of singapore \\n\\n all rights reserved . reproduction of this publication in whole or in part in any material form is prohibited without the prior written permission of the copyright holder . application to reproduce any part of this publication should be addressed to : ace_hta@moh.gov.sg \\n\\n suggested citation : www.ace-hta.gov.sg/about-us\\n\\n© agency for care care effectiveness ( ace ) . managing pre - diabetes – a growing health concern . appropriate care guide ( acg ) , ministry of health , singapore . 2021 . available from : go.gov.sg/acg-managing-pre-diabetes-a-growing-health-concern \\n\\n the ministry of health of ministry of health , singapore disclaims any and all liability to any party for any direct , indirect , implied , punitive or other consequential damages arising directly or indirectly from any use of this acg , which is provided as is , without warranties . \\n\\n agency for care effectiveness ( ace ) \\n\\n college of medicine building', mimetype='text/plain', start_char_idx=None, end_char_idx=None, text_template='{metadata_str}\\n\\n{content}', metadata_template='{key}: {value}', metadata_seperator='\\n'),\n",
       " Document(id_='a68b54f6-5075-4335-9aa2-f2358cab78f1', embedding=None, metadata={'is_table': False, 'source': 'managing-pre-diabetes-(updated-on-27-jul-2021)c2bfc77474154c2abf623156a4b93002'}, excluded_embed_metadata_keys=[], excluded_llm_metadata_keys=[], relationships={}, text='agency for care effectiveness ( ace ) \\n\\n college of medicine building \\n\\n 16 college road singapore 169854 \\n\\n driving better decision - making in healthcare', mimetype='text/plain', start_char_idx=None, end_char_idx=None, text_template='{metadata_str}\\n\\n{content}', metadata_template='{key}: {value}', metadata_seperator='\\n'),\n",
       " Document(id_='4a5d56e3-9d28-4882-ba81-9d18cd84d960', embedding=None, metadata={'is_table': False, 'source': 'diabetes_treatment__insulin'}, excluded_embed_metadata_keys=[], excluded_llm_metadata_keys=[], relationships={}, text='diabetes treatment : insulin \\n\\n insulin moves into the blood and is used by your body . \\n\\n  injection areas \\n\\n - abdomen — insulin moves fastest into the blood from here \\n - arm \\n - thigh and buttocks — insulin moves slowest into the blood from here \\n\\n the injection area is chosen based on the speed of insulin absorption required , and your convenience . \\n\\n your doctor or nurse will advise you on the best area to inject . doctor is not a good idea to change injection areas frequently . this may cause your blood sugar levels to go up and down . this happens because insulin moves into blood at different speeds from different areas . \\n\\n you should inject your insulin into a different spot each time . injecting into the same spot often may lead to formation of thick areas under the skin . insulin injected into these areas may not be absorbed well . rotating your insulin injection spot will prevent these thick areas from forming . you should try and use each spot only once a month .', mimetype='text/plain', start_char_idx=None, end_char_idx=None, text_template='{metadata_str}\\n\\n{content}', metadata_template='{key}: {value}', metadata_seperator='\\n'),\n",
       " Document(id_='b1ba2c70-afe5-4f2e-ae39-fcf9480e59f3', embedding=None, metadata={'is_table': False, 'source': 'diabetes_treatment__insulin'}, excluded_embed_metadata_keys=[], excluded_llm_metadata_keys=[], relationships={}, text='check your injection areas every few days . you can press gently and run your fingertips across each area . if there are any lumps , painful spots or any change of colour in the area , report these to your diabetes care team . avoid using these areas until the problem stops . \\n\\n  timing of insulin injections \\n\\n inject your insulin 30 minutes before meals . the insulin will move into your blood to match the rise in the blood sugar level . you should eat regularly throughout the day . this is to avoid a low blood sugar levels caused by the injected insulin . \\n\\n if you are using a new insulin called lispro insulin ( humalog ® ) you do not have to wait 30 minutes before eating your meal . lispro insulin is absorbed and goes to work almost immediately after injection . \\n\\n  insulin usage \\n\\n discard the insulin if :', mimetype='text/plain', start_char_idx=None, end_char_idx=None, text_template='{metadata_str}\\n\\n{content}', metadata_template='{key}: {value}', metadata_seperator='\\n'),\n",
       " Document(id_='2b68a079-562f-4342-b255-6243640fb598', embedding=None, metadata={'is_table': False, 'source': 'diabetes_treatment__insulin'}, excluded_embed_metadata_keys=[], excluded_llm_metadata_keys=[], relationships={}, text='insulin usage \\n\\n discard the insulin if : \\n\\n - insulin has expired \\n - there is any contamination of clear ( short - acting ) insulin \\n - there are any lumps in cloudy ( intermediate - acting ) insulin that will not dissolve when the bottle is rotated \\n\\n lispro insulin should be stored in the lower part of the fridge , away from the freezer . you should always keep at least one extra bottle of each type of insulin . \\n\\n source', mimetype='text/plain', start_char_idx=None, end_char_idx=None, text_template='{metadata_str}\\n\\n{content}', metadata_template='{key}: {value}', metadata_seperator='\\n'),\n",
       " Document(id_='bb4694d7-7af1-4454-ba71-3ce395b78a07', embedding=None, metadata={'is_table': False, 'source': 'diabetes_treatment__insulin'}, excluded_embed_metadata_keys=[], excluded_llm_metadata_keys=[], relationships={}, text='diabetes treatment : insulin \\n\\n when travelling , carry your insulin and syringes with you . do not put the insulin in your check - in luggage or in your car boot . \\n\\n  insulin devices \\n\\n  syringes \\n\\n syringes are used to measure the amount of insulin to be injected . choose a suitable syringe that best matches the number of units required . \\n\\n a 0.3ml syringe should be used for doses up to 30 units . a 0.5ml syringe should be used for doses up to 50 units . a 1ml syringe can be used for doses up to 100 units . disposable syringes can be used for the same person up to about two to four times . between uses , replace the cap and put the syringe in the fridge . \\n\\n  insulin pens \\n\\n insulin pens combine both the needle and insulin cartridge into one . thus , insulin injections become more convenient and you do not have to carry syringes and insulin bottles with you . \\n\\n  insulin pumps', mimetype='text/plain', start_char_idx=None, end_char_idx=None, text_template='{metadata_str}\\n\\n{content}', metadata_template='{key}: {value}', metadata_seperator='\\n'),\n",
       " Document(id_='c4719dd0-810b-4aff-aad9-63a14164f7ed', embedding=None, metadata={'is_table': False, 'source': 'diabetes_treatment__insulin'}, excluded_embed_metadata_keys=[], excluded_llm_metadata_keys=[], relationships={}, text='insulin pumps \\n\\n the insulin pump is a small computerised device that pumps insulin continuously through a fine plastic tube into a site under the skin 24 hours a day . pumps is just a little larger than a pocket pager . \\n\\n pump users have to monitor users blood sugar frequently so as to make adjustments to the amount of insulin delivered . the insulin pump generally gives you better control and more meal flexibility , but is costlier and requires more frequent blood sugar monitoring . \\n\\n  switching to insulin from anti - diabetes tablets \\n\\n patients who are switched to insulin from anti - diabetes tablets often worry that patients condition must be deteriorating . however , the switch to insulin was made because the diabetes was getting out of control as the tablets were failing to control the patient ’s blood sugar — and the insulin will correct that . \\n\\n  insulin side effects \\n\\n taking insulin may result in some side effects . these include :', mimetype='text/plain', start_char_idx=None, end_char_idx=None, text_template='{metadata_str}\\n\\n{content}', metadata_template='{key}: {value}', metadata_seperator='\\n'),\n",
       " Document(id_='9e27fbaa-c37f-4bc9-8bf9-7376e116e533', embedding=None, metadata={'is_table': False, 'source': 'diabetes_treatment__insulin'}, excluded_embed_metadata_keys=[], excluded_llm_metadata_keys=[], relationships={}, text='insulin side effects \\n\\n taking insulin may result in some side effects . these include : \\n\\n - low blood sugar \\n - initial weight gain \\n - lumpy or scarred tissue from too many injections on the same part of the body \\n - rashes on the injection site or , in rare cases , all over the body \\n\\n read these next : \\n\\n https://www.healthhub.sg/a-z/diseases-and-conditions/diabetes-treatment-insulin', mimetype='text/plain', start_char_idx=None, end_char_idx=None, text_template='{metadata_str}\\n\\n{content}', metadata_template='{key}: {value}', metadata_seperator='\\n')]"
      ]
     },
     "execution_count": 40,
     "metadata": {},
     "output_type": "execute_result"
    }
   ],
   "source": [
    "final_docs"
   ]
  },
  {
   "cell_type": "code",
   "execution_count": 36,
   "metadata": {},
   "outputs": [],
   "source": [
    "NEO4J_URI = \"bolt://localhost:7687\"\n",
    "NEO4J_USER = \"neo4j\"\n",
    "NEO4J_PASSWORD = \"15082001\"\n",
    "NEO4J_DATABASE = \"neo4j\"\n",
    "\n",
    "graph_store = Neo4jPropertyGraphStore(\n",
    "    username=NEO4J_USER,\n",
    "    password=NEO4J_PASSWORD,\n",
    "    url=NEO4J_URI,\n",
    "    refresh_schema=False,\n",
    ")\n",
    "\n",
    "# gds = GraphDataScience(NEO4J_URI, database=NEO4J_DATABASE, auth=(NEO4J_USER, NEO4J_PASSWORD))"
   ]
  },
  {
   "cell_type": "code",
   "execution_count": 37,
   "metadata": {},
   "outputs": [],
   "source": [
    "def delete_all_nodes(graph_store):\n",
    "    graph_store.structured_query(\"\"\"\n",
    "    MATCH (n)\n",
    "    DETACH DELETE n\n",
    "    \"\"\")\n",
    "    print(\"All nodes deleted\")"
   ]
  },
  {
   "cell_type": "code",
   "execution_count": 38,
   "metadata": {},
   "outputs": [
    {
     "name": "stdout",
     "output_type": "stream",
     "text": [
      "All nodes deleted\n"
     ]
    }
   ],
   "source": [
    "delete_all_nodes(graph_store)"
   ]
  },
  {
   "cell_type": "code",
   "execution_count": 41,
   "metadata": {},
   "outputs": [],
   "source": [
    "def remove_all_neo4j_restrictions(graph_store):\n",
    "    graph_store.structured_query(\"\"\"\n",
    "    CALL apoc.schema.assert({}, {});\n",
    "    \"\"\")"
   ]
  },
  {
   "cell_type": "code",
   "execution_count": 42,
   "metadata": {},
   "outputs": [
    {
     "data": {
      "application/vnd.jupyter.widget-view+json": {
       "model_id": "cbd045726d4b4c6fb223e31b60537de4",
       "version_major": 2,
       "version_minor": 0
      },
      "text/plain": [
       "Parsing nodes:   0%|          | 0/38 [00:00<?, ?it/s]"
      ]
     },
     "metadata": {},
     "output_type": "display_data"
    },
    {
     "name": "stderr",
     "output_type": "stream",
     "text": [
      "Extracting triples: 100%|██████████| 38/38 [09:31<00:00, 15.04s/it]\n",
      "Generating embeddings: 100%|██████████| 1/1 [00:01<00:00,  1.17s/it]\n",
      "Generating embeddings: 100%|██████████| 6/6 [00:02<00:00,  2.47it/s]\n"
     ]
    }
   ],
   "source": [
    "index = PropertyGraphIndex.from_documents(\n",
    "    final_docs,\n",
    "    kg_extractors=[relik],\n",
    "    llm=llama_llm,\n",
    "    embed_model=llama_openai_embed_model,\n",
    "    property_graph_store=graph_store,\n",
    "    show_progress=True,\n",
    ")"
   ]
  },
  {
   "cell_type": "markdown",
   "metadata": {},
   "source": [
    "## Graph De-duplication"
   ]
  },
  {
   "cell_type": "code",
   "execution_count": 43,
   "metadata": {},
   "outputs": [],
   "source": [
    "def create_vector_index(graph_store):\n",
    "    graph_store.structured_query(\"\"\"\n",
    "    CREATE VECTOR INDEX entity IF NOT EXISTS\n",
    "    FOR (m:`__Entity__`)\n",
    "    ON m.embedding\n",
    "    OPTIONS {indexConfig: {\n",
    "    `vector.dimensions`: 1536,\n",
    "    `vector.similarity_function`: 'cosine'\n",
    "    }}\n",
    "    \"\"\")"
   ]
  },
  {
   "cell_type": "code",
   "execution_count": 44,
   "metadata": {},
   "outputs": [],
   "source": [
    "create_vector_index(graph_store)"
   ]
  },
  {
   "cell_type": "code",
   "execution_count": 45,
   "metadata": {},
   "outputs": [],
   "source": [
    "def check_graph_deduplication(graph_store, similarity_threshold = 0.90, word_edit_distance = 5):\n",
    "    data = graph_store.structured_query(\"\"\"\n",
    "    MATCH (e:__Entity__)\n",
    "    CALL {\n",
    "    WITH e\n",
    "    CALL db.index.vector.queryNodes('entity', 10, e.embedding)\n",
    "    YIELD node, score\n",
    "    WITH node, score\n",
    "    WHERE score > toFLoat($cutoff)\n",
    "        AND (toLower(node.name) CONTAINS toLower(e.name) OR toLower(e.name) CONTAINS toLower(node.name)\n",
    "            OR apoc.text.distance(toLower(node.name), toLower(e.name)) < $distance)\n",
    "        AND labels(e) = labels(node)\n",
    "    WITH node, score\n",
    "    ORDER BY node.name\n",
    "    RETURN collect(node) AS nodes\n",
    "    }\n",
    "    WITH distinct nodes\n",
    "    WHERE size(nodes) > 1\n",
    "    WITH collect([n in nodes | n.name]) AS results\n",
    "    UNWIND range(0, size(results)-1, 1) as index\n",
    "    WITH results, index, results[index] as result\n",
    "    WITH apoc.coll.sort(reduce(acc = result, index2 IN range(0, size(results)-1, 1) |\n",
    "            CASE WHEN index <> index2 AND\n",
    "                size(apoc.coll.intersection(acc, results[index2])) > 0\n",
    "                THEN apoc.coll.union(acc, results[index2])\n",
    "                ELSE acc\n",
    "            END\n",
    "    )) as combinedResult\n",
    "    WITH distinct(combinedResult) as combinedResult\n",
    "    // extra filtering\n",
    "    WITH collect(combinedResult) as allCombinedResults\n",
    "    UNWIND range(0, size(allCombinedResults)-1, 1) as combinedResultIndex\n",
    "    WITH allCombinedResults[combinedResultIndex] as combinedResult, combinedResultIndex, allCombinedResults\n",
    "    WHERE NOT any(x IN range(0,size(allCombinedResults)-1,1) \n",
    "        WHERE x <> combinedResultIndex\n",
    "        AND apoc.coll.containsAll(allCombinedResults[x], combinedResult)\n",
    "    )\n",
    "    RETURN combinedResult  \n",
    "    \"\"\", param_map={'cutoff': similarity_threshold, 'distance': word_edit_distance})\n",
    "    for row in data:\n",
    "        print(row)"
   ]
  },
  {
   "cell_type": "code",
   "execution_count": 46,
   "metadata": {},
   "outputs": [
    {
     "name": "stdout",
     "output_type": "stream",
     "text": [
      "{'combinedResult': ['tablet(s', 'the tablet(s )']}\n",
      "{'combinedResult': ['blood sugar', 'blood sugar level', 'blood sugar levels', 'low blood sugar levels']}\n",
      "{'combinedResult': ['glucophage', 'glucose', 'glucose metabolism', 'glucose tolerance', 'impaired glucose tolerance', 'oral glucose tolerance test', 'the glucose']}\n",
      "{'combinedResult': ['glibenclamide', 'gliclazide']}\n",
      "{'combinedResult': ['km / hr', 'km / hr ) \\n\\n & gt;=', 'km / hr ) \\n\\n & gt;= 75']}\n",
      "{'combinedResult': ['vigorous - intensity', 'vigorous - intensity exercise']}\n",
      "{'combinedResult': ['smokers', 'smoking', 'smoking cessation']}\n",
      "{'combinedResult': ['ingrown', 'ingrown nails']}\n",
      "{'combinedResult': ['doctor', 'food', 'your']}\n",
      "{'combinedResult': ['body cells', 'cells', 'nurse', 'units']}\n",
      "{'combinedResult': ['a', 'anti - diabetes', 'diabetes', 'diabetes mellitus', 'diabetes_treatment__insulin', 'diabetic', 'diabetic foot ulcer', 'diabetic ulcer', 'diabetic ulcers', 'diabetic_foot_ulcer__symptoms_and_treatment', 'humulin', 'insulin', 'insulin pens', 'insulin pump', 'insulin pumps', 'lispro', 'lispro insulin', 'patients', 'patients insulins', 'the diabetes', 'the insulin', 'type 1 diabetes', 'type 2 diabetes', 'type 2 diabetes mellitus', 'your insulin']}\n",
      "{'combinedResult': ['physical activity.7', 'physical activity.7 - 12']}\n",
      "{'combinedResult': ['2021', '27 july 2021', '3 july 2017', 'a', 'a / prof. goh', 'ace', 'acg', 'acgs', 'agency for care', 'agency for care care effectiveness', 'agency for care effectiveness', 'alcohol', 'asymptomatic', 'beer', 'bmi', 'cereals', 'cvd', 'darren seah', 'debra chan', 'diabetes', 'diabetes mellitus', 'diabetes-(updated', 'diabetes-(updated-on-27-jul-2021)c2bfc77474154c2abf623156a4b93002', 'diabetes.†', 'diabetic', 'diabetic foot ulcer', 'diabetic ulcer', 'diabetic ulcers', 'diabetic_foot_ulcer__symptoms_and_treatment', 'education', 'eggs', 'fasting', 'fpg', 'glycaemic', 'hba1c', 'healthhub', 'ifg', 'igt', 'impaired fasting glucose', 'joyce lee', 'jul-2021)c2bfc77474154c2abf623156a4b93002', 'july 2017', 'lee', 'lee hwee khim', 'lifestyle', 'lifestyle changes', 'lifestyle intervention', 'lifestyle intervention.9,15', 'ministry of health', 'ms.', 'nhgp', 'nup', 'obese', 'obesity', 'ogtt', 'oils', 'party', 'pauline', 'pauline xie', 'pre - diabetes', 'pre - diabetes \\n\\n  1', 'pre - diabetes \\n - lifestyle intervention', 'pre - diabetes.†', 'qr', 'qr code', 'republic of singapore', 'sedentary lifestyle', 'singapore', 'singaporeans', 't2dm', 'the diabetes', 'this publication', 'type 1 diabetes', 'type 2 diabetes', 'type 2 diabetes mellitus', 'vegetables', 'wine']}\n",
      "{'combinedResult': ['2021', '27 july 2021', '3 july 2017', 'a', 'a / prof. goh', 'ace', 'acg', 'acgs', 'agency for care', 'agency for care care effectiveness', 'agency for care effectiveness', 'alcohol', 'asymptomatic', 'beer', 'bmi', 'cereals', 'cvd', 'darren seah', 'debra chan', 'diabetes', 'diabetes mellitus', 'diabetes-(updated', 'diabetes-(updated-on-27-jul-2021)c2bfc77474154c2abf623156a4b93002', 'diabetes.†', 'diabetes_treatment__insulin', 'diabetic', 'diabetic foot ulcer', 'diabetic ulcer', 'diabetic ulcers', 'diabetic_foot_ulcer__symptoms_and_treatment', 'education', 'eggs', 'fasting', 'fpg', 'glycaemic', 'hba1c', 'healthhub', 'humulin', 'ifg', 'igt', 'impaired fasting glucose', 'insulin', 'insulin pens', 'insulin pump', 'insulin pumps', 'joyce lee', 'jul-2021)c2bfc77474154c2abf623156a4b93002', 'lee', 'lee hwee khim', 'lifestyle', 'lifestyle changes', 'lifestyle intervention', 'lifestyle intervention.9,15', 'lispro', 'lispro insulin', 'ministry of health', 'ms.', 'nhgp', 'nup', 'obese', 'obesity', 'ogtt', 'oils', 'party', 'patients', 'patients insulins', 'pauline', 'pauline xie', 'pre - diabetes', 'pre - diabetes \\n\\n  1', 'pre - diabetes \\n - lifestyle intervention', 'pre - diabetes.†', 'qr', 'qr code', 'republic of singapore', 'sedentary lifestyle', 'singapore', 'singaporeans', 't2dm', 'the diabetes', 'the insulin', 'this publication', 'type 1 diabetes', 'type 2 diabetes', 'type 2 diabetes mellitus', 'vegetables', 'wine', 'your insulin']}\n"
     ]
    }
   ],
   "source": [
    "check_graph_deduplication(graph_store, similarity_threshold = 0.90)"
   ]
  },
  {
   "cell_type": "code",
   "execution_count": 51,
   "metadata": {},
   "outputs": [
    {
     "name": "stdout",
     "output_type": "stream",
     "text": [
      "{'combinedResult': ['blood sugar', 'blood sugar level', 'blood sugar levels']}\n",
      "{'combinedResult': ['glucose', 'the glucose']}\n",
      "{'combinedResult': ['pre - diabetes', 'pre - diabetes \\n\\n  1', 'pre - diabetes.†']}\n",
      "{'combinedResult': ['2021', '27 july 2021', '3 july 2017', 'a', 'ace', 'igt', 'jul-2021)c2bfc77474154c2abf623156a4b93002', 'july 2017', 'ms.', 'qr']}\n",
      "{'combinedResult': ['diabetes mellitus', 'type 2 diabetes mellitus']}\n",
      "{'combinedResult': ['lifestyle', 'lifestyle changes', 'lifestyle intervention', 'lifestyle intervention.9,15']}\n",
      "{'combinedResult': ['republic of singapore', 'singapore', 'singaporeans']}\n",
      "{'combinedResult': ['obese', 'obesity']}\n",
      "{'combinedResult': ['diabetes-(updated', 'diabetes-(updated-on-27-jul-2021)c2bfc77474154c2abf623156a4b93002']}\n",
      "{'combinedResult': ['km / hr', 'km / hr ) \\n\\n & gt;=', 'km / hr ) \\n\\n & gt;= 75']}\n",
      "{'combinedResult': ['vigorous - intensity', 'vigorous - intensity exercise']}\n",
      "{'combinedResult': ['diabetic ulcer', 'diabetic ulcers']}\n",
      "{'combinedResult': ['smokers', 'smoking']}\n",
      "{'combinedResult': ['cells', 'units']}\n",
      "{'combinedResult': ['diabetes', 'the diabetes', 'type 1 diabetes', 'type 2 diabetes']}\n",
      "{'combinedResult': ['diabetes_treatment__insulin', 'insulin', 'the insulin', 'your insulin']}\n",
      "{'combinedResult': ['physical activity.7', 'physical activity.7 - 12']}\n",
      "{'combinedResult': ['acg', 'acgs']}\n",
      "{'combinedResult': ['pauline', 'pauline xie']}\n",
      "{'combinedResult': ['agency for care', 'agency for care care effectiveness']}\n",
      "{'combinedResult': ['lispro', 'lispro insulin']}\n",
      "{'combinedResult': ['insulin pump', 'insulin pumps']}\n"
     ]
    }
   ],
   "source": [
    "check_graph_deduplication(graph_store, similarity_threshold = 0.954)"
   ]
  },
  {
   "cell_type": "code",
   "execution_count": 52,
   "metadata": {},
   "outputs": [],
   "source": [
    "def graph_deduplication(graph_store, similarity_threshold = 0.90, word_edit_distance = 5):\n",
    "    graph_store.structured_query(\"\"\"\n",
    "        MATCH (e:__Entity__)\n",
    "        CALL {\n",
    "        WITH e\n",
    "        CALL db.index.vector.queryNodes('entity', 10, e.embedding)\n",
    "        YIELD node, score\n",
    "        WITH node, score\n",
    "        WHERE score > toFLoat($cutoff)\n",
    "            AND (toLower(node.name) CONTAINS toLower(e.name) OR toLower(e.name) CONTAINS toLower(node.name)\n",
    "                OR apoc.text.distance(toLower(node.name), toLower(e.name)) < $distance)\n",
    "            AND labels(e) = labels(node)\n",
    "        WITH node, score\n",
    "        ORDER BY node.name\n",
    "        RETURN collect(node) AS nodes\n",
    "        }\n",
    "        WITH distinct nodes\n",
    "        WHERE size(nodes) > 1\n",
    "        WITH collect([n in nodes | n.name]) AS results\n",
    "        UNWIND range(0, size(results)-1, 1) as index\n",
    "        WITH results, index, results[index] as result\n",
    "        WITH apoc.coll.sort(reduce(acc = result, index2 IN range(0, size(results)-1, 1) |\n",
    "                CASE WHEN index <> index2 AND\n",
    "                    size(apoc.coll.intersection(acc, results[index2])) > 0\n",
    "                    THEN apoc.coll.union(acc, results[index2])\n",
    "                    ELSE acc\n",
    "                END\n",
    "        )) as combinedResult\n",
    "        WITH distinct(combinedResult) as combinedResult\n",
    "        // extra filtering\n",
    "        WITH collect(combinedResult) as allCombinedResults\n",
    "        UNWIND range(0, size(allCombinedResults)-1, 1) as combinedResultIndex\n",
    "        WITH allCombinedResults[combinedResultIndex] as combinedResult, combinedResultIndex, allCombinedResults\n",
    "        WHERE NOT any(x IN range(0,size(allCombinedResults)-1,1)\n",
    "            WHERE x <> combinedResultIndex\n",
    "            AND apoc.coll.containsAll(allCombinedResults[x], combinedResult)\n",
    "        )\n",
    "        CALL {\n",
    "        WITH combinedResult\n",
    "            UNWIND combinedResult AS name\n",
    "            MATCH (e:__Entity__ {name:name})\n",
    "            WITH e\n",
    "            ORDER BY size(e.name) DESC // prefer longer names to remain after merging\n",
    "            RETURN collect(e) AS nodes\n",
    "        }\n",
    "        CALL apoc.refactor.mergeNodes(nodes, {properties: {\n",
    "            `.*`: 'discard'\n",
    "        }})\n",
    "        YIELD node\n",
    "        RETURN count(*)\n",
    "        \"\"\", param_map={'cutoff': similarity_threshold, 'distance': word_edit_distance}\n",
    "    )"
   ]
  },
  {
   "cell_type": "code",
   "execution_count": 53,
   "metadata": {},
   "outputs": [],
   "source": [
    "graph_deduplication(graph_store, similarity_threshold = 0.954)"
   ]
  },
  {
   "cell_type": "code",
   "execution_count": null,
   "metadata": {},
   "outputs": [],
   "source": []
  }
 ],
 "metadata": {
  "kernelspec": {
   "display_name": "Python 3",
   "language": "python",
   "name": "python3"
  },
  "language_info": {
   "codemirror_mode": {
    "name": "ipython",
    "version": 3
   },
   "file_extension": ".py",
   "mimetype": "text/x-python",
   "name": "python",
   "nbconvert_exporter": "python",
   "pygments_lexer": "ipython3",
   "version": "3.11.5"
  }
 },
 "nbformat": 4,
 "nbformat_minor": 2
}
