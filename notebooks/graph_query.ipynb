{
 "cells": [
  {
   "cell_type": "code",
   "execution_count": 34,
   "metadata": {},
   "outputs": [],
   "source": [
    "import nest_asyncio\n",
    "import os\n",
    "\n",
    "from langchain_anthropic import ChatAnthropic\n",
    "from llama_index.core import PropertyGraphIndex \n",
    "from llama_index.core.bridge.pydantic import BaseModel, Field\n",
    "from llama_index.core.indices.property_graph import VectorContextRetriever, CypherTemplateRetriever, LLMSynonymRetriever\n",
    "from llama_index.embeddings.openai import OpenAIEmbedding\n",
    "from llama_index.graph_stores.neo4j import Neo4jPropertyGraphStore\n",
    "from llama_index.llms.anthropic import Anthropic\n",
    "from typing import List, Optional, Dict, Any, Set"
   ]
  },
  {
   "cell_type": "code",
   "execution_count": 2,
   "metadata": {},
   "outputs": [],
   "source": [
    "nest_asyncio.apply()"
   ]
  },
  {
   "cell_type": "code",
   "execution_count": 3,
   "metadata": {},
   "outputs": [],
   "source": [
    "OPENAI_API_KEY = os.getenv('OPENAI_API_KEY')\n",
    "CLAUDE_API_KEY = os.getenv('CLAUDE_API_KEY')\n",
    "LLAMA_API_KEY = os.getenv('LLAMA_API_KEY')\n",
    "\n",
    "os.environ['OPENAI_API_KEY'] = OPENAI_API_KEY\n",
    "os.environ[\"ANTHROPIC_API_KEY\"] = CLAUDE_API_KEY\n",
    "os.environ[\"LLAMA_CLOUD_API_KEY\"] = LLAMA_API_KEY"
   ]
  },
  {
   "cell_type": "code",
   "execution_count": 4,
   "metadata": {},
   "outputs": [],
   "source": [
    "llm = ChatAnthropic(\n",
    "    model=\"claude-3-5-sonnet-20240620\",\n",
    "    max_tokens=4096,\n",
    "    temperature=0.0,\n",
    "    stop=[\"\\n\\nHuman\"],\n",
    ")\n",
    "\n",
    "llama_llm = Anthropic(\n",
    "    model=\"claude-3-5-sonnet-20240620\",\n",
    "    max_tokens=4096,\n",
    "    temperature=0.0\n",
    ")\n",
    "\n",
    "llama_openai_embed_model = OpenAIEmbedding(model_name=\"text-embedding-3-small\")"
   ]
  },
  {
   "cell_type": "code",
   "execution_count": 106,
   "metadata": {},
   "outputs": [],
   "source": [
    "NEO4J_URI = \"bolt://localhost:7687\"\n",
    "NEO4J_USER = \"neo4j\"\n",
    "NEO4J_PASSWORD = \"15082001\"\n",
    "NEO4J_DATABASE = \"neo4j\"\n",
    "\n",
    "graph_store = Neo4jPropertyGraphStore(\n",
    "    username=NEO4J_USER,\n",
    "    password=NEO4J_PASSWORD,\n",
    "    url=NEO4J_URI,\n",
    "    refresh_schema=False,\n",
    ")"
   ]
  },
  {
   "cell_type": "code",
   "execution_count": 107,
   "metadata": {},
   "outputs": [],
   "source": [
    "index = PropertyGraphIndex.from_existing(\n",
    "    llm = llama_llm,\n",
    "    embed_model=llama_openai_embed_model,\n",
    "    property_graph_store=graph_store,\n",
    ")"
   ]
  },
  {
   "cell_type": "markdown",
   "metadata": {},
   "source": [
    "### Vector Similarity Sub-Retriever"
   ]
  },
  {
   "cell_type": "code",
   "execution_count": 108,
   "metadata": {},
   "outputs": [],
   "source": [
    "vector_retriever = VectorContextRetriever(\n",
    "  index.property_graph_store,\n",
    "  vector_store=index.vector_store,\n",
    "  embed_model=llama_openai_embed_model,\n",
    ")"
   ]
  },
  {
   "cell_type": "markdown",
   "metadata": {},
   "source": [
    "### Entity Sub-Retriever"
   ]
  },
  {
   "cell_type": "code",
   "execution_count": 109,
   "metadata": {},
   "outputs": [],
   "source": [
    "keyword_retriever = LLMSynonymRetriever(\n",
    "    index.property_graph_store, \n",
    "    llm=llama_llm,\n",
    "    path_depth=1,\n",
    ")"
   ]
  },
  {
   "cell_type": "code",
   "execution_count": 69,
   "metadata": {},
   "outputs": [],
   "source": [
    "retriever = index.as_retriever(sub_retrievers=[vector_retriever, keyword_retriever])"
   ]
  },
  {
   "cell_type": "code",
   "execution_count": 110,
   "metadata": {},
   "outputs": [],
   "source": [
    "nodes = retriever.retrieve(\"What are some diabetes medications?\")"
   ]
  },
  {
   "cell_type": "code",
   "execution_count": 223,
   "metadata": {},
   "outputs": [
    {
     "name": "stdout",
     "output_type": "stream",
     "text": [
      "================================================================================\n",
      "diabetes medications \n",
      "\n",
      "  sulphonylureas \n",
      "\n",
      " help the pancreas to release more insulin and the body to use glucose more effectively . \n",
      "\n",
      " - chlorpropamide ( diabinese ® ) \n",
      " - glibenclamide ( daonil ® ) \n",
      " - gliclazide ( diamicron ® ) \n",
      " - tolbutamide ( rastinon ® ) \n",
      " - glimepiride ( amaryl ® ) \n",
      "\n",
      " take the tablet(s ) daily immediately after meals ( except gliclazide which is consumed half an hour before meals ) . do not miss or delay meals . otherwise , your blood sugar level may fall too low . \n",
      "\n",
      " sometimes other tablets ( e.g. those for blood pressure ) can react with anti - diabetes tablets . if in doubt , talk to your doctor or pharmacist . \n",
      "\n",
      " alcohol interferes with some of these tablets : consult your pharmacist if you are planning to drink alcohol . for example , having alcohol with chlorpropamide causes side effects like redness and vomiting . \n",
      "\n",
      "  biguanides \n",
      "\n",
      " help the body to use glucose more effectively . \n",
      "\n",
      " - e.g. metformin ( glucophage ® ) \n",
      "\n",
      " take the tablet(s ) with meals or after meals . \n",
      "\n",
      "  a - glucosidase inhibitors \n",
      "\n",
      " help to stop the quick rise of blood glucose after a meal . \n",
      "\n",
      " - e.g. acarbose ( glucobay ® ) \n",
      "\n",
      " take the tablet(s ) with the first mouthful or immediately before each of the three main daily meals . \n",
      "\n",
      "  meglitinides \n",
      "\n",
      " help the pancreas to release more insulin . \n",
      "\n",
      " - e.g. repaglinide ( novonorm ® ) \n",
      "\n",
      " take the tablet before meals . \n",
      "\n",
      "  thiazolidinediones \n",
      "\n",
      " enhance insulin action and help the body to use glucose more effectively . \n",
      "\n",
      " - e.g. rosiglitazone ( avandia ® ) \n",
      "\n",
      " take the tablet with or without food . \n",
      "\n",
      " this article was last reviewed on tuesday , may 25 , 2021 \n",
      "\n",
      " source\n",
      "================================================================================\n",
      "start metformin at 250 mg twice daily and gradually increase as tolerated if required ( depending on glycaemic status ) , up to 850 mg twice daily . \n",
      "\n",
      " take metformin with meals to reduce side effects such as nausea , vomiting , or diarrhoea . \n",
      "\n",
      " § off - label for pre - diabetes ; locally registered as additional therapy in association with diet in patients with diabetes mellitus .\n",
      "================================================================================\n",
      "insulin side effects \n",
      "\n",
      " taking insulin may result in some side effects . these include : \n",
      "\n",
      " - low blood sugar \n",
      " - initial weight gain \n",
      " - lumpy or scarred tissue from too many injections on the same part of the body \n",
      " - rashes on the injection site or , in rare cases , all over the body \n",
      "\n",
      " read these next : \n",
      "\n",
      " https://www.healthhub.sg/a-z/diseases-and-conditions/diabetes-treatment-insulin\n"
     ]
    }
   ],
   "source": [
    "for node in nodes:\n",
    "    print(\"====\" * 20)\n",
    "    print(node.text)"
   ]
  },
  {
   "cell_type": "code",
   "execution_count": null,
   "metadata": {},
   "outputs": [],
   "source": []
  }
 ],
 "metadata": {
  "kernelspec": {
   "display_name": "Python 3",
   "language": "python",
   "name": "python3"
  },
  "language_info": {
   "codemirror_mode": {
    "name": "ipython",
    "version": 3
   },
   "file_extension": ".py",
   "mimetype": "text/x-python",
   "name": "python",
   "nbconvert_exporter": "python",
   "pygments_lexer": "ipython3",
   "version": "3.11.5"
  }
 },
 "nbformat": 4,
 "nbformat_minor": 2
}
