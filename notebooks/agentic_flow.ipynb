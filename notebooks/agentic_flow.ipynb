{
 "cells": [
  {
   "cell_type": "code",
   "execution_count": 1,
   "metadata": {},
   "outputs": [],
   "source": [
    "import base64\n",
    "import boto3\n",
    "import logging\n",
    "import nest_asyncio\n",
    "import operator\n",
    "import os\n",
    "import re\n",
    "import time\n",
    "import uuid\n",
    "\n",
    "from collections import defaultdict\n",
    "from concurrent.futures import ThreadPoolExecutor, as_completed\n",
    "from dotenv import load_dotenv\n",
    "from fastembed import TextEmbedding\n",
    "from IPython.display import display, HTML\n",
    "from llama_index.embeddings.openai import OpenAIEmbedding\n",
    "from llama_index.llms.anthropic import Anthropic\n",
    "from llama_index.llms.openai import OpenAI\n",
    "from langchain_anthropic import ChatAnthropic\n",
    "from langchain_core.messages import AIMessage, BaseMessage, HumanMessage\n",
    "from langchain_core.output_parsers import JsonOutputParser, StrOutputParser\n",
    "from langchain_core.runnables.graph import CurveStyle, MermaidDrawMethod\n",
    "from langgraph.graph import START, END, StateGraph\n",
    "from langchain.prompts import PromptTemplate\n",
    "from langchain_core.tools import StructuredTool\n",
    "from pymilvus import (\n",
    "    model, connections, Collection, AnnSearchRequest, RRFRanker,\n",
    ")\n",
    "from typing import Dict, List, Sequence, TypedDict, DefaultDict, Any, Optional\n",
    "from typing_extensions import TypedDict, Annotated"
   ]
  },
  {
   "cell_type": "code",
   "execution_count": 2,
   "metadata": {},
   "outputs": [],
   "source": [
    "logger = logging.getLogger(__name__)\n",
    "\n",
    "if not logger.hasHandlers():\n",
    "    logger.setLevel(logging.INFO)\n",
    "    handler = logging.StreamHandler()\n",
    "    formatter = logging.Formatter('%(levelname)s - %(message)s')\n",
    "    handler.setFormatter(formatter)\n",
    "    logger.addHandler(handler)"
   ]
  },
  {
   "cell_type": "markdown",
   "metadata": {},
   "source": [
    "### Loading of LLMs and Embedding Models\n",
    "1. Llama Models\n",
    "2. Normal Models\n",
    "3. Embedding Models"
   ]
  },
  {
   "cell_type": "code",
   "execution_count": 3,
   "metadata": {},
   "outputs": [],
   "source": [
    "load_dotenv()\n",
    "\n",
    "CLAUDE_API_KEY = os.getenv('CLAUDE_API_KEY')\n",
    "OPENAI_API_KEY = os.getenv('OPENAI_API_KEY')\n",
    "\n",
    "os.environ[\"ANTHROPIC_API_KEY\"] = CLAUDE_API_KEY"
   ]
  },
  {
   "cell_type": "code",
   "execution_count": 4,
   "metadata": {},
   "outputs": [],
   "source": [
    "openai_llama = OpenAI(model=\"gpt-3.5-turbo-0125\", openai_api_key=OPENAI_API_KEY, temperature=0.0)\n",
    "claude_llama = Anthropic(model=\"claude-3-5-sonnet-20240620\", api_key=CLAUDE_API_KEY, temperature=0.0)"
   ]
  },
  {
   "cell_type": "code",
   "execution_count": 5,
   "metadata": {},
   "outputs": [],
   "source": [
    "claude = ChatAnthropic(\n",
    "    model=\"claude-3-5-sonnet-20240620\",\n",
    "    temperature=0.0,\n",
    "    stop=[\"\\n\\nHuman\"],\n",
    "    streaming=True,\n",
    "    stream_usage=True\n",
    ")"
   ]
  },
  {
   "cell_type": "code",
   "execution_count": 6,
   "metadata": {},
   "outputs": [
    {
     "data": {
      "application/vnd.jupyter.widget-view+json": {
       "model_id": "c7cc01e603b340b69b66405660afca88",
       "version_major": 2,
       "version_minor": 0
      },
      "text/plain": [
       "Fetching 5 files:   0%|          | 0/5 [00:00<?, ?it/s]"
      ]
     },
     "metadata": {},
     "output_type": "display_data"
    },
    {
     "data": {
      "application/vnd.jupyter.widget-view+json": {
       "model_id": "ecfbc0e83cc64ebfb2096474386f00eb",
       "version_major": 2,
       "version_minor": 0
      },
      "text/plain": [
       "special_tokens_map.json:   0%|          | 0.00/695 [00:00<?, ?B/s]"
      ]
     },
     "metadata": {},
     "output_type": "display_data"
    },
    {
     "data": {
      "application/vnd.jupyter.widget-view+json": {
       "model_id": "6e7cfa93685d4fd8a2de21c3b8ef84c0",
       "version_major": 2,
       "version_minor": 0
      },
      "text/plain": [
       "tokenizer.json:   0%|          | 0.00/711k [00:00<?, ?B/s]"
      ]
     },
     "metadata": {},
     "output_type": "display_data"
    },
    {
     "data": {
      "application/vnd.jupyter.widget-view+json": {
       "model_id": "29b79053b29548b393b8750449f4c44d",
       "version_major": 2,
       "version_minor": 0
      },
      "text/plain": [
       "config.json:   0%|          | 0.00/742 [00:00<?, ?B/s]"
      ]
     },
     "metadata": {},
     "output_type": "display_data"
    },
    {
     "data": {
      "application/vnd.jupyter.widget-view+json": {
       "model_id": "2a81e5a7e25c4e449bf56575de7dc1af",
       "version_major": 2,
       "version_minor": 0
      },
      "text/plain": [
       "tokenizer_config.json:   0%|          | 0.00/1.24k [00:00<?, ?B/s]"
      ]
     },
     "metadata": {},
     "output_type": "display_data"
    },
    {
     "data": {
      "application/vnd.jupyter.widget-view+json": {
       "model_id": "0af5b4add6c94c728d202f3971fed88c",
       "version_major": 2,
       "version_minor": 0
      },
      "text/plain": [
       "model.onnx:   0%|          | 0.00/1.34G [00:00<?, ?B/s]"
      ]
     },
     "metadata": {},
     "output_type": "display_data"
    }
   ],
   "source": [
    "bge_embed_model = TextEmbedding(model_name=\"BAAI/bge-large-en-v1.5\")\n",
    "openai_embed_model = OpenAIEmbedding(model_name=\"text-embedding-3-small\")\n",
    "splade_embed_model = model.sparse.SpladeEmbeddingFunction(\n",
    "    model_name=\"naver/splade-cocondenser-ensembledistil\",\n",
    "    device=\"cpu\",\n",
    ")"
   ]
  },
  {
   "cell_type": "code",
   "execution_count": 7,
   "metadata": {},
   "outputs": [],
   "source": [
    "ENDPOINT = os.getenv('ZILLIS_ENDPOINT')\n",
    "TOKEN = os.getenv('ZILLIS_TOKEN')\n",
    "\n",
    "connections.connect(uri=ENDPOINT, token=TOKEN)"
   ]
  },
  {
   "cell_type": "code",
   "execution_count": 8,
   "metadata": {},
   "outputs": [],
   "source": [
    "collection_name = \"vector_index\"\n",
    "collection = Collection(name=collection_name)"
   ]
  },
  {
   "cell_type": "markdown",
   "metadata": {},
   "source": [
    "### Define GraphState's Storage Parameters"
   ]
  },
  {
   "cell_type": "code",
   "execution_count": 9,
   "metadata": {},
   "outputs": [],
   "source": [
    "def reduce_defaultdicts(d1, d2):\n",
    "    # Create a new defaultdict of lists\n",
    "    merged = defaultdict(str)\n",
    "    for key, value in d1.items():\n",
    "        merged[key] = value\n",
    "    for key, value in d2.items():\n",
    "        merged[key] = value\n",
    "    return merged"
   ]
  },
  {
   "cell_type": "code",
   "execution_count": 10,
   "metadata": {},
   "outputs": [],
   "source": [
    "class GraphState(TypedDict):\n",
    "    \"\"\"\n",
    "    Represents the state of a graph.\n",
    "\n",
    "    Attributes:\n",
    "        query (str): The user query\n",
    "        query_list (List[str]): The expanded list of queries based on the user query\n",
    "        agent (str): The agent responsible for decision making/answer generating\n",
    "        --- DEPRECATED --- contexts (DefaultDict[str, str]): The contexts retrieved. Keys are \"kg\" or \"db\" indicating the source of the context, and values are the contexts themselves.\n",
    "        kg_context (str): The context retrieved from the knowledge graph\n",
    "        db_context (str): The context retrieved from the vector database\n",
    "        metrics (DefaultDict[str, str]): The numerical evaluations of metrics, such as \"correctness\", \"relevance\", \"clarity\", etc.\n",
    "        reasons (DefaultDict[str, str]): The reasons for the the metrics. Keys are the metric names, and values are the reasons.\n",
    "        answer (str): The answer generated by the agent\n",
    "    \"\"\"\n",
    "    query: str\n",
    "    query_list: List[str]\n",
    "    agent: str\n",
    "    # contexts: Annotated[DefaultDict[str, str], reduce_defaultdicts]\n",
    "    kg_context: str\n",
    "    db_context: str\n",
    "    metrics: DefaultDict[str, str]\n",
    "    reasons: DefaultDict[str, str]\n",
    "    answer: str"
   ]
  },
  {
   "cell_type": "markdown",
   "metadata": {},
   "source": [
    "### Define Helper Functions\n",
    "1. search_kg_db (retrieves context from KG according to query)\n",
    "2. search_vector_db (retrieves context from a traditional vector DB according to query)\n",
    "3. get_kg_context (uses parallel processing to retrieve all contexts required from a query list, and formats it -- kg)\n",
    "4. get_db_context (uses parallel processing to retrieve all contexts required from a query list, and formats it -- vector DB)"
   ]
  },
  {
   "cell_type": "code",
   "execution_count": 11,
   "metadata": {},
   "outputs": [],
   "source": [
    "def search_kg_db(query: str, retriever) -> str:\n",
    "    \"\"\"\n",
    "    Helper Function to retrieve context from KG a single query\n",
    "\n",
    "    Args:\n",
    "        query (str): The user query\n",
    "\n",
    "    Returns:\n",
    "        str: The formatted context retrieved from the knowledge graph\n",
    "    \"\"\"\n",
    "    return f\"{retriever.get_context(query)}\"\n",
    "\n",
    "def search_vector_db(query: str, retriever) -> str:\n",
    "    \"\"\"\n",
    "    Helper Function to retrieve context from KG a single query\n",
    "\n",
    "    Args:\n",
    "        query (str): The user query\n",
    "\n",
    "    Returns:\n",
    "        str: The formatted context retrieved from the knowledge graph\n",
    "    \"\"\"\n",
    "    return f\"{retriever.get_context(query)}\""
   ]
  },
  {
   "cell_type": "code",
   "execution_count": 12,
   "metadata": {},
   "outputs": [],
   "source": [
    "def get_kg_context(queries: List[str], retriever) -> str:\n",
    "    \"\"\"\n",
    "    Uses parallel processing to retrieve context from the KG for a list of queries.\n",
    "\n",
    "    Args:\n",
    "        query_list (List[str]): The list of user queries\n",
    "\n",
    "    Returns:\n",
    "        str: The formatted context retrieved from the knowledge graph\n",
    "    \"\"\"\n",
    "\n",
    "    context = []\n",
    "        \n",
    "    with ThreadPoolExecutor() as executor:\n",
    "        future_to_query = {executor.submit(search_kg_db, query, retriever): query for query in queries}\n",
    "        for future in as_completed(future_to_query):\n",
    "            query = future_to_query[future]\n",
    "            try:\n",
    "                result = future.result()\n",
    "                context.append(result)\n",
    "            except Exception as exc:\n",
    "                print(f\"Query {query} generated an exception: {exc}\")\n",
    "\n",
    "    return \"\\n\\n\".join(context)\n",
    "\n",
    "def get_db_context(queries: List[str], retriever) -> str:\n",
    "    \"\"\"\n",
    "    Uses parallel processing to retrieve context from a Vector DB for a list of queries.\n",
    "\n",
    "    Args:\n",
    "        queries (List[str]): The list of user queries\n",
    "\n",
    "    Returns:\n",
    "        str: The formatted context retrieved from the DB\n",
    "    \"\"\"\n",
    "    \n",
    "    context = []\n",
    "        \n",
    "    with ThreadPoolExecutor() as executor:\n",
    "        future_to_query = {executor.submit(search_vector_db, query, retriever): query for query in queries}\n",
    "        for future in as_completed(future_to_query):\n",
    "            query = future_to_query[future]\n",
    "            try:\n",
    "                result = future.result()\n",
    "                context.append(result)\n",
    "            except Exception as exc:\n",
    "                print(f\"Query {query} generated an exception: {exc}\")\n",
    "\n",
    "    return \"\\n\\n\".join(context)"
   ]
  },
  {
   "cell_type": "markdown",
   "metadata": {},
   "source": [
    "### Define Agents\n",
    "1. Retrieval Agent (retrieves from kg_db and vector_db)\n",
    "2. Answer Generation Agent (uses context from vector_db to generate answer)\n",
    "3. Grading Agent (grades previously generated answer)\n",
    "4. Display Subgraph Agent (multi hops for context expansion)\n",
    "5. Refine Answer Agent (uses context retrieved from kg_db to refine previous answer)\n",
    "6. Regrading Agent (regrades the final answer)"
   ]
  },
  {
   "cell_type": "code",
   "execution_count": 13,
   "metadata": {},
   "outputs": [],
   "source": [
    "def query_expansion(query: str) -> List[str]:\n",
    "    \"\"\"\n",
    "    Expands a query using LLM\n",
    "\n",
    "    Args:\n",
    "        query (str): The user query\n",
    "\n",
    "    Returns:\n",
    "        List[str]: The expanded queries\n",
    "    \"\"\"\n",
    "    \n",
    "    prompt = \"\"\"<system>\n",
    "    You are a creative AI assistant specializing in expanding user queries to make them more comprehensive and diverse. Your goal is to generate multiple variant queries based on the initial user query, capturing different aspects, synonyms, related terms, and broader or narrower contexts. Ensure that the expanded queries are relevant, diverse, and avoid repetition.\n",
    "    </system>\n",
    "\n",
    "    <instructions>\n",
    "    1. Take the initial query provided by the user.\n",
    "    2. Generate 2 variant queries that explore different interpretations, related topics, or alternative phrasings.\n",
    "    3. Ensure the variants cover a range of specific to broad scopes and use synonyms or related terms.\n",
    "    4. Avoid repeating the same information or using overly similar phrasing.\n",
    "    5. Output the expanded queries in a JSON format, following the examples provided.\n",
    "    6. Do not include any preamble, explanation, or additional information beyond the expanded queries in the given JSON format.\n",
    "    </instructions>\n",
    "\n",
    "    <example_output>\n",
    "    Query: \"machine learning algorithms\"\n",
    "    {{\n",
    "        \"query_list\": [\n",
    "            \"types of machine learning algorithms\",\n",
    "            \"applications of supervised learning techniques\",\n",
    "        ]\n",
    "    }}\n",
    "    <example_output>\n",
    "\n",
    "    <query>\n",
    "    {query}\n",
    "    </query>\n",
    "    \n",
    "    <response>\n",
    "    [Your JSON only response here]\n",
    "    </response>\n",
    "    \"\"\"\n",
    "    \n",
    "    prompt_template = PromptTemplate(\n",
    "        input_variables=[\"query\"],\n",
    "        template=prompt\n",
    "    )\n",
    "    \n",
    "    chain = prompt_template | claude | JsonOutputParser()\n",
    "    query_list = chain.invoke({\"query\": query})\n",
    "    return query_list[\"query_list\"]"
   ]
  },
  {
   "cell_type": "code",
   "execution_count": 14,
   "metadata": {},
   "outputs": [],
   "source": [
    "query_expansion_tool = StructuredTool.from_function(\n",
    "    func=query_expansion,\n",
    "    name=\"Query Expansion\",\n",
    "    description=\"Expands a query using LLM\"\n",
    ")"
   ]
  },
  {
   "cell_type": "code",
   "execution_count": 15,
   "metadata": {},
   "outputs": [],
   "source": [
    "def query_expansion_agent(state: GraphState) -> GraphState:\n",
    "    \"\"\"\n",
    "    Agent that expands the user query\n",
    "\n",
    "    Args:\n",
    "        state (GraphState): The state of the graph\n",
    "\n",
    "    Returns:\n",
    "        GraphState: The updated state of the graph\n",
    "    \"\"\"\n",
    "    query_list = query_expansion_tool.invoke(state[\"query\"])\n",
    "    return {\"query_list\": query_list}"
   ]
  },
  {
   "cell_type": "code",
   "execution_count": 16,
   "metadata": {},
   "outputs": [],
   "source": [
    "def retrieve_db(query: str) -> str:\n",
    "    \"\"\"\n",
    "    Retrieves context from a conventional Vector DB, given a list of queries.\n",
    "\n",
    "    Args:\n",
    "        query (str): The user query\n",
    "\n",
    "    Returns:\n",
    "        str: The formatted context retrieved from Vector DB\n",
    "    \"\"\"\n",
    "    \n",
    "    dense_embedding = list(bge_embed_model.query_embed(query))[0]\n",
    "    sparse_embedding = list(splade_embed_model.encode_queries([query]))\n",
    "    \n",
    "    search_results = collection.hybrid_search(\n",
    "            reqs=[\n",
    "                AnnSearchRequest(\n",
    "                    data=[dense_embedding],  # content vector embedding\n",
    "                    anns_field='dense_embeddings',  # content vector field\n",
    "                    param={\"metric_type\": \"COSINE\", \"params\": {\"M\": 64, \"efConstruction\": 512}}, # Search parameters\n",
    "                    limit=3\n",
    "                ),\n",
    "                AnnSearchRequest(\n",
    "                    data=list(sparse_embedding),  # keyword vector embedding\n",
    "                    anns_field='sparse_embeddings',  # keyword vector field\n",
    "                    param={\"metric_type\": \"IP\", \"params\": {\"drop_ratio_build\": 0.2}}, # Search parameters\n",
    "                    limit=3\n",
    "                )\n",
    "            ],\n",
    "            output_fields=['doc_id', 'text', 'doc_source'],\n",
    "            rerank=RRFRanker(),\n",
    "            limit=3\n",
    "            )\n",
    "    \n",
    "    hits = search_results[0]\n",
    "    \n",
    "    context = []\n",
    "    for res in hits:\n",
    "        text = res.text\n",
    "        source = res.doc_source\n",
    "        context.append(f\"Source: {source}\\nContext: {text}\")\n",
    "    \n",
    "    return \"\\n\\n\".join(context)"
   ]
  },
  {
   "cell_type": "code",
   "execution_count": 17,
   "metadata": {},
   "outputs": [],
   "source": [
    "retrieve_db_tool = StructuredTool.from_function(\n",
    "    func=retrieve_db,\n",
    "    name=\"Retrieve Vector DB\",\n",
    "    description=\"Retrieves context from a conventional Vector DB, given a list of queries.\"\n",
    ")"
   ]
  },
  {
   "cell_type": "code",
   "execution_count": 18,
   "metadata": {},
   "outputs": [],
   "source": [
    "def retrieve_db_agent(state: GraphState) -> GraphState:\n",
    "    \"\"\"\n",
    "    Agent that retrieves context from a Vector DB\n",
    "\n",
    "    Args:\n",
    "        state (GraphState): The state of the graph\n",
    "\n",
    "    Returns:\n",
    "        GraphState: The updated state of the graph\n",
    "    \"\"\"\n",
    "    logger.info(\"------- Retrieving Context Via Vector DB -------\")\n",
    "    context = retrieve_db_tool.invoke({\"query\": state[\"query\"]})\n",
    "    return {\"db_context\": context}"
   ]
  },
  {
   "cell_type": "code",
   "execution_count": 19,
   "metadata": {},
   "outputs": [],
   "source": [
    "def retrieve_kg(query: str) -> str:\n",
    "    \"\"\"\n",
    "    Retrieves context from the ingested knowledge graph, given a list of queries.\n",
    "    Processes queries in parallel using ThreadPoolExecutor.\n",
    "\n",
    "    Args:\n",
    "        query (str): The user query\n",
    "\n",
    "    Returns:\n",
    "        str: The formatted context retrieved from the knowledge graph\n",
    "    \"\"\"\n",
    "    \n",
    "    kg_retriever = ...\n",
    "    context = get_kg_context(query=query, retriever=kg_retriever)\n",
    "    return context"
   ]
  },
  {
   "cell_type": "code",
   "execution_count": 20,
   "metadata": {},
   "outputs": [],
   "source": [
    "retrieve_kg_tool = StructuredTool.from_function(\n",
    "    func=retrieve_kg,\n",
    "    name=\"Retrieve Knowledge Graph\",\n",
    "    description=\"Retrieves context from the ingested knowledge graph, given a list of queries\"\n",
    ")"
   ]
  },
  {
   "cell_type": "code",
   "execution_count": 21,
   "metadata": {},
   "outputs": [],
   "source": [
    "def retrieve_kg_agent(state: GraphState) -> GraphState:\n",
    "    \"\"\"\n",
    "    Agent that retrieves context from the ingested knowledge graph\n",
    "\n",
    "    Args:\n",
    "        state (GraphState): The state of the graph\n",
    "\n",
    "    Returns:\n",
    "        GraphState: The updated state of the graph\n",
    "    \"\"\"\n",
    "    logger.info(\"------- Retrieving Context Via KG DB -------\")\n",
    "    # context = retrieve_kg_tool.invoke({\"query\": state[\"query\"]})\n",
    "    context = \"\"\n",
    "    return {\"kg_context\": context}"
   ]
  },
  {
   "cell_type": "code",
   "execution_count": 22,
   "metadata": {},
   "outputs": [],
   "source": [
    "def multi_hop_kg(query: str) -> str:\n",
    "    \"\"\"\n",
    "    Retrieves context from the ingested knowledge graph, with an expanded search space using multi-hop traversal.\n",
    "\n",
    "    Args:\n",
    "        query (str): The user query\n",
    "        \n",
    "    Returns:\n",
    "        str: The formatted context retrieved from the knowledge graph\n",
    "    \"\"\"\n",
    "    \n",
    "    kg_retriever = ...\n",
    "    context = get_kg_context(query=query, retriever=kg_retriever)\n",
    "    return context"
   ]
  },
  {
   "cell_type": "code",
   "execution_count": 23,
   "metadata": {},
   "outputs": [],
   "source": [
    "multi_hop_kg_tool = StructuredTool.from_function(\n",
    "    func=multi_hop_kg,\n",
    "    name=\"Multi-Hop KG\",\n",
    "    description=\"Retrieves context from the ingested knowledge graph, with an expanded search space using multi-hop traversal.\"\n",
    ")"
   ]
  },
  {
   "cell_type": "code",
   "execution_count": 24,
   "metadata": {},
   "outputs": [],
   "source": [
    "def multi_hop_agent(state: GraphState) -> GraphState:\n",
    "    \"\"\"\n",
    "    Agent that retrieves context from the ingested knowledge graph using multi-hop traversal\n",
    "\n",
    "    Args:\n",
    "        state (GraphState): The state of the graph\n",
    "\n",
    "    Returns:\n",
    "        GraphState: The updated state of the graph\n",
    "    \"\"\"\n",
    "    logger.info(\"------- Retrieving Context Via Multi-Hop KG -------\")\n",
    "    context = multi_hop_kg_tool.invoke({\"query\": state[\"query\"]})\n",
    "    return {\"kg_context\": context}"
   ]
  },
  {
   "cell_type": "code",
   "execution_count": 25,
   "metadata": {},
   "outputs": [],
   "source": [
    "def generate_answer(query: str, context: str) -> str:\n",
    "    \"\"\"\n",
    "    Generates an answer to the user query from the Vector DB context\n",
    "\n",
    "    Args:\n",
    "        query (str): The user query\n",
    "        context (str): The context retrieved from the Vector DB\n",
    "\n",
    "    Returns:\n",
    "        str: The answer generated by the agent\n",
    "    \"\"\"\n",
    "    \n",
    "    prompt = \"\"\"<system>\n",
    "    You are an AI assistant that specializes in generating answers based on the provided context. Your goal is to provide a concise and informative response to the user's query by extracting relevant information from the given context.\n",
    "    </system>\n",
    "\n",
    "    <instruction>\n",
    "    1. Understand the Query: Carefully read and understand the user's query to identify the key information required.\n",
    "    2. Extract Relevant Information: Identify the most relevant parts of the provided context that directly answer the user's query.\n",
    "    3. Conciseness and Clarity: Generate a response that is clear, concise, and directly addresses the user's question without including unnecessary information.\n",
    "    4. Completeness: Ensure the answer covers all aspects of the query as much as possible based on the provided context.\n",
    "    5. Neutral and Informative Tone: Provide the answer in a neutral, professional tone, ensuring factual accuracy.\n",
    "    6. Stay Direct and Focused: Provide a straightforward answer without any introductory remarks, elaborations, or additional comments that do not pertain to the query.\n",
    "    </instruction>\n",
    "    \n",
    "    <query>\n",
    "    {query}\n",
    "    </query>\n",
    "\n",
    "    <context>\n",
    "    {context}\n",
    "    </context>\n",
    "\n",
    "    <response>\n",
    "    [Your response here]\n",
    "    </response>\n",
    "    \"\"\"\n",
    "    \n",
    "    prompt_template = PromptTemplate(\n",
    "        input_variables=[\"query\", \"context\"],\n",
    "        template=prompt\n",
    "    )\n",
    "    \n",
    "    chain = prompt_template | claude | StrOutputParser()\n",
    "    response = chain.invoke({\"query\": query, \"context\": context})\n",
    "    logger.info(f\"Initial Answer: {response}\")\n",
    "    return response"
   ]
  },
  {
   "cell_type": "code",
   "execution_count": 26,
   "metadata": {},
   "outputs": [],
   "source": [
    "generate_answer_tool = StructuredTool.from_function(\n",
    "    func=generate_answer,\n",
    "    name=\"DB Answer Generator\",\n",
    "    description=\"Generates an answer to the user query from the Vector DB context\"\n",
    ")"
   ]
  },
  {
   "cell_type": "code",
   "execution_count": 27,
   "metadata": {},
   "outputs": [],
   "source": [
    "def generate_answer_agent(state: GraphState) -> GraphState:\n",
    "    \"\"\"\n",
    "    Agent that generates an answer to the user query from the Vector DB context\n",
    "\n",
    "    Args:\n",
    "        state (GraphState): The state of the graph\n",
    "\n",
    "    Returns:\n",
    "        state (GraphState): The updated state of the graph\n",
    "    \"\"\"\n",
    "    query, context = state[\"query\"], state[\"db_context\"] + state[\"kg_context\"]\n",
    "    logger.info(\"------- Generating Answer -------\")\n",
    "    response = generate_answer_tool.invoke({\"query\": query, \"context\": context})\n",
    "    return {\"answer\": response}"
   ]
  },
  {
   "cell_type": "code",
   "execution_count": 28,
   "metadata": {},
   "outputs": [],
   "source": [
    "def grader(query: str, answer: str) -> str:\n",
    "    \"\"\"\n",
    "    Grades the answers based on Answer Relevancy, Completeness,  to the query\n",
    "\n",
    "    Args:\n",
    "        query (str): The user query\n",
    "\n",
    "    Returns:\n",
    "        str: The preferred context based on the grading criteria\n",
    "    \"\"\"\n",
    "    \n",
    "    prompt = \"\"\"<system>\n",
    "    You are an expert evaluator specializing in assessing the quality of text responses based on specific criteria. Your task is to critically evaluate a given answer to a query and provide a detailed assessment and scoring for each of the criteria outlined below.\n",
    "    </system>\n",
    "\n",
    "    <instructions>\n",
    "    - Evaluation Criteria: Assess the provided answer according to the following four metrics: \n",
    "    1. Answer Relevancy: Evaluate how closely the answer addresses the query. Consider whether the answer is directly relevant, partially relevant, or irrelevant.\n",
    "    2. Completeness: Assess whether the answer provides a comprehensive response. Does it cover all necessary aspects of the topic in sufficient detail, or are there important points missing?\n",
    "    3. Clarity and Coherence: Review the answer for logical flow, readability, and overall coherence. Is the information presented in a clear and organized manner, or are there confusing or disjointed elements?\n",
    "    4. Correctness: Check the factual accuracy of the information provided. Are there any inaccuracies, errors, or misleading statements in the answer?\n",
    "\n",
    "    - Scoring System: Assign a numerical score from 1 to 10 for each metric, where 1 is the lowest and 10 is the highest. Scores must be integers without decimal values.\n",
    "\n",
    "    - Detailed Explanation: For each metric, provide a detailed explanation justifying the assigned score. The explanation should refer to specific parts of the answer and use evidence-based reasoning to support the score given.\n",
    "\n",
    "    - Output Format: Return your evaluation in the exact JSON format provided below. Ensure that all fields are correctly filled and formatted as specified.\n",
    "\n",
    "    - Formatting Guidelines: Do not include any additional information, preamble, or explanations beyond what is asked. Adhere strictly to the output format to ensure consistency.\n",
    "    </instructions>\n",
    "\n",
    "    <metrics>\n",
    "    1. Answer Relevancy: How directly does the answer address the query provided?\n",
    "    2. Completeness: Does the answer provide a full and detailed response to the question?\n",
    "    3. Clarity and Coherence: Is the answer clearly written, well-organized, and easy to follow?\n",
    "    4. Correctness: Are all the statements in the answer factually correct and free from errors?\n",
    "    </metrics>\n",
    "\n",
    "    <query>\n",
    "    {query}\n",
    "    </query>\n",
    "\n",
    "    <answer>\n",
    "    {answer}\n",
    "    </answer>\n",
    "\n",
    "    <output_format>\n",
    "    {{\n",
    "        \"evaluation\": {{\n",
    "            \"relevance\": 10,\n",
    "            \"completeness\": 9,\n",
    "            \"coherence\": 8,\n",
    "            \"correctness\": 7\n",
    "        }},\n",
    "        \"reasoning\": {{\n",
    "            \"relevance\": \"The answer is highly relevant to the query, directly addressing the question with a specific focus on the required topics.\",\n",
    "            \"completeness\": \"While the answer covers most necessary aspects, it lacks detail on a few minor points, which could enhance the response.\",\n",
    "            \"coherence\": \"The answer is generally clear and follows a logical structure, but there are a few sentences that could be more concise.\",\n",
    "            \"correctness\": \"There are some inaccuracies in the data provided, particularly concerning the explanation of key terms.\"\n",
    "        }}\n",
    "    }}\n",
    "    </output_format>\n",
    "    \"\"\"\n",
    "    \n",
    "    prompt_template = PromptTemplate(\n",
    "        input_variables=[\"query\", \"answer\"],\n",
    "        template=prompt\n",
    "    )\n",
    "    \n",
    "    chain = prompt_template | claude | JsonOutputParser()\n",
    "    result = chain.invoke({\"query\": query, \"answer\": answer})\n",
    "    logger.info(f\"Grading Result: {result}\")\n",
    "    return result[\"evaluation\"], result[\"reasoning\"]"
   ]
  },
  {
   "cell_type": "code",
   "execution_count": 29,
   "metadata": {},
   "outputs": [],
   "source": [
    "grader_tool = StructuredTool.from_function(\n",
    "    func=grader,\n",
    "    name=\"Grader\",\n",
    "    description=\"Grades the contexts retrieved from KG and conventional sources based on relevance and quality to the query\"\n",
    ")"
   ]
  },
  {
   "cell_type": "code",
   "execution_count": 30,
   "metadata": {},
   "outputs": [],
   "source": [
    "def grader_agent(state: GraphState) -> GraphState:\n",
    "    \"\"\"\n",
    "    Agent that grades the contexts retrieved from KG and conventional sources\n",
    "\n",
    "    Args:\n",
    "        state (GraphState): The state of the graph\n",
    "\n",
    "    Returns:\n",
    "        GraphState: The updated state of the graph\n",
    "    \"\"\"\n",
    "    \n",
    "    logger.info(\"------- Grading Answer -------\")\n",
    "    \n",
    "    query, answer = state[\"query\"], state[\"answer\"]\n",
    "    evaluation, reasoning = grader_tool.invoke({\"query\":query, \"answer\": answer})\n",
    "    relevance, completeness, coherence, correctness = evaluation[\"relevance\"], evaluation[\"completeness\"], evaluation[\"coherence\"], evaluation[\"correctness\"]\n",
    "    reason_relevance, reason_completeness, reason_coherence, reason_correctness = reasoning[\"relevance\"], reasoning[\"completeness\"], reasoning[\"coherence\"], reasoning[\"correctness\"]\n",
    "    \n",
    "    metrics, reasons = state[\"metrics\"], state[\"reasons\"]\n",
    "    metrics[\"relevance\"], metrics[\"completeness\"], metrics[\"coherence\"], metrics[\"correctness\"] = relevance, completeness, coherence, correctness\n",
    "    reasons[\"relevance\"], reasons[\"completeness\"], reasons[\"coherence\"], reasons[\"correctness\"] = reason_relevance, reason_completeness, reason_coherence, reason_correctness\n",
    "    \n",
    "    return {\n",
    "        \"metrics\": metrics,\n",
    "        \"reasons\": reasons\n",
    "    }"
   ]
  },
  {
   "cell_type": "code",
   "execution_count": 31,
   "metadata": {},
   "outputs": [],
   "source": [
    "def decide_metrics_agent(state: GraphState) -> GraphState:\n",
    "    \"\"\"\n",
    "    Checks the metrics of the answer generated and decides if they are good enough\n",
    "\n",
    "    Args:\n",
    "        state (GraphState): The state of the graph\n",
    "\n",
    "    Returns:\n",
    "        GraphState: The updated state of the graph\n",
    "    \"\"\"\n",
    "    \n",
    "    logger.info(\"------- Deciding If Requires Extra Context from KG -------\")\n",
    "    metric_list = [state[\"metrics\"][\"relevance\"], state[\"metrics\"][\"completeness\"], state[\"metrics\"][\"coherence\"], state[\"metrics\"][\"correctness\"]]\n",
    "    logger.info(f\"Metrics: {metric_list}\")\n",
    "    for metric in metric_list:\n",
    "        if metric <= 7:\n",
    "            \"not good enough\"\n",
    "    return \"good\""
   ]
  },
  {
   "cell_type": "code",
   "execution_count": 32,
   "metadata": {},
   "outputs": [],
   "source": [
    "def refine_answer(query: str, answer: str, kg_context: str) -> str:\n",
    "    \"\"\"\n",
    "    Refines the initial answer using context retrieved from the KG\n",
    "\n",
    "    Args:\n",
    "        query (str): The user query \n",
    "        answer (str): The initial answer generated\n",
    "        kg_context (str): The context retrieved from the KG\n",
    "\n",
    "    Returns:\n",
    "        str: The refined answer\n",
    "    \"\"\"\n",
    "    \n",
    "    prompt = \"\"\"<system>\n",
    "    You are an expert answer refiner with access to both the initial answer and additional context from a Knowledge Graph (KG). Your task is to enhance the initial answer using the additional context provided while maintaining logical coherence, relevance, completeness, and correctness. Ensure that the refined answer is comprehensive, factually accurate, and directly addresses the query.\n",
    "    </system>\n",
    "\n",
    "    <instructions>\n",
    "    - Review the initial answer provided in response to the query. Identify areas where the answer could be more detailed, accurate, or relevant.\n",
    "    - Incorporate relevant information from the KG context to improve the answer. Ensure that the added information directly supports or expands upon the initial answer without deviating from the main topic of the query.\n",
    "    - Maintain a clear and logical flow in the refined answer. Avoid redundancy and ensure that the enhanced content is seamlessly integrated with the existing text.\n",
    "    - The refined answer should be concise yet comprehensive, covering all aspects of the query as fully as possible with the available context.\n",
    "    - Ensure that all statements in the refined answer are factually accurate and derived from either the initial answer or the KG context. Avoid introducing unsupported or speculative information.\n",
    "    - Do not include any preamble or additional commentary. Return only the refined answer text in a natural and fluent style.\n",
    "    </instructions>\n",
    "\n",
    "    <query>\n",
    "    {query}\n",
    "    </query>\n",
    "\n",
    "    <initial_answer>\n",
    "    {answer}\n",
    "    </initial_answer>\n",
    "\n",
    "    <context>\n",
    "    {kg_context}\n",
    "    </context>\n",
    "\n",
    "    <refined_answer>\n",
    "    [Your refined answer here]\n",
    "    </refined_answer>\n",
    "    \"\"\"\n",
    "    \n",
    "    prompt_template = PromptTemplate(\n",
    "        input_variables=[\"query\", \"answer\", \"kg_context\"],\n",
    "        template=prompt\n",
    "    )\n",
    "    \n",
    "    chain = prompt_template | claude | StrOutputParser()\n",
    "    response = chain.invoke({\"query\": query, \"answer\": answer, \"kg_context\": kg_context})\n",
    "    return response"
   ]
  },
  {
   "cell_type": "code",
   "execution_count": 33,
   "metadata": {},
   "outputs": [],
   "source": [
    "refine_answer_tool = StructuredTool.from_function(\n",
    "    func=refine_answer,\n",
    "    name=\"Answer Refiner\",\n",
    "    description=\"Refines the initial answer using context retrieved from the KG\"\n",
    ")"
   ]
  },
  {
   "cell_type": "code",
   "execution_count": 34,
   "metadata": {},
   "outputs": [],
   "source": [
    "def refine_answer_agent(state: GraphState) -> GraphState:\n",
    "    \"\"\"\n",
    "    Utilises KG Context to refine initial answer\n",
    "\n",
    "    Args:\n",
    "        state (GraphState): The state of the graph\n",
    "\n",
    "    Returns:\n",
    "        state (GraphState): The updated state of the graph\n",
    "    \"\"\"\n",
    "    logger.info(\"------- Refining Answer with KG Context -------\")\n",
    "    query, answer, kg_context = state[\"query\"], state[\"answer\"], state[\"kg_context\"]\n",
    "    refined_answer = refine_answer_tool.invoke({\"query\": query, \"answer\": answer, \"kg_context\": kg_context})\n",
    "    return {\"answer\": refined_answer}"
   ]
  },
  {
   "cell_type": "code",
   "execution_count": 35,
   "metadata": {},
   "outputs": [],
   "source": [
    "def dummy(state: GraphState) -> GraphState:\n",
    "    \"\"\"\n",
    "    Dummy agent that does nothing\n",
    "\n",
    "    Args:\n",
    "        state (GraphState): The state of the graph\n",
    "\n",
    "    Returns:\n",
    "        GraphState: Unchanged state of the graph\n",
    "    \"\"\"\n",
    "    return {\"answer\": state[\"answer\"]}"
   ]
  },
  {
   "cell_type": "code",
   "execution_count": 36,
   "metadata": {},
   "outputs": [],
   "source": [
    "def get_graph():\n",
    "    builder = StateGraph(GraphState)\n",
    "\n",
    "    builder.add_node(\"search_kg_db\", retrieve_kg_agent)\n",
    "    builder.add_node(\"search_vector_db\", retrieve_db_agent)\n",
    "    builder.add_node(\"generate_answer\", generate_answer_agent)\n",
    "    builder.add_node(\"grader\", grader_agent)\n",
    "    builder.add_node(\"search_expansion\", multi_hop_agent)\n",
    "    builder.add_node(\"refine_answer\", refine_answer_agent)\n",
    "    \n",
    "    builder.add_edge(START, \"search_vector_db\")\n",
    "    builder.add_edge(START, \"search_kg_db\")\n",
    "\n",
    "    builder.add_edge([\"search_kg_db\", \"search_vector_db\"], \"generate_answer\")\n",
    "    builder.add_edge(\"generate_answer\", \"grader\")\n",
    "\n",
    "    builder.add_conditional_edges(\n",
    "        \"grader\",\n",
    "        decide_metrics_agent,\n",
    "        {\n",
    "            \"good\": END,\n",
    "            \"not good enough\": \"search_expansion\"\n",
    "        }\n",
    "    )\n",
    "    \n",
    "    builder.add_edge(\"search_expansion\", \"refine_answer\")\n",
    "\n",
    "    builder.add_edge(\"refine_answer\", \"grader\")\n",
    "\n",
    "    graph = builder.compile()\n",
    "    \n",
    "    return graph"
   ]
  },
  {
   "cell_type": "code",
   "execution_count": 37,
   "metadata": {},
   "outputs": [],
   "source": [
    "graph = get_graph()"
   ]
  },
  {
   "cell_type": "code",
   "execution_count": 38,
   "metadata": {},
   "outputs": [
    {
     "data": {
      "text/html": [
       "\n",
       "<div style=\"display: flex; justify-content: center;\">\n",
       "    <img src=\"data:image/png;base64,/9j/4AAQSkZJRgABAQAAAQABAAD/4gHYSUNDX1BST0ZJTEUAAQEAAAHIAAAAAAQwAABtbnRyUkdCIFhZWiAH4AABAAEAAAAAAABhY3NwAAAAAAAAAAAAAAAAAAAAAAAAAAAAAAAAAAAAAQAA9tYAAQAAAADTLQAAAAAAAAAAAAAAAAAAAAAAAAAAAAAAAAAAAAAAAAAAAAAAAAAAAAAAAAAAAAAAAAAAAAlkZXNjAAAA8AAAACRyWFlaAAABFAAAABRnWFlaAAABKAAAABRiWFlaAAABPAAAABR3dHB0AAABUAAAABRyVFJDAAABZAAAAChnVFJDAAABZAAAAChiVFJDAAABZAAAAChjcHJ0AAABjAAAADxtbHVjAAAAAAAAAAEAAAAMZW5VUwAAAAgAAAAcAHMAUgBHAEJYWVogAAAAAAAAb6IAADj1AAADkFhZWiAAAAAAAABimQAAt4UAABjaWFlaIAAAAAAAACSgAAAPhAAAts9YWVogAAAAAAAA9tYAAQAAAADTLXBhcmEAAAAAAAQAAAACZmYAAPKnAAANWQAAE9AAAApbAAAAAAAAAABtbHVjAAAAAAAAAAEAAAAMZW5VUwAAACAAAAAcAEcAbwBvAGcAbABlACAASQBuAGMALgAgADIAMAAxADb/2wBDAAMCAgMCAgMDAwMEAwMEBQgFBQQEBQoHBwYIDAoMDAsKCwsNDhIQDQ4RDgsLEBYQERMUFRUVDA8XGBYUGBIUFRT/2wBDAQMEBAUEBQkFBQkUDQsNFBQUFBQUFBQUFBQUFBQUFBQUFBQUFBQUFBQUFBQUFBQUFBQUFBQUFBQUFBQUFBQUFBT/wAARCAI6AYgDASIAAhEBAxEB/8QAHQABAAMAAwEBAQAAAAAAAAAAAAUGBwMECAIBCf/EAFsQAAEEAQIDAggGDAwEAwUJAAEAAgMEBQYRBxIhEzEIFBUiQVaU0xYXUVTR0iMyNlNVYXF1gZGTszM0N0JSYnJ0kpWxsjVztNQkgqEYJUTB8CZDRVeDlqKk8f/EABoBAQEAAwEBAAAAAAAAAAAAAAABAgMEBQb/xAA4EQEAAQICBggEBQQDAQAAAAAAAQIRA1EEEhQxUpETIWFxkqGx0SIzQWIFFTKBwSNCU6Ky4eLw/9oADAMBAAIRAxEAPwD+qaIiAiIgIiICIiAiIgIiICIiAiIgIiICIiAiIgIiICIiAijs3mWYavGRC+1aneIq9WLbnlefQN+gAAJJPQAEqI+BLM0O11LMczI7r4i4kUov6oi7pP7UnMe/blB5Rupoi2tXNo81tmlpdSYiB5bLlKUbh/NfYYD/AKr4+FWE/DFD2pn0r8j0jgoWBkeFx7GDqGtqxgf6L6+C2F/BFD2Zn0LL+j2+R1Pz4VYT8MUPamfSnwqwn4Yoe1M+lfvwWwv4IoezM+hPgthfwRQ9mZ9Cf0e3yXqfnwqwn4Yoe1M+lPhVhPwxQ9qZ9K/fgthfwRQ9mZ9CfBbC/gih7Mz6E/o9vkdT8+FWE/DFD2pn0rkh1HibLwyHKUpXn+aywwn/ANCvj4LYX8EUPZmfQviTSOCmbyyYXHPbvvs6rGR/on9Ht8k6kuirHwQdgR22mpRj3NH/AA2VzjSl6/a8vUxH0BzO7oS14HKpjC5iLNUzNHHJXkY90U1ecASQyNOzmOAJG/pBBIIIcCQQThVRERrUTeCzvoiLUgiIgIiICIiAiIgIiICIiAiIgIiICIiAiIgIiICIiAiIgIiICIiAiIgIiICIiCsYvbL64zNp4DmYlkePgHXzHvY2aU/J1a+Af+U/KrOqzptvieq9WVXAh09mDIM3GwLHwMi6H0+dXf8ArCmM3ncbprF2Mnl8hVxWNrgOmuXZmwwxAkAFz3EAdSB1PpXRj/qiOyPSFl3lw3LcNCpPasPEUELHSSPPc1oG5P6gqM3wg+FrjsOJWkCdiemeq+8X3W46cOcxYjo43XulcpkbLhDWo183WfJYkd0bG1oeSS4kAAA9650Um74S7sxwe1brXTejdRiLHYaTK4yzlKUcda+zldySsIm3MY253NJY/kBIBJAM3p3jTkrHCrC6nv6C1XPkLnYw+TKNSvLYmc6ESGdgbOWMhPUBz3tO+wIBI3zDRvB/Wd6vxCw9bTD+Guj89pezjo9O2MxHfqsyk3O3xis2MuEEPK4hzRycxIPINlz5zSvETV3Dvh/jcxw/tux+n7EVfOaWhzdVpzMTKpjZI2RsgYYmzcrzFI5vMANx02QaDb8J7SlHQFbVc1DONgfm2aesY3xEePU7pfyGKWHm7wdujC4kOHKHbqCzXhD6kpcV9F6eh4c6jjoZjHXrdirNFT8cDopY42lp8b5AxocXv3O5EkXLueYCh6V4GawxOmxjGaNq4OBvE/H6pgo0b0D4K+OHYF4ad2+dF2bg5ob1P2nMOq1Xi3gNV0eKuhtcaZ04dVxYqlkcbdxsN2GrM1tjsHMla6VzWEB0BDhvv5wIBQbEiodnj3wzo2Ja1viHpSpbheY5q8+cqtkieDs5rgZOhBBBH4lx/wDtC8K//wAy9H/59V94g0BVixtiOIFR0ezYcxVkjmaPTNDyujd8m5Y6QE9/mMHXbpPY7JVMxj61+hahvUbUTZoLNaQSRSxuG7XscCQ5pBBBHQgqBzI8c13p2Bm5NWKzdkO3Ro5WxNBPykyO2/sn5F0YO+YndafS/rZYWdERc6CIiAiIgIiICIiAiIgIiICIiAiIgIiICIiAiIgIiICIiAiIgIiICIiAiqGo+LWktLXTQu5qKbKbkDF4+N9264jbfavC18p7x3N9KizrnWOoWD4OaGkpQuJAu6quNpN2/pNhiEsp/svbEeno6FBoaiNS6vwWjKPjufzNDCVCdhPkLLIGE/IC4jc/iCqR4far1CAdS68txRH7ahpes3Gwn8RlcZZ9x3bslZv37DuEtprhLpDSV7yhjcDVGVI2dlbfNavPH9azKXSu9Pe495QfMORr6vrUtVaZc61JAJIWCeKSu23CXDnYOdrfS0Fj9i3cd+ziVO4nN4/UdaQ15GymM8k9aUbSQv7+SRh6tP4j+UdFJqHzOk8XnpmT2q7mW2DlZbrSvgnaPkEjCHbfi32/Et8VU1RFOJ9N0r3u/wCTaZ/+Fg/Zj6F+tx9Vjg5taFrgdwRGAQq+dESAbR6lzsbd99hZY7/1cwn/ANV+fAif1pz37eL3SvR4fH5StozWlFVvgRP60579vF7pPgRP60579vF7pOjw+PyktGa0oqt8CJ/WnPft4vdJ8CJ/WnPft4vdJ0eHx+UlozWF2OqucSa0JJ6kmMdV+eTKY/8AhIP2Y+hUHVmi9T068F3T+pMtfkru5rGLsTxMdbi26til5AI5R3tLwWO25XcnN2jO1pjHU9W47xypqjUEzGSGGevNO2GavK37aKVoY1zHDcbg+ggjcEEujw+PyktGa1ZfO0tPwRtl3dNJ5tenXbzTTkfzWM9PeNz0DR1JABK4NP4ierNcyWQEZyt4t7XsnFzIo2b9nC0nvDeZxJ2G7nvOwB2HJhdLYzAPklp1trMgDZLU8jpp5ADuA6V5L3Dfc7E+kqWWNVVNMTTR9d8p3CIi0oIiICIiAiIgIiICIiAiIgIiICIiAiIgIiICIiAiIgIiICKpan4qab0pkfJli8+7my0ObhsXA+5ecD3O7GIOc1v9dwDR3lwG5UQ7LcRdVOLcZh8doqgTsLmdf49cI+UVYHiNu47i6ckelnTYhoZIA3PQKh5DjdpSG7NQxdufVWUidySUdN1n5B8b/wCjK6IGOE/81zB1HXqFwfEnisy7tNX5PKa5eTua+anAo/k8TiayBwHcC9j3bd7juSb5RoVsXUiq068VSrEOWOCBgYxg+QNHQIKGctxJ1Mdsfg8Voyo7usZ2fx+4PxGtXcIwfx+MO6+j5R4Ox5sB2rdTZ3VR286q+2aVI/iNet2bZG/ilMn5SVoiIIrTmlcLo/HtoYLEUcLRb1FbH1mQR/4WABSqIgIiICIiAiIgIiICIiAqnqXRk0+T+EGn548ZqVkbYnSSbmvfiadxDZYPtgNzySDz4y4lu7XSMktiIIDSerodTwzxSV5MbmKZDL2LsEGWs477Hp0cx3KS2Qea4A7dQQJ9VrVukn5l8OTxdhmM1LSY4U8gWczS0kF0Ezf58Ly0czdwRsHNLXta4c2ktVs1LXsxT1jjczReIb+NfIHurvI3BDhtzxuHnMfsOYd4a4Oa0J9ERAREQEREBERAREQEREBERAREQEREBERAREQEREBERBB6q1dU0rBCJILORyFouZTxlFgfZtPA3IYHFrQB03e9zWN3Bc5oVZGk9U63Jk1TlnYHFv8AtcDp6w5j3NI7p7gDZCevdD2YB6czx1PLwtjiz/ljVtjlnyN/IXKUcrupgq17MkEcLP6LT2RkcB3ve7ffYK+oInTmlMNo+h4lhMXUxVbfd0dWJrOd223M4jq53yuO5PpKlkRAREQEREBERAREQEREBERAREQEREBERAVF4lUJ8KIdbYqJz8phYybdeIbm/Q75oCACXOaN5I/T2jQ0ENkfvel+EbjY9yDhpXYMlSr26srZ608bZYpWHdr2OG7XD8RBBXOs+4CcsXCjC02EGHHPs42EAEBsVezLAxo39AbG0foWgoCIiAiIgIiICIiAiIgIiICIiAiIgIqrlNV3pb9ing6Ve2ar+zsWbk7oomybA8jA1ri8gEbnoBvtuSHAdLy5rD5jg/apvdrqjRsSYv1R+8LZd0VI8uaw+Y4P2qb3aeXNYfMcH7VN7tZbLXnHOCy7oqR5c1h8xwftU3u08uaw+Y4P2qb3abLXnHOCy7rOPCA4r3+CXDLIaxpabdqiLHPY63TZb8WdHATymUHkfzcpLdxsOhJ36dZDy5rD5jg/apvdrqZiXUufxN3GZDFYG1QuwPrWIJLM3LJG9pa5p+x9xBITZa845wWYT4DPhPz8a35jTcGjpcTQxfjWRlyxuiVhksXHysg5BE3Y7SSedv17M9OvT1wvOvg78Fcj4OOjbWBwcGJum3ckt2LtmeQSyE9GNO0fc1oAH49z032Wp+XNYfMcH7VN7tNlrzjnBZd0VI8uaw+Y4P2qb3aeXNYfMcH7VN7tNlrzjnBZd0VI8uaw+Y4P2qb3aeXNYfMcH7VN7tNlrzjnBZd0VI8uaw+Y4P2qb3a+m6m1NS+zXcTj7VZvWRtC1IZg30ljXRgOP4tx+Lr0TZcTOOcFl1RcFC9Bk6Ve5VkE1aeNsscje5zSNwf1LnXJMTE2lBERQEREBFXc/qexTvDG4qnHfyIYJZe3mMUMDCSGlzg1xLjsdmgeg7lvTeK8uaw+Y4P2qb3a6qdHrqi/VHfMLZd0VI8uaw+Y4P2qb3aeXNYfMcH7VN7tZbLXnHOCy7oqR5c1h8xwftU3u08uaw+Y4P2qb3abLXnHOCy7oqR5c1h8xwftU3u08uaw+Y4P2qb3abLXnHOCy7rN/CC4sX+CPDK/rGlpt2qYsfIw26kdvxZ0cDjsZQeR/NyuLdxt3Enfp1kfLmsPmOD9qm92unmZNS6hxF7F5DFYG1QuwPrWIH2ZuWSN7S1zT9j9IJCbLXnHOCzCvAY8J6fjUctpqDR0uKoYkWchNljdErDLYtvkZByCJux5ZJPO3/8Auj069PXC86+DvwWyXg46NtYDB18RdNq5JbsXbE8glkJ6Mado+5rQAP0n0rU/LmsPmOD9qm92my15xzgsu6KkeXNYfMcH7VN7tPLmsPmOD9qm92my15xzgsu6KkeXNYfMcH7VN7tPLmsPmOD9qm92my15xzgsu6KkeXNYfMcH7VN7tPLmsPmOD9qm92my15xzgsu6KkeXNYfMcH7VN7tcser8vii2XOUKUdDcCS1RsPeYN/5z2OYPM7t3A9N9yNgSJOi4n0tP7wWXJERciCIiAiIgIiIM+0eeaDLk9/le91/JYeP/AJKeUBo7+L5f88X/APqZFPr2Mb5krO8REWpBERARcF+7DjKNi5Zf2devG6WV+xPK1o3J2HU9B6F1dOagoas0/jc3irHjWLyVaO5Vn5HM7SKRocx3K4Bw3BB2IB+UKCRRFD6T1didcYVmWwlvx3Hvmmrtm7N8e74pXRSDZ4B6PY4b7bHbcbjYoJhERUEUPq7V2J0Jpy7ns5b8RxVJofPY7N8nIC4NHmsBcergOgKYrV2JzedzmGpW+2yWEkiivwdm9vYuljEsY5iAHbscD5pO2+x2PRQTCIio4OFp30BhfxQkD8QDjsrUqrwt+4DDf8o/7nK1Lk0n59ffPqs75ERFzoIiIKHTO+udVb+h1Ufo7EfSVMqGp/dzqr+3W/chTK9ev+3up9IWRERa0EREBEUPpfV2J1nQnu4a345Wgtz0ZH9m9nLNDI6OVuzgCdntcNx0O24JCgmERFQREQEXRZnMfLmpsQy7A/KQwNsyU2yAysic5zWvc3vDSWuAJ7+U/Iu8gIiICKH1Fq7E6UkxLMrb8VdlrzMbTHZvf2th7XOazzQeXcMcd3bDp39yaX1didZ0J7uGt+OVoLc9GR/ZvZyzQyOjlbs4AnZ7XDcdDtuCQoJhQHEH7gtSbgEeTLPQjcH7E5T6gOIP3Bak/Nln905b8H5tPfCxvhfaxLq0RJJJYCSfyIlX+Kw/2B/oi8ed6OVERQEREBERBnujv4vl/wA8X/8AqZFPqA0d/F8v+eL/AP1Min17GN8yVne87T2c3oPjrJe1nkdST4zNZQw6bsY7JHyS4OrnkoWKg+0k5mvc2TY8x284bEGlcJ2cXeJuB01xAx+RDbORuMt2JJ9VzOpGuJiJq3k3xTs2bMDmDaTnDgHF5O69Cx8EdFR63+F3kXnz3jBtieW1M+Js5bymVsLnmNr+XpzBoP41wY/gHoLE6u+EtLANq5Xxl10GK1O2uLDgQ6UVw/sg87ndwZv171zasowPUus9QjWtDW2l7mo26bdrSvg57GU1AXVLTHWxWnihxwjLRGHF4bIXNeC3fYqz6bs5iNvGrW9nPZ3K2NKZvKHEYU5GZtMCGlHII3RNcBI0uf0Y7drS0FoBLidLyPg4cOstkrt+1pwPsW7Xjz+W5YYxlnnDzPExsgbFKXDcyRhrjudydzvccBo/D6YdmDjaYrnL3pMje3ke8TWHta179nE7btY0co2HTu6lIpkY9ofRE7+E8es72ttR6iymV05JbtNs5Jz6Ez5qxeeSsB2cbWl3m8gGwHXdUjhDRyfD/E+Dvfqanzl6tqehFQyGLv3DLTEZxjp4uyi25YjG6JoBaASN+YuJJW14DweeH2l8jNcxWn/EpJI5ohFHcsdhE2UFsgihMnZxcwJHmNb3qXm4X4OvhdNUsbRiryaVj2wBnkmkjpPbXdAwuaJA6UBjiCHO3I9IOxDVkW9eNvBx1RmL+qNJ6eyz8jp3SsGQz02Lkrz9nHnb7b873xyOY7fs445HFsbhs9zJCdwwA+iIcVxVEzDLqfRzog4c7WacthxHpAPj52P6CpCPhBpGLT2OwjMTyY3HZI5ipG2zMHwWzM+Yytk5+cEvkedt9tnFu3KdlZiZm481afzOodVaz08x2otVz6+i1pJHqHTzLFiPGU8ZFNI5vmN2ibGIm13NdvvIX7HnDiB7GXmk+DrrOLiB5UxNrDaWpjNOyflDF5nKvlliM5lfC6i+TxcdpuWvIO3nOIaO5al5K4setOjP/wBt2/8Av1KbwPN/E6rkuJvAridrrLaozcdqrl7OPr4GrdMVCpBXuthbFLAPNke4N53Od13cNttlcMloiTUnFPj3lINXZ7StvFux89efFXzBAx7cXE8PmjHmytGw3a/cbb7bb7rVdR+DVw51fk8lkcvpxs9zJlsl7xe5Zrw2JBttI6KOQML9wPO25vxrs6o8Hjh9rPP38zmdP+OZDISRyXX+OWGMtckbY2NljbIGPaGsaAxwLe87buJM1ZEvwe1Rf1two0dqDKMbHkspiKtywGN5WmR8TXOIHoBJ3A/GreviCCOrBHDDGyGGNoYyONoa1rQNgAB3AD0L7WyBwcLfuAw3/KP+5ytSqvC37gMN/wAo/wC5ytS5dJ+fX3z6rO+RERc6CIiCh0/u51V/brfuQplQ1P7udVf2637kKZXr1/291PpCy89cb5M1pHiPX1dn8pqOHhtXrVojLpvJGuMZY7Yh8tquNu3ieHRtLvO5QD5vpVOmdxR4v6m4h3dP3pqM+EzlrDYwx6qlx8NHsA0RvlpNqSMnD9xITI48wfyjlAW+6t4I6K11qKLOZ3C+UMhG2JhL7U7YpGxuL4xJC14jkDXEkB7T1K6+peAWgtXaml1BlMA2XKz8gsSw2p4G2eT7Tto43tZLtsAOcO6ABc80yjz5xv1bq8VNYaj07dz0OX0XVrDK3ItQGtiIbrYY5ZIoaXZu8ZaQ8c3acv2/QrS6+Mv688I7VFK3qTPUsFjsHibkWKx2SlrROnkksHnPI4HbZmxaCA/ccwPKNrvqngBoDWuZyOUzWno71rIxiO611iZsNnlbyNdJC14jc9rdg15aXN2GxGw2sWC0Fg9NZixlcfTfFkLFKtj5bEliWVz4K/P2LTzuPVvaP877Y79SU1ZuMh4F4jIcV8XDxDzer9RR5SXL29sNSyLoKFOOC1JEyq+uPNd5sY5i8Fx5u8dCswwtHJ6N4a5jiBi9T5yteo6/sQjFtuEY+SCXNdhLE+ADldzCVzuc7uB22IAAXo2TgHoN+sHanGBEOYfbbfe+C1PFDJZaQWzOga8ROk3APMWk7jffdSMnCTSculbem3YrfC2sgcrNW8Zl86ybIsmTm5+YfZgHcoO3o226JqyLevMWttR6mwWtNUcKq2aybcnrDKVLmAyXjMjp6VCcON8RP33YIBWmLACOXt4wNui12xi+Kjp5DBqbR7IS48jZNO2nODd+gJF8bnb07D8issOl6trJYbN5WtUt6kx1SSq2/DE6Nre17Mzdm0ucWtc6NuwJcQBtudzvZ6x5nujiTxX1pxDbgbtmn8Hco/DY1serZsa2mI4Y3MmlrNqyixzucX80riHDzQBykmzaSxepeMGvdX4rV2rsxg7elYcbSGP0tkH0ozYlqMmmtOLQHSNdI5wYHDlDWfakkrTdXcA9B661BLm8zgG2MnNG2KxNDanri0xv2rZmxva2YAdAJA7p07lya14F6H4hZhmWzmDFjJNg8WdZr2p6r5Yfvchie3tG9T5r9x1U1ZGcYnQ9Sfwv9RW5MnmhNW03i7jGMy1hkcjhNZj5XxteGvj2YDyEcvM5ztt3EmiY/UmpI+D2n+Mcmrs3Lqe/noI5sEbpOOfFLkPFXUWVftAWRk+cBz8zCeZejc1wg0lqDUGFzlzFHyth42Q07de1NA9kbHh7Y3dm9okYHAENfzDffp1K6FfgHoGrq8anj07E3LNtuvtJnmMDLJ7521y/smyncnnDObc777pqyKVwYw9/VOveImbyupc9ajw+r7dPH4zylK2pDGK8JLXRhwD27ybhjt2tLQWgEu32PUuVkwWnMrkoYDalp1JbDIB3yOYwuDf07bKMg0bFprH586UZVxeUy9x+SmnusltQvtPaxrpHR9o07FsbRytc0dPy7xONxnEyPI1XZHUek7FAStNiKtp+zFK+Pfzgx7rrg1xG+xLXAH0HuWUdQ88Q4G7lNOcBte5XV+b1Bl9Q6mxt23Xnul2PifNWnk5Ia/2sfZ/aDl2P23NuT0jYaOT0RwX1lxKweqs5QzOG1XlJYcULpONtN8qPYa7623K7tOYjm+3DnDY9AF6Hxfg1cN8LmqeVo6bFW1SveUqrIrtkQV7HXz44e07Nm/Md2taGn0joFyVvBx4dVNQR5pmm2OvMuvyQEtueSHxpzy8zmF0hjMnMSQ4t3HTbbYba9WRpAO4BI2PyKB4g/cFqT82Wf3TlPqA4g/cFqT82Wf3Tl2YPzae+FjfC+1f4rD/YH+iJV/isP9gf6IvHnejlREUBERAREQZ7o7+L5f8APF//AKmRT6jLmIyunb92THY92XoW5nWeyimZHNDI7q8ee4Nc0nqOoIJPf3rr+Vs/6m5P2qn79ezVbEnXpmLT2xHrLKYvKbRQnlbP+puT9qp+/Tytn/U3J+1U/frHo/ujxU+5ZNooTytn/U3J+1U/fp5Wz/qbk/aqfv06P7o8VPuWTaKE8rZ/1NyftVP36eVs/wCpuT9qp+/To/ujxU+5ZNoqlp/W+Q1TjfH8ZpTKWKnbTV+0M9VnnxSvikGzpgej2OG/p23G4Ul5Wz/qbk/aqfv06P7o8VPuWTaKE8rZ/wBTcn7VT9+nlbP+puT9qp+/To/ujxU+5ZNooTytn/U3J+1U/fp5Wz/qbk/aqfv06P7o8VPuWTaKE8rZ/wBTcn7VT9+vplnUl89jDpyXGyP6eM5CzA6OP+tyxPc523fy9N9tuZu+4alv7o8Ue5ZJcLfuAw3/ACj/ALnK1LoYLDw4DDUsbA5z4qsTYg+Q7udsPtj+M95/Ku+vOxqorxKqo3TMpPXIiItKCIiCh0/u51V/brfuQpldXO4bIUMzPl8VVbkRaYyOzTMojfuzflkjLvNJ2Oxadu4EHpsY7ytn/U3J+1U/fr1+rEiJpmN0R1zEboiPrLK102ihPK2f9Tcn7VT9+nlbP+puT9qp+/To/ujxU+5ZNooTytn/AFNyftVP36eVs/6m5P2qn79Oj+6PFT7lk2ihPK2f9Tcn7VT9+nlbP+puT9qp+/To/ujxU+5ZNooTytn/AFNyftVP36eVs/6m5P2qn79Oj+6PFT7lk2iqWn9b5DVOMGQxmlMpZqGaaASGeqzz4pXRSDZ0wPR7HDf07bjopLytn/U3J+1U/fp0f3R4qfcsm0UJ5Wz/AKm5P2qn79PK2f8AU3J+1U/fp0f3R4qfcsm0UJ5Wz/qbk/aqfv08rZ/1NyftVP36dH90eKn3LJtFCeVs/wCpuT9qp+/Tytn/AFNyftVP36dH90eKn3LJtQHEH7gtSfmyz+6cuTytn/U3J+1U/fr8sY3N6sqyY2xiJcJRstMdqezYidJ2R3D2xtic7znDoCSA3ffqRynOiIw64rqqi0TnHuRFpuvVX+Kw/wBgf6IuQAAAAbAegIvGli/URFAREQEREBERAREQEREBERBQOB7TFoSaFw5Xw5vMxOG23VuTtD5B+Xf0777nfc39Z7w9aNO641xpqQFgkuNz9LcbB0Fpu0gB9JbYisEgdwkj3HnAnQkBERAREQEREBERAREQEREBERAREQEREBERARF+Oc1jS5xDWgbkk7ABBQOBI24b1ztsHZHJvHTbob9gj0D5f/8Ae9aAs/4AROZwZ0jO5jo3XaLcgWyN5XDtyZuo9B+ydR6FoCAiIgIiICIiAiIgIiICIiAiIgIiICIiAiIgIiICIiCra00pZy8+OzOHmiq6kxJf4pLPv2U0T+Xtq0pAJEcnIzzgCWuZG/Z3Jyu7Ok9a0dWCzAxstDL0uVt/EXNm2abnDoHtBILTseWRpcx+xLXOCsCrurdBYnWPi81ts9TJVdzUyuPmdXt1ie/klb15TsN2O3Y7bZzXDogsSLPDkNe6Kdtcoxa9xIPS1juSpk42/wBeB5EM23UlzHxn0NiJUvpfilpnV152OpZIQZhjeaTD5CJ9S9GPlNeUNk5eh84DlO3QlBbEREBERAREQEREBERAREQEREBERAREQFR+M2Unp6Av46hIY8znNsLjSBuW2LG8Yk29IjaXyu/qxOV0nnjrQyTTSNiijaXvke4Na1oG5JJ7gFRdMQza71NFrC02WHDVYnQ4GpM0sc8P3Et17T3GRuzYwRu2PmPQzFrQueJxdfCYqljqjOyqU4WV4Wf0WMaGtH6gF20RAREQEREBERAREQEREBERAREQEREBERAREQEREBERAREQFDao0bgdbUG0tQYajmarXc7I71dsojd6HN5h5rh0IcNiCAQVMogz13DXM6eD3aQ1jkMe3m5m47O82Wpjv6DtHtnaOvQNmDRsNm7DZfh19qnTO41RoyxPWaeuT0tIcjHt/SdXLW2Af6sbJdv6RWhogr2lOIWmtcGwzBZqnkbFY7WKscgFiufkliOz4z3dHAHqFYVXtV8PtN64bCc5hqmQmgO8Fl7OWxXPXzopW7PjPU9WOB6n5VXRoLVWmGk6X1lYtV2/aYzVTDkIgPkbYBbYB/rSPl/IUGhov5xP8PfXGlPCy1JRy+Mlyekq1jyJc09jCbRqOrFzJbFZ3Zsc93adq/zmguYWtO3Iwt93VOLui7tWGxHqbGsZKxsjWzTiJ4BG4DmO2c0/KHAEdxAW2jCxMSL0UzPdC2mdy3oqt8amjvWjE+2R/SnxqaO9aMT7ZH9Kz2bG4J5SurOS0oqt8amjvWjE+2R/SnxqaO9aMT7ZH9KbNjcE8pNWclpRVb41NHetGJ9sj+lPjU0d60Yn2yP6U2bG4J5Sas5LSiq3xqaO9aMT7ZH9KfGpo71oxPtkf0ps2NwTyk1ZyWlFVvjU0d60Yn2yP6U+NTR3rRifbI/pTZsbgnlJqzktK6jstRZas1XXK7bNWFlmeEyt54onl4ZI8b7ta4xyAOPQ8jv6JUD8amjvWjE+2R/Sv5i3rXFDiN4T+o9fYCCtQx9u/wBmYdR2mVKdzHxvaI4LEbnNMsbmxs5m7H5RsQNmzY3BPKTVnJ/SSKCTivO2xbhdFomJwfXrStLXZd4O4lkae6sCN2sP8L0cfM2D7+qfQ4raXko133dRYOvcdG0zxQZFssbH7ec1ryGlzQdwHFrSR12Hcuf41NHetGJ9sj+lNmxuCeUmrOS0oqt8amjvWjE+2R/SnxqaO9aMT7ZH9KbNjcE8pNWclpRVYcUtHOIA1RiST0/jkf0qxUb9bJ1IrVOxFbrSjmjmgeHsePlDh0KwrwsTDi9dMx3wlphzoiLUgiIgIiICIiAiIgIiICIiAiIgIiICIiAiIgIiICIiAiIgIiIMup6L05heIFqvi8Bi8XFQx9eaGOjSjga2SV8we/ZoALtomgEjcAu2PnFW5REn8pec/NdD97bUuvWq6opjsj0uykREWDEREQEREBERAREQEREBERAREQFF4AjG68npVx2Va7Rdbkib0b2rJGs5wO4Eh4B27+Ub9ylFE4/+Uyv+aJv30SyjrpqjsllC8oiLymIiIgIiICIiAiIgIiICIiAiIgIiICIiAiIgIiICIiAiIgIiIKLJ/KXnPzXQ/e21LqIk/lLzn5rofvbal161f07o9IZVb2ba+4r5XAayq6T0vpY6r1A/Gvy88El9tKKGs2QRg87mO5nvfuGt2A6ElwCz6Xwwsb8GNG2oqOIhzeosa7LeJ5jUEWNq1K4kMY5rErN3SFwIDGMPVr+uw5jDeFjLFh9e6YyzNQ4vTVp2NtU3z28ldxktmJz2EwmeCCVrm7jcMPK8O85p712tD6Hz2exOheIug8Dh9N2o8C7T9jSuoTOKzqcc7nQyRyiMyNO4L2udHu9kvXY9VzzM3mIYrBiPCk+FtTSTNM6YbmMpnrmQxxreVomwVrFRoc/7Oxr2yRFpLhIzfccuzSTsOXI+FPj8FombJZfEw4vUUWel02/E2spFFXbcjbzuJtvDWth7Mh/OWg9QOUkgGwycO9S5fWHDLUOUkwsVnTxyL8nFjhIyN5ngMcYga4EnbpuXFvcSPkVPyvg8aikny2axuSxUGo4NaT6ow/jIklqyQy1Y6769kcoLeZrX7lnNt5pBPUJ8Q4Y/DCpO0ZqrKMwdTJ5fT1jHRT0MHm4b9exHcnbCx0NljdnOB592Oa07tAOwcHK26z4t6w0Npqpk8no7B0pJp5GSC/q2GpXgYA0x800kQBkfu8cjWkDkO7+oXW1Zw61xxC4ZX8PmWaYxuZmy2PtwsxT5/F2QQWoJnNfI5gc957OTbZjR5zR8rl3OJ3DPUWb4k6d1hgI8DlJMbj7OP8n6jMohrulfG7xmHkY77IAwsIIG7TtzBX4hS9V8fNS6nwXBzUOg8bA+lqjLPgtU719sBe5kM+9ZzxFJs3nieTI3700bEPO0xxC8KGtonVUumYqeCkzdCpDZykWX1PXxcUL5G8zYYXTN3nft135WtAc3dwLthG4vgFrHT3C7RGIo5DB2NS6P1DPl6kk3bR07sUj7O7HgNLoXclk/a84BYOpB6StnhlxCwWusrq7T3wTt3dS06jc3jcw+x2Fe5BF2YlrSMjLnMLdgWOa0nlB5hup8Q07hzrzHcTtDYbVOKEjKGUrieNkwHOzvDmu2JG4cCOhI6dCVBcYOJeT4Z46ldpYfF5CtK57Z7OYz8GJggI25W88jXcznbu2AG3mncjouW7xTxGjnQ4nNRZV+Vghj8ZdiNN5GxVLywFxjfFC9vLue7mJHceoKpep9OZTiVrfTuv8ASEGOyLMbTtYvydrKjcotrvkfG/xqFj4efnAZyHdoDmkgPHVZTPV1DkreEk/UOG4c29MaXfmLOtWWxXr2L7K7asldu8gkfyuBaC2QczQT5o2a7fYdGz4T9qOhjKsekWN1Va1Ba03NjreWZBTgtQR9q7e2YyCHsLCwcgLi7bYEL44b8A9SaOl4Xx37+JtRaQt5qSeasZGGzFb7QxFkZaQ1wMmzmlxAA6OcuTIcHdWwYnW1CvjdHajo6l1LZy0uP1C6cxGtJXhjj6sjPLK18Tj0BG22zgeox+IWHIcd/gtlcxR1XgvIL8fpduptxdbP2jWucyxANmgc8b+zbuC4O7Vu23p6tfwlcPZpaWvtpObj8lgLmo8pK+Yh2JrVmtDw9nLu9/auMW3m9WOPXbYwc/gwT5fS3CTG5rOuyVvSMrW5Ky4u/wDH1dhIa/XcuZ20NYbOP2jDv16KRx3gyY2LKcV3Wrj347Wld1KtCwkux0EgkfO1m/Qc1ieWXYdO78avxCM0F4XGM1hq7T+Hs0cTVh1BI6Kg/Hakq5G1E/s3SNbarxedCXNaRuC8B2zSRurfwP4t57jHg6moJdIR6f09ahlMNmXKCaeSVkvZkCIRD7GdnkPLgfN+02IK4+FemOIum34zGan+CVrEY2r4sMjjWTi7cLWhscjmOaGRHYbuAc/cnpsFNcDNB5Dhlwp0/pjKTVrF/HxyMlkpuc6JxdK945S5rT3OHeAkX+ovaicf/KZX/NE376JSyicf/KZX/NE376Jb6d1XdLKF5REXksRERAREQEREBERAREQEREBERAREQEREBERAREQEREBERAREQUWT+UvOfmuh+9tqXUVluTFa/msWXCGHJ0YIK8rzs18sL53Oj37ubllDgN9yA8gbMcVKr1quuKZ7I9LMpERFgxEREBERAREQEREBERAREQEREBROP/lMr/mib99EpZReng3Ka6nvVj2tWnRdUfM3qwyvka4sB7iQGDfY9OYbrKOqmqeyWULuiIvKYiIiAiIgIiICIiAiIgIiICIiAiIgIiICIiAiIgIiICIiAiIg696hVylSSrdrQ26so2fBOwPY8fIWnoVX3cLtGvcXO0phXOJ3JOPi3J/wq0IttGLiYfVRVMd0rEzG5Vvis0Z6pYT/AC+L6qfFZoz1Swn+XxfVVpRZ7Rjcc85XWnNVvis0Z6pYT/L4vqp8VmjPVLCf5fF9VWlE2jG455ya05qt8VmjPVLCf5fF9VPis0Z6pYT/AC+L6qtKJtGNxzzk1pzVb4rNGeqWE/y+L6qrHFLhtpOhwx1fZq6axFS1Dh7kkViGjEx8TxC8tc12w2IIBB3G2y1BVLi6SOE+tSDykYS7sevT7A/5Ov6k2jG455ya05ulpvhjo+fTuKkl0thZJH1YnOe6hES4lg3JPL1Kkfis0Z6pYT/L4vqqV0t9zGI/ucP+wKUTaMbjnnJrTmq3xWaM9UsJ/l8X1U+KzRnqlhP8vi+qrSibRjcc85Nac1W+KzRnqlhP8vi+qnxWaM9UsJ/l8X1VaUTaMbjnnJrTmq3xWaM9UsJ/l8X1U+KzRnqlhP8AL4vqq0om0Y3HPOTWnNV28LdGtcCNJ4QEdQfJ8X1VYqdKvjqsdapBFVrxjlZDCwMY0fIAOgXMiwrxcTE6q6pnvlJmZ3iIi1IIiICIiAiIgIiICIiAiIgIiICIiAiIgIiICIiAiIgIiICIiAiIgIiICIiAiIgKo8XwTwm1sA3nJwl3ZvXr9gf06K3Ko8YG8/CXWzQ0uJwd4cre8/YH9AgmtK/cxiPR/wCDh/2BSii9K/cxh/7nD/sClEBERAREQEREBERAREQEREBERAREQEREBERAREQEREBERAREQEREBERAREQEREBERAREQEREBERAREQFUeLw34Ta1BAIOEu9++38A/5Ov6lbl5s8PHiXrjhbwdlyWlsdishh7rZsZmjfhlklginZyMkj5JGhuxLgS4EbuZ+PcN/0r9zGI/ucP+wKUWC+BjxL1zxc4QV9S6yoYnG15niDFRYyvLG6SCMchleXyv35nAgbcv2p79xtvSAiIgIiICIiAiIgIiICIiAiIgIiICIiAiIgIiICIiAiIgIiICIiAiIgIiICIiAiIgIiICIiAqPZymW1JeueI5KTDY6rNJVY+vDG+aZ7CWvcTI1zWtDgQAAd+UknrsLws90V/wANyP54yf8A1sy7tHiNWquYvMW7d9/ZY3XcnkfO+umY9no/9snkfO+umY9no/8AbKbRdOv9seGPZboTyPnfXTMez0f+2URq3h3NrvTWR0/ntT5XI4fIwmC1VkgpASMPo3FcEH0gggggEFXJE1/tjwx7F1U0/oi7pXBY/DYnVeVpYyhAytWrx16W0cbAA0bmvueg7z1PpUh5HzvrpmPZ6P8A2ym0TX+2PDHsXQnkfO+umY9no/8AbJ5HzvrpmPZ6P/bKbRNf7Y8MexdG4/K5TT2So18jkX5ilemFds88TI5oZC0lu/Zta1zXbbdwIJHfv0uqz7VX8Pp/871v9xWgrl0mmLU1RFrk5iIi4mIiIgIiICIiAiIgIiICIiAiIgIiICIiAiIgIiICIiAiIgIiICIiAiIgIiICIiAs90V/w3I/njJ/9bMtCWe6K/4bkfzxk/8ArZl36P8ALr74/lfon1+Oc1jd3ENA9JOy/V4m1fpBmvdf6zwk+FlzPEB2sK0mO1G+dj6VPGtfBJ2DiX7AMiEjXwcpLnPB2O+4yqmyPbKLzlw40jp5/EfjNrHLYvyrfwuo3S1Ocdoa5Zj67y6Fh6NkdvsXDqeVo36BZpwhNfDcYOE2bwrdN4GLWVK/NLhMLcnnsvh8UM0QuSySuErw5rfO7NpDg8buWOsPWmuteY/h9j8dcyMNmaK9k6mKjFVrXOEtiVsTHO5nDzQ5wJI3O3cD3KyLwjjsZpLPcMeHusshagu8Ub+tcZ5Xs2bZ8dZY8ogSV3RF27WRtGzY+XYBrSB6V3MPou5xTtarymX1tpbTOtotR2aIuZKtY8r4uRtktqxwSeOxtDCzs+Roj5XB2xDySTNeR7iRefOGvD7Cah8IHi3msxRiymRxmYxrqT7ALmVpW46u4yxsJ2a8nbzu/ZoG69BrZE3EDqr+H0/+d63+4rQVn2qv4fT/AOd63+4rQVhpP6KP3ZTugREXAxEREBERAREQEREBERAREQEREBERAREQEREBERAREQEREBERAREQEREBERARcNm3BTEZnmjgEj2xMMjw3me47NaN+8k9APSoWrrCPLTU/JOOu5KpNZlrzXRGIYa/Z/bPPalrntLvNaYw8E/iBICwLPdFf8NyP54yf/WzKfpYvP5FmNny+TZj5Y2Ti3j8QA6CcvJEe8sjO0HI3ruzkJd1PTzVWOHWOiw+np6EBlMNbJZCJhnnfNJyi3Ly80jyXOdttu5xLj3kkrv0f5dffH8r9FnXn/iR4KLOJWq8nkbuaw9ejkJ45Xvi0tU8qwhvL5sWQBD2nzeji1zhv0PcvQCLOYid6OnQw2PxU12alRrVJrs3jFqSCJrHWJeUN55CBu53K1o3O52aB6FD47hppDET9vQ0rhKU3jIudpXx0Mbu3AIEu4aPPAc7zu/zj16qyIlhWZ+GGjbWakzE2ksFLl5JWTvyD8bC6w6Rjg5jzIW8xc1wBB33BAI7lz3uH+l8nqCHPXNN4i3nIduyyc9CJ9lm3dyylvMNvRsVPoloHTp4bH4+5et1aNatbvPbJbnhhaySw9rQxrpHAbvIa1rQTvsAB3BdxEVEDqr+H0/+d63+4rQVn+qRzWNPAd/let0/ISf9FoC16T+ij92U7oERFwMRERAREQEREBERAREQEREBERAREQEREBERAREQEREBERAREQERReR1NjMVka+OsXIm5KzFLPXotPNYmZGAXuZGPOcBu0Egd7mjvI3CUXy97Y2Oe9waxo3LnHYAfKq7Fk8/nYYn0sdHhatmg+QWMm7mtV7B6RtdWZ5rmgec7eVp7m7bklp+hqWUhe3PSS6g7elFStV7x3pzhp5nPNb+C5nOG5PKTsAN9uiD6yGtasLspXxlS1n8njhAZsfj2tD/ALKRyAPkcyP7U85BfuG9fSN/21T1FlXXYTdr4Ou2zGa1ikBYnkgGxeHiRnIxzj06B+w677nzbA1oa0NaAABsAPQv1BC19H4qGw+xLXdfnN12RjkyErrJgnLeTmh7Qu7IBvmhsfKACennO3mkRAVVyek70V6zbwd+Cn40/tJ6tyu6aIybbF7OV7SwnYcw6g7b7BznONqRbMPEqw5vSt7KR5A1h+E8H7BN75PIGsPwng/YJvfK7oujasTKOULdSPIGsPwng/YJvfLq5bFa3o4q5ZrXMFbsQwvkjruqyxCVwaSGl5m2buRtueg33WgqH1lTOQ0hnKoqQXzPRniFWzIY4puaNw5HvHVrTvsT6Ad02rEyjlBdXK2E1nNWikkyGDikewOcwUpXcpI6jcTdfyrk8gaw/CeD9gm98rZiouwxdOMxMh5IWN7ON3M1mzR0B9IHyrtptWJlHKC6keQNYfhPB+wTe+UHrr4faV0dmczjhhc3coVZLMeObVmidY5BzFjXdo7ziAduh3Ow9K1NE2rEyjlBd4b8HPw5q3GzivhtN5XSWQ8r2JXCgzHyR+LQbRudJNKJHgktYHnvPTcNaXEA+5FiWifBG0PwyyWoczpEXcLqPK3X3Y8q2UOdTB3IrMYAGOrbkkxPDuY8pLiY4yy+6c1tY8rR6d1NVjxWonNJgfESamTa0bukrOPXcAEuhd57Nj9uzlkdz14lWJN6kvdcERFrQREQEREBERAREQEREBERARcFy02lA6V4Ja3bo3vUf8Ja33uX9Q+lBLooj4S1vvcv6h9KfCWt97l/UPpQS6KI+Etb73L+ofSnwlrfe5f1D6UEuiiPhLW+9y/qH0p8Ja33uX9Q+lBLooj4S1vvcv6h9KfCWt97l/UPpQS6KI+Etb73L+ofSnwlrfe5f1D6UEuihn6pqsB3jl6DfYAE/q3URmNQZW9Hcr458GJO8XYX5YzacRvvKDDuwNPKNmu53Dd25aQ3lcFtlmjgaHSyNjaXNYC87DckAD8pJAH4yoKvq5uVmrDEY+3kqz7ctWxc5Owir9n9s/7JymRvN5oMYcCd+oAJEYKWDltvs3q0+Wm8eGQgOS2nFSZrSxjoGu6RcrS4DkAPnOJJLiTOfCWt97l/UPpQdShhs1cdi7WYy5hs1jOZqOJaI6lgP3EYeXh0hMbe4tcwFxLi3o0NksDp/HaXxVfG4qnFRowNLY4YhsBuS4k+kkuc4knqSST1JXxXz8FmdkTWSBzjsCQNv9VJoCIiAiIgIiICIiAiKOt5yCnYfC9khc3bctA27t/lQSKh9Y1jd0jnK4pw5Ey0Z4xTsydnFPvG4dm9/wDNa7uJ9AO6/fhLW+9y/qH0qN1LlKuY05laBpC6LVSWA1rLzHFNzMLeR7m7lrTvsSASAeiCfxUfZYumwxMgLYWN7KN3M1mzR5oPpA7t12lAY/PVqtCtAK7oeziazs4zzNbsANgSdyB+Ndj4S1vvcv6h9KCXRR1TNw3LDYWMkDnb9XAbd35VIoCjdQ6cx2qsXJjspWFmq8hw2e6N8bx1a+N7SHRvaerXsIc0gEEEbqSRBQI9S5HhxLHT1XYffwT38lbUxa1og32DY7oGwYT3CcARu22f2buXtL+viaGOzDJDNG2WKRpY+N4Ba4HoQQe8KgPhk4Q7zRSTWNC7udNFK90j8INt+aPvcau++7Dv2IPm7RN5Yg0JF8xSsmjZJG9skbwHNe07hwPcQV9ICIiAiIgIiICIiAiIgj89/wAMl/K3/ULGtZcW6WkNV0tNMweazuauUZMhBVxNeOTmije1j93PkY1uxeDu4gHu33IB2XPf8Ml/K3/ULELulMrN4QWI1KyrvhINM28fJa7RnmzvtV3sZy78x3bG87gbdO/chB1ZPCE05JpjTmWx9LLZi1qCSaHH4WlVBvSSQlwna5jnNazsi0h5c4AdOp3G9Z1r4SMlbTWnMnpjAZK9Pa1NDgcljp68bLVN/MO0gcx8rQ2ZwI5DuWddyQCCq7prhdrXQsultT1dPDLZLEZPPx2cK27DHLLUu2zLFLFI53Zhw5GEtc4Eh5HQjZfdvhPrezprI6lfiK51Pa1rU1YNOMus82CARxiv2x+x9qWMLi7fl3O26D0PjckbuIr3rFWfFmWFs0la7yCWDcblr+Vzm7juOziOneVmOnfCSwWp9R6exlTB56GpqB8/kvMXK0cNO3HFG+R8rHOk5+XZnQFocQ4EAgEjRcTPYz2no5MviX4mezE5tjHTzMldGDuC1z4yWncfIT3ryBwpmjZmtCae1a/IWMfELeJ0x4lkcZdr1XTQSM899eV00vJCHMbI5jQN93NBPQPQGn/CM07qLK4mGLGZupiMzadSxWoLdMR4+/MOblZG/nLxzcjuUvY0O26Er8d4R2m25V0fk7NOwTMkMQ/U4qN8mNtdp2fIZOfn27Q8nacnJzdOZUHA8O9f5DTvDfQOU05BjMXo/J0rdnUbL8UkV2Kkd4RDE09o18hazm5w0N87qdwurLwr158W8vCCPT0IwT8s6Qat8fi7IUTe8b37Dfte32PJty8u/XmQT/HfwjTprSGu4NI0M3byuCruhmz9GhHNQx9vYERyOefOc0ObzBrHhvMObbrtt1/N1MFgLGWydllSjUrOs2bMnRscbW8znH8QAJXmvWfD3iLjNB8U9B4fR7dQ0dSXb2Rx2ZhydeANFp/aOiljkcHc7XFwDhu1w23Le9bhxS0NLxG4V6h0nHYFKxk8c+qyd4JbG8t80nbvG4G+3oQQ+B484rMZejj7eA1Fp92Sillxk+YoiGO+I2GRwjIe4tdyAuDZAw7A9Oi6ejvCKwmtbOmBFhc/icfqZh8l5LJU2RwWJRGZDECJHOa4Na/YlvK7lPK5w2Jq3CzhmKNyA3+CeC0jladGQHPVJ6j+0slnJ9gEY5w14c87v5CB02O5K+sFwt1PS4acB8VNjOTIaYydSxlovGIj4tGynYjedw7Z+z5GDZhceu/cCgtFPwi9NWctXjjxuaGDs5DyRBqh9Rvk2azzmMMEnPz7GQFgeWchd05lJ3OOWBpaE1Lqx9TInHYDJ2MVaibHH2z5YbAgc5g59i0uO4JIO3oB6LJqfCvXg4dYfhE/T0MOCoZaGSTVnj8RjkpQ3BaYWQg9qJyGtYQRy77nm2XHrLh3xBj4f8RND4rSIykeb1BYy9TLjJV4oTBNaZYLCxzg8SN85uxAadt+b0ENG1t4SeB0XdzUIwmezNXDTx08hksdWjNOtZkDSyF8j5G7O+yR7kAtbzjmIVdZ4Q8+kNa8S6+ocdnMrgsFk4GNuY3HMfXxdV1SB7nSvBa5w53PcdudwHUgDZZhxYss0prPiHWyguP4b2cpWymZx2KyWMkkklbHA95LZJm2I+csj5omsJcG7td5+w1XIcO9Q5LS/H6KDHF0mrY5XYZjpo2m1z4yOFve77H9kaW+fy92/d1Qb9hJo7FupLE9skUhDmvadw4HqCFdFnWgKU+Nw+n6llnZ2a9WCKVm4PK5rACNx0PUHuWioCIiAiIgIiICIiAqdqWzFSt3LE8jYYImdpJI87Na0NBJJ+QBXFUbWtOHIx5WpZjbNXngdFLG93KHtdHsQT6AQe9BkemvCRwep9QYLHRYPPY+rnIJ7eOy2SrR16lqtFGXumYTJzcu3KQC0O2eHbcu5HNpzwhtP6qyWJqsxOcoY7OvfDh8zkaYhpZJ4a5wbG/nLm8zWuc3tGs5gOm68/cLCMvkdG6W1jYyNjtMVdwemJqt7GXK1VslYteXOqzOklLYY+Rsrmtbt3taXdNExnD/AF7qfCcNdF53TMGFxWjrNaxczceRiljvirA6KJteNp7RvabguLw3lG4G6C94bwjdN5jJ42KLG5qHCZK8cZQ1JNUaMbbscxaGMk5+fZzmlrXFga4jYEqp8cvCQfg9I6wi0dRzc9/DSspy6iq0I5cfUtdowPic55PM4B3K7Zjg0kbkFQ+G4Za+l0Tovhhd09BTw+nsrVnsapbfidFZq1Z+1j7KEHtWyv5WNPM0Bp5juV0dU8OuI2N4Za54b4zRzc5SyWSsXsdnYcpXia6Ka0LBZLHI4P7Ru7m77cp2HUIPXGC/4pF+R3+hVrVUwX/FIvyO/wBCrWgIiICIiDPtNudw91g3Sb+f4P5NslnByPO4rygufPR/E1rfskQ9DO1YA1sLQtBVN4taft57RNyTFR9pn8W5uUxIB2Jtw+fGzfrs2TYxO/qSOHpVg03n6eq9O4vNY95koZGrFcrvI2JjkYHNJH5CEEkiIgIiICIiAiIgIiIOtkarrtR8LXBpdt1P5VDfBmb78z9RViRBXfgzN9+Z+op8GZvvzP1FWJEFdOmJSP4Zn6iq/h+C2mtPZaXKYrT+DxmTm37S7Tx8UUz9+/d7Wgnf8ZWhIgrvwZm+/M/UU+DM335n6irEiCo5bEz46q2Rj4JJZJY4WMkkEYcXODe8/JuTsOp22AJ2C7bNLSsaGiZmw/Kv3WVV1puEDaFO+GZSvI4XJOTsQCT2jPlkb02CsSCu/Bmb78z9RT4MzffmfqKsSIK78GZvvzP1FPgzN9+Z+oqxIgzy/wAFdNZTOx5u7p7B28zGQWZGfHxPsNI7iJC3mG35VYfgzN9+Z+oqxIgg6eAlrWopTKwhjt9gCpxEQEREBERAREQEREBQmRwL71qWTtGBj9hyuG/o2U2iDPcHwW03pjIzZDDafwmJvzgiW1Rx8cMsm/fzOa0E/pKl8np+1XxtuWFjbszIXuZWa4MMrgCQwOcQBuem5IA36q1qH1jSGS0hnKhoMyosUZ4jQkn7BtnmjcOzMn8wO35eb0b7+hB0a+m7D68TnuZE8tBMZO5adu7cdDsuT4MzffmfqKmMVD4vi6cXYityQsb2LX84j2aPN5vTt3b+ldpBDY7ByUrbJnSNcG79Bv8AIplEQEREBERAWd8EAMdpzM6f3B8gZy9QYB/MhdKZ67f/ACwTwt/QtEWd6I2ocXeJVAeaLJxuXI+UyVzW5v1UQP8AyoNEREQEREBERAREQERVa7xBqw2pYaWMyeYETix81KFvZBw6Foe9zQ7Y9Dy7gEEHqCBsow68SbUwtrrSip/xiSeq2e/wV/fJ8Yknqtnv8Ff3y3bNi5ece62lcEVP+MST1Wz3+Cv75PjEk9Vs9/gr++TZsXLzj3LSuCKn/GJJ6rZ7/BX98nxiSeq2e/wV/fJs2Ll5x7lpXBFT/jEk9Vs9/gr++T4xJPVbPf4K/vk2bFy849y0sx45+FNwt4a6qx+mtT5ivDmqF6rcmrXMddeIIiC4Txvjhc17gD02JG+4PUELYdD63wvEjSmO1Lp6269hcgwyVrL4JIDI0OLd+SRrXAbtO24G46joQV5Q8MDgA7wksxo/K0MDlcZkMdYFbIzTMhBmoOdzODdpTu9p35Qdged25GwXo7B6qr6bwtDE47R+bq4+jAytXhZHX2ZGxoa0fw3oACbNi5ece5aV+RU/4xJPVbPf4K/vk+MST1Wz3+Cv75NmxcvOPctK4Iqf8Yknqtnv8Ff3yfGJJ6rZ7/BX98mzYuXnHuWlcEVP+MST1Wz3+Cv75PjEk9Vs9/gr++TZsXLzj3LSuCKn/GJJ6rZ7/BX98nxiSenS2dA+Xs6/vk2bFy8490tK4Io3B5+pqGs+WqZGujdySwTxmOWJ3fyuaeo6bEHuIIIJBBUkueqmaZ1aotKCIixBERAREQEREBQ2s6rb2j87Wfj25Zk1CeM0H2PF22QY3DsjJ/MDt+Xm9G+/oUysQ8Knwh9L8BtHRxapwmUzVXUFe3TijpRt7FzhGAYpnl7SwPD9gWgnZrj6BuGyYmMQ4qnGIBWDIWNEAfziPZo83m9O3dv6V21kPg3+ENp3whNMW7umcPl8Zj8U6Ko5+ShYyN8nJuWRObI4u5AG7k7fbN+U7a8gIiICIiAiIgLPKbzX8ILLs6AXNL0j3Dc9jbtd57zt4x+jc/KVoazy5zReEHiO/ln0vd3+Tdlur7woNDREQEREBERAREQR+obElTAZOeJxZLHVlexw7wQwkFVjSkTINL4eONvKxlOFrQPQOQKx6q+5jMf3Ob/YVXtM/c5iv7pF/sC9HB+TPf8Awy+iSREWTEREQEREBERAREQEREBERAREQEREEZh3mPiRO1p2EuJaXj+lyTHl/Vzv/WrsqPiv5Sz+aD++CvC0aV+qO6FkREXGgiIgLp5bMUcDRku5G3DSqx/bTTvDWg+gbn0n0DvK5b16DGUrFy1KIa1eN0ssju5jGjck/kAK84aj1Pc1rkxkbofFEP4rSf3V2H5R3dof5x/QOgXq6BoNWm1z12pjfP8AEHa0u9x4xEUxZSxWVyLAdu3bEyFh/RI9rv8A+K6nx+Q+rWS/bQfXWXovqo/CNEiLasz+8mt2NQ+PyH1ayX7aD66y/wAJG/j/AAgOEuX0lNp67WuS8tihblkhLa9lnVjjs/fY7lp29DiiK/lOh8PnJrdjv8Bc9iuBnCvB6Po6cvyupxc1qy2SAeMWHdZJPt/Seg39AA9C0H4/IfVrJftoPrrL0T8p0Ph85Nbsah8fkPq1kv20H113KXHjCySht/HZTGM9M8kLZox+yc5wH4y1ZGik/hGiTFtWY/c1ux6dx2SqZelFco2YrlSUc0c8Dw9jh3dCOi7K83aU1dPoLIuuwhz8dK4Ov1GDftG7bGRo++NHXp9sG8p/mlvo2CeOzDHNE9ssUjQ9j2HcOBG4IPyL5PT9Bq0KuIvemd0jkREXmAs8zDS3wg9Iu6bO0vmh3jfpbxfo/wDMtDWeZ1o/9oDRLuYA/BrOt5eu5BtYk7/J6P8A1QaGiIgIiICIiAiIgi9VfcxmP7nN/sKr2mfucxX90i/2BWHVX3MZj+5zf7Cq9pn7nMV/dIv9gXo4PyZ7/wCGX0dy7NJXpzywwmzLHG5zIWkAyOA3DQT3b9y85aV8JvNRcKNUa51KdP2X4qCMP03imWIcjQuSSiJlW02QuIPM5g5wwb+cQ0gDf0hOx8kMjY39lI5pDX7b8p26Hb0rDJ/Bgl1da1Db17q1+pruVwrcE2xRxseOdHE2Zs7ZXcrnB8zZGMc13Ro2IDdiVKr/AEYutw9456uy+q24nN4+pZp2aFiy3LVsFlcXWx8sTQ4MsPuRgOY4E7SNIO7DuwbhR3Dvwks7nNYTYLJzYDNQ2sNbylDJ4Kjer1+eAs5o+ax5thhDwRLE7bzSCBuFf6PCrVOV01nsBrXXz9T4rKYqbFclbExUZGNkaWOmc8OeXScpI6crep81QeI8H7UEWe07lMxrtmUdhMXaw0FaHCsrRGtNE1m+wlJEgdHE4u35SGcoY3fdT4hB4Xjnr6Lg9pzWuXx2AsX9VChSwmFosmi/8ZacGsfNO57gItiX8oZu0dOZx6rg49DiBX4PWfhO/Td6+M9hHY/yRHYrxuf5Qh3ZL2jpCBzco5m79CfNG2xvk/Aatc4J6b0DNmbEVvT8FI0M7UiEcsNqrymKw2NxcO9vVpJ6Ejf0rr5fg9qzV+lpsTqnXsWXkOQx16GWvhGVo4RVsNmc3kEpLjJyAFxds3YEN7wVptYdzh3rzVU3EXP6J1lDh35Olj62XqXcIyVkMteV8sZY9kjnEPa+I9QdnAg7DuVt4j63qcNdB5/VN6N89XE05Lb4Yzs6TlbuGA+guOw3/Gq7ntNWdL8SMhxCqU8hqKW1h62E8iYyKETNEc80vbdpNNG0j7LsW9CNt9zvsOHI5KTixishpDUHDzU+Iw2YqzVLNy9JQEUbHMPXeK1I8O7g0hh2cRvsOqvXHUM/0Nx315qTU+LxNnFVJm5mGcR2a+m8vVixEwhdJEbD7LGMnjJbyEsdGSSNhsdxI6G466u1xLlohgamJfpPH2WamdZjkc05RgdyV6pDxvHsztS883mSRtGxJItWkOHOv9M0ZKdniW3L14Me+ljhYwUbXRP2AimncJN5nMDe4dmHbnfr1Fax/g6M4cUJ8hpvMWXXJsJaqZ+KWuZn6gnc1722HbPBZOJXyEO2du1/JtsARPiHS0nxp15Xw/C/Ueqq2nbGntbup1OzxEM8NmhYswmSFxMkj2yMJHKQA0t5h1dtuetH4Rubx/FvGYG1b05ncFkc4/Cf+5Kl3taUhDzGZLTwa8jxyAPjaQ5pcdt+UpwX4IalyGj+FVvWmprE+N05j6d2npc4ltN9a22sGMFiQuLnmIPcA3lZ1G7tyFIY3wZctiqmmsVDrsjT2mc23M4nHnEM5g4SveWTy9pvL5ssrQ5oZ1dzEOIU+IRt3jxryhhdT6sfS06dL6c1TPgrNNsc/jtmuy6K/bMfz8jHta9pLS1wcWuO7dw0WPT3FvU+e435vSViTTuCp4+y6OHFZBk4yd+sIQ5tyB/MI5GF52LWtJaGu3IOwPbyXg/eUOGus9JeXuz+Eefnznjnie/i/aW2Wey5O08/bk5ebcb777DuXaz/AAbzWreIeFzea1g25gsJlPK2OxMWKjinhkEbmCM2g7d0fnElvIC7oCdgFbVDM9B8UdQ4fFt05h8TgGa31BrbNY907WWWY4OrOe+zbfG6V8hLgzpG17Ru4bFoHWXyvH7WuEfZ03YxuBl1pR1PjsFNKwzNoTwXYjJDOwcxfGRts5pL/tDsTuCLHJ4Osteq6zjNTvx2pK2qMhqXG5VtESNrm25/aV5Ii/aVhZIWkhzSdgRy7bL4r+DjLLJDk8pqh+T1LNqajqPI5N1FsbLHireSKtHEH/YmBnQEuedySd9+ktULDwv11qHMaw1npLVDMZJldPOpytu4mKSGCxBZjc5n2OR73Nc0xvB84g9D0Wkqoae4f+QeJOsNWeP9v8IIKEHifY8vi/izZW78/Mebm7X5Bty+nfpb1sgRWK/lLP5oP74K8Kj4r+Us/mg/vgrwtOlfqp7oWRERcaCIiCg8b7L4eH9iFhLRas1oHkf0DK0uH6QC39Kxdb7xN0/PqXROSp1W89xobYgYNt3SRuD2t6/0uXl/SvP8E7LMLJYzux4DhuNl9x+CVUzo1VMb4n1iCdz7RVnMawyGLyM1WHR+dykUe21um6oIpNwD5vaWGu6b7dWjqD6Oq6Z1/lAB/wDYDUx3HodQ6f8A9pe3OLTE26+U+zBA8TeK13TOq6Wm8RHEy9JTOQntWMdbvMji5yxjRFWaXEucHdSWgBvpJAUVR4t6szjtJ0KuJp43J5a1eqTSZOtZjiHYMD2zxxu5JCxzeoa4A7nbcbEmeyWkcnrHM0tW4me9ofUNeB+PezJVobTbFYuDw18ccpHR3VpDwR13HVSvwCu2s1o/K5HOG/dwPjRlkdVbH42ZoyzuaQGBvoGx32/SuOaceqqZiZteOV47b3tf6fwqos4wZ44jya3H4+xrF+oJdPRBpeym57Gdq6wQSXhgiIJbuTv039K5+FDcy3ipxHbnn0ZMiI8YHSY5j2QuHZS7ENeSQdu8bn8q7mQ4KmzFkpqudko5aTUDtQ0b0dYO8UkdEyIxuYXbSNLWuB6t35vRt15cLpvM8PcrntQXZbmtsjm3VYpIcXTgqmAQseA7aScAtPMB9sSD8voxinGiumrEvaJ7N1pjvv8A/ZjSEVObr7KEOJ0DqUbDcAuodevcP/Ff/Wy7uF1dfy2RjrT6RzmJjcCTauuqGJuw32PZzvd17ujSu6MSmZt18pRZFuHBizJZ4a4cSHfxftqjNj3MimfEwfoaxoWF2JhXgfJyueWjoxg3c4+gAekk9APxr0VoHT8mltG4rGTbeMww80/L3dq4l8m34uZzl4P45VTGBTTO+Z9Im/rDONywIiL4oFnmeDTx/wBEkk8/wbzmw26EeM4rfrv+RaGs8znK7wgtFjY8zdMZw779P41iR3f/AF3INDREQEREBERAREQReqvuYzH9zm/2FV7TP3OYr+6Rf7Arbkabcjj7NR5LWTxOiJHoDgR/81ntHPxaYx9XGZqKxUu1Ymwuc2tLJFLygDnY9rS0g7b7d432IBC9HR4mvDminrm7KOuLQs6KvfD/AAfzmb2Sb6ifD/B/OZvZJvqLo6HF4Z5Sas5LCir3w/wfzmb2Sb6ifD/B/OZvZJvqJ0OLwzyk1ZyWFFXvh/g/nM3sk31E+H+D+czeyTfUTocXhnlJqzksKKvfD/B/OZvZJvqJ8P8AB/OZvZJvqJ0OLwzyk1ZyWFFWZ+JOnavZ9tfdD2jxGztK0reZx7mjdvUn5Fy/D/B/OZvZJvqJ0OLwzyk1ZyWFFXvh/g/nM3sk31E+H+D+czeyTfUTocXhnlJqzksKKvfD/B/OZvZJvqJ8P8H85m9km+onQ4vDPKTVnJYUVe+H+D+czeyTfUT4f4P5zN7JN9ROhxeGeUmrOSwoq98P8H85m9km+onw+wh7rM5PyCnN9ROhxeGeUpqzk7mK/lLP5oP74K8KnaUpzZLP2c8+CarUNVtSsyxGY5ZBzlz3ljgC0fagB2xOxOwGxNxXDpMxrxGUQSIiLkQREQFlHEHhVYltz5bTsLJZJnGSzjeYM7R5O7pI3EhocSSS07Anztwd+bV0XVo2k4mi16+HPtI8p37bcRL2WSinxku+3JehdD+ouABH4xuF0vhRh/wpT/bt+leuUX0cfj0W+LC/2/6LQ8jfCjD/AIUp/t2/Snwow/4Up/t2/SvXKK/n1P8Ai/2/8loeRvhRh/wpT/bt+lPhRh/wpT/bt+leuUT8+p/xf7f+S0PI3wow/wCFKf7dv0rv0JnZeXssZWs5SXfl5aUDpdj+NwGzR+MkBeqkUq/Hur4cLr7/APqC0Mt4d8K5qNuHMagjYLcR56tBrg9sDv6b3Do549AG7W9+7jsW6kiL5zSNJxNKr6TEnr9AREXKCzu84z+EJhW9Nqul75PTqO1t1Nuv/wCiVoiz3Ch1/jzqqxvzQY/A42ozY77SyTXJJRt6PNFc/pQaEiIgIiICIiAiIgIiICIiAiIgIiICIiDPOMgAi0W93RrNUY/c/le5o/8AUhaGqBx0jdFw4t5RjDI7CW6ebIG2/JVsxWJB1HpjjeP09Nj1V9jkZNG17HB7HAOa5p3BB7iCg+kREBERAREQEREBERAREQEREBERAREQEREBERAREQEREBERAWd8HNsszVuqAS6PP5yeau4+mvAxlOIj+q4VjIPxS7+lSPFTUF3E6ejxuFlEeo85MMZjHbbmKR4PPOR6WwxiSUj09nt3kKxacwFLSun8ZhcdF2OPx1aOpXj/AKMbGhrR+oBBIoiICIiAiIgIiICIiAiIgIiICIiAiIg454IrUEkM0bJoZGlj45GhzXNI2IIPeCPQqJw8tnRskOgsnK8TUYy3C2bEnM7IUWAcnnH7aWJu0bxuXHlbIf4Tpf1Fal0zQ1bi3UMhG90fO2WOWGR0U0EjerZI5GkOY8HucCD+soJVFnfl7VXD37FnqdrWGCYOmdxdcOvxN+WzTjaO0/t1mkkn+BYBurhp3VGI1djm38Lkq2TqE8pkrSB/K7bctcB1a4b9WnYj0hBKIiICIiAiIgIiICIiAiIgIiICIiAiIgIiICIiAiIgKO1BqChpbEWMpk7ArUoAOZ/I57nOc4NYxjGgue9zi1rWNBc5zmtaCSAonVuvqWl7MGOjr2Mxn7bC+rhse0PsStB2L3EkNijB6GSQtYDsNy4gHqYDR9+7mYtRaqmit5eHmNKhWe51PGBwLT2e4BklLSWmdwB2LgxsbXOa4PzSGAvZDNzav1BWNTL2IDVo4172yHF0y5rjGXN3aZpHMY+UtJbuyNgc8RCR9zREBERAREQEREBERAREQEREBERAREQEREBERAVR1LwtwGpck7LdhLic+WBgzWImNW5yj7VrpGbdo0f0JA5v9VW5EGeu+MPR/M5vifEDHNPRnmY7Jtb19P8AF5nd3zcfj6dZDA8WdO5vJxYmeebBZ2QkMw+bhNOzIR39k1/SYDcedEXt/Grko7P6cxWq8ZLjc1jKmXx8v29W9A2aJ35WuBCCRRZ43hlldLua/RmqbmNgb/8Ag+a5slRI37m87hPF8gDJeRv9AgALFvCr8K3V3g/aBoOs6Yq0dUXshDHUsw5CK1Qnhje2Schrg2Y7sAjcDG3l7cESEgbh6sRZ5wL436e4+6Bp6nwEvKHgR26L3Ay05tvOjf8AL+J3pGx6dQNDQEREBERAREQEREBERAREQERO5ARUG7xmws9uWhpqvd1vk4nFj4MBGJYYnDvbLacWwRkelrpA7v2adlxHA681gXeWc1W0djXf/AadPjFxzfkfblYGt3He2OIEddpD0KCxap1/gNGPrQ5XIshuWjtVoRNdNbsn5IoGAySfj5Wnb0qutn1tr4OayF+gMG8bCaUxz5eYbjuYOaGuCO4uMr+vVsZCsOk+H+A0SJnYjHthtWNvGL08j7Fuzt3GWxIXSSH+04qxIILSeiMLoirPDiKQgksv7W1ale6Wzbk227SaZ5L5X7bDmeSdgB3ABTqIgIiICIiAiIgIiICIiAiIgIiICIiAiIgIiICIiAiIgIiICyTj5wT0BxGxE+o9Z6d+EdjA0J5KcM96zHCzZpe4CNkjWAuLWgu23Ia0EkNG2tqrcU/5NNVfmuz+6ct2DTFeLTTO6ZhY65hQNCcAND8PsOKWKwFSqXhpsSQBzO1cN+p2Po5jtv129J71Y/i+09+DWftH/SrEi9PpsSN1UmtOau/F9p78Gs/aP+lPi+09+DWftH/SrEidPi8U85XWnNXfi+09+DWftH/Snxfae/BrP2j/AKVYkTp8XinnJrTmrvxfae/BrP2j/pT4vtPfg1n7R/0qxInT4vFPOTWnNXfi+09+DWftH/Snxfae/BrP2j/pViROnxeKecmtOau/F9p78Gs/aP8ApT4vtPfg1n7R/wBKsSJ0+LxTzk1pzV34vtPfg1n7R/0p8X2nvwaz9o/6VYkTp8XinnJrTmrvxfae/BrP2j/pXBe4YaWydOapbw8NitMwskikc4te094I3VpROnxeKecprTm6PD14xjslpyNoFPFdiKew6sgezzWH5S1zXgHvI5d9yCTcVS9Ifdtqj/kUv9JVdFwaTERi9WUecQSIiLlQREQEREBERAREQEREBERAREQEREBERAREQEREBERAREQEREBVbin/ACaaq/Ndn905WlVbin/Jpqr812f3Tl0aP86jvj1ZU74cy4rdqKjVmszu5IYWOke7YnZoG5Ow69wXKozU8MljTWWiiY6SV9SZrWMG7nEsIAA9JXWxU/B+EDoHUeBuZyjnufCVKrLk2Tmp2IawjcQABK+MNc/chpjBLw7zS0HoorM+E1omnobVGosfesZGTA0zamxxoWYLJ3B7PeJ8Qe1jnDbtS3kHUkgAlZtmOGmoMj4IXDXGU8PkfKWCbh8lfwdZ76V2ZsBa6eFh3a6ObqXDqHczRt12X1c0fhtScOeKWWwGmOIA1DJpG7ia8urZL809lssUjuwgisSPeSHsZ3NG5eA0ncrVeoWjSnHTL5DA8PrGVyWFgyOrMqIooRhMnXjNcRntIWOeDtOHjzXycjHtDi0dN1canhDcPr2ahxUOoA+3Lffig407AhbcbI6MwPmMfZskLmkBrnAuBaW7hwJrGvNPZS5gOBsdfG3J5MdqLHT3WRwPcasbaNhrnyADzGhzmgl2wBIHpVFuaMzx8HPUOPZgsicq/Xb70NUVJO3dF5eZIJms25i3s938wG3L1326peYG0ap486D0XnpsPmdQR1L0HJ4ztXmkiqc+3L28rGGOHcEH7I5vQg9yvzHtkY17HBzXDcOB3BC8kO0FHgdXcQ8NrDTXETNQ6gzlq/Tm0veveTbtSzt9ilbDMyKNzBzMd2oG7WjqQvVuJxdfB4qljqbDHUpwsrwsc4uLWMaGtBJ6noB1PVZUzM7xUNecbtF8M8nFQ1JmHY6zJCLJApzzMjiLi0SSPjY5sbd2uG7yB0K/NU8cdE6NyjMbk8yRkH0mZJlanTntyPqvc9omaIWP5mbxu3I3DRsTsHDfJuO9XU+oNY6nwt2lrG5grGCbDp6ppYSR1bNuRsrZvHJoy0N2PZANlcI+Uu6EkrucCcDmK3EDTF6/hslQhh4Z4rGzS3ackQZajnlEsLi4Dzx3lvfsQe4gqa03sNHz/H7QOmqWGt3dRRugzFU3qTqdea0ZK423mIiY4sjHMN3OAA7t1KScWNJwUdS3J8xHWrabmbBlX2IpIvFXuYx7dw5oLgWyMILdwd+h3BXl3HYHMaN4O6FuY3TutsTxMxuJuwY61icQ+aEg2XubSuxuGwjeQx27w3lHnBwPfeNdcFM/xA4qYaPKUmQ6S1Vi6trWVaAkxm1RBMUQdv8Az3zxj8bax+RTWkbnl+I2m8BmLeLyWWhpXKeMOYsicObHDUD+Qyvk25GjmBABO52OwIBUFg+Pug9RVcvPSzh2xVJ+StxWaVivM2qwEumbHJG18jBt9swOHcPSF5/dwM19meC/ERuWjlyOr33KGOpRNlMD7+NxckfZ8sm4LHT8s8m+486Rp6eiwjSmD1bpXWmTxWluI7NQVtL5CpVk1fNflJdPC4OrwR2JXl7yWM35GkHZuxJTWkbvoXidpziVDYm05dmyNaFkbzZNOeKF4fzcpjkkY1sn2rgeQnlI2OxVpVX4W45+I4ZaRoy1nU5a2IqQvrPYWOic2FgLS09QQRtt6NlaFsjcI7SH3bao/wCRS/0lV0VL0h922qP+RS/0lV0WjSvm/tT/AMYWRERciCIiAiIgIiICIiAiIgIiICIiAiIgIiICIiAiIgIiICIiAiIgKrcU/wCTTVX5rs/unK0qt8Sq8lvh3qeGFhklfjLLWsaNy49k7YAfKujR+rGo749WVO+H6i+IJ47MEc0TxJFI0PY9p3DgRuCF9rrYiIiAiIgKi5TgTw5zmStZDI6F09evWpHTT2bGNhfJK9x3LnOLdySfSVekUtcdHB4LHaZxVfGYmjXxmOrN5YalSMRxRjcnZrR0HUk/pXeRFQREQEREBERBHaQ+7bVH/Ipf6Sq6KmaNaZNX6pmb1jaKkBcO4Paxzy38vLIw/wDmCua59K+b+1PpCyIiLkQREQEREBERAREQEREBERAREQEREBERAREQEREBERAREQEREBERBVbHDuk6R5p38li4nOLuwpWOWJpJJPK1wIaNyTsNguL4uW+sWd9pZ9RW9F0xpOLH9y3lUPi5b6xZ32ln1E+LlvrFnfaWfUVvRXacbi9C8qh8XLfWLO+0s+onxct9Ys77Sz6it6JtONxeheVQ+LlvrFnfaWfUT4uW+sWd9pZ9RW9E2nG4vQvKofFy31izvtLPqJ8XLfWLO+0s+oreibTjcXoXlUPi5b6xZ32ln1E+LlvrFnfaWfUVvRNpxuL0LyqHxct9Ys77Sz6ifFy31izvtLPqK3om043F6F5VD4uW+sWd9pZ9RBw5j387UGce30tNto3/AEhgI/QVb0TacbiLy6mKxVXC0o6lOLsoGbnYuLnOJO5c5xJLnE7kuJJJO5K7aIuaZmqbygiIoCIiAiIgIiICIiAiIgIiIP/Z\" width=\"400\" height=\"auto\"/>\n",
       "</div>\n"
      ],
      "text/plain": [
       "<IPython.core.display.HTML object>"
      ]
     },
     "execution_count": 38,
     "metadata": {},
     "output_type": "execute_result"
    }
   ],
   "source": [
    "graph_png = graph.get_graph().draw_mermaid_png(\n",
    "    curve_style=CurveStyle.LINEAR,\n",
    "    wrap_label_n_words=4,\n",
    "    output_file_path=None,\n",
    "    draw_method=MermaidDrawMethod.API,\n",
    "    background_color=\"#000000\",\n",
    "    padding=10,\n",
    ")\n",
    "\n",
    "graph_base64 = base64.b64encode(graph_png).decode(\"utf-8\")\n",
    "\n",
    "HTML(f'''\n",
    "<div style=\"display: flex; justify-content: center;\">\n",
    "    <img src=\"data:image/png;base64,{graph_base64}\" width=\"400\" height=\"auto\"/>\n",
    "</div>\n",
    "''')"
   ]
  },
  {
   "cell_type": "code",
   "execution_count": null,
   "metadata": {},
   "outputs": [],
   "source": [
    "user_queries = [\"What advice do you have for pre-diabetic people?\"]\n",
    "\n",
    "inputs = {\n",
    "    \"query\": \"\",\n",
    "    \"agent\": \"\",\n",
    "    \"kg_context\": \"\",\n",
    "    \"db_context\": \"\",\n",
    "    \"metrics\": defaultdict(str),\n",
    "    \"reasons\": defaultdict(str),\n",
    "    \"answer\": \"\",\n",
    "}\n",
    "\n",
    "for query in user_queries:\n",
    "    inputs[\"query\"] = query\n",
    "\n",
    "    results = graph.invoke(inputs)\n",
    "    logger.info(results)\n",
    "\n",
    "    final_answer = results.get(\"answer\", \"\")"
   ]
  },
  {
   "cell_type": "code",
   "execution_count": null,
   "metadata": {},
   "outputs": [],
   "source": [
    "print(final_answer)"
   ]
  },
  {
   "cell_type": "code",
   "execution_count": null,
   "metadata": {},
   "outputs": [],
   "source": []
  }
 ],
 "metadata": {
  "kernelspec": {
   "display_name": "Python 3",
   "language": "python",
   "name": "python3"
  },
  "language_info": {
   "codemirror_mode": {
    "name": "ipython",
    "version": 3
   },
   "file_extension": ".py",
   "mimetype": "text/x-python",
   "name": "python",
   "nbconvert_exporter": "python",
   "pygments_lexer": "ipython3",
   "version": "3.11.5"
  }
 },
 "nbformat": 4,
 "nbformat_minor": 2
}
